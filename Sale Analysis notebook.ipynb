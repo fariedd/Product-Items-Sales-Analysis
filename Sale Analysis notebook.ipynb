{
 "cells": [
  {
   "cell_type": "code",
   "execution_count": 16,
   "metadata": {},
   "outputs": [
    {
     "data": {
      "text/html": [
       "<style>#sk-container-id-2 {\n",
       "  /* Definition of color scheme common for light and dark mode */\n",
       "  --sklearn-color-text: black;\n",
       "  --sklearn-color-line: gray;\n",
       "  /* Definition of color scheme for unfitted estimators */\n",
       "  --sklearn-color-unfitted-level-0: #fff5e6;\n",
       "  --sklearn-color-unfitted-level-1: #f6e4d2;\n",
       "  --sklearn-color-unfitted-level-2: #ffe0b3;\n",
       "  --sklearn-color-unfitted-level-3: chocolate;\n",
       "  /* Definition of color scheme for fitted estimators */\n",
       "  --sklearn-color-fitted-level-0: #f0f8ff;\n",
       "  --sklearn-color-fitted-level-1: #d4ebff;\n",
       "  --sklearn-color-fitted-level-2: #b3dbfd;\n",
       "  --sklearn-color-fitted-level-3: cornflowerblue;\n",
       "\n",
       "  /* Specific color for light theme */\n",
       "  --sklearn-color-text-on-default-background: var(--sg-text-color, var(--theme-code-foreground, var(--jp-content-font-color1, black)));\n",
       "  --sklearn-color-background: var(--sg-background-color, var(--theme-background, var(--jp-layout-color0, white)));\n",
       "  --sklearn-color-border-box: var(--sg-text-color, var(--theme-code-foreground, var(--jp-content-font-color1, black)));\n",
       "  --sklearn-color-icon: #696969;\n",
       "\n",
       "  @media (prefers-color-scheme: dark) {\n",
       "    /* Redefinition of color scheme for dark theme */\n",
       "    --sklearn-color-text-on-default-background: var(--sg-text-color, var(--theme-code-foreground, var(--jp-content-font-color1, white)));\n",
       "    --sklearn-color-background: var(--sg-background-color, var(--theme-background, var(--jp-layout-color0, #111)));\n",
       "    --sklearn-color-border-box: var(--sg-text-color, var(--theme-code-foreground, var(--jp-content-font-color1, white)));\n",
       "    --sklearn-color-icon: #878787;\n",
       "  }\n",
       "}\n",
       "\n",
       "#sk-container-id-2 {\n",
       "  color: var(--sklearn-color-text);\n",
       "}\n",
       "\n",
       "#sk-container-id-2 pre {\n",
       "  padding: 0;\n",
       "}\n",
       "\n",
       "#sk-container-id-2 input.sk-hidden--visually {\n",
       "  border: 0;\n",
       "  clip: rect(1px 1px 1px 1px);\n",
       "  clip: rect(1px, 1px, 1px, 1px);\n",
       "  height: 1px;\n",
       "  margin: -1px;\n",
       "  overflow: hidden;\n",
       "  padding: 0;\n",
       "  position: absolute;\n",
       "  width: 1px;\n",
       "}\n",
       "\n",
       "#sk-container-id-2 div.sk-dashed-wrapped {\n",
       "  border: 1px dashed var(--sklearn-color-line);\n",
       "  margin: 0 0.4em 0.5em 0.4em;\n",
       "  box-sizing: border-box;\n",
       "  padding-bottom: 0.4em;\n",
       "  background-color: var(--sklearn-color-background);\n",
       "}\n",
       "\n",
       "#sk-container-id-2 div.sk-container {\n",
       "  /* jupyter's `normalize.less` sets `[hidden] { display: none; }`\n",
       "     but bootstrap.min.css set `[hidden] { display: none !important; }`\n",
       "     so we also need the `!important` here to be able to override the\n",
       "     default hidden behavior on the sphinx rendered scikit-learn.org.\n",
       "     See: https://github.com/scikit-learn/scikit-learn/issues/21755 */\n",
       "  display: inline-block !important;\n",
       "  position: relative;\n",
       "}\n",
       "\n",
       "#sk-container-id-2 div.sk-text-repr-fallback {\n",
       "  display: none;\n",
       "}\n",
       "\n",
       "div.sk-parallel-item,\n",
       "div.sk-serial,\n",
       "div.sk-item {\n",
       "  /* draw centered vertical line to link estimators */\n",
       "  background-image: linear-gradient(var(--sklearn-color-text-on-default-background), var(--sklearn-color-text-on-default-background));\n",
       "  background-size: 2px 100%;\n",
       "  background-repeat: no-repeat;\n",
       "  background-position: center center;\n",
       "}\n",
       "\n",
       "/* Parallel-specific style estimator block */\n",
       "\n",
       "#sk-container-id-2 div.sk-parallel-item::after {\n",
       "  content: \"\";\n",
       "  width: 100%;\n",
       "  border-bottom: 2px solid var(--sklearn-color-text-on-default-background);\n",
       "  flex-grow: 1;\n",
       "}\n",
       "\n",
       "#sk-container-id-2 div.sk-parallel {\n",
       "  display: flex;\n",
       "  align-items: stretch;\n",
       "  justify-content: center;\n",
       "  background-color: var(--sklearn-color-background);\n",
       "  position: relative;\n",
       "}\n",
       "\n",
       "#sk-container-id-2 div.sk-parallel-item {\n",
       "  display: flex;\n",
       "  flex-direction: column;\n",
       "}\n",
       "\n",
       "#sk-container-id-2 div.sk-parallel-item:first-child::after {\n",
       "  align-self: flex-end;\n",
       "  width: 50%;\n",
       "}\n",
       "\n",
       "#sk-container-id-2 div.sk-parallel-item:last-child::after {\n",
       "  align-self: flex-start;\n",
       "  width: 50%;\n",
       "}\n",
       "\n",
       "#sk-container-id-2 div.sk-parallel-item:only-child::after {\n",
       "  width: 0;\n",
       "}\n",
       "\n",
       "/* Serial-specific style estimator block */\n",
       "\n",
       "#sk-container-id-2 div.sk-serial {\n",
       "  display: flex;\n",
       "  flex-direction: column;\n",
       "  align-items: center;\n",
       "  background-color: var(--sklearn-color-background);\n",
       "  padding-right: 1em;\n",
       "  padding-left: 1em;\n",
       "}\n",
       "\n",
       "\n",
       "/* Toggleable style: style used for estimator/Pipeline/ColumnTransformer box that is\n",
       "clickable and can be expanded/collapsed.\n",
       "- Pipeline and ColumnTransformer use this feature and define the default style\n",
       "- Estimators will overwrite some part of the style using the `sk-estimator` class\n",
       "*/\n",
       "\n",
       "/* Pipeline and ColumnTransformer style (default) */\n",
       "\n",
       "#sk-container-id-2 div.sk-toggleable {\n",
       "  /* Default theme specific background. It is overwritten whether we have a\n",
       "  specific estimator or a Pipeline/ColumnTransformer */\n",
       "  background-color: var(--sklearn-color-background);\n",
       "}\n",
       "\n",
       "/* Toggleable label */\n",
       "#sk-container-id-2 label.sk-toggleable__label {\n",
       "  cursor: pointer;\n",
       "  display: block;\n",
       "  width: 100%;\n",
       "  margin-bottom: 0;\n",
       "  padding: 0.5em;\n",
       "  box-sizing: border-box;\n",
       "  text-align: center;\n",
       "}\n",
       "\n",
       "#sk-container-id-2 label.sk-toggleable__label-arrow:before {\n",
       "  /* Arrow on the left of the label */\n",
       "  content: \"▸\";\n",
       "  float: left;\n",
       "  margin-right: 0.25em;\n",
       "  color: var(--sklearn-color-icon);\n",
       "}\n",
       "\n",
       "#sk-container-id-2 label.sk-toggleable__label-arrow:hover:before {\n",
       "  color: var(--sklearn-color-text);\n",
       "}\n",
       "\n",
       "/* Toggleable content - dropdown */\n",
       "\n",
       "#sk-container-id-2 div.sk-toggleable__content {\n",
       "  max-height: 0;\n",
       "  max-width: 0;\n",
       "  overflow: hidden;\n",
       "  text-align: left;\n",
       "  /* unfitted */\n",
       "  background-color: var(--sklearn-color-unfitted-level-0);\n",
       "}\n",
       "\n",
       "#sk-container-id-2 div.sk-toggleable__content.fitted {\n",
       "  /* fitted */\n",
       "  background-color: var(--sklearn-color-fitted-level-0);\n",
       "}\n",
       "\n",
       "#sk-container-id-2 div.sk-toggleable__content pre {\n",
       "  margin: 0.2em;\n",
       "  border-radius: 0.25em;\n",
       "  color: var(--sklearn-color-text);\n",
       "  /* unfitted */\n",
       "  background-color: var(--sklearn-color-unfitted-level-0);\n",
       "}\n",
       "\n",
       "#sk-container-id-2 div.sk-toggleable__content.fitted pre {\n",
       "  /* unfitted */\n",
       "  background-color: var(--sklearn-color-fitted-level-0);\n",
       "}\n",
       "\n",
       "#sk-container-id-2 input.sk-toggleable__control:checked~div.sk-toggleable__content {\n",
       "  /* Expand drop-down */\n",
       "  max-height: 200px;\n",
       "  max-width: 100%;\n",
       "  overflow: auto;\n",
       "}\n",
       "\n",
       "#sk-container-id-2 input.sk-toggleable__control:checked~label.sk-toggleable__label-arrow:before {\n",
       "  content: \"▾\";\n",
       "}\n",
       "\n",
       "/* Pipeline/ColumnTransformer-specific style */\n",
       "\n",
       "#sk-container-id-2 div.sk-label input.sk-toggleable__control:checked~label.sk-toggleable__label {\n",
       "  color: var(--sklearn-color-text);\n",
       "  background-color: var(--sklearn-color-unfitted-level-2);\n",
       "}\n",
       "\n",
       "#sk-container-id-2 div.sk-label.fitted input.sk-toggleable__control:checked~label.sk-toggleable__label {\n",
       "  background-color: var(--sklearn-color-fitted-level-2);\n",
       "}\n",
       "\n",
       "/* Estimator-specific style */\n",
       "\n",
       "/* Colorize estimator box */\n",
       "#sk-container-id-2 div.sk-estimator input.sk-toggleable__control:checked~label.sk-toggleable__label {\n",
       "  /* unfitted */\n",
       "  background-color: var(--sklearn-color-unfitted-level-2);\n",
       "}\n",
       "\n",
       "#sk-container-id-2 div.sk-estimator.fitted input.sk-toggleable__control:checked~label.sk-toggleable__label {\n",
       "  /* fitted */\n",
       "  background-color: var(--sklearn-color-fitted-level-2);\n",
       "}\n",
       "\n",
       "#sk-container-id-2 div.sk-label label.sk-toggleable__label,\n",
       "#sk-container-id-2 div.sk-label label {\n",
       "  /* The background is the default theme color */\n",
       "  color: var(--sklearn-color-text-on-default-background);\n",
       "}\n",
       "\n",
       "/* On hover, darken the color of the background */\n",
       "#sk-container-id-2 div.sk-label:hover label.sk-toggleable__label {\n",
       "  color: var(--sklearn-color-text);\n",
       "  background-color: var(--sklearn-color-unfitted-level-2);\n",
       "}\n",
       "\n",
       "/* Label box, darken color on hover, fitted */\n",
       "#sk-container-id-2 div.sk-label.fitted:hover label.sk-toggleable__label.fitted {\n",
       "  color: var(--sklearn-color-text);\n",
       "  background-color: var(--sklearn-color-fitted-level-2);\n",
       "}\n",
       "\n",
       "/* Estimator label */\n",
       "\n",
       "#sk-container-id-2 div.sk-label label {\n",
       "  font-family: monospace;\n",
       "  font-weight: bold;\n",
       "  display: inline-block;\n",
       "  line-height: 1.2em;\n",
       "}\n",
       "\n",
       "#sk-container-id-2 div.sk-label-container {\n",
       "  text-align: center;\n",
       "}\n",
       "\n",
       "/* Estimator-specific */\n",
       "#sk-container-id-2 div.sk-estimator {\n",
       "  font-family: monospace;\n",
       "  border: 1px dotted var(--sklearn-color-border-box);\n",
       "  border-radius: 0.25em;\n",
       "  box-sizing: border-box;\n",
       "  margin-bottom: 0.5em;\n",
       "  /* unfitted */\n",
       "  background-color: var(--sklearn-color-unfitted-level-0);\n",
       "}\n",
       "\n",
       "#sk-container-id-2 div.sk-estimator.fitted {\n",
       "  /* fitted */\n",
       "  background-color: var(--sklearn-color-fitted-level-0);\n",
       "}\n",
       "\n",
       "/* on hover */\n",
       "#sk-container-id-2 div.sk-estimator:hover {\n",
       "  /* unfitted */\n",
       "  background-color: var(--sklearn-color-unfitted-level-2);\n",
       "}\n",
       "\n",
       "#sk-container-id-2 div.sk-estimator.fitted:hover {\n",
       "  /* fitted */\n",
       "  background-color: var(--sklearn-color-fitted-level-2);\n",
       "}\n",
       "\n",
       "/* Specification for estimator info (e.g. \"i\" and \"?\") */\n",
       "\n",
       "/* Common style for \"i\" and \"?\" */\n",
       "\n",
       ".sk-estimator-doc-link,\n",
       "a:link.sk-estimator-doc-link,\n",
       "a:visited.sk-estimator-doc-link {\n",
       "  float: right;\n",
       "  font-size: smaller;\n",
       "  line-height: 1em;\n",
       "  font-family: monospace;\n",
       "  background-color: var(--sklearn-color-background);\n",
       "  border-radius: 1em;\n",
       "  height: 1em;\n",
       "  width: 1em;\n",
       "  text-decoration: none !important;\n",
       "  margin-left: 1ex;\n",
       "  /* unfitted */\n",
       "  border: var(--sklearn-color-unfitted-level-1) 1pt solid;\n",
       "  color: var(--sklearn-color-unfitted-level-1);\n",
       "}\n",
       "\n",
       ".sk-estimator-doc-link.fitted,\n",
       "a:link.sk-estimator-doc-link.fitted,\n",
       "a:visited.sk-estimator-doc-link.fitted {\n",
       "  /* fitted */\n",
       "  border: var(--sklearn-color-fitted-level-1) 1pt solid;\n",
       "  color: var(--sklearn-color-fitted-level-1);\n",
       "}\n",
       "\n",
       "/* On hover */\n",
       "div.sk-estimator:hover .sk-estimator-doc-link:hover,\n",
       ".sk-estimator-doc-link:hover,\n",
       "div.sk-label-container:hover .sk-estimator-doc-link:hover,\n",
       ".sk-estimator-doc-link:hover {\n",
       "  /* unfitted */\n",
       "  background-color: var(--sklearn-color-unfitted-level-3);\n",
       "  color: var(--sklearn-color-background);\n",
       "  text-decoration: none;\n",
       "}\n",
       "\n",
       "div.sk-estimator.fitted:hover .sk-estimator-doc-link.fitted:hover,\n",
       ".sk-estimator-doc-link.fitted:hover,\n",
       "div.sk-label-container:hover .sk-estimator-doc-link.fitted:hover,\n",
       ".sk-estimator-doc-link.fitted:hover {\n",
       "  /* fitted */\n",
       "  background-color: var(--sklearn-color-fitted-level-3);\n",
       "  color: var(--sklearn-color-background);\n",
       "  text-decoration: none;\n",
       "}\n",
       "\n",
       "/* Span, style for the box shown on hovering the info icon */\n",
       ".sk-estimator-doc-link span {\n",
       "  display: none;\n",
       "  z-index: 9999;\n",
       "  position: relative;\n",
       "  font-weight: normal;\n",
       "  right: .2ex;\n",
       "  padding: .5ex;\n",
       "  margin: .5ex;\n",
       "  width: min-content;\n",
       "  min-width: 20ex;\n",
       "  max-width: 50ex;\n",
       "  color: var(--sklearn-color-text);\n",
       "  box-shadow: 2pt 2pt 4pt #999;\n",
       "  /* unfitted */\n",
       "  background: var(--sklearn-color-unfitted-level-0);\n",
       "  border: .5pt solid var(--sklearn-color-unfitted-level-3);\n",
       "}\n",
       "\n",
       ".sk-estimator-doc-link.fitted span {\n",
       "  /* fitted */\n",
       "  background: var(--sklearn-color-fitted-level-0);\n",
       "  border: var(--sklearn-color-fitted-level-3);\n",
       "}\n",
       "\n",
       ".sk-estimator-doc-link:hover span {\n",
       "  display: block;\n",
       "}\n",
       "\n",
       "/* \"?\"-specific style due to the `<a>` HTML tag */\n",
       "\n",
       "#sk-container-id-2 a.estimator_doc_link {\n",
       "  float: right;\n",
       "  font-size: 1rem;\n",
       "  line-height: 1em;\n",
       "  font-family: monospace;\n",
       "  background-color: var(--sklearn-color-background);\n",
       "  border-radius: 1rem;\n",
       "  height: 1rem;\n",
       "  width: 1rem;\n",
       "  text-decoration: none;\n",
       "  /* unfitted */\n",
       "  color: var(--sklearn-color-unfitted-level-1);\n",
       "  border: var(--sklearn-color-unfitted-level-1) 1pt solid;\n",
       "}\n",
       "\n",
       "#sk-container-id-2 a.estimator_doc_link.fitted {\n",
       "  /* fitted */\n",
       "  border: var(--sklearn-color-fitted-level-1) 1pt solid;\n",
       "  color: var(--sklearn-color-fitted-level-1);\n",
       "}\n",
       "\n",
       "/* On hover */\n",
       "#sk-container-id-2 a.estimator_doc_link:hover {\n",
       "  /* unfitted */\n",
       "  background-color: var(--sklearn-color-unfitted-level-3);\n",
       "  color: var(--sklearn-color-background);\n",
       "  text-decoration: none;\n",
       "}\n",
       "\n",
       "#sk-container-id-2 a.estimator_doc_link.fitted:hover {\n",
       "  /* fitted */\n",
       "  background-color: var(--sklearn-color-fitted-level-3);\n",
       "}\n",
       "</style><div id=\"sk-container-id-2\" class=\"sk-top-container\"><div class=\"sk-text-repr-fallback\"><pre>Pipeline(steps=[(&#x27;tfidf&#x27;,\n",
       "                 TfidfVectorizer(max_df=0.5, max_features=500000,\n",
       "                                 ngram_range=(1, 2), stop_words=&#x27;english&#x27;,\n",
       "                                 sublinear_tf=True)),\n",
       "                (&#x27;nb&#x27;, MultinomialNB(alpha=0.001))])</pre><b>In a Jupyter environment, please rerun this cell to show the HTML representation or trust the notebook. <br />On GitHub, the HTML representation is unable to render, please try loading this page with nbviewer.org.</b></div><div class=\"sk-container\" hidden><div class=\"sk-item sk-dashed-wrapped\"><div class=\"sk-label-container\"><div class=\"sk-label fitted sk-toggleable\"><input class=\"sk-toggleable__control sk-hidden--visually\" id=\"sk-estimator-id-4\" type=\"checkbox\" ><label for=\"sk-estimator-id-4\" class=\"sk-toggleable__label fitted sk-toggleable__label-arrow fitted\">&nbsp;&nbsp;Pipeline<a class=\"sk-estimator-doc-link fitted\" rel=\"noreferrer\" target=\"_blank\" href=\"https://scikit-learn.org/1.5/modules/generated/sklearn.pipeline.Pipeline.html\">?<span>Documentation for Pipeline</span></a><span class=\"sk-estimator-doc-link fitted\">i<span>Fitted</span></span></label><div class=\"sk-toggleable__content fitted\"><pre>Pipeline(steps=[(&#x27;tfidf&#x27;,\n",
       "                 TfidfVectorizer(max_df=0.5, max_features=500000,\n",
       "                                 ngram_range=(1, 2), stop_words=&#x27;english&#x27;,\n",
       "                                 sublinear_tf=True)),\n",
       "                (&#x27;nb&#x27;, MultinomialNB(alpha=0.001))])</pre></div> </div></div><div class=\"sk-serial\"><div class=\"sk-item\"><div class=\"sk-estimator fitted sk-toggleable\"><input class=\"sk-toggleable__control sk-hidden--visually\" id=\"sk-estimator-id-5\" type=\"checkbox\" ><label for=\"sk-estimator-id-5\" class=\"sk-toggleable__label fitted sk-toggleable__label-arrow fitted\">&nbsp;TfidfVectorizer<a class=\"sk-estimator-doc-link fitted\" rel=\"noreferrer\" target=\"_blank\" href=\"https://scikit-learn.org/1.5/modules/generated/sklearn.feature_extraction.text.TfidfVectorizer.html\">?<span>Documentation for TfidfVectorizer</span></a></label><div class=\"sk-toggleable__content fitted\"><pre>TfidfVectorizer(max_df=0.5, max_features=500000, ngram_range=(1, 2),\n",
       "                stop_words=&#x27;english&#x27;, sublinear_tf=True)</pre></div> </div></div><div class=\"sk-item\"><div class=\"sk-estimator fitted sk-toggleable\"><input class=\"sk-toggleable__control sk-hidden--visually\" id=\"sk-estimator-id-6\" type=\"checkbox\" ><label for=\"sk-estimator-id-6\" class=\"sk-toggleable__label fitted sk-toggleable__label-arrow fitted\">&nbsp;MultinomialNB<a class=\"sk-estimator-doc-link fitted\" rel=\"noreferrer\" target=\"_blank\" href=\"https://scikit-learn.org/1.5/modules/generated/sklearn.naive_bayes.MultinomialNB.html\">?<span>Documentation for MultinomialNB</span></a></label><div class=\"sk-toggleable__content fitted\"><pre>MultinomialNB(alpha=0.001)</pre></div> </div></div></div></div></div></div>"
      ],
      "text/plain": [
       "Pipeline(steps=[('tfidf',\n",
       "                 TfidfVectorizer(max_df=0.5, max_features=500000,\n",
       "                                 ngram_range=(1, 2), stop_words='english',\n",
       "                                 sublinear_tf=True)),\n",
       "                ('nb', MultinomialNB(alpha=0.001))])"
      ]
     },
     "execution_count": 16,
     "metadata": {},
     "output_type": "execute_result"
    }
   ],
   "source": [
    "# Create a pipeline with TF-IDF vectorizer and Naive bayes hadnle textual data and imblanced datasets\n",
    "# because naive bayes is not computationally intensive, i xan use hte entire dataset\n",
    "from sklearn.decomposition import TruncatedSVD \n",
    "from sklearn.naive_bayes import MultinomialNB\n",
    "from sklearn.model_selection import train_test_split\n",
    "from sklearn.feature_extraction.text import TfidfVectorizer\n",
    "from sklearn.ensemble import RandomForestClassifier\n",
    "from sklearn.metrics import classification_report, accuracy_score\n",
    "from sklearn.pipeline import Pipeline\n",
    "\n",
    "X_train, X_test, y_train, y_test = train_test_split(X, y,test_size=0.2, random_state=42)## no need to sub-sample teh data\n",
    "\n",
    "pipeline_2 = Pipeline([\n",
    "    ('tfidf', TfidfVectorizer(max_df=0.50, \n",
    "                              min_df=1, max_features=500000, \n",
    "                              ngram_range=(1, 2), \n",
    "                              stop_words='english', \n",
    "                               use_idf=True, \n",
    "                              smooth_idf=True, \n",
    "                              sublinear_tf=True)),   # Adjust max_features based on your dataset size, ngrams captures bi-words\n",
    "    #('svd', TruncatedSVD(n_components=1000)), # Adjust n_components as needed\n",
    "   ('nb', MultinomialNB(alpha=0.001))  # Naive Bayes classifier\n",
    "])\n",
    "\n",
    "# Train the model\n",
    "pipeline_2.fit(X_train, y_train)"
   ]
  },
  {
   "cell_type": "code",
   "execution_count": 17,
   "metadata": {},
   "outputs": [
    {
     "name": "stdout",
     "output_type": "stream",
     "text": [
      "Accuracy: 0.8808282089203705\n",
      "Classification Report:\n",
      "                                                                                                                                                                                             precision    recall  f1-score   support\n",
      "\n",
      "                                                                                                                                                     Animals & Pet Supplies > Pet Supplies       0.85      0.65      0.74        71\n",
      "                                                                                                                                     Animals & Pet Supplies > Pet Supplies > Bird Supplies       1.00      0.29      0.44         7\n",
      "                                                                                                             Animals & Pet Supplies > Pet Supplies > Bird Supplies > Bird Cage Accessories       0.00      0.00      0.00         1\n",
      "                                                                                      Animals & Pet Supplies > Pet Supplies > Bird Supplies > Bird Cage Accessories > Bird Cage Bird Baths       1.00      1.00      1.00         1\n",
      "                                                                             Animals & Pet Supplies > Pet Supplies > Bird Supplies > Bird Cage Accessories > Bird Cage Food & Water Dishes       0.00      0.00      0.00         2\n",
      "                                                                                                               Animals & Pet Supplies > Pet Supplies > Bird Supplies > Bird Cages & Stands       0.83      0.83      0.83        18\n",
      "                                                                                                                         Animals & Pet Supplies > Pet Supplies > Bird Supplies > Bird Food       0.60      0.91      0.72        43\n",
      "                                                                                                            Animals & Pet Supplies > Pet Supplies > Bird Supplies > Bird Gyms & Playstands       1.00      0.50      0.67         2\n",
      "                                                                                                            Animals & Pet Supplies > Pet Supplies > Bird Supplies > Bird Ladders & Perches       0.67      0.50      0.57         4\n",
      "                                                                                                                         Animals & Pet Supplies > Pet Supplies > Bird Supplies > Bird Toys       0.70      0.78      0.74        18\n",
      "                                                                                                                       Animals & Pet Supplies > Pet Supplies > Bird Supplies > Bird Treats       0.56      0.56      0.56         9\n",
      "                                                                                                                                      Animals & Pet Supplies > Pet Supplies > Cat Supplies       0.71      0.30      0.43        33\n",
      "                                                                                                                        Animals & Pet Supplies > Pet Supplies > Cat Supplies > Cat Apparel       0.50      0.50      0.50         2\n",
      "                                                                                                                           Animals & Pet Supplies > Pet Supplies > Cat Supplies > Cat Beds       0.59      0.81      0.68        16\n",
      "                                                                                                                           Animals & Pet Supplies > Pet Supplies > Cat Supplies > Cat Food       0.92      0.91      0.92       511\n",
      "                                                                                                   Animals & Pet Supplies > Pet Supplies > Cat Supplies > Cat Food > Prescription Cat Food       0.95      0.75      0.84        24\n",
      "                                                                                                                      Animals & Pet Supplies > Pet Supplies > Cat Supplies > Cat Furniture       0.89      0.89      0.89        79\n",
      "                                                                                                          Animals & Pet Supplies > Pet Supplies > Cat Supplies > Cat Furniture Accessories       0.00      0.00      0.00         1\n",
      "                                                                                                                         Animals & Pet Supplies > Pet Supplies > Cat Supplies > Cat Litter       0.77      0.68      0.72       874\n",
      "                                                                                                              Animals & Pet Supplies > Pet Supplies > Cat Supplies > Cat Litter Box Liners       1.00      0.67      0.80         3\n",
      "                                                                                                                Animals & Pet Supplies > Pet Supplies > Cat Supplies > Cat Litter Box Mats       1.00      0.67      0.80         9\n",
      "                                                                                                                   Animals & Pet Supplies > Pet Supplies > Cat Supplies > Cat Litter Boxes       0.74      0.55      0.63        62\n",
      "                                                                                                                           Animals & Pet Supplies > Pet Supplies > Cat Supplies > Cat Toys       0.83      0.97      0.89       115\n",
      "                                                                                                                         Animals & Pet Supplies > Pet Supplies > Cat Supplies > Cat Treats       0.85      0.95      0.90       105\n",
      "                                                                                                                                      Animals & Pet Supplies > Pet Supplies > Dog Supplies       0.59      0.46      0.51        59\n",
      "                                                                                                                        Animals & Pet Supplies > Pet Supplies > Dog Supplies > Dog Apparel       0.77      0.81      0.79       180\n",
      "                                                                                                                           Animals & Pet Supplies > Pet Supplies > Dog Supplies > Dog Beds       0.91      0.95      0.93       180\n",
      "                                                                                                                        Animals & Pet Supplies > Pet Supplies > Dog Supplies > Dog Diapers       1.00      1.00      1.00         8\n",
      "                                                                                                                           Animals & Pet Supplies > Pet Supplies > Dog Supplies > Dog Food       0.86      0.95      0.90       681\n",
      "                                                                                                   Animals & Pet Supplies > Pet Supplies > Dog Supplies > Dog Food > Prescription Dog Food       0.90      0.82      0.86        33\n",
      "                                                                                                       Animals & Pet Supplies > Pet Supplies > Dog Supplies > Dog Kennel & Run Accessories       0.00      0.00      0.00         1\n",
      "                                                                                                                 Animals & Pet Supplies > Pet Supplies > Dog Supplies > Dog Kennels & Runs       1.00      0.33      0.50         3\n",
      "                                                                                                                           Animals & Pet Supplies > Pet Supplies > Dog Supplies > Dog Toys       0.90      0.97      0.93       387\n",
      "                                                                                                                         Animals & Pet Supplies > Pet Supplies > Dog Supplies > Dog Treats       0.83      0.94      0.88       371\n",
      "                                                                                                                                     Animals & Pet Supplies > Pet Supplies > Fish Supplies       0.69      0.73      0.71        15\n",
      "                                                                                                            Animals & Pet Supplies > Pet Supplies > Fish Supplies > Aquarium & Pond Tubing       0.00      0.00      0.00         1\n",
      "                                                                                                   Animals & Pet Supplies > Pet Supplies > Fish Supplies > Aquarium Air Stones & Diffusers       1.00      1.00      1.00         1\n",
      "                                                                                                        Animals & Pet Supplies > Pet Supplies > Fish Supplies > Aquarium Cleaning Supplies       1.00      0.53      0.70        15\n",
      "                                                                                                                    Animals & Pet Supplies > Pet Supplies > Fish Supplies > Aquarium Decor       0.85      0.94      0.89        96\n",
      "                                                                                                                  Animals & Pet Supplies > Pet Supplies > Fish Supplies > Aquarium Filters       0.70      0.91      0.79        35\n",
      "                                                                                                                Animals & Pet Supplies > Pet Supplies > Fish Supplies > Aquarium Fish Nets       1.00      1.00      1.00         1\n",
      "                                                                                                      Animals & Pet Supplies > Pet Supplies > Fish Supplies > Aquarium Gravel & Substrates       1.00      0.93      0.97        15\n",
      "                                                                                                                 Animals & Pet Supplies > Pet Supplies > Fish Supplies > Aquarium Lighting       0.55      0.29      0.38       156\n",
      "                                                                                                                   Animals & Pet Supplies > Pet Supplies > Fish Supplies > Aquarium Stands       1.00      0.80      0.89         5\n",
      "                                                                                                  Animals & Pet Supplies > Pet Supplies > Fish Supplies > Aquarium Temperature Controllers       1.00      1.00      1.00         5\n",
      "                                                                                                         Animals & Pet Supplies > Pet Supplies > Fish Supplies > Aquarium Water Treatments       0.57      0.73      0.64        22\n",
      "                                                                                                                         Animals & Pet Supplies > Pet Supplies > Fish Supplies > Aquariums       0.57      0.81      0.67        16\n",
      "                                                                                                                         Animals & Pet Supplies > Pet Supplies > Fish Supplies > Fish Food       0.78      0.84      0.81        37\n",
      "                                                                                                                               Animals & Pet Supplies > Pet Supplies > Pet Bed Accessories       1.00      0.33      0.50         3\n",
      "                                                                                                                                     Animals & Pet Supplies > Pet Supplies > Pet Bowl Mats       0.74      0.71      0.73        28\n",
      "                                                                                                                     Animals & Pet Supplies > Pet Supplies > Pet Bowls, Feeders & Waterers       0.72      0.79      0.75       141\n",
      "                                                                                                                   Animals & Pet Supplies > Pet Supplies > Pet Carrier & Crate Accessories       0.75      0.75      0.75         8\n",
      "                                                                                                                             Animals & Pet Supplies > Pet Supplies > Pet Carriers & Crates       0.64      0.76      0.69        92\n",
      "                                                                                                                           Animals & Pet Supplies > Pet Supplies > Pet Collars & Harnesses       0.83      0.88      0.86       401\n",
      "                                                                                                                              Animals & Pet Supplies > Pet Supplies > Pet Door Accessories       0.86      0.75      0.80        24\n",
      "                                                                                                                                         Animals & Pet Supplies > Pet Supplies > Pet Doors       0.73      0.32      0.44        25\n",
      "                                                                                                                        Animals & Pet Supplies > Pet Supplies > Pet Eye Drops & Lubricants       0.00      0.00      0.00         1\n",
      "                                                                                                                    Animals & Pet Supplies > Pet Supplies > Pet First Aid & Emergency Kits       0.00      0.00      0.00         1\n",
      "                                                                                                                           Animals & Pet Supplies > Pet Supplies > Pet Flea & Tick Control       0.72      0.94      0.82        62\n",
      "                                                                                                                               Animals & Pet Supplies > Pet Supplies > Pet Food Containers       1.00      0.75      0.86        16\n",
      "                                                                                                                             Animals & Pet Supplies > Pet Supplies > Pet Grooming Supplies       0.80      0.31      0.44        13\n",
      "                                                                                                       Animals & Pet Supplies > Pet Supplies > Pet Grooming Supplies > Pet Combs & Brushes       0.63      0.94      0.76        18\n",
      "                                                                                       Animals & Pet Supplies > Pet Supplies > Pet Grooming Supplies > Pet Fragrances & Deodorizing Sprays       0.00      0.00      0.00         6\n",
      "                                                                                              Animals & Pet Supplies > Pet Supplies > Pet Grooming Supplies > Pet Hair Clippers & Trimmers       0.71      0.91      0.80        11\n",
      "                                                                                                           Animals & Pet Supplies > Pet Supplies > Pet Grooming Supplies > Pet Hair Dryers       1.00      1.00      1.00         1\n",
      "                                                                                                            Animals & Pet Supplies > Pet Supplies > Pet Grooming Supplies > Pet Nail Tools       0.00      0.00      0.00         1\n",
      "                                                                                                 Animals & Pet Supplies > Pet Supplies > Pet Grooming Supplies > Pet Shampoo & Conditioner       0.60      0.73      0.66       103\n",
      "                                                                                                                 Animals & Pet Supplies > Pet Supplies > Pet Grooming Supplies > Pet Wipes       0.60      0.50      0.55         6\n",
      "                                                                                                                                       Animals & Pet Supplies > Pet Supplies > Pet ID Tags       0.79      0.94      0.86        16\n",
      "                                                                                                                                       Animals & Pet Supplies > Pet Supplies > Pet Leashes       0.90      0.75      0.82        75\n",
      "                                                                                                                       Animals & Pet Supplies > Pet Supplies > Pet Medical Tape & Bandages       0.00      0.00      0.00         1\n",
      "                                                                                                                                      Animals & Pet Supplies > Pet Supplies > Pet Medicine       0.71      0.59      0.64        29\n",
      "                                                                                                                                       Animals & Pet Supplies > Pet Supplies > Pet Muzzles       1.00      1.00      1.00         1\n",
      "                                                                                                                            Animals & Pet Supplies > Pet Supplies > Pet Oral Care Supplies       0.71      0.94      0.81        16\n",
      "                                                                                                                                      Animals & Pet Supplies > Pet Supplies > Pet Playpens       0.90      0.64      0.75        14\n",
      "                                                                                                                                 Animals & Pet Supplies > Pet Supplies > Pet Steps & Ramps       0.80      0.67      0.73         6\n",
      "                                                                                                                                     Animals & Pet Supplies > Pet Supplies > Pet Strollers       0.50      0.50      0.50         4\n",
      "                                                                                                                                 Animals & Pet Supplies > Pet Supplies > Pet Training Aids       0.63      0.65      0.64        26\n",
      "                                                                                      Animals & Pet Supplies > Pet Supplies > Pet Training Aids > Pet Training Clickers & Treat Dispensers       0.00      0.00      0.00         1\n",
      "                                                                                                             Animals & Pet Supplies > Pet Supplies > Pet Training Aids > Pet Training Pads       1.00      0.88      0.93         8\n",
      "                                                                                               Animals & Pet Supplies > Pet Supplies > Pet Training Aids > Pet Training Sprays & Solutions       0.00      0.00      0.00         1\n",
      "                                                                                                                        Animals & Pet Supplies > Pet Supplies > Pet Vitamins & Supplements       0.61      0.77      0.68        60\n",
      "                                                                                                                Animals & Pet Supplies > Pet Supplies > Pet Waste Bag Dispensers & Holders       1.00      0.33      0.50         3\n",
      "                                                                                                                                    Animals & Pet Supplies > Pet Supplies > Pet Waste Bags       0.55      0.78      0.64        23\n",
      "                                                                                                                Animals & Pet Supplies > Pet Supplies > Pet Waste Disposal Systems & Tools       0.00      0.00      0.00         2\n",
      "                                                                                                                      Animals & Pet Supplies > Pet Supplies > Reptile & Amphibian Supplies       0.70      0.76      0.73        21\n",
      "                                                                                           Animals & Pet Supplies > Pet Supplies > Reptile & Amphibian Supplies > Reptile & Amphibian Food       0.64      0.88      0.74        24\n",
      "                                                                            Animals & Pet Supplies > Pet Supplies > Reptile & Amphibian Supplies > Reptile & Amphibian Habitat Accessories       0.61      0.64      0.62        22\n",
      "                                                                     Animals & Pet Supplies > Pet Supplies > Reptile & Amphibian Supplies > Reptile & Amphibian Habitat Heating & Lighting       0.47      0.77      0.58        26\n",
      "                                                                                       Animals & Pet Supplies > Pet Supplies > Reptile & Amphibian Supplies > Reptile & Amphibian Habitats       0.62      0.36      0.45        14\n",
      "                                                                                     Animals & Pet Supplies > Pet Supplies > Reptile & Amphibian Supplies > Reptile & Amphibian Substrates       1.00      0.50      0.67         2\n",
      "                                                                                                                             Animals & Pet Supplies > Pet Supplies > Small Animal Supplies       0.33      0.06      0.11        16\n",
      "                                                                                                      Animals & Pet Supplies > Pet Supplies > Small Animal Supplies > Small Animal Bedding       0.81      0.72      0.76        18\n",
      "                                                                                                         Animals & Pet Supplies > Pet Supplies > Small Animal Supplies > Small Animal Food       0.69      0.94      0.80        36\n",
      "                                                                                          Animals & Pet Supplies > Pet Supplies > Small Animal Supplies > Small Animal Habitat Accessories       0.76      0.81      0.78        47\n",
      "                                                                                             Animals & Pet Supplies > Pet Supplies > Small Animal Supplies > Small Animal Habitats & Cages       0.79      0.64      0.71        42\n",
      "                                                                                                       Animals & Pet Supplies > Pet Supplies > Small Animal Supplies > Small Animal Treats       0.56      0.60      0.58        15\n",
      "                                                                                                                              Animals & Pet Supplies > Pet Supplies > Vehicle Pet Barriers       0.00      0.00      0.00         1\n",
      "                                                                                                                                                          Apparel & Accessories > Clothing       0.82      0.89      0.85      2116\n",
      "                                                                                                                                             Apparel & Accessories > Clothing > Activewear       0.56      0.70      0.62       376\n",
      "                                                                                                                        Apparel & Accessories > Clothing > Activewear > Bicycle Activewear       0.96      0.92      0.94       173\n",
      "                                                                                                      Apparel & Accessories > Clothing > Activewear > Bicycle Activewear > Bicycle Jerseys       0.00      0.00      0.00         1\n",
      "                                                                                              Apparel & Accessories > Clothing > Activewear > Bicycle Activewear > Bicycle Shorts & Briefs       0.00      0.00      0.00         3\n",
      "                                                                                                       Apparel & Accessories > Clothing > Activewear > Bicycle Activewear > Bicycle Tights       0.00      0.00      0.00         2\n",
      "                                                                                                          Apparel & Accessories > Clothing > Activewear > Dance Dresses, Skirts & Costumes       0.87      0.66      0.75        50\n",
      "                                                                                                                          Apparel & Accessories > Clothing > Activewear > Hunting Clothing       0.67      0.71      0.69        14\n",
      "                                                                                                                                Apparel & Accessories > Clothing > Baby & Toddler Clothing       1.00      0.50      0.67        12\n",
      "                                                                                                       Apparel & Accessories > Clothing > Baby & Toddler Clothing > Baby & Toddler Bottoms       0.90      0.97      0.93       608\n",
      "                                                                                                 Apparel & Accessories > Clothing > Baby & Toddler Clothing > Baby & Toddler Diaper Covers       0.89      0.80      0.84        10\n",
      "                                                                                                       Apparel & Accessories > Clothing > Baby & Toddler Clothing > Baby & Toddler Dresses       0.86      0.89      0.88       342\n",
      "                                                                                                     Apparel & Accessories > Clothing > Baby & Toddler Clothing > Baby & Toddler Outerwear       0.86      0.83      0.85        36\n",
      "                                                                                                       Apparel & Accessories > Clothing > Baby & Toddler Clothing > Baby & Toddler Outfits       0.89      0.96      0.92       531\n",
      "                                                                                                     Apparel & Accessories > Clothing > Baby & Toddler Clothing > Baby & Toddler Sleepwear       0.93      0.95      0.94       592\n",
      "                                                                                                Apparel & Accessories > Clothing > Baby & Toddler Clothing > Baby & Toddler Socks & Tights       0.93      0.90      0.91        77\n",
      "                                                                                                      Apparel & Accessories > Clothing > Baby & Toddler Clothing > Baby & Toddler Swimwear       0.89      0.96      0.92       279\n",
      "                                                                                                          Apparel & Accessories > Clothing > Baby & Toddler Clothing > Baby & Toddler Tops       0.82      0.95      0.88       767\n",
      "                                                                                                              Apparel & Accessories > Clothing > Baby & Toddler Clothing > Baby One-Pieces       0.92      0.96      0.94       764\n",
      "                                                                                                            Apparel & Accessories > Clothing > Baby & Toddler Clothing > Toddler Underwear       0.92      0.85      0.88        13\n",
      "                                                                                                                                                Apparel & Accessories > Clothing > Dresses       0.90      0.92      0.91      1995\n",
      "                                                                                                                                             Apparel & Accessories > Clothing > One-Pieces       0.59      0.82      0.68       112\n",
      "                                                                                                                       Apparel & Accessories > Clothing > One-Pieces > Jumpsuits & Rompers       0.87      0.85      0.86       274\n",
      "                                                                                                                       Apparel & Accessories > Clothing > One-Pieces > Leotards & Unitards       0.93      0.98      0.95       116\n",
      "                                                                                                                                  Apparel & Accessories > Clothing > One-Pieces > Overalls       0.88      0.81      0.85        37\n",
      "                                                                                                                                              Apparel & Accessories > Clothing > Outerwear       0.85      0.70      0.77       125\n",
      "                                                                                                                            Apparel & Accessories > Clothing > Outerwear > Coats & Jackets       0.84      0.86      0.85       654\n",
      "                                                                                                                                 Apparel & Accessories > Clothing > Outerwear > Rain Pants       0.00      0.00      0.00         2\n",
      "                                                                                                                                 Apparel & Accessories > Clothing > Outerwear > Rain Suits       0.33      0.33      0.33         3\n",
      "                                                                                                                                      Apparel & Accessories > Clothing > Outerwear > Vests       0.77      0.67      0.71        54\n",
      "                                                                                                                                            Apparel & Accessories > Clothing > Outfit Sets       0.76      0.69      0.72        70\n",
      "                                                                                                                                                  Apparel & Accessories > Clothing > Pants       0.97      0.93      0.95      4938\n",
      "                                                                                                                                          Apparel & Accessories > Clothing > Shirts & Tops       0.95      0.94      0.94     12245\n",
      "                                                                                                                                                 Apparel & Accessories > Clothing > Shorts       0.96      0.91      0.94      2509\n",
      "                                                                                                                                                 Apparel & Accessories > Clothing > Skirts       0.92      0.90      0.91       289\n",
      "                                                                                                                                                 Apparel & Accessories > Clothing > Skorts       0.88      0.97      0.92       208\n",
      "                                                                                                                                 Apparel & Accessories > Clothing > Sleepwear & Loungewear       0.77      0.83      0.80       241\n",
      "                                                                                                                    Apparel & Accessories > Clothing > Sleepwear & Loungewear > Loungewear       0.70      0.89      0.78        44\n",
      "                                                                                                                    Apparel & Accessories > Clothing > Sleepwear & Loungewear > Nightgowns       0.81      0.97      0.88        75\n",
      "                                                                                                                       Apparel & Accessories > Clothing > Sleepwear & Loungewear > Pajamas       0.92      0.91      0.92       658\n",
      "                                                                                                                         Apparel & Accessories > Clothing > Sleepwear & Loungewear > Robes       0.93      0.84      0.88        63\n",
      "                                                                                                                                                  Apparel & Accessories > Clothing > Suits       0.00      0.00      0.00         5\n",
      "                                                                                                                                     Apparel & Accessories > Clothing > Suits > Pant Suits       0.00      0.00      0.00         1\n",
      "                                                                                                                                               Apparel & Accessories > Clothing > Swimwear       0.94      0.95      0.95      2227\n",
      "                                                                                                   Apparel & Accessories > Clothing > Traditional & Ceremonial Clothing > Kimono Outerwear       0.00      0.00      0.00         1\n",
      "                                                                                                                                      Apparel & Accessories > Clothing > Underwear & Socks       0.65      0.56      0.60        63\n",
      "                                                                                                                    Apparel & Accessories > Clothing > Underwear & Socks > Bra Accessories       0.80      1.00      0.89         4\n",
      "                                                                                           Apparel & Accessories > Clothing > Underwear & Socks > Bra Accessories > Bra Straps & Extenders       1.00      1.00      1.00         1\n",
      "                                                                                       Apparel & Accessories > Clothing > Underwear & Socks > Bra Accessories > Breast Petals & Concealers       0.92      0.92      0.92        13\n",
      "                                                                                                                               Apparel & Accessories > Clothing > Underwear & Socks > Bras       0.97      0.95      0.96      1803\n",
      "                                                                                                                            Apparel & Accessories > Clothing > Underwear & Socks > Hosiery       0.95      0.95      0.95       144\n",
      "                                                                                                                           Apparel & Accessories > Clothing > Underwear & Socks > Lingerie       0.87      0.97      0.92       464\n",
      "                                                                                                                          Apparel & Accessories > Clothing > Underwear & Socks > Shapewear       0.84      0.94      0.89       119\n",
      "                                                                                                                              Apparel & Accessories > Clothing > Underwear & Socks > Socks       0.94      0.95      0.94       598\n",
      "                                                                                                                        Apparel & Accessories > Clothing > Underwear & Socks > Undershirts       1.00      1.00      1.00         5\n",
      "                                                                                                                          Apparel & Accessories > Clothing > Underwear & Socks > Underwear       0.94      0.95      0.94      1091\n",
      "                                                                                                                    Apparel & Accessories > Clothing > Underwear & Socks > Underwear Slips       1.00      0.75      0.86        24\n",
      "                                                                                                                                               Apparel & Accessories > Clothing > Uniforms       0.75      0.82      0.78        11\n",
      "                                                                                                                Apparel & Accessories > Clothing > Uniforms > Contractor Pants & Coveralls       1.00      0.50      0.67         2\n",
      "                                                                                                                             Apparel & Accessories > Clothing > Uniforms > School Uniforms       0.83      0.91      0.87        11\n",
      "                                                                                                                             Apparel & Accessories > Clothing > Uniforms > Sports Uniforms       1.00      0.50      0.67         2\n",
      "                                                                                                         Apparel & Accessories > Clothing > Uniforms > Sports Uniforms > Baseball Uniforms       0.67      0.67      0.67         3\n",
      "                                                                                                       Apparel & Accessories > Clothing > Uniforms > Sports Uniforms > Basketball Uniforms       0.55      0.60      0.57        10\n",
      "                                                                                                          Apparel & Accessories > Clothing > Uniforms > Sports Uniforms > Cricket Uniforms       0.00      0.00      0.00         1\n",
      "                                                                                                           Apparel & Accessories > Clothing > Uniforms > Sports Uniforms > Soccer Uniforms       0.50      0.50      0.50         4\n",
      "                                                                                                                         Apparel & Accessories > Clothing > Wedding & Bridal Party Dresses       0.00      0.00      0.00         1\n",
      "                                                                                                                                              Apparel & Accessories > Clothing Accessories       0.74      0.38      0.50        98\n",
      "                                                                                                                      Apparel & Accessories > Clothing Accessories > Arm Warmers & Sleeves       0.00      0.00      0.00         1\n",
      "                                                                                                        Apparel & Accessories > Clothing Accessories > Baby & Toddler Clothing Accessories       0.50      1.00      0.67         1\n",
      "                                                                      Apparel & Accessories > Clothing Accessories > Baby & Toddler Clothing Accessories > Baby & Toddler Gloves & Mittens       0.62      0.62      0.62         8\n",
      "                                                                                  Apparel & Accessories > Clothing Accessories > Baby & Toddler Clothing Accessories > Baby & Toddler Hats       0.90      0.75      0.82        71\n",
      "                                                                                                                                 Apparel & Accessories > Clothing Accessories > Balaclavas       0.00      0.00      0.00         0\n",
      "                                                                                                                        Apparel & Accessories > Clothing Accessories > Bandanas & Headties       0.00      0.00      0.00         1\n",
      "                                                                                                                                      Apparel & Accessories > Clothing Accessories > Belts       0.97      0.91      0.93       222\n",
      "                                                                                                                            Apparel & Accessories > Clothing Accessories > Decorative Fans       0.00      0.00      0.00         3\n",
      "                                                                                                                                   Apparel & Accessories > Clothing Accessories > Earmuffs       0.67      1.00      0.80         2\n",
      "                                                                                                                           Apparel & Accessories > Clothing Accessories > Gloves & Mittens       0.78      0.56      0.65        25\n",
      "                                                                                                                           Apparel & Accessories > Clothing Accessories > Hair Accessories       0.81      0.57      0.67        46\n",
      "                                                                                               Apparel & Accessories > Clothing Accessories > Hair Accessories > Hair Bun & Volume Shapers       0.00      0.00      0.00         0\n",
      "                                                                                                              Apparel & Accessories > Clothing Accessories > Hair Accessories > Hair Combs       1.00      1.00      1.00         1\n",
      "                                                                                                         Apparel & Accessories > Clothing Accessories > Hair Accessories > Hair Extensions       1.00      0.33      0.50         6\n",
      "                                                                                                Apparel & Accessories > Clothing Accessories > Hair Accessories > Hair Pins, Claws & Clips       0.85      0.91      0.88        76\n",
      "                                                                                                               Apparel & Accessories > Clothing Accessories > Hair Accessories > Headbands       0.75      0.71      0.73        58\n",
      "                                                                                                        Apparel & Accessories > Clothing Accessories > Hair Accessories > Ponytail Holders       0.77      0.89      0.82        53\n",
      "                                                                                                                    Apparel & Accessories > Clothing Accessories > Hair Accessories > Wigs       0.00      0.00      0.00         2\n",
      "                                                                                                                              Apparel & Accessories > Clothing Accessories > Handkerchiefs       0.00      0.00      0.00         2\n",
      "                                                                                                                                       Apparel & Accessories > Clothing Accessories > Hats       0.82      0.87      0.84       329\n",
      "                                                                                                                                   Apparel & Accessories > Clothing Accessories > Headwear       1.00      0.15      0.27        13\n",
      "                                                                                                                                Apparel & Accessories > Clothing Accessories > Leg Warmers       0.00      0.00      0.00         1\n",
      "                                                                                                            Apparel & Accessories > Clothing Accessories > Maternity Belts & Support Bands       0.73      0.85      0.79        13\n",
      "                                                                                                                               Apparel & Accessories > Clothing Accessories > Neck Gaiters       0.50      0.67      0.57         3\n",
      "                                                                                                                                   Apparel & Accessories > Clothing Accessories > Neckties       0.87      0.89      0.88        45\n",
      "                                                                                                                                     Apparel & Accessories > Clothing Accessories > Sashes       0.00      0.00      0.00         1\n",
      "                                                                                                                           Apparel & Accessories > Clothing Accessories > Scarves & Shawls       0.80      0.71      0.76        63\n",
      "                                                                                                                 Apparel & Accessories > Clothing Accessories > Scarves & Shawls > Scarves       0.00      0.00      0.00         3\n",
      "                                                                                                                                 Apparel & Accessories > Clothing Accessories > Sunglasses       0.93      0.85      0.89       366\n",
      "                                                                                                                                  Apparel & Accessories > Clothing Accessories > Tie Clips       1.00      1.00      1.00         1\n",
      "                                                                                              Apparel & Accessories > Clothing Accessories > Traditional Clothing Accessories > Tabi Socks       1.00      1.00      1.00         1\n",
      "                                                                                                                                 Apparel & Accessories > Clothing Accessories > Wristbands       0.00      0.00      0.00         5\n",
      "                                                                                                                                            Apparel & Accessories > Costumes & Accessories       0.00      0.00      0.00         2\n",
      "                                                                                                                      Apparel & Accessories > Costumes & Accessories > Costume Accessories       0.67      0.15      0.25        13\n",
      "                                                                                             Apparel & Accessories > Costumes & Accessories > Costume Accessories > Costume Accessory Sets       0.00      0.00      0.00         2\n",
      "                                                                                                     Apparel & Accessories > Costumes & Accessories > Costume Accessories > Costume Gloves       0.00      0.00      0.00         2\n",
      "                                                                                                       Apparel & Accessories > Costumes & Accessories > Costume Accessories > Costume Hats       0.00      0.00      0.00         4\n",
      "                                                                                            Apparel & Accessories > Costumes & Accessories > Costume Accessories > Costume Special Effects       1.00      1.00      1.00         1\n",
      "                                                                                                    Apparel & Accessories > Costumes & Accessories > Costume Accessories > Pretend Jewelry       0.00      0.00      0.00        11\n",
      "                                                                                                                            Apparel & Accessories > Costumes & Accessories > Costume Shoes       0.93      1.00      0.96        13\n",
      "                                                                                                                                 Apparel & Accessories > Costumes & Accessories > Costumes       0.82      0.84      0.83       154\n",
      "                                                                                                                                    Apparel & Accessories > Costumes & Accessories > Masks       0.33      0.09      0.14        11\n",
      "                                                                                                                                      Apparel & Accessories > Handbag & Wallet Accessories       1.00      0.20      0.33         5\n",
      "                                                                                                                   Apparel & Accessories > Handbag & Wallet Accessories > Checkbook Covers       0.00      0.00      0.00         1\n",
      "                                                                                                                          Apparel & Accessories > Handbag & Wallet Accessories > Keychains       0.91      0.56      0.69        18\n",
      "                                                                                                                           Apparel & Accessories > Handbag & Wallet Accessories > Lanyards       0.90      0.75      0.82        12\n",
      "                                                                                                                                         Apparel & Accessories > Handbags, Wallets & Cases       0.80      0.83      0.82       132\n",
      "                                                                                                                  Apparel & Accessories > Handbags, Wallets & Cases > Badge & Pass Holders       1.00      0.50      0.67         2\n",
      "                                                                                                                   Apparel & Accessories > Handbags, Wallets & Cases > Business Card Cases       1.00      0.50      0.67         2\n",
      "                                                                                                                              Apparel & Accessories > Handbags, Wallets & Cases > Handbags       0.79      0.87      0.82       252\n",
      "                                                                                                                 Apparel & Accessories > Handbags, Wallets & Cases > Wallets & Money Clips       0.77      0.75      0.76        44\n",
      "                                                                                                                                                           Apparel & Accessories > Jewelry       0.83      0.53      0.64       135\n",
      "                                                                                                                                                 Apparel & Accessories > Jewelry > Anklets       1.00      0.38      0.55         8\n",
      "                                                                                                                                            Apparel & Accessories > Jewelry > Body Jewelry       0.00      0.00      0.00         1\n",
      "                                                                                                                                               Apparel & Accessories > Jewelry > Bracelets       0.83      0.84      0.83       188\n",
      "                                                                                                                                   Apparel & Accessories > Jewelry > Brooches & Lapel Pins       1.00      0.74      0.85        19\n",
      "                                                                                                                                       Apparel & Accessories > Jewelry > Charms & Pendants       0.86      0.81      0.83       204\n",
      "                                                                                                                                                Apparel & Accessories > Jewelry > Earrings       0.89      0.93      0.91       467\n",
      "                                                                                                                                            Apparel & Accessories > Jewelry > Jewelry Sets       0.67      0.36      0.47        11\n",
      "                                                                                                                                               Apparel & Accessories > Jewelry > Necklaces       0.80      0.89      0.84       381\n",
      "                                                                                                                                                   Apparel & Accessories > Jewelry > Rings       0.89      0.89      0.89       281\n",
      "                                                                                                                                       Apparel & Accessories > Jewelry > Watch Accessories       0.83      0.83      0.83         6\n",
      "                                                                                                                         Apparel & Accessories > Jewelry > Watch Accessories > Watch Bands       0.96      0.98      0.97        50\n",
      "                                                                                                                                                 Apparel & Accessories > Jewelry > Watches       0.94      0.86      0.90       126\n",
      "                                                                                                                                                  Apparel & Accessories > Shoe Accessories       0.80      0.44      0.57         9\n",
      "                                                                                                                                        Apparel & Accessories > Shoe Accessories > Gaiters       0.00      0.00      0.00         3\n",
      "                                                                                                                                      Apparel & Accessories > Shoe Accessories > Shoelaces       1.00      1.00      1.00        10\n",
      "                                                                                                                                                             Apparel & Accessories > Shoes       0.99      0.99      0.99     13375\n",
      "                                                                                                                                                      Arts & Entertainment > Event Tickets       1.00      0.33      0.50         3\n",
      "                                                                                                                                            Arts & Entertainment > Hobbies & Creative Arts       0.00      0.00      0.00         1\n",
      "                                                                                                                            Arts & Entertainment > Hobbies & Creative Arts > Arts & Crafts       0.67      0.43      0.52        28\n",
      "                                                                                                         Arts & Entertainment > Hobbies & Creative Arts > Arts & Crafts > Art & Craft Kits       0.61      0.70      0.65        63\n",
      "                                                                               Arts & Entertainment > Hobbies & Creative Arts > Arts & Crafts > Art & Craft Kits > Drawing & Painting Kits       0.00      0.00      0.00         3\n",
      "                                                                                   Arts & Entertainment > Hobbies & Creative Arts > Arts & Crafts > Art & Craft Kits > Jewelry Making Kits       0.86      0.86      0.86         7\n",
      "                                                                          Arts & Entertainment > Hobbies & Creative Arts > Arts & Crafts > Art & Craft Kits > Scrapbooking & Stamping Kits       0.63      0.57      0.60        21\n",
      "                                                                                                 Arts & Entertainment > Hobbies & Creative Arts > Arts & Crafts > Art & Crafting Materials       0.78      0.86      0.81       541\n",
      "                                                                             Arts & Entertainment > Hobbies & Creative Arts > Arts & Crafts > Art & Crafting Materials > Art & Craft Paper       0.00      0.00      0.00         2\n",
      "                                            Arts & Entertainment > Hobbies & Creative Arts > Arts & Crafts > Art & Crafting Materials > Art & Craft Paper > Cardstock & Scrapbooking Paper       1.00      0.50      0.67         2\n",
      "                                Arts & Entertainment > Hobbies & Creative Arts > Arts & Crafts > Art & Crafting Materials > Art & Craft Paper > Cardstock & Scrapbooking Paper > Cardstock       0.69      0.47      0.56        19\n",
      "                       Arts & Entertainment > Hobbies & Creative Arts > Arts & Crafts > Art & Crafting Materials > Art & Craft Paper > Cardstock & Scrapbooking Paper > Scrapbooking Paper       0.64      0.38      0.47        24\n",
      "                                                                Arts & Entertainment > Hobbies & Creative Arts > Arts & Crafts > Art & Crafting Materials > Art & Craft Paper > Craft Foil       1.00      0.50      0.67         2\n",
      "                                                             Arts & Entertainment > Hobbies & Creative Arts > Arts & Crafts > Art & Crafting Materials > Art & Craft Paper > Origami Paper       0.00      0.00      0.00         1\n",
      "                                                            Arts & Entertainment > Hobbies & Creative Arts > Arts & Crafts > Art & Crafting Materials > Art & Craft Paper > Transfer Paper       0.00      0.00      0.00         3\n",
      "                                                                      Arts & Entertainment > Hobbies & Creative Arts > Arts & Crafts > Art & Crafting Materials > Craft Paint, Ink & Glaze       0.00      0.00      0.00         1\n",
      "                                                  Arts & Entertainment > Hobbies & Creative Arts > Arts & Crafts > Art & Crafting Materials > Crafting Adhesives & Magnets > Craft Magnets       0.00      0.00      0.00         3\n",
      "                                                      Arts & Entertainment > Hobbies & Creative Arts > Arts & Crafts > Art & Crafting Materials > Crafting Fibers > Jewelry & Beading Cord       0.00      0.00      0.00         1\n",
      "                                                                        Arts & Entertainment > Hobbies & Creative Arts > Arts & Crafts > Art & Crafting Materials > Crafting Fibers > Yarn       1.00      0.20      0.33         5\n",
      "                                                  Arts & Entertainment > Hobbies & Creative Arts > Arts & Crafts > Art & Crafting Materials > Embellishments & Trims > Appliques & Patches       0.00      0.00      0.00         2\n",
      "                                                  Arts & Entertainment > Hobbies & Creative Arts > Arts & Crafts > Art & Crafting Materials > Embellishments & Trims > Decorative Stickers       1.00      0.88      0.94        25\n",
      "                                                    Arts & Entertainment > Hobbies & Creative Arts > Arts & Crafts > Art & Crafting Materials > Embellishments & Trims > Sequins & Glitter       0.00      0.00      0.00         5\n",
      "                                                                               Arts & Entertainment > Hobbies & Creative Arts > Arts & Crafts > Art & Crafting Materials > Leather & Vinyl       0.67      0.50      0.57        12\n",
      "                                                                                          Arts & Entertainment > Hobbies & Creative Arts > Arts & Crafts > Art & Crafting Tool Accessories       0.00      0.00      0.00         3\n",
      "                                                                     Arts & Entertainment > Hobbies & Creative Arts > Arts & Crafts > Art & Crafting Tool Accessories > Craft Knife Blades       0.00      0.00      0.00         4\n",
      "                                                                                                     Arts & Entertainment > Hobbies & Creative Arts > Arts & Crafts > Art & Crafting Tools       0.60      0.64      0.62        96\n",
      "                                                                   Arts & Entertainment > Hobbies & Creative Arts > Arts & Crafts > Art & Crafting Tools > Craft Cutting & Embossing Tools       0.00      0.00      0.00         4\n",
      "                                       Arts & Entertainment > Hobbies & Creative Arts > Arts & Crafts > Art & Crafting Tools > Craft Cutting & Embossing Tools > Craft Cutters & Embossers       0.65      0.91      0.76        79\n",
      "                                                    Arts & Entertainment > Hobbies & Creative Arts > Arts & Crafts > Art & Crafting Tools > Craft Cutting & Embossing Tools > Craft Knives       1.00      0.33      0.50         3\n",
      "                                                Arts & Entertainment > Hobbies & Creative Arts > Arts & Crafts > Art & Crafting Tools > Craft Measuring & Marking Tools > Stencil Machines       0.00      0.00      0.00         2\n",
      "                                     Arts & Entertainment > Hobbies & Creative Arts > Arts & Crafts > Art & Crafting Tools > Craft Measuring & Marking Tools > Textile Art Gauges & Rulers       0.00      0.00      0.00         1\n",
      "                                                                                      Arts & Entertainment > Hobbies & Creative Arts > Arts & Crafts > Art & Crafting Tools > Cutting Mats       1.00      0.33      0.50         3\n",
      "                                                                   Arts & Entertainment > Hobbies & Creative Arts > Arts & Crafts > Art & Crafting Tools > Needles & Hooks > Crochet Hooks       0.00      0.00      0.00         1\n",
      "                                                                            Arts & Entertainment > Hobbies & Creative Arts > Arts & Crafts > Art & Crafting Tools > Textile Craft Machines       0.00      0.00      0.00         1\n",
      "                                                                                                       Arts & Entertainment > Hobbies & Creative Arts > Arts & Crafts > Craft Organization       1.00      0.61      0.76        18\n",
      "                                                                               Arts & Entertainment > Hobbies & Creative Arts > Arts & Crafts > Craft Organization > Sewing Baskets & Kits       0.50      1.00      0.67         2\n",
      "                                                                                                                             Arts & Entertainment > Hobbies & Creative Arts > Collectibles       0.86      0.72      0.79       298\n",
      "                                                                                              Arts & Entertainment > Hobbies & Creative Arts > Collectibles > Collectible Coins & Currency       0.94      0.98      0.96       295\n",
      "                                                                          Arts & Entertainment > Hobbies & Creative Arts > Collectibles > Collectible Coins & Currency > Collectible Coins       1.00      0.40      0.57        15\n",
      "                                                                                                 Arts & Entertainment > Hobbies & Creative Arts > Collectibles > Collectible Trading Cards       1.00      0.94      0.97        17\n",
      "                                                                                  Arts & Entertainment > Hobbies & Creative Arts > Collectibles > Collectible Weapons > Collectible Knives       0.00      0.00      0.00         1\n",
      "                                                                                                              Arts & Entertainment > Hobbies & Creative Arts > Collectibles > Scale Models       0.76      1.00      0.87        13\n",
      "                                                                                                       Arts & Entertainment > Hobbies & Creative Arts > Collectibles > Sports Collectibles       0.50      0.86      0.63        21\n",
      "                                                                              Arts & Entertainment > Hobbies & Creative Arts > Collectibles > Sports Collectibles > Sports Fan Accessories       1.00      0.67      0.80         3\n",
      "                                        Arts & Entertainment > Hobbies & Creative Arts > Collectibles > Sports Collectibles > Sports Fan Accessories > Baseball & Softball Fan Accessories       0.00      0.00      0.00         1\n",
      "                                                 Arts & Entertainment > Hobbies & Creative Arts > Collectibles > Sports Collectibles > Sports Fan Accessories > Basketball Fan Accessories       0.00      0.00      0.00         1\n",
      "                                                                                                        Arts & Entertainment > Hobbies & Creative Arts > Homebrewing & Winemaking Supplies       0.00      0.00      0.00         1\n",
      "                                                                                                                        Arts & Entertainment > Hobbies & Creative Arts > Magic & Novelties       1.00      0.67      0.80         3\n",
      "                                                                                                            Arts & Entertainment > Hobbies & Creative Arts > Model Making > Model Rocketry       0.00      0.00      0.00         1\n",
      "                                                                                                 Arts & Entertainment > Hobbies & Creative Arts > Model Making > Model Trains & Train Sets       0.00      0.00      0.00         1\n",
      "                                                                                                          Arts & Entertainment > Hobbies & Creative Arts > Model Making > Scale Model Kits       1.00      0.75      0.86         4\n",
      "                                                                                               Arts & Entertainment > Hobbies & Creative Arts > Musical Instrument & Orchestra Accessories       1.00      0.50      0.67         2\n",
      "                                 Arts & Entertainment > Hobbies & Creative Arts > Musical Instrument & Orchestra Accessories > Brass Instrument Accessories > Brass Instrument Mouthpieces       0.00      0.00      0.00         1\n",
      "                                                                           Arts & Entertainment > Hobbies & Creative Arts > Musical Instrument & Orchestra Accessories > Electronic Tuners       1.00      0.33      0.50         3\n",
      "                                                                      Arts & Entertainment > Hobbies & Creative Arts > Musical Instrument & Orchestra Accessories > Music Benches & Stools       1.00      0.33      0.50         3\n",
      "                                                                  Arts & Entertainment > Hobbies & Creative Arts > Musical Instrument & Orchestra Accessories > Music Lyres & Flip Folders       0.00      0.00      0.00         1\n",
      "                                                                                Arts & Entertainment > Hobbies & Creative Arts > Musical Instrument & Orchestra Accessories > Music Stands       1.00      0.50      0.67         2\n",
      "                                                    Arts & Entertainment > Hobbies & Creative Arts > Musical Instrument & Orchestra Accessories > Musical Instrument Amplifier Accessories       1.00      1.00      1.00         2\n",
      "            Arts & Entertainment > Hobbies & Creative Arts > Musical Instrument & Orchestra Accessories > Musical Instrument Amplifier Accessories > Musical Instrument Amplifier Cabinets       1.00      0.50      0.67         2\n",
      "               Arts & Entertainment > Hobbies & Creative Arts > Musical Instrument & Orchestra Accessories > Musical Instrument Amplifier Accessories > Musical Instrument Amplifier Knobs       0.00      0.00      0.00         2\n",
      "              Arts & Entertainment > Hobbies & Creative Arts > Musical Instrument & Orchestra Accessories > Musical Instrument Amplifier Accessories > Musical Instrument Amplifier Stands       0.00      0.00      0.00         1\n",
      "                                                               Arts & Entertainment > Hobbies & Creative Arts > Musical Instrument & Orchestra Accessories > Musical Instrument Amplifiers       0.82      0.95      0.88        19\n",
      "                                                                Arts & Entertainment > Hobbies & Creative Arts > Musical Instrument & Orchestra Accessories > Musical Keyboard Accessories       0.00      0.00      0.00         3\n",
      "                                      Arts & Entertainment > Hobbies & Creative Arts > Musical Instrument & Orchestra Accessories > Musical Keyboard Accessories > Musical Keyboard Stands       0.00      0.00      0.00         3\n",
      "                                                                      Arts & Entertainment > Hobbies & Creative Arts > Musical Instrument & Orchestra Accessories > Percussion Accessories       0.95      0.75      0.84        24\n",
      "                                                Arts & Entertainment > Hobbies & Creative Arts > Musical Instrument & Orchestra Accessories > Percussion Accessories > Cymbal & Drum Cases       1.00      1.00      1.00         1\n",
      "                                    Arts & Entertainment > Hobbies & Creative Arts > Musical Instrument & Orchestra Accessories > Percussion Accessories > Drum Kit Hardware > Drum Pedals       1.00      1.00      1.00         1\n",
      "                                              Arts & Entertainment > Hobbies & Creative Arts > Musical Instrument & Orchestra Accessories > Percussion Accessories > Drum Sticks & Brushes       0.90      0.90      0.90        10\n",
      "                                                               Arts & Entertainment > Hobbies & Creative Arts > Musical Instrument & Orchestra Accessories > String Instrument Accessories       0.50      0.17      0.25         6\n",
      "                                          Arts & Entertainment > Hobbies & Creative Arts > Musical Instrument & Orchestra Accessories > String Instrument Accessories > Guitar Accessories       1.00      0.50      0.67         6\n",
      "                Arts & Entertainment > Hobbies & Creative Arts > Musical Instrument & Orchestra Accessories > String Instrument Accessories > Guitar Accessories > Acoustic Guitar Pickups       0.96      0.92      0.94        24\n",
      "                Arts & Entertainment > Hobbies & Creative Arts > Musical Instrument & Orchestra Accessories > String Instrument Accessories > Guitar Accessories > Electric Guitar Pickups       0.00      0.00      0.00         1\n",
      "                Arts & Entertainment > Hobbies & Creative Arts > Musical Instrument & Orchestra Accessories > String Instrument Accessories > Guitar Accessories > Guitar Cases & Gig Bags       0.80      0.80      0.80        10\n",
      "                     Arts & Entertainment > Hobbies & Creative Arts > Musical Instrument & Orchestra Accessories > String Instrument Accessories > Guitar Accessories > Guitar Humidifiers       0.00      0.00      0.00         1\n",
      "                           Arts & Entertainment > Hobbies & Creative Arts > Musical Instrument & Orchestra Accessories > String Instrument Accessories > Guitar Accessories > Guitar Picks       0.83      0.83      0.83         6\n",
      "                          Arts & Entertainment > Hobbies & Creative Arts > Musical Instrument & Orchestra Accessories > String Instrument Accessories > Guitar Accessories > Guitar Stands       1.00      0.88      0.93         8\n",
      "                          Arts & Entertainment > Hobbies & Creative Arts > Musical Instrument & Orchestra Accessories > String Instrument Accessories > Guitar Accessories > Guitar Straps       0.80      0.80      0.80        10\n",
      "                         Arts & Entertainment > Hobbies & Creative Arts > Musical Instrument & Orchestra Accessories > String Instrument Accessories > Guitar Accessories > Guitar Strings       0.83      0.90      0.86        21\n",
      "                           Arts & Entertainment > Hobbies & Creative Arts > Musical Instrument & Orchestra Accessories > String Instrument Accessories > String Instrument Care & Cleaning       0.00      0.00      0.00         1\n",
      "               Arts & Entertainment > Hobbies & Creative Arts > Musical Instrument & Orchestra Accessories > String Instrument Accessories > String Instrument Care & Cleaning > Bow Rosin       0.00      0.00      0.00         1\n",
      "Arts & Entertainment > Hobbies & Creative Arts > Musical Instrument & Orchestra Accessories > String Instrument Accessories > String Instrument Care & Cleaning > String Instrument Polish       0.00      0.00      0.00         2\n",
      "                                                             Arts & Entertainment > Hobbies & Creative Arts > Musical Instrument & Orchestra Accessories > Woodwind Instrument Accessories       0.50      1.00      0.67         1\n",
      "                   Arts & Entertainment > Hobbies & Creative Arts > Musical Instrument & Orchestra Accessories > Woodwind Instrument Accessories > Saxophone Accessories > Saxophone Reeds       0.00      0.00      0.00         1\n",
      "                                                                                     Arts & Entertainment > Hobbies & Creative Arts > Musical Instruments > Brass Instruments > Euphoniums       0.00      0.00      0.00         1\n",
      "                                                                                   Arts & Entertainment > Hobbies & Creative Arts > Musical Instruments > Brass Instruments > French Horns       0.00      0.00      0.00         1\n",
      "                                                                             Arts & Entertainment > Hobbies & Creative Arts > Musical Instruments > Brass Instruments > Trumpets & Cornets       0.00      0.00      0.00         1\n",
      "                                                                                     Arts & Entertainment > Hobbies & Creative Arts > Musical Instruments > Electronic Musical Instruments       0.50      0.50      0.50        10\n",
      "                                                                    Arts & Entertainment > Hobbies & Creative Arts > Musical Instruments > Electronic Musical Instruments > Audio Samplers       0.00      0.00      0.00         1\n",
      "                                                                  Arts & Entertainment > Hobbies & Creative Arts > Musical Instruments > Electronic Musical Instruments > MIDI Controllers       0.67      0.50      0.57         4\n",
      "                                                                 Arts & Entertainment > Hobbies & Creative Arts > Musical Instruments > Electronic Musical Instruments > Musical Keyboards       0.83      0.83      0.83         6\n",
      "                                                                Arts & Entertainment > Hobbies & Creative Arts > Musical Instruments > Electronic Musical Instruments > Sound Synthesizers       0.00      0.00      0.00         1\n",
      "                                                                                                         Arts & Entertainment > Hobbies & Creative Arts > Musical Instruments > Percussion       0.00      0.00      0.00         5\n",
      "                                                                                               Arts & Entertainment > Hobbies & Creative Arts > Musical Instruments > Percussion > Cymbals       1.00      1.00      1.00         1\n",
      "                                                                                             Arts & Entertainment > Hobbies & Creative Arts > Musical Instruments > Percussion > Drum Kits       1.00      1.00      1.00         4\n",
      "                                                                                      Arts & Entertainment > Hobbies & Creative Arts > Musical Instruments > Percussion > Electronic Drums       0.80      0.80      0.80         5\n",
      "                                                                  Arts & Entertainment > Hobbies & Creative Arts > Musical Instruments > Percussion > Hand Percussion > Claves & Castanets       0.00      0.00      0.00         1\n",
      "                                                                 Arts & Entertainment > Hobbies & Creative Arts > Musical Instruments > Percussion > Hand Percussion > Hand Drums > Bongos       0.00      0.00      0.00         1\n",
      "                                                                 Arts & Entertainment > Hobbies & Creative Arts > Musical Instruments > Percussion > Hand Percussion > Hand Drums > Cajons       0.00      0.00      0.00         1\n",
      "                                                                     Arts & Entertainment > Hobbies & Creative Arts > Musical Instruments > Percussion > Hand Percussion > Musical Shakers       0.00      0.00      0.00         1\n",
      "                                                                                                 Arts & Entertainment > Hobbies & Creative Arts > Musical Instruments > String Instruments       0.78      0.78      0.78         9\n",
      "                                                                                        Arts & Entertainment > Hobbies & Creative Arts > Musical Instruments > String Instruments > Cellos       0.00      0.00      0.00         1\n",
      "                                                                                       Arts & Entertainment > Hobbies & Creative Arts > Musical Instruments > String Instruments > Guitars       0.83      1.00      0.91        15\n",
      "                                                                                        Arts & Entertainment > Hobbies & Creative Arts > Musical Instruments > String Instruments > Violas       0.00      0.00      0.00         1\n",
      "                                                                                                          Arts & Entertainment > Hobbies & Creative Arts > Musical Instruments > Woodwinds       1.00      0.50      0.67         4\n",
      "                                                                                             Arts & Entertainment > Hobbies & Creative Arts > Musical Instruments > Woodwinds > Harmonicas       1.00      1.00      1.00         1\n",
      "                                                                                                                                                Arts & Entertainment > Party & Celebration       0.67      0.17      0.27        12\n",
      "                                                                                                                                  Arts & Entertainment > Party & Celebration > Gift Giving       0.64      0.77      0.70        56\n",
      "                                                                                                      Arts & Entertainment > Party & Celebration > Gift Giving > Gift Cards & Certificates       0.94      0.93      0.94       549\n",
      "                                                                                                                  Arts & Entertainment > Party & Celebration > Gift Giving > Gift Wrapping       0.71      0.95      0.81       108\n",
      "                                                                                                      Arts & Entertainment > Party & Celebration > Gift Giving > Gift Wrapping > Gift Bags       0.73      0.67      0.70        12\n",
      "                                                                                             Arts & Entertainment > Party & Celebration > Gift Giving > Gift Wrapping > Gift Tags & Labels       0.00      0.00      0.00         1\n",
      "                                                                                                          Arts & Entertainment > Party & Celebration > Gift Giving > Greeting & Note Cards       0.84      0.90      0.87        91\n",
      "                                                                                                                               Arts & Entertainment > Party & Celebration > Party Supplies       0.57      0.74      0.64        91\n",
      "                                                                                                                    Arts & Entertainment > Party & Celebration > Party Supplies > Balloons       0.73      0.88      0.80        34\n",
      "                                                                                                                     Arts & Entertainment > Party & Celebration > Party Supplies > Banners       1.00      0.80      0.89         5\n",
      "                                                                                                            Arts & Entertainment > Party & Celebration > Party Supplies > Birthday Candles       0.89      1.00      0.94        16\n",
      "                                                                                                        Arts & Entertainment > Party & Celebration > Party Supplies > Cocktail Decorations       0.00      0.00      0.00         1\n",
      "                                                                                                                    Arts & Entertainment > Party & Celebration > Party Supplies > Confetti       1.00      0.33      0.50         3\n",
      "                                                                                                         Arts & Entertainment > Party & Celebration > Party Supplies > Decorative Pom-Poms       0.00      0.00      0.00         1\n",
      "                                                                                                  Arts & Entertainment > Party & Celebration > Party Supplies > Drinking Straws & Stirrers       0.88      0.71      0.79        21\n",
      "                                                                                                              Arts & Entertainment > Party & Celebration > Party Supplies > Envelope Seals       0.00      0.00      0.00         1\n",
      "                                                                                                    Arts & Entertainment > Party & Celebration > Party Supplies > Fireworks & Firecrackers       0.00      0.00      0.00         1\n",
      "                                                                                                Arts & Entertainment > Party & Celebration > Party Supplies > Inflatable Party Decorations       0.80      1.00      0.89         4\n",
      "                                                                                                                 Arts & Entertainment > Party & Celebration > Party Supplies > Invitations       0.67      0.33      0.44         6\n",
      "                                                                                                 Arts & Entertainment > Party & Celebration > Party Supplies > Noisemakers & Party Blowers       1.00      0.75      0.86         8\n",
      "                                                                                                                Arts & Entertainment > Party & Celebration > Party Supplies > Party Favors       0.50      0.38      0.43         8\n",
      "                                                                                                                  Arts & Entertainment > Party & Celebration > Party Supplies > Party Hats       0.83      0.65      0.73        23\n",
      "                                                                                                  Arts & Entertainment > Party & Celebration > Party Supplies > Party Streamers & Curtains       0.70      0.78      0.74        41\n",
      "                                                                                                           Arts & Entertainment > Party & Celebration > Party Supplies > Party Supply Kits       0.73      0.61      0.67        18\n",
      "                                                                                                                     Arts & Entertainment > Party & Celebration > Party Supplies > Piñatas       0.64      0.78      0.70         9\n",
      "                                                                                                          Arts & Entertainment > Party & Celebration > Party Supplies > Place Card Holders       0.00      0.00      0.00         1\n",
      "                                                                                                                   Arts & Entertainment > Party & Celebration > Party Supplies > Sparklers       0.00      0.00      0.00         1\n",
      "                                                                                       Arts & Entertainment > Party & Celebration > Party Supplies > Special Occasion Card Boxes & Holders       0.00      0.00      0.00         2\n",
      "                                                                                                   Arts & Entertainment > Party & Celebration > Special Effects > Special Effects Lighting       1.00      1.00      1.00         6\n",
      "                                                                                                                            Arts & Entertainment > Party & Celebration > Trophies & Awards       1.00      0.75      0.86        12\n",
      "                                                                                                                                                             Baby & Toddler > Baby Bathing       0.00      0.00      0.00         6\n",
      "                                                                                                                                Baby & Toddler > Baby Bathing > Baby Bathtubs & Bath Seats       0.63      0.86      0.73        14\n",
      "                                                                                                                                                           Baby & Toddler > Baby Gift Sets       0.63      0.69      0.66        32\n",
      "                                                                                                                                                              Baby & Toddler > Baby Health       0.00      0.00      0.00         2\n",
      "                                                                                                                                Baby & Toddler > Baby Health > Baby Health & Grooming Kits       0.67      0.33      0.44         6\n",
      "                                                                                                                                           Baby & Toddler > Baby Health > Nasal Aspirators       0.00      0.00      0.00         0\n",
      "                                                                                                                                   Baby & Toddler > Baby Health > Pacifier Clips & Holders       0.60      0.75      0.67        16\n",
      "                                                                                                                                       Baby & Toddler > Baby Health > Pacifiers & Teethers       0.87      0.87      0.87       111\n",
      "                                                                                                                                Baby & Toddler > Baby Safety > Baby & Pet Gate Accessories       0.50      0.17      0.25         6\n",
      "                                                                                                                                           Baby & Toddler > Baby Safety > Baby & Pet Gates       0.67      0.84      0.74        31\n",
      "                                                                                                                                              Baby & Toddler > Baby Safety > Baby Monitors       1.00      1.00      1.00        13\n",
      "                                                                                                                                 Baby & Toddler > Baby Safety > Baby Safety Locks & Guards       0.82      1.00      0.90         9\n",
      "                                                                                                                                          Baby & Toddler > Baby Safety > Baby Safety Rails       0.86      0.60      0.71        10\n",
      "                                                                                                                                           Baby & Toddler > Baby Toys & Activity Equipment       0.65      0.72      0.68        46\n",
      "                                                                                                                           Baby & Toddler > Baby Toys & Activity Equipment > Alphabet Toys       0.00      0.00      0.00         0\n",
      "                                                                                                                      Baby & Toddler > Baby Toys & Activity Equipment > Baby Activity Toys       0.33      0.53      0.41        43\n",
      "                                                                                                                 Baby & Toddler > Baby Toys & Activity Equipment > Baby Bouncers & Rockers       0.00      0.00      0.00         2\n",
      "                                                                                                                            Baby & Toddler > Baby Toys & Activity Equipment > Baby Mobiles       0.65      0.87      0.74        23\n",
      "                                                                                                             Baby & Toddler > Baby Toys & Activity Equipment > Baby Walkers & Entertainers       0.00      0.00      0.00         1\n",
      "                                                                                                                        Baby & Toddler > Baby Toys & Activity Equipment > Play Mats & Gyms       0.70      0.79      0.74        47\n",
      "                                                                                                            Baby & Toddler > Baby Toys & Activity Equipment > Play Mats & Gyms > Play Gyms       0.00      0.00      0.00         1\n",
      "                                                                                                            Baby & Toddler > Baby Toys & Activity Equipment > Play Mats & Gyms > Play Mats       0.67      0.33      0.44         6\n",
      "                                                                                                                              Baby & Toddler > Baby Toys & Activity Equipment > Play Yards       0.91      0.97      0.94        32\n",
      "                                                                                                                        Baby & Toddler > Baby Toys & Activity Equipment > Push & Pull Toys       0.00      0.00      0.00         1\n",
      "                                                                                                                                 Baby & Toddler > Baby Toys & Activity Equipment > Rattles       0.71      0.36      0.48        14\n",
      "                                                                                                                 Baby & Toddler > Baby Toys & Activity Equipment > Sorting & Stacking Toys       0.40      0.44      0.42        18\n",
      "                                                                                                                                                           Baby & Toddler > Baby Transport       1.00      1.00      1.00         3\n",
      "                                                                                                                                Baby & Toddler > Baby Transport > Baby & Toddler Car Seats       0.86      0.98      0.92        45\n",
      "                                                                                                                                           Baby & Toddler > Baby Transport > Baby Carriers       1.00      0.97      0.98        32\n",
      "                                                                                                                                          Baby & Toddler > Baby Transport > Baby Strollers       0.85      0.93      0.89        44\n",
      "                                                                                                                                               Baby & Toddler > Baby Transport Accessories       0.00      0.00      0.00         1\n",
      "                                                                                                         Baby & Toddler > Baby Transport Accessories > Baby & Toddler Car Seat Accessories       0.72      0.62      0.67        21\n",
      "                                                                                                                    Baby & Toddler > Baby Transport Accessories > Baby Carrier Accessories       0.00      0.00      0.00         0\n",
      "                                                                                                                   Baby & Toddler > Baby Transport Accessories > Baby Stroller Accessories       0.80      0.67      0.73        12\n",
      "                                                                                                               Baby & Toddler > Baby Transport Accessories > Baby Transport Liners & Sacks       1.00      1.00      1.00         4\n",
      "                                                                                                           Baby & Toddler > Baby Transport Accessories > Shopping Cart & High Chair Covers       0.60      1.00      0.75         3\n",
      "                                                                                                                                                                Baby & Toddler > Diapering       0.65      0.87      0.74        15\n",
      "                                                                                                                               Baby & Toddler > Diapering > Baby Wipe Dispensers & Warmers       1.00      0.60      0.75         5\n",
      "                                                                                                                                                   Baby & Toddler > Diapering > Baby Wipes       0.00      0.00      0.00         3\n",
      "                                                                                                                                   Baby & Toddler > Diapering > Changing Mat & Tray Covers       0.87      0.97      0.92        34\n",
      "                                                                                                                                        Baby & Toddler > Diapering > Changing Mats & Trays       0.79      0.68      0.73        22\n",
      "                                                                                                                                                Baby & Toddler > Diapering > Diaper Liners       0.80      1.00      0.89         4\n",
      "                                                                                                                                            Baby & Toddler > Diapering > Diaper Organizers       1.00      0.80      0.89        10\n",
      "                                                                                                                                      Baby & Toddler > Diapering > Diaper Pail Accessories       1.00      1.00      1.00         4\n",
      "                                                                                                                                                 Baby & Toddler > Diapering > Diaper Pails       0.67      1.00      0.80         2\n",
      "                                                                                                                                       Baby & Toddler > Diapering > Diaper Rash Treatments       0.73      0.89      0.80         9\n",
      "                                                                                                                                              Baby & Toddler > Diapering > Diaper Wet Bags       0.91      1.00      0.95        10\n",
      "                                                                                                                                                      Baby & Toddler > Diapering > Diapers       0.97      0.99      0.98        91\n",
      "                                                                                                                                                        Baby & Toddler > Nursing & Feeding       0.83      0.87      0.85       138\n",
      "                                                                                                                    Baby & Toddler > Nursing & Feeding > Baby & Toddler Food > Baby Cereal       1.00      0.67      0.80         3\n",
      "                                                                                                                    Baby & Toddler > Nursing & Feeding > Baby & Toddler Food > Baby Drinks       0.00      0.00      0.00         2\n",
      "                                                                                                                      Baby & Toddler > Nursing & Feeding > Baby & Toddler Food > Baby Food       0.93      1.00      0.97        56\n",
      "                                                                                                                   Baby & Toddler > Nursing & Feeding > Baby & Toddler Food > Baby Formula       1.00      0.95      0.97        19\n",
      "                                                                                                                    Baby & Toddler > Nursing & Feeding > Baby & Toddler Food > Baby Snacks       0.91      0.77      0.83        13\n",
      "                                                                                              Baby & Toddler > Nursing & Feeding > Baby & Toddler Food > Toddler Nutrition Drinks & Shakes       0.00      0.00      0.00         0\n",
      "                                                                                                                         Baby & Toddler > Nursing & Feeding > Baby Bottle Nipples & Liners       0.91      0.83      0.87        12\n",
      "                                                                                                   Baby & Toddler > Nursing & Feeding > Baby Bottle Nipples & Liners > Baby Bottle Nipples       0.00      0.00      0.00         1\n",
      "                                                                                                                                         Baby & Toddler > Nursing & Feeding > Baby Bottles       0.86      0.86      0.86        43\n",
      "                                                                                                                                                 Baby & Toddler > Nursing & Feeding > Bibs       0.89      0.40      0.55        20\n",
      "                                                                                                                         Baby & Toddler > Nursing & Feeding > Bottle Warmers & Sterilizers       0.75      0.86      0.80         7\n",
      "                                                                                                                       Baby & Toddler > Nursing & Feeding > Breast Milk Storage Containers       0.75      0.75      0.75         8\n",
      "                                                                                                                              Baby & Toddler > Nursing & Feeding > Breast Pump Accessories       0.91      0.95      0.93        21\n",
      "                                                                                                                                         Baby & Toddler > Nursing & Feeding > Breast Pumps       1.00      0.67      0.80         6\n",
      "                                                                                                                                          Baby & Toddler > Nursing & Feeding > Burp Cloths       1.00      0.67      0.80         3\n",
      "                                                                                                                               Baby & Toddler > Nursing & Feeding > Nursing Pads & Shields       0.67      0.33      0.44         6\n",
      "                                                                                                                                Baby & Toddler > Nursing & Feeding > Nursing Pillow Covers       0.67      0.67      0.67         3\n",
      "                                                                                                                                      Baby & Toddler > Nursing & Feeding > Nursing Pillows       0.90      1.00      0.95         9\n",
      "                                                                                                                                           Baby & Toddler > Nursing & Feeding > Sippy Cups       0.93      0.93      0.93        44\n",
      "                                                                                                                                             Baby & Toddler > Potty Training > Potty Seats       0.86      0.92      0.89        13\n",
      "                                                                                                                                           Baby & Toddler > Swaddling & Receiving Blankets       0.80      0.94      0.86       155\n",
      "                                                                                                                      Baby & Toddler > Swaddling & Receiving Blankets > Receiving Blankets       0.00      0.00      0.00         1\n",
      "                                                                                                                      Baby & Toddler > Swaddling & Receiving Blankets > Swaddling Blankets       0.00      0.00      0.00         7\n",
      "                                                                                                                                       Business & Industrial > Food Service > Bakery Boxes       0.00      0.00      0.00         1\n",
      "                                                                                                                         Business & Industrial > Food Service > Concession Food Containers       0.00      0.00      0.00         2\n",
      "                                                                                                                               Business & Industrial > Food Service > Disposable Serveware       0.00      0.00      0.00         2\n",
      "                                                                                                                               Business & Industrial > Food Service > Disposable Tableware       0.00      0.00      0.00         1\n",
      "                                                                                                            Business & Industrial > Food Service > Disposable Tableware > Disposable Bowls       1.00      0.33      0.50         9\n",
      "                                                                                                             Business & Industrial > Food Service > Disposable Tableware > Disposable Cups       0.68      0.79      0.73        19\n",
      "                                                                                                          Business & Industrial > Food Service > Disposable Tableware > Disposable Cutlery       1.00      0.88      0.93         8\n",
      "                                                                                                           Business & Industrial > Food Service > Disposable Tableware > Disposable Plates       0.68      0.90      0.77        51\n",
      "                                                                                                                                Business & Industrial > Food Service > Take-Out Containers       0.00      0.00      0.00         3\n",
      "                                                                                                     Business & Industrial > Hairdressing & Cosmetology > Hairdressing Capes & Neck Covers       0.00      0.00      0.00         1\n",
      "                                                                                                                          Business & Industrial > Industrial Storage > Industrial Shelving       1.00      0.30      0.46        10\n",
      "                                                                                                                                 Business & Industrial > Law Enforcement > Metal Detectors       1.00      1.00      1.00         1\n",
      "                                                                                                    Business & Industrial > Material Handling > Lifts & Hoists > Hoists, Cranes & Trolleys       0.00      0.00      0.00         1\n",
      "                                                                                                                                     Business & Industrial > Medical > Medical Instruments       0.67      0.29      0.40         7\n",
      "                                                                                                                    Business & Industrial > Medical > Medical Supplies > Disposable Gloves       0.00      0.00      0.00         1\n",
      "                                                                                                                                                            Business & Industrial > Retail       0.00      0.00      0.00         1\n",
      "                                                                                                                      Business & Industrial > Retail > Money Handling > Banknote Verifiers       0.00      0.00      0.00         1\n",
      "                                                                                                  Business & Industrial > Science & Laboratory > Laboratory Equipment > Laboratory Funnels       0.00      0.00      0.00         1\n",
      "                                                                                               Business & Industrial > Science & Laboratory > Laboratory Equipment > Laboratory Hot Plates       1.00      1.00      1.00         1\n",
      "                                                                                                         Business & Industrial > Science & Laboratory > Laboratory Equipment > Microscopes       0.00      0.00      0.00         1\n",
      "                                                                                                                        Business & Industrial > Science & Laboratory > Laboratory Supplies       0.00      0.00      0.00         1\n",
      "                                                                                                                                           Business & Industrial > Signage > Digital Signs       0.00      0.00      0.00         0\n",
      "                                                                                                                                     Business & Industrial > Signage > Retail & Sale Signs       0.00      0.00      0.00         1\n",
      "                                                                                                                                   Business & Industrial > Signage > Sidewalk & Yard Signs       0.00      0.00      0.00         1\n",
      "                                                                                                                                       Business & Industrial > Work Safety Protective Gear       1.00      1.00      1.00         4\n",
      "                                                                                                   Business & Industrial > Work Safety Protective Gear > Gas Mask & Respirator Accessories       0.00      0.00      0.00         2\n",
      "                                                                                                                    Business & Industrial > Work Safety Protective Gear > Protective Masks       0.89      0.96      0.92        25\n",
      "                                                                                                       Business & Industrial > Work Safety Protective Gear > Protective Masks > Dust Masks       1.00      0.50      0.67         2\n",
      "                                                                                                    Business & Industrial > Work Safety Protective Gear > Protective Masks > Medical Masks       0.00      0.00      0.00         0\n",
      "                                                                                                                       Business & Industrial > Work Safety Protective Gear > Safety Gloves       0.75      1.00      0.86         6\n",
      "                                                                                                                    Business & Industrial > Work Safety Protective Gear > Safety Knee Pads       0.00      0.00      0.00         1\n",
      "                                                                                                    Cameras & Optics > Camera & Optic Accessories > Camera Lens Accessories > Lens Filters       0.00      0.00      0.00         1\n",
      "                                                                                                                Cameras & Optics > Camera & Optic Accessories > Camera Parts & Accessories       1.00      0.33      0.50         3\n",
      "                                                                                          Cameras & Optics > Camera & Optic Accessories > Camera Parts & Accessories > Camera Bags & Cases       0.00      0.00      0.00         4\n",
      "                                                                                                  Cameras & Optics > Camera & Optic Accessories > Camera Parts & Accessories > Camera Film       1.00      0.57      0.73         7\n",
      "                                                                                Cameras & Optics > Camera & Optic Accessories > Camera Parts & Accessories > Camera Stabilizers & Supports       1.00      0.33      0.50         3\n",
      "                                                                                          Cameras & Optics > Camera & Optic Accessories > Camera Parts & Accessories > Video Camera Lights       1.00      0.40      0.57         5\n",
      "                                                                                                                        Cameras & Optics > Camera & Optic Accessories > Tripods & Monopods       0.00      0.00      0.00         1\n",
      "                                                                                                                                                                Cameras & Optics > Cameras       1.00      0.33      0.50         3\n",
      "                                                                                                                                              Cameras & Optics > Cameras > Digital Cameras       1.00      0.78      0.88         9\n",
      "                                                                                                                                                 Cameras & Optics > Cameras > Film Cameras       0.55      0.86      0.67         7\n",
      "                                                                                                                                         Cameras & Optics > Cameras > Surveillance Cameras       0.74      0.93      0.82        15\n",
      "                                                                                                                                                Cameras & Optics > Cameras > Trail Cameras       0.67      1.00      0.80         4\n",
      "                                                                                                                                                Cameras & Optics > Cameras > Video Cameras       0.25      0.67      0.36         3\n",
      "                                                                                                                                                      Cameras & Optics > Cameras > Webcams       0.75      0.50      0.60         6\n",
      "                                                                                                                                                    Cameras & Optics > Optics > Binoculars       0.83      0.62      0.71         8\n",
      "                                                                                                                                                    Cameras & Optics > Optics > Monoculars       0.00      0.00      0.00         0\n",
      "                                                                                                                                           Cameras & Optics > Optics > Scopes > Telescopes       1.00      1.00      1.00         1\n",
      "                                                                                                                               Cameras & Optics > Optics > Scopes > Weapon Scopes & Sights       0.89      0.80      0.84        10\n",
      "                                                                                                              Cameras & Optics > Photography > Lighting & Studio > Studio Lights & Flashes       0.00      0.00      0.00         1\n",
      "                                                                                                                                  Electronics > Arcade Equipment > Basketball Arcade Games       1.00      1.00      1.00         1\n",
      "                                                                                                                                         Electronics > Arcade Equipment > Pinball Machines       0.00      0.00      0.00         1\n",
      "                                                                                                                                                                       Electronics > Audio       0.00      0.00      0.00         1\n",
      "                                                                                                                                                   Electronics > Audio > Audio Accessories       0.67      0.22      0.33         9\n",
      "                                                                                                              Electronics > Audio > Audio Accessories > Audio & Video Receiver Accessories       0.00      0.00      0.00         1\n",
      "                                                                                                                 Electronics > Audio > Audio Accessories > Headphone & Headset Accessories       0.95      0.91      0.93        43\n",
      "                                                                                                                          Electronics > Audio > Audio Accessories > Microphone Accessories       0.00      0.00      0.00         2\n",
      "                                                                                                                               Electronics > Audio > Audio Accessories > Microphone Stands       1.00      1.00      1.00         1\n",
      "                                                                                                                     Electronics > Audio > Audio Accessories > Satellite Radio Accessories       0.00      0.00      0.00         1\n",
      "                                                                                                                             Electronics > Audio > Audio Accessories > Speaker Accessories       0.00      0.00      0.00         1\n",
      "                                                                                                   Electronics > Audio > Audio Accessories > Speaker Accessories > Speaker Stands & Mounts       0.00      0.00      0.00         2\n",
      "                                                                                                                                                    Electronics > Audio > Audio Components       0.50      0.25      0.33         4\n",
      "                                                                                                                          Electronics > Audio > Audio Components > Audio & Video Receivers       0.00      0.00      0.00         2\n",
      "                                                                                                                                     Electronics > Audio > Audio Components > Audio Mixers       1.00      1.00      1.00         1\n",
      "                                                                                                                            Electronics > Audio > Audio Components > Headphones & Headsets       0.79      1.00      0.88        86\n",
      "                                                                                                               Electronics > Audio > Audio Components > Headphones & Headsets > Headphones       1.00      0.15      0.27        13\n",
      "                                                                                                                 Electronics > Audio > Audio Components > Headphones & Headsets > Headsets       1.00      0.60      0.75         5\n",
      "                                                                                                                                      Electronics > Audio > Audio Components > Microphones       0.44      1.00      0.61         7\n",
      "                                                                                                                                         Electronics > Audio > Audio Components > Speakers       0.67      0.97      0.80        70\n",
      "                                                                                                                         Electronics > Audio > Audio Components > Studio Recording Bundles       0.00      0.00      0.00         1\n",
      "                                                                                                                                           Electronics > Audio > Audio Players & Recorders       0.50      0.50      0.50         4\n",
      "                                                                                                            Electronics > Audio > Audio Players & Recorders > Cassette Players & Recorders       0.00      0.00      0.00         1\n",
      "                                                                                                                    Electronics > Audio > Audio Players & Recorders > Home Theater Systems       0.00      0.00      0.00         2\n",
      "                                                                                                                         Electronics > Audio > Audio Players & Recorders > Karaoke Systems       1.00      0.17      0.29         6\n",
      "                                                                                                                             Electronics > Audio > Audio Players & Recorders > MP3 Players       1.00      1.00      1.00         1\n",
      "                                                                                                                                  Electronics > Audio > Audio Players & Recorders > Radios       0.75      0.75      0.75         4\n",
      "                                                                                                                          Electronics > Audio > Audio Players & Recorders > Stereo Systems       0.00      0.00      0.00         1\n",
      "                                                                                                             Electronics > Audio > Audio Players & Recorders > Turntables & Record Players       1.00      0.82      0.90        11\n",
      "                                                                                                                         Electronics > Audio > Audio Players & Recorders > Voice Recorders       0.00      0.00      0.00         1\n",
      "                                                                                                                                                Electronics > Audio > DJ & Specialty Audio       0.50      0.50      0.50         2\n",
      "                                                                                                                                              Electronics > Audio > Public Address Systems       0.00      0.00      0.00         2\n",
      "                                                                                                                                                     Electronics > Audio > Stage Equipment       1.00      0.50      0.67         2\n",
      "                                                                                                                             Electronics > Audio > Stage Equipment > Wireless Transmitters       1.00      0.67      0.80         6\n",
      "                                                                                                                                       Electronics > Communications > Communication Radios       0.00      0.00      0.00         1\n",
      "                                                                                                                      Electronics > Communications > Communication Radios > Two-Way Radios       1.00      0.33      0.50         6\n",
      "                                                                                                                                                  Electronics > Communications > Intercoms       0.80      0.80      0.80         5\n",
      "                                                                                                                                                  Electronics > Communications > Telephony       1.00      0.83      0.91         6\n",
      "                                                                                                                       Electronics > Communications > Telephony > Mobile Phone Accessories       0.88      0.95      0.92       194\n",
      "                                                                                                  Electronics > Communications > Telephony > Mobile Phone Accessories > Mobile Phone Cases       0.95      0.98      0.96        90\n",
      "                                                                                                 Electronics > Communications > Telephony > Mobile Phone Accessories > Mobile Phone Stands       0.00      0.00      0.00         1\n",
      "                                                                                                                                  Electronics > Communications > Telephony > Mobile Phones       0.86      0.97      0.91        38\n",
      "                                                                                                         Electronics > Communications > Telephony > Mobile Phones > Contract Mobile Phones       1.00      0.50      0.67         8\n",
      "                                                                                                                                                                   Electronics > Computers       0.89      0.91      0.90       126\n",
      "                                                                                                                                               Electronics > Computers > Desktop Computers       0.97      0.86      0.91        36\n",
      "                                                                                                                               Electronics > Computers > Handheld Devices > E-Book Readers       0.00      0.00      0.00         1\n",
      "                                                                                                                                                         Electronics > Computers > Laptops       0.88      0.92      0.90       157\n",
      "                                                                                                                                                Electronics > Computers > Tablet Computers       0.91      0.98      0.94        51\n",
      "                                                                                                                                                     Electronics > Electronics Accessories       0.52      0.33      0.41        45\n",
      "                                                                                                Electronics > Electronics Accessories > Adapters > Audio & Video Cable Adapters & Couplers       0.80      1.00      0.89         4\n",
      "                                                                                                                                          Electronics > Electronics Accessories > Antennas       1.00      0.20      0.33         5\n",
      "                                                                                                                Electronics > Electronics Accessories > Audio & Video Splitters & Switches       0.00      0.00      0.00         3\n",
      "                                                                                                                    Electronics > Electronics Accessories > Cable Management > Cable Clips       0.75      0.75      0.75         4\n",
      "                                                                                                           Electronics > Electronics Accessories > Cable Management > Wire & Cable Sleeves       0.00      0.00      0.00         1\n",
      "                                                                                                              Electronics > Electronics Accessories > Cable Management > Wire & Cable Ties       0.67      1.00      0.80         2\n",
      "                                                                                                                                            Electronics > Electronics Accessories > Cables       0.90      1.00      0.95        19\n",
      "                                                                                                                     Electronics > Electronics Accessories > Cables > Audio & Video Cables       0.59      0.84      0.70        19\n",
      "                                                                                                                           Electronics > Electronics Accessories > Cables > Network Cables       1.00      0.50      0.67         2\n",
      "                                                                                                           Electronics > Electronics Accessories > Cables > Storage & Data Transfer Cables       0.80      0.89      0.84        27\n",
      "                                                                                                                    Electronics > Electronics Accessories > Cables > System & Power Cables       1.00      0.74      0.85        19\n",
      "                                                                                                                         Electronics > Electronics Accessories > Cables > Telephone Cables       0.00      0.00      0.00         2\n",
      "                                                                                                                              Electronics > Electronics Accessories > Computer Accessories       0.68      0.75      0.71        53\n",
      "                                                                                                    Electronics > Electronics Accessories > Computer Accessories > Computer Accessory Sets       1.00      0.33      0.50         3\n",
      "                                                                                                    Electronics > Electronics Accessories > Computer Accessories > Computer Covers & Skins       0.88      0.92      0.90        24\n",
      "                                                                                               Electronics > Electronics Accessories > Computer Accessories > Keyboard & Mouse Wrist Rests       1.00      0.60      0.75         5\n",
      "                                                                                                 Electronics > Electronics Accessories > Computer Accessories > Keyboard Trays & Platforms       0.00      0.00      0.00         1\n",
      "                                                                                                    Electronics > Electronics Accessories > Computer Accessories > Laptop Docking Stations       0.00      0.00      0.00         1\n",
      "                                                                                                                 Electronics > Electronics Accessories > Computer Accessories > Mouse Pads       0.88      0.93      0.90        15\n",
      "                                                                                                                Electronics > Electronics Accessories > Computer Accessories > Stylus Pens       0.75      1.00      0.86         3\n",
      "                                                                                                                               Electronics > Electronics Accessories > Computer Components       0.00      0.00      0.00         1\n",
      "                                                                                                     Electronics > Electronics Accessories > Computer Components > Computer Power Supplies       1.00      0.67      0.80         6\n",
      "                                                                                                         Electronics > Electronics Accessories > Computer Components > Computer Processors       1.00      1.00      1.00         1\n",
      "                                                                                               Electronics > Electronics Accessories > Computer Components > Computer System Cooling Parts       1.00      1.00      1.00        17\n",
      "                                                                                             Electronics > Electronics Accessories > Computer Components > Desktop Computer & Server Cases       0.71      0.56      0.62         9\n",
      "                                                                  Electronics > Electronics Accessories > Computer Components > I/O Cards & Adapters > Computer Interface Cards & Adapters       0.00      0.00      0.00         1\n",
      "                                                                                                    Electronics > Electronics Accessories > Computer Components > Input Device Accessories       0.75      0.60      0.67         5\n",
      "                                                                                                               Electronics > Electronics Accessories > Computer Components > Input Devices       0.66      0.85      0.74        41\n",
      "                                                                              Electronics > Electronics Accessories > Computer Components > Input Devices > Game Controllers > Gaming Pads       1.00      1.00      1.00         1\n",
      "                                                                                            Electronics > Electronics Accessories > Computer Components > Input Devices > Graphics Tablets       0.00      0.00      0.00         1\n",
      "                                                                                                   Electronics > Electronics Accessories > Computer Components > Input Devices > Keyboards       0.86      0.86      0.86         7\n",
      "                                                                                           Electronics > Electronics Accessories > Computer Components > Input Devices > Mice & Trackballs       1.00      0.71      0.83         7\n",
      "                                                                                                             Electronics > Electronics Accessories > Computer Components > Storage Devices       1.00      1.00      1.00        12\n",
      "                                                                                               Electronics > Electronics Accessories > Computer Components > Storage Devices > Hard Drives       1.00      1.00      1.00         4\n",
      "                                                                                                       Electronics > Electronics Accessories > Computer Components > Tablet Computer Parts       0.00      0.00      0.00         4\n",
      "                                                                                                         Electronics > Electronics Accessories > Computer Components > USB & FireWire Hubs       0.00      0.00      0.00         1\n",
      "                                                                                                                              Electronics > Electronics Accessories > Electronics Cleaners       0.00      0.00      0.00         2\n",
      "                                                                                                   Electronics > Electronics Accessories > Electronics Films & Shields > Screen Protectors       0.96      0.85      0.90        27\n",
      "                                                                                                                                            Electronics > Electronics Accessories > Memory       0.00      0.00      0.00         2\n",
      "                                                                                                                             Electronics > Electronics Accessories > Memory > Flash Memory       1.00      1.00      1.00         7\n",
      "                                                                                                                                      Electronics > Electronics Accessories > Memory > RAM       1.00      1.00      1.00        27\n",
      "                                                                                                          Electronics > Electronics Accessories > Mobile Phone & Tablet Tripods & Monopods       0.00      0.00      0.00         1\n",
      "                                                                                                                                             Electronics > Electronics Accessories > Power       1.00      0.14      0.25         7\n",
      "                                                                                                                                 Electronics > Electronics Accessories > Power > Batteries       0.63      0.92      0.75        24\n",
      "                                                                                                     Electronics > Electronics Accessories > Power > Batteries > General Purpose Batteries       1.00      0.33      0.50         6\n",
      "                                                                                                              Electronics > Electronics Accessories > Power > Batteries > Laptop Batteries       0.94      0.94      0.94        31\n",
      "                                                                                                                 Electronics > Electronics Accessories > Power > Power Adapters & Chargers       0.70      0.92      0.79        71\n",
      "                                                                                                          Electronics > Electronics Accessories > Power > Power Strips & Surge Suppressors       0.72      1.00      0.84        13\n",
      "                                                                                                                   Electronics > Electronics Accessories > Power > Power Supply Enclosures       0.00      0.00      0.00         1\n",
      "                                                                                                                                       Electronics > Electronics Accessories > Power > UPS       0.00      0.00      0.00         1\n",
      "                                                                                                                                   Electronics > Electronics Accessories > Remote Controls       1.00      0.50      0.67         2\n",
      "                                                                                                                                                      Electronics > GPS Navigation Systems       0.00      0.00      0.00         3\n",
      "                                                                                                                                                        Electronics > GPS Tracking Devices       1.00      1.00      1.00         3\n",
      "                                                                                                                                           Electronics > Marine Electronics > Fish Finders       0.00      0.00      0.00         1\n",
      "                                                                                                                             Electronics > Marine Electronics > Marine Chartplotters & GPS       0.00      0.00      0.00         0\n",
      "                                                                                                                                        Electronics > Marine Electronics > Marine Speakers       0.00      0.00      0.00         2\n",
      "                                                                                                                                                                  Electronics > Networking       1.00      0.67      0.80         3\n",
      "                                                                                                                                              Electronics > Networking > Bridges & Routers       1.00      0.50      0.67         8\n",
      "                                                                                                                           Electronics > Networking > Bridges & Routers > Wireless Routers       0.00      0.00      0.00         0\n",
      "                                                                                                                                                         Electronics > Networking > Modems       0.50      1.00      0.67         1\n",
      "                                                                                                                                                     Electronics > Print, Copy, Scan & Fax       0.00      0.00      0.00         1\n",
      "                                                                                   Electronics > Print, Copy, Scan & Fax > Printer, Copier & Fax Machine Accessories > Printer Consumables       0.96      1.00      0.98        26\n",
      "                                                                 Electronics > Print, Copy, Scan & Fax > Printer, Copier & Fax Machine Accessories > Printer Consumables > Printer Ribbons       1.00      1.00      1.00         2\n",
      "                                                       Electronics > Print, Copy, Scan & Fax > Printer, Copier & Fax Machine Accessories > Printer Consumables > Toner & Inkjet Cartridges       0.99      0.99      0.99       142\n",
      "                                                                                        Electronics > Print, Copy, Scan & Fax > Printer, Copier & Fax Machine Accessories > Printer Stands       1.00      0.33      0.50         3\n",
      "                                                                                                                  Electronics > Print, Copy, Scan & Fax > Printers, Copiers & Fax Machines       1.00      1.00      1.00        12\n",
      "                                                                                                                                          Electronics > Print, Copy, Scan & Fax > Scanners       1.00      1.00      1.00         1\n",
      "                                                                                                                                                   Electronics > Video > Computer Monitors       0.87      1.00      0.93        13\n",
      "                                                                                                                                                          Electronics > Video > Projectors       0.00      0.00      0.00         1\n",
      "                                                                                                                                  Electronics > Video > Projectors > Multimedia Projectors       1.00      0.33      0.50         3\n",
      "                                                                                                                                       Electronics > Video > Projectors > Slide Projectors       0.00      0.00      0.00         2\n",
      "                                                                                                                                                         Electronics > Video > Televisions       0.97      0.95      0.96        39\n",
      "                                                                                                                    Electronics > Video > Video Accessories > Computer Monitor Accessories       0.00      0.00      0.00         1\n",
      "                                                                                                                           Electronics > Video > Video Accessories > Projector Accessories       0.00      0.00      0.00         0\n",
      "                                                                                                                  Electronics > Video > Video Accessories > Television Parts & Accessories       0.65      0.92      0.76        12\n",
      "                                                                                            Electronics > Video > Video Accessories > Television Parts & Accessories > TV & Monitor Mounts       0.00      0.00      0.00         1\n",
      "                                                                                                                   Electronics > Video > Video Players & Recorders > DVD & Blu-ray Players       1.00      0.50      0.67         4\n",
      "                                                                                                                 Electronics > Video > Video Players & Recorders > Digital Video Recorders       0.00      0.00      0.00         1\n",
      "                                                                                                          Electronics > Video > Video Players & Recorders > Streaming & Home Media Players       1.00      0.71      0.83         7\n",
      "                                                                                                                                              Electronics > Video Game Console Accessories       0.75      0.75      0.75         4\n",
      "                                                                                                              Electronics > Video Game Console Accessories > Home Game Console Accessories       1.00      0.55      0.71        11\n",
      "                                                                                                          Electronics > Video Game Console Accessories > Portable Game Console Accessories       0.78      1.00      0.88         7\n",
      "                                                                                                                                                         Electronics > Video Game Consoles       1.00      0.67      0.80        12\n",
      "                                                                                                                                                     Food, Beverages & Tobacco > Beverages       1.00      0.60      0.75        10\n",
      "                                                                                                                               Food, Beverages & Tobacco > Beverages > Alcoholic Beverages       1.00      0.50      0.67         8\n",
      "                                                                                                                        Food, Beverages & Tobacco > Beverages > Alcoholic Beverages > Beer       1.00      1.00      1.00        37\n",
      "                                                                                                              Food, Beverages & Tobacco > Beverages > Alcoholic Beverages > Cocktail Mixes       1.00      1.00      1.00         6\n",
      "                                                                                                Food, Beverages & Tobacco > Beverages > Alcoholic Beverages > Flavored Alcoholic Beverages       0.96      0.81      0.88        27\n",
      "                                                                                                                  Food, Beverages & Tobacco > Beverages > Alcoholic Beverages > Hard Cider       1.00      1.00      1.00         2\n",
      "                                                                                                            Food, Beverages & Tobacco > Beverages > Alcoholic Beverages > Liquor & Spirits       0.93      0.98      0.95        52\n",
      "                                                                                                 Food, Beverages & Tobacco > Beverages > Alcoholic Beverages > Liquor & Spirits > Liqueurs       1.00      0.33      0.50         3\n",
      "                                                                                                      Food, Beverages & Tobacco > Beverages > Alcoholic Beverages > Liquor & Spirits > Rum       0.00      0.00      0.00         1\n",
      "                                                                                                                        Food, Beverages & Tobacco > Beverages > Alcoholic Beverages > Wine       0.95      0.99      0.97       118\n",
      "                                                                                                                                        Food, Beverages & Tobacco > Beverages > Buttermilk       1.00      0.33      0.50         6\n",
      "                                                                                                                                            Food, Beverages & Tobacco > Beverages > Coffee       0.98      0.99      0.99       149\n",
      "                                                                                                                             Food, Beverages & Tobacco > Beverages > Fruit Flavored Drinks       0.80      0.44      0.57         9\n",
      "                                                                                                                                     Food, Beverages & Tobacco > Beverages > Hot Chocolate       0.00      0.00      0.00         2\n",
      "                                                                                                                                             Food, Beverages & Tobacco > Beverages > Juice       0.77      0.89      0.83        38\n",
      "                                                                                                                                              Food, Beverages & Tobacco > Beverages > Milk       0.87      0.98      0.92        49\n",
      "                                                                                                                                    Food, Beverages & Tobacco > Beverages > Non-Dairy Milk       0.95      0.86      0.90        22\n",
      "                                                                                                                           Food, Beverages & Tobacco > Beverages > Powdered Beverage Mixes       0.88      0.64      0.74        11\n",
      "                                                                                                                                              Food, Beverages & Tobacco > Beverages > Soda       1.00      0.95      0.98        22\n",
      "                                                                                                                            Food, Beverages & Tobacco > Beverages > Sports & Energy Drinks       0.89      0.92      0.91        64\n",
      "                                                                                                                                   Food, Beverages & Tobacco > Beverages > Tea & Infusions       0.84      0.91      0.87        68\n",
      "                                                                                                                                             Food, Beverages & Tobacco > Beverages > Water       0.92      1.00      0.96        44\n",
      "                                                                                                                                                    Food, Beverages & Tobacco > Food Items       0.83      0.62      0.71        32\n",
      "                                                                                                                                           Food, Beverages & Tobacco > Food Items > Bakery       0.67      1.00      0.80         2\n",
      "                                                                                                                                  Food, Beverages & Tobacco > Food Items > Bakery > Bagels       1.00      0.80      0.89        10\n",
      "                                                                                                                           Food, Beverages & Tobacco > Food Items > Bakery > Breads & Buns       0.95      0.95      0.95        81\n",
      "                                                                                                                    Food, Beverages & Tobacco > Food Items > Bakery > Cakes & Dessert Bars       1.00      0.61      0.76        18\n",
      "                                                                                                                                 Food, Beverages & Tobacco > Food Items > Bakery > Cookies       0.82      0.90      0.86        69\n",
      "                                                                                                                                Food, Beverages & Tobacco > Food Items > Bakery > Cupcakes       1.00      0.60      0.75         5\n",
      "                                                                                                                                  Food, Beverages & Tobacco > Food Items > Bakery > Donuts       1.00      0.67      0.80         3\n",
      "                                                                                                                         Food, Beverages & Tobacco > Food Items > Bakery > Ice Cream Cones       1.00      1.00      1.00         1\n",
      "                                                                                                                                 Food, Beverages & Tobacco > Food Items > Bakery > Muffins       0.50      0.50      0.50         2\n",
      "                                                                                                                       Food, Beverages & Tobacco > Food Items > Bakery > Pastries & Scones       0.82      0.90      0.86        10\n",
      "                                                                                                                  Food, Beverages & Tobacco > Food Items > Bakery > Taco Shells & Tostadas       0.83      0.83      0.83         6\n",
      "                                                                                                                       Food, Beverages & Tobacco > Food Items > Bakery > Tortillas & Wraps       0.90      0.90      0.90        21\n",
      "                                                                                                                Food, Beverages & Tobacco > Food Items > Candied & Chocolate Covered Fruit       1.00      1.00      1.00         6\n",
      "                                                                                                                                Food, Beverages & Tobacco > Food Items > Candy & Chocolate       0.88      0.91      0.89       129\n",
      "                                                                                                                              Food, Beverages & Tobacco > Food Items > Condiments & Sauces       1.00      0.33      0.50         3\n",
      "                                                                                                                Food, Beverages & Tobacco > Food Items > Condiments & Sauces > Curry Sauce       0.50      0.50      0.50         2\n",
      "                                                                                                           Food, Beverages & Tobacco > Food Items > Condiments & Sauces > Dessert Toppings       1.00      1.00      1.00         6\n",
      "                                                                                                                      Food, Beverages & Tobacco > Food Items > Condiments & Sauces > Gravy       1.00      0.80      0.89         5\n",
      "                                                                                                                      Food, Beverages & Tobacco > Food Items > Condiments & Sauces > Honey       1.00      0.80      0.89         5\n",
      "                                                                                                                  Food, Beverages & Tobacco > Food Items > Condiments & Sauces > Hot Sauce       0.65      0.83      0.73        18\n",
      "                                                                                                                    Food, Beverages & Tobacco > Food Items > Condiments & Sauces > Ketchup       1.00      1.00      1.00         3\n",
      "                                                                                                Food, Beverages & Tobacco > Food Items > Condiments & Sauces > Marinades & Grilling Sauces       0.75      0.80      0.77        15\n",
      "                                                                                                                 Food, Beverages & Tobacco > Food Items > Condiments & Sauces > Mayonnaise       0.94      0.94      0.94        16\n",
      "                                                                                                                    Food, Beverages & Tobacco > Food Items > Condiments & Sauces > Mustard       0.67      1.00      0.80         2\n",
      "                                                                                                            Food, Beverages & Tobacco > Food Items > Condiments & Sauces > Olives & Capers       1.00      1.00      1.00        11\n",
      "                                                                                                                Food, Beverages & Tobacco > Food Items > Condiments & Sauces > Pasta Sauce       0.78      0.82      0.80        17\n",
      "                                                                                                Food, Beverages & Tobacco > Food Items > Condiments & Sauces > Pickled Fruits & Vegetables       0.88      0.88      0.88        16\n",
      "                                                                                                                Food, Beverages & Tobacco > Food Items > Condiments & Sauces > Pizza Sauce       0.00      0.00      0.00         1\n",
      "                                                                                                           Food, Beverages & Tobacco > Food Items > Condiments & Sauces > Relish & Chutney       0.00      0.00      0.00         3\n",
      "                                                                                                             Food, Beverages & Tobacco > Food Items > Condiments & Sauces > Salad Dressing       0.89      0.92      0.91        26\n",
      "                                                                                                                Food, Beverages & Tobacco > Food Items > Condiments & Sauces > Satay Sauce       0.00      0.00      0.00         1\n",
      "                                                                                                                  Food, Beverages & Tobacco > Food Items > Condiments & Sauces > Soy Sauce       1.00      1.00      1.00         2\n",
      "                                                                                                      Food, Beverages & Tobacco > Food Items > Condiments & Sauces > Sweet and Sour Sauces       0.00      0.00      0.00         3\n",
      "                                                                                                                      Food, Beverages & Tobacco > Food Items > Condiments & Sauces > Syrup       0.95      0.90      0.92        20\n",
      "                                                                                                       Food, Beverages & Tobacco > Food Items > Condiments & Sauces > White & Cream Sauces       0.00      0.00      0.00         2\n",
      "                                                                                                       Food, Beverages & Tobacco > Food Items > Condiments & Sauces > Worcestershire Sauce       1.00      1.00      1.00         1\n",
      "                                                                                                                     Food, Beverages & Tobacco > Food Items > Cooking & Baking Ingredients       1.00      0.11      0.20         9\n",
      "                                                                                                      Food, Beverages & Tobacco > Food Items > Cooking & Baking Ingredients > Baking Chips       1.00      0.75      0.86         4\n",
      "                                                                                                  Food, Beverages & Tobacco > Food Items > Cooking & Baking Ingredients > Baking Chocolate       1.00      0.75      0.86         4\n",
      "                                                                                         Food, Beverages & Tobacco > Food Items > Cooking & Baking Ingredients > Baking Flavors & Extracts       0.50      0.33      0.40         3\n",
      "                                                                                                      Food, Beverages & Tobacco > Food Items > Cooking & Baking Ingredients > Baking Mixes       0.72      0.86      0.78        21\n",
      "                                                                                                     Food, Beverages & Tobacco > Food Items > Cooking & Baking Ingredients > Baking Powder       0.00      0.00      0.00         1\n",
      "                                                                                                       Food, Beverages & Tobacco > Food Items > Cooking & Baking Ingredients > Baking Soda       0.00      0.00      0.00         2\n",
      "                                                                                            Food, Beverages & Tobacco > Food Items > Cooking & Baking Ingredients > Batter & Coating Mixes       0.00      0.00      0.00         1\n",
      "                                                                                                      Food, Beverages & Tobacco > Food Items > Cooking & Baking Ingredients > Cooking Oils       0.86      0.80      0.83        15\n",
      "                                                                                                      Food, Beverages & Tobacco > Food Items > Cooking & Baking Ingredients > Cooking Wine       0.00      0.00      0.00         2\n",
      "                                                                                                             Food, Beverages & Tobacco > Food Items > Cooking & Baking Ingredients > Dough       0.83      0.62      0.71         8\n",
      "                                                                                                             Food, Beverages & Tobacco > Food Items > Cooking & Baking Ingredients > Flour       1.00      0.67      0.80         6\n",
      "                                                                                                     Food, Beverages & Tobacco > Food Items > Cooking & Baking Ingredients > Food Coloring       0.00      0.00      0.00         1\n",
      "                                                                                                  Food, Beverages & Tobacco > Food Items > Cooking & Baking Ingredients > Frosting & Icing       1.00      0.83      0.91         6\n",
      "                                                                                                      Food, Beverages & Tobacco > Food Items > Cooking & Baking Ingredients > Marshmallows       1.00      1.00      1.00         1\n",
      "                                                                                             Food, Beverages & Tobacco > Food Items > Cooking & Baking Ingredients > Pie & Pastry Fillings       1.00      1.00      1.00         2\n",
      "                                                                                                Food, Beverages & Tobacco > Food Items > Cooking & Baking Ingredients > Sugar & Sweeteners       1.00      1.00      1.00         9\n",
      "                                                                                                           Food, Beverages & Tobacco > Food Items > Cooking & Baking Ingredients > Vinegar       1.00      1.00      1.00         2\n",
      "                                                                                            Food, Beverages & Tobacco > Food Items > Cooking & Baking Ingredients > Waffle & Pancake Mixes       0.90      0.82      0.86        11\n",
      "                                                                                                              Food, Beverages & Tobacco > Food Items > Dairy Products > Butter & Margarine       0.89      0.89      0.89         9\n",
      "                                                                                                                          Food, Beverages & Tobacco > Food Items > Dairy Products > Cheese       0.84      0.96      0.90        56\n",
      "                                                                                                                  Food, Beverages & Tobacco > Food Items > Dairy Products > Coffee Creamer       0.86      0.92      0.89        13\n",
      "                                                                                                                  Food, Beverages & Tobacco > Food Items > Dairy Products > Cottage Cheese       1.00      1.00      1.00         5\n",
      "                                                                                                                           Food, Beverages & Tobacco > Food Items > Dairy Products > Cream       1.00      0.80      0.89         5\n",
      "                                                                                                                      Food, Beverages & Tobacco > Food Items > Dairy Products > Sour Cream       0.50      0.33      0.40         3\n",
      "                                                                                                                   Food, Beverages & Tobacco > Food Items > Dairy Products > Whipped Cream       1.00      1.00      1.00         1\n",
      "                                                                                                                          Food, Beverages & Tobacco > Food Items > Dairy Products > Yogurt       0.98      1.00      0.99        46\n",
      "                                                                                                                                   Food, Beverages & Tobacco > Food Items > Dips & Spreads       1.00      0.50      0.67         2\n",
      "                                                                                                           Food, Beverages & Tobacco > Food Items > Dips & Spreads > Cheese Dips & Spreads       0.00      0.00      0.00         6\n",
      "                                                                                                                    Food, Beverages & Tobacco > Food Items > Dips & Spreads > Cream Cheese       1.00      0.83      0.91         6\n",
      "                                                                                                                       Food, Beverages & Tobacco > Food Items > Dips & Spreads > Guacamole       1.00      0.33      0.50         3\n",
      "                                                                                                                          Food, Beverages & Tobacco > Food Items > Dips & Spreads > Hummus       1.00      1.00      1.00         3\n",
      "                                                                                                                  Food, Beverages & Tobacco > Food Items > Dips & Spreads > Jams & Jellies       0.88      0.70      0.78        10\n",
      "                                                                                                                     Food, Beverages & Tobacco > Food Items > Dips & Spreads > Nut Butters       1.00      0.83      0.91        18\n",
      "                                                                                                                           Food, Beverages & Tobacco > Food Items > Dips & Spreads > Salsa       0.94      0.94      0.94        17\n",
      "                                                                                                                   Food, Beverages & Tobacco > Food Items > Dips & Spreads > Vegetable Dip       1.00      0.43      0.60         7\n",
      "                                                                                                                                Food, Beverages & Tobacco > Food Items > Food Gift Baskets       0.43      0.22      0.29        27\n",
      "                                                                                          Food, Beverages & Tobacco > Food Items > Frozen Desserts & Novelties > Ice Cream & Frozen Yogurt       0.91      0.97      0.94        66\n",
      "                                                                                                Food, Beverages & Tobacco > Food Items > Frozen Desserts & Novelties > Ice Cream Novelties       0.92      0.92      0.92        24\n",
      "                                                                                                           Food, Beverages & Tobacco > Food Items > Frozen Desserts & Novelties > Ice Pops       0.92      0.79      0.85        14\n",
      "                                                                                                     Food, Beverages & Tobacco > Food Items > Fruits & Vegetables > Canned & Jarred Fruits       1.00      1.00      1.00        12\n",
      "                                                                                                 Food, Beverages & Tobacco > Food Items > Fruits & Vegetables > Canned & Jarred Vegetables       0.75      0.88      0.81        17\n",
      "                                                                                                    Food, Beverages & Tobacco > Food Items > Fruits & Vegetables > Canned & Prepared Beans       0.76      0.96      0.85        23\n",
      "                                                                                                               Food, Beverages & Tobacco > Food Items > Fruits & Vegetables > Dried Fruits       0.87      0.65      0.74        20\n",
      "                                                                                                           Food, Beverages & Tobacco > Food Items > Fruits & Vegetables > Dried Vegetables       0.00      0.00      0.00         3\n",
      "                                                                                                                  Food, Beverages & Tobacco > Food Items > Fruits & Vegetables > Dry Beans       1.00      0.11      0.20         9\n",
      "                                                                                                      Food, Beverages & Tobacco > Food Items > Fruits & Vegetables > Fresh & Frozen Fruits       0.92      0.80      0.86        15\n",
      "                                                                                                  Food, Beverages & Tobacco > Food Items > Fruits & Vegetables > Fresh & Frozen Vegetables       0.81      0.79      0.80        33\n",
      "                                                                                                               Food, Beverages & Tobacco > Food Items > Fruits & Vegetables > Fruit Sauces       0.87      0.93      0.90        14\n",
      "                                                                                                         Food, Beverages & Tobacco > Food Items > Grains, Rice & Cereal > Cereal & Granola       0.84      0.89      0.86        35\n",
      "                                                                                                                 Food, Beverages & Tobacco > Food Items > Grains, Rice & Cereal > Couscous       0.00      0.00      0.00         1\n",
      "                                                                                                 Food, Beverages & Tobacco > Food Items > Grains, Rice & Cereal > Oats, Grits & Hot Cereal       1.00      0.86      0.92        14\n",
      "                                                                                                                   Food, Beverages & Tobacco > Food Items > Grains, Rice & Cereal > Quinoa       0.00      0.00      0.00         3\n",
      "                                                                                                                     Food, Beverages & Tobacco > Food Items > Grains, Rice & Cereal > Rice       0.97      0.89      0.93        35\n",
      "                                                                                                                      Food, Beverages & Tobacco > Food Items > Meat, Seafood & Eggs > Eggs       1.00      1.00      1.00         4\n",
      "                                                                                                                      Food, Beverages & Tobacco > Food Items > Meat, Seafood & Eggs > Meat       0.91      0.95      0.93       115\n",
      "                                                                                                                   Food, Beverages & Tobacco > Food Items > Meat, Seafood & Eggs > Seafood       0.88      0.90      0.89        40\n",
      "                                                                                                                                     Food, Beverages & Tobacco > Food Items > Nuts & Seeds       1.00      0.85      0.92        33\n",
      "                                                                                                                                  Food, Beverages & Tobacco > Food Items > Pasta & Noodles       0.76      0.81      0.78        31\n",
      "                                                                                                                                   Food, Beverages & Tobacco > Food Items > Prepared Foods       0.79      0.93      0.85       214\n",
      "                                                                                               Food, Beverages & Tobacco > Food Items > Prepared Foods > Prepared Appetizers & Side Dishes       0.00      0.00      0.00         3\n",
      "                                                                                                        Food, Beverages & Tobacco > Food Items > Prepared Foods > Prepared Meals & Entrées       0.00      0.00      0.00         3\n",
      "                                                                                                                              Food, Beverages & Tobacco > Food Items > Seasonings & Spices       0.78      0.91      0.84        23\n",
      "                                                                                                             Food, Beverages & Tobacco > Food Items > Seasonings & Spices > Herbs & Spices       0.80      0.79      0.79        71\n",
      "                                                                                                                     Food, Beverages & Tobacco > Food Items > Seasonings & Spices > Pepper       0.50      0.50      0.50         2\n",
      "                                                                                                                       Food, Beverages & Tobacco > Food Items > Seasonings & Spices > Salt       0.00      0.00      0.00         3\n",
      "                                                                                                                                      Food, Beverages & Tobacco > Food Items > Snack Foods       1.00      0.62      0.76        13\n",
      "                                                                                                              Food, Beverages & Tobacco > Food Items > Snack Foods > Cereal & Granola Bars       0.67      0.68      0.68        38\n",
      "                                                                                                                       Food, Beverages & Tobacco > Food Items > Snack Foods > Cheese Puffs       1.00      0.55      0.71        11\n",
      "                                                                                                                              Food, Beverages & Tobacco > Food Items > Snack Foods > Chips       0.75      0.96      0.84        67\n",
      "                                                                                                                           Food, Beverages & Tobacco > Food Items > Snack Foods > Crackers       0.70      0.91      0.79        23\n",
      "                                                                                                                       Food, Beverages & Tobacco > Food Items > Snack Foods > Fruit Snacks       0.91      0.91      0.91        11\n",
      "                                                                                                                              Food, Beverages & Tobacco > Food Items > Snack Foods > Jerky       0.95      1.00      0.97        19\n",
      "                                                                                                                            Food, Beverages & Tobacco > Food Items > Snack Foods > Popcorn       0.83      0.71      0.77        21\n",
      "                                                                                                                         Food, Beverages & Tobacco > Food Items > Snack Foods > Pork Rinds       1.00      0.60      0.75         5\n",
      "                                                                                                                           Food, Beverages & Tobacco > Food Items > Snack Foods > Pretzels       0.92      0.85      0.88        13\n",
      "                                                                                                           Food, Beverages & Tobacco > Food Items > Snack Foods > Pudding & Gelatin Snacks       1.00      1.00      1.00         6\n",
      "                                                                                                                  Food, Beverages & Tobacco > Food Items > Snack Foods > Puffed Rice Cakes       1.00      0.50      0.67         2\n",
      "                                                                                                                     Food, Beverages & Tobacco > Food Items > Snack Foods > Salad Toppings       1.00      0.67      0.80         3\n",
      "                                                                                                                        Food, Beverages & Tobacco > Food Items > Snack Foods > Snack Cakes       0.75      0.38      0.50         8\n",
      "                                                                                                                Food, Beverages & Tobacco > Food Items > Snack Foods > Trail & Snack Mixes       1.00      0.86      0.92         7\n",
      "                                                                                                                                   Food, Beverages & Tobacco > Food Items > Soups & Broths       0.92      0.94      0.93        51\n",
      "                                                                                            Food, Beverages & Tobacco > Food Items > Tofu, Soy & Vegetarian Products > Cheese Alternatives       0.00      0.00      0.00         1\n",
      "                                                                                              Food, Beverages & Tobacco > Food Items > Tofu, Soy & Vegetarian Products > Meat Alternatives       0.92      0.69      0.79        16\n",
      "                                                                                                                                                      Furniture > Baby & Toddler Furniture       0.81      0.89      0.85        53\n",
      "                                                                                                                                Furniture > Baby & Toddler Furniture > Bassinets & Cradles       0.92      0.80      0.86        15\n",
      "                                                                                                                                    Furniture > Baby & Toddler Furniture > Changing Tables       0.87      0.81      0.84        16\n",
      "                                                                                                                     Furniture > Baby & Toddler Furniture > Crib & Toddler Bed Accessories       1.00      0.33      0.50         6\n",
      "                                                                                             Furniture > Baby & Toddler Furniture > Crib & Toddler Bed Accessories > Crib Bumpers & Liners       1.00      0.75      0.86         8\n",
      "                                                                                              Furniture > Baby & Toddler Furniture > Crib & Toddler Bed Accessories > Crib Conversion Kits       0.75      0.82      0.78        11\n",
      "                                                                                                                               Furniture > Baby & Toddler Furniture > Cribs & Toddler Beds       1.00      0.12      0.22         8\n",
      "                                                                                                              Furniture > Baby & Toddler Furniture > High Chair & Booster Seat Accessories       1.00      0.50      0.67         2\n",
      "                                                                                                                        Furniture > Baby & Toddler Furniture > High Chairs & Booster Seats       0.87      0.75      0.81        36\n",
      "                                                                                                                              Furniture > Beds & Accessories > Bed & Bed Frame Accessories       1.00      0.33      0.50         6\n",
      "                                                                                                                                        Furniture > Beds & Accessories > Beds & Bed Frames       0.88      0.95      0.91       137\n",
      "                                                                                                                                  Furniture > Beds & Accessories > Headboards & Footboards       0.93      0.81      0.86        47\n",
      "                                                                                                                                     Furniture > Beds & Accessories > Mattress Foundations       1.00      0.80      0.89         5\n",
      "                                                                                                                                               Furniture > Beds & Accessories > Mattresses       0.93      0.90      0.92        63\n",
      "                                                                                                                                                                       Furniture > Benches       0.00      0.00      0.00         1\n",
      "                                                                                                                                            Furniture > Benches > Kitchen & Dining Benches       0.00      0.00      0.00         3\n",
      "                                                                                                                                     Furniture > Cabinets & Storage > Armoires & Wardrobes       1.00      0.33      0.50         6\n",
      "                                                                                                                                     Furniture > Cabinets & Storage > Buffets & Sideboards       0.75      0.60      0.67        15\n",
      "                                                                                                                                                 Furniture > Cabinets & Storage > Dressers       0.89      0.88      0.88        82\n",
      "                                                                                                                                            Furniture > Cabinets & Storage > File Cabinets       0.80      0.80      0.80        10\n",
      "                                                                                                                                         Furniture > Cabinets & Storage > Kitchen Cabinets       0.71      0.77      0.74        13\n",
      "                                                                                                                                           Furniture > Cabinets & Storage > Magazine Racks       0.50      0.50      0.50         2\n",
      "                                                                                                                           Furniture > Cabinets & Storage > Media Storage Cabinets & Racks       1.00      0.80      0.89         5\n",
      "                                                                                                                               Furniture > Cabinets & Storage > Storage Cabinets & Lockers       0.76      0.76      0.76        55\n",
      "                                                                                                                                           Furniture > Cabinets & Storage > Storage Chests       1.00      0.82      0.90        17\n",
      "                                                                                                                             Furniture > Cabinets & Storage > Vanities > Bathroom Vanities       0.94      0.94      0.94        34\n",
      "                                                                                                                              Furniture > Cabinets & Storage > Vanities > Bedroom Vanities       1.00      0.82      0.90        11\n",
      "                                                                                                                                   Furniture > Cabinets & Storage > Wine & Liquor Cabinets       1.00      0.44      0.62         9\n",
      "                                                                                                                                               Furniture > Cabinets & Storage > Wine Racks       1.00      0.57      0.73         7\n",
      "                                                                                                                                      Furniture > Carts & Islands > Kitchen & Dining Carts       0.66      0.81      0.72        26\n",
      "                                                                                                                                             Furniture > Carts & Islands > Kitchen Islands       1.00      0.40      0.57         5\n",
      "                                                                                                                                                             Furniture > Chair Accessories       0.00      0.00      0.00         1\n",
      "                                                                                                                                                                        Furniture > Chairs       0.86      0.81      0.83       197\n",
      "                                                                                                                               Furniture > Chairs > Arm Chairs, Recliners & Sleeper Chairs       1.00      0.44      0.62         9\n",
      "                                                                                                                                                      Furniture > Chairs > Bean Bag Chairs       0.84      0.89      0.86        18\n",
      "                                                                                                                                                              Furniture > Chairs > Chaises       0.00      0.00      0.00         1\n",
      "                                                                                                                                                        Furniture > Chairs > Gaming Chairs       1.00      0.73      0.84        22\n",
      "                                                                                                                                         Furniture > Chairs > Kitchen & Dining Room Chairs       0.84      0.86      0.85        93\n",
      "                                                                                                                                                       Furniture > Chairs > Rocking Chairs       0.82      0.84      0.83        32\n",
      "                                                                                                                                                   Furniture > Chairs > Table & Bar Stools       0.92      0.95      0.93       139\n",
      "                                                                                                                                             Furniture > Entertainment Centers & TV Stands       0.80      0.94      0.87        79\n",
      "                                                                                                                                                                Furniture > Furniture Sets       0.00      0.00      0.00         3\n",
      "                                                                                                                              Furniture > Furniture Sets > Kitchen & Dining Furniture Sets       0.71      0.68      0.69        25\n",
      "                                                                                                                                   Furniture > Furniture Sets > Living Room Furniture Sets       0.00      0.00      0.00         3\n",
      "                                                                                                                                                                  Furniture > Futon Frames       0.00      0.00      0.00         1\n",
      "                                                                                                                                                                        Furniture > Futons       0.00      0.00      0.00         2\n",
      "                                                                                                                                                              Furniture > Office Furniture       0.00      0.00      0.00         1\n",
      "                                                                                                                                                      Furniture > Office Furniture > Desks       0.87      0.90      0.88       115\n",
      "                                                                                                                                              Furniture > Office Furniture > Office Chairs       0.83      0.91      0.87        68\n",
      "                                                                                                                       Furniture > Office Furniture Accessories > Desk Parts & Accessories       1.00      0.50      0.67         2\n",
      "                                                                                                                                                                      Furniture > Ottomans       0.89      0.92      0.91       129\n",
      "                                                                                                                                                             Furniture > Outdoor Furniture       0.75      0.88      0.81       185\n",
      "                                                                                                                                    Furniture > Outdoor Furniture > Outdoor Furniture Sets       0.76      0.97      0.85       123\n",
      "                                                                                                                                           Furniture > Outdoor Furniture > Outdoor Seating       0.00      0.00      0.00         3\n",
      "                                                                                                                         Furniture > Outdoor Furniture > Outdoor Seating > Outdoor Benches       0.88      0.47      0.61        15\n",
      "                                                                                                                          Furniture > Outdoor Furniture > Outdoor Seating > Outdoor Chairs       1.00      0.47      0.64        19\n",
      "                                                                                                                           Furniture > Outdoor Furniture > Outdoor Seating > Outdoor Sofas       1.00      0.35      0.52        17\n",
      "                                                                                                                                     Furniture > Outdoor Furniture > Outdoor Storage Boxes       0.94      0.88      0.91        17\n",
      "                                                                                                                                            Furniture > Outdoor Furniture > Outdoor Tables       0.81      0.82      0.81        77\n",
      "                                                                                                                      Furniture > Outdoor Furniture Accessories > Outdoor Furniture Covers       0.91      1.00      0.95        10\n",
      "                                                                                                                                                                 Furniture > Room Dividers       1.00      0.86      0.92         7\n",
      "                                                                                                                                                                      Furniture > Shelving       1.00      1.00      1.00         4\n",
      "                                                                                                                                       Furniture > Shelving > Bookcases & Standing Shelves       0.80      0.90      0.85       141\n",
      "                                                                                                                                              Furniture > Shelving > Wall Shelves & Ledges       0.91      0.84      0.87        57\n",
      "                                                                                                                                                          Furniture > Shelving Accessories       0.00      0.00      0.00         1\n",
      "                                                                                                                                       Furniture > Sofa Accessories > Sectional Sofa Units       0.00      0.00      0.00         2\n",
      "                                                                                                                                                                         Furniture > Sofas       0.77      0.92      0.84        51\n",
      "                                                                                                                                                        Furniture > Tables > Accent Tables       0.67      0.50      0.57         8\n",
      "                                                                                                                                        Furniture > Tables > Accent Tables > Coffee Tables       0.69      0.59      0.64        74\n",
      "                                                                                                                                           Furniture > Tables > Accent Tables > End Tables       0.62      0.71      0.66       116\n",
      "                                                                                                                                          Furniture > Tables > Accent Tables > Sofa Tables       0.82      0.71      0.76        70\n",
      "                                                                                                                                                      Furniture > Tables > Activity Tables       0.77      0.80      0.78        25\n",
      "                                                                                                                                                       Furniture > Tables > Folding Tables       0.71      0.67      0.69        18\n",
      "                                                                                                                                         Furniture > Tables > Kitchen & Dining Room Tables       0.65      0.73      0.69        30\n",
      "                                                                                                                                                          Furniture > Tables > Nightstands       0.79      0.96      0.87        68\n",
      "                                                                                                                                                  Furniture > Tables > Poker & Game Tables       0.00      0.00      0.00         1\n",
      "                                                                                                                                                Furniture > Tables > Sewing Machine Tables       0.00      0.00      0.00         1\n",
      "                                                                                                                                                           Hardware > Building Consumables       0.89      0.80      0.84        10\n",
      "                                                                                                                              Hardware > Building Consumables > Chemicals > Drain Cleaners       1.00      0.50      0.67         2\n",
      "                                                                                                                               Hardware > Building Consumables > Hardware Glue & Adhesives       0.58      0.55      0.56        20\n",
      "                                                                                                                                           Hardware > Building Consumables > Hardware Tape       0.62      1.00      0.76         8\n",
      "                                                                                                                                              Hardware > Building Consumables > Lubricants       0.00      0.00      0.00         3\n",
      "                                                                                                                                     Hardware > Building Consumables > Masonry Consumables       1.00      1.00      1.00         1\n",
      "                                                                                                                             Hardware > Building Consumables > Masonry Consumables > Grout       0.00      0.00      0.00         2\n",
      "                                                                                                                                    Hardware > Building Consumables > Painting Consumables       0.00      0.00      0.00         1\n",
      "                                                                                                                            Hardware > Building Consumables > Painting Consumables > Paint       0.93      0.99      0.96       172\n",
      "                                                                                                                          Hardware > Building Consumables > Painting Consumables > Primers       1.00      0.50      0.67         2\n",
      "                                                                                                                           Hardware > Building Consumables > Painting Consumables > Stains       0.00      0.00      0.00         1\n",
      "                                                                                                             Hardware > Building Consumables > Painting Consumables > Varnishes & Finishes       1.00      0.77      0.87        13\n",
      "                                                                                                                          Hardware > Building Consumables > Protective Coatings & Sealants       0.79      0.73      0.76        15\n",
      "                                                                                                                       Hardware > Building Consumables > Wall Patching Compounds & Plaster       0.00      0.00      0.00         4\n",
      "                                                                                                                                               Hardware > Building Materials > Countertops       0.89      0.89      0.89         9\n",
      "                                                                                                                                             Hardware > Building Materials > Door Hardware       0.89      0.93      0.91        27\n",
      "                                                                                                                       Hardware > Building Materials > Door Hardware > Door Bells & Chimes       1.00      1.00      1.00         1\n",
      "                                                                                                                      Hardware > Building Materials > Door Hardware > Door Knobs & Handles       0.99      1.00      0.99       254\n",
      "                                                                                                                             Hardware > Building Materials > Door Hardware > Door Knockers       1.00      1.00      1.00         2\n",
      "                                                                                                                                Hardware > Building Materials > Door Hardware > Door Stops       0.88      0.92      0.90        24\n",
      "                                                                                                                                                     Hardware > Building Materials > Doors       1.00      1.00      1.00         7\n",
      "                                                                                                                                        Hardware > Building Materials > Doors > Home Doors       1.00      1.00      1.00         8\n",
      "                                                                                                                                         Hardware > Building Materials > Flooring & Carpet       0.99      0.98      0.98       255\n",
      "                                                                                                                               Hardware > Building Materials > Handrails & Railing Systems       0.00      0.00      0.00         1\n",
      "                                                                                                                                                Hardware > Building Materials > Insulation       0.00      0.00      0.00         2\n",
      "                                                                                                                                                   Hardware > Building Materials > Molding       1.00      1.00      1.00       133\n",
      "                                                                                                                              Hardware > Building Materials > Roofing > Gutter Accessories       0.00      0.00      0.00         1\n",
      "                                                                                                                                       Hardware > Building Materials > Wall & Ceiling Tile       1.00      0.60      0.75         5\n",
      "                                                                                                               Hardware > Building Materials > Weather Stripping & Weatherization Supplies       1.00      1.00      1.00         2\n",
      "                                                                                                                                                   Hardware > Building Materials > Windows       1.00      0.73      0.84        11\n",
      "                                                                                                                                                             Hardware > Fencing & Barriers       1.00      1.00      1.00         1\n",
      "                                                                                                                                  Hardware > Fencing & Barriers > Fence & Gate Accessories       1.00      0.67      0.80         3\n",
      "                                                                                                                                   Hardware > Fencing & Barriers > Garden Borders & Edging       1.00      1.00      1.00         1\n",
      "                                                                                                                                                     Hardware > Fencing & Barriers > Gates       0.00      0.00      0.00         1\n",
      "                                                                                                                                                        Hardware > Fuel Containers & Tanks       1.00      0.50      0.67         2\n",
      "                                                                                                                                                           Hardware > Hardware Accessories       0.82      0.71      0.76        38\n",
      "                                                                                                                         Hardware > Hardware Accessories > Brackets & Reinforcement Braces       0.67      0.67      0.67         3\n",
      "                                                                                                                                        Hardware > Hardware Accessories > Cabinet Hardware       1.00      1.00      1.00         1\n",
      "                                                                                                                   Hardware > Hardware Accessories > Cabinet Hardware > Cabinet Backplates       1.00      1.00      1.00         1\n",
      "                                                                                                                      Hardware > Hardware Accessories > Cabinet Hardware > Cabinet Catches       1.00      1.00      1.00         5\n",
      "                                                                                                              Hardware > Hardware Accessories > Cabinet Hardware > Cabinet Knobs & Handles       0.99      1.00      1.00       514\n",
      "                                                                                                                                                 Hardware > Hardware Accessories > Casters       0.00      0.00      0.00         0\n",
      "                                                                                                                                      Hardware > Hardware Accessories > Chain, Wire & Rope       0.00      0.00      0.00         1\n",
      "                                                                                                                       Hardware > Hardware Accessories > Chain, Wire & Rope > Bungee Cords       0.00      0.00      0.00         2\n",
      "                                                                                                             Hardware > Hardware Accessories > Chain, Wire & Rope > Ropes & Hardware Cable       0.50      0.20      0.29         5\n",
      "                                                                                                                    Hardware > Hardware Accessories > Chain, Wire & Rope > Tie Down Straps       0.00      0.00      0.00         1\n",
      "                                                                                                                              Hardware > Hardware Accessories > Chain, Wire & Rope > Twine       0.67      0.67      0.67         3\n",
      "                                                                                                                       Hardware > Hardware Accessories > Chain, Wire & Rope > Utility Wire       0.00      0.00      0.00         0\n",
      "                                                                                                                                           Hardware > Hardware Accessories > Drawer Slides       1.00      1.00      1.00         1\n",
      "                                                                                                                                 Hardware > Hardware Accessories > Flagging & Caution Tape       0.00      0.00      0.00         2\n",
      "                                                                                                                                               Hardware > Hardware Accessories > Gas Hoses       0.00      0.00      0.00         1\n",
      "                                                                                                                                      Hardware > Hardware Accessories > Hardware Fasteners       0.00      0.00      0.00         1\n",
      "                                                                                                                    Hardware > Hardware Accessories > Hardware Fasteners > Drywall Anchors       0.00      0.00      0.00         2\n",
      "                                                                                                                              Hardware > Hardware Accessories > Hardware Fasteners > Nails       1.00      0.33      0.50         3\n",
      "                                                                                                                       Hardware > Hardware Accessories > Hardware Fasteners > Nuts & Bolts       0.00      0.00      0.00         1\n",
      "                                                                                                                             Hardware > Hardware Accessories > Hardware Fasteners > Screws       1.00      0.60      0.75         5\n",
      "                                                                                                                                                  Hardware > Hardware Accessories > Hinges       0.80      0.96      0.87        25\n",
      "                                                                                                                                                 Hardware > Hardware Accessories > Springs       0.78      0.78      0.78         9\n",
      "                                                                                                                             Hardware > Hardware Accessories > Tool Storage & Organization       1.00      0.33      0.50         3\n",
      "                                                                                                       Hardware > Hardware Accessories > Tool Storage & Organization > Garden Hose Storage       0.25      1.00      0.40         1\n",
      "                                                                                                                 Hardware > Hardware Accessories > Tool Storage & Organization > Tool Bags       1.00      0.50      0.67         4\n",
      "                                                                                                    Hardware > Hardware Accessories > Tool Storage & Organization > Tool Cabinets & Chests       1.00      0.67      0.80         3\n",
      "                                                                                                                                                                 Hardware > Hardware Pumps       0.50      0.50      0.50         4\n",
      "                                                                                                                                   Hardware > Hardware Pumps > Pool, Fountain & Pond Pumps       0.00      0.00      0.00         1\n",
      "                                                                                                                                        Hardware > Heating, Ventilation & Air Conditioning       0.84      0.90      0.87        48\n",
      "                                                                                                                        Hardware > Heating, Ventilation & Air Conditioning > HVAC Controls       0.00      0.00      0.00         1\n",
      "                                                                                                                        Hardware > Heating, Ventilation & Air Conditioning > Vents & Flues       1.00      1.00      1.00         5\n",
      "                                                                                                                                                                   Hardware > Locks & Keys       0.96      0.96      0.96        28\n",
      "                                                                                                                                                      Hardware > Locks & Keys > Key Blanks       0.00      0.00      0.00         1\n",
      "                                                                                                                                                 Hardware > Locks & Keys > Locks & Latches       0.00      0.00      0.00         4\n",
      "                                                                                                                      Hardware > Plumbing > Plumbing Fittings & Supports > Plumbing Valves       1.00      0.73      0.84        11\n",
      "                                                                                                                                   Hardware > Plumbing > Plumbing Fixture Hardware & Parts       0.67      0.33      0.44         6\n",
      "                                                                                                             Hardware > Plumbing > Plumbing Fixture Hardware & Parts > Bathtub Accessories       0.00      0.00      0.00         2\n",
      "                                                                                      Hardware > Plumbing > Plumbing Fixture Hardware & Parts > Bathtub Accessories > Bathtub Bases & Feet       1.00      1.00      1.00         2\n",
      "                                                                                            Hardware > Plumbing > Plumbing Fixture Hardware & Parts > Bathtub Accessories > Bathtub Spouts       1.00      1.00      1.00         7\n",
      "                                                                                                                Hardware > Plumbing > Plumbing Fixture Hardware & Parts > Drain Components       1.00      0.33      0.50         3\n",
      "                                                                                     Hardware > Plumbing > Plumbing Fixture Hardware & Parts > Drain Components > Drain Covers & Strainers       1.00      1.00      1.00         1\n",
      "                                                                                                                          Hardware > Plumbing > Plumbing Fixture Hardware & Parts > Drains       0.90      1.00      0.95         9\n",
      "                                                                                                              Hardware > Plumbing > Plumbing Fixture Hardware & Parts > Faucet Accessories       0.00      0.00      0.00         2\n",
      "                                                                                            Hardware > Plumbing > Plumbing Fixture Hardware & Parts > Faucet Accessories > Faucet Aerators       1.00      0.50      0.67         2\n",
      "                                                                                  Hardware > Plumbing > Plumbing Fixture Hardware & Parts > Faucet Accessories > Faucet Handles & Controls       0.00      0.00      0.00         1\n",
      "                                                                                                                    Hardware > Plumbing > Plumbing Fixture Hardware & Parts > Shower Parts       0.93      0.97      0.95       189\n",
      "                                                                                         Hardware > Plumbing > Plumbing Fixture Hardware & Parts > Shower Parts > Electric & Power Showers       0.75      0.50      0.60         6\n",
      "                                                                                         Hardware > Plumbing > Plumbing Fixture Hardware & Parts > Shower Parts > Shower Arms & Connectors       1.00      0.98      0.99        44\n",
      "                                                                                                     Hardware > Plumbing > Plumbing Fixture Hardware & Parts > Shower Parts > Shower Bases       1.00      1.00      1.00        13\n",
      "                                                                                        Hardware > Plumbing > Plumbing Fixture Hardware & Parts > Shower Parts > Shower Doors & Enclosures       1.00      1.00      1.00        13\n",
      "                                                                                                     Hardware > Plumbing > Plumbing Fixture Hardware & Parts > Shower Parts > Shower Heads       0.94      0.81      0.87        21\n",
      "                                                                                         Hardware > Plumbing > Plumbing Fixture Hardware & Parts > Shower Parts > Shower Walls & Surrounds       1.00      1.00      1.00         2\n",
      "                                                                                             Hardware > Plumbing > Plumbing Fixture Hardware & Parts > Shower Parts > Shower Water Filters       0.00      0.00      0.00         0\n",
      "                                                                                                                Hardware > Plumbing > Plumbing Fixture Hardware & Parts > Sink Accessories       0.00      0.00      0.00         2\n",
      "                                                                                                      Hardware > Plumbing > Plumbing Fixture Hardware & Parts > Toilet & Bidet Accessories       0.88      0.64      0.74        22\n",
      "                                                                               Hardware > Plumbing > Plumbing Fixture Hardware & Parts > Toilet & Bidet Accessories > Toilet & Bidet Seats       1.00      0.95      0.98        22\n",
      "                                                                                 Hardware > Plumbing > Plumbing Fixture Hardware & Parts > Toilet & Bidet Accessories > Toilet Tank Levers       0.83      1.00      0.91        10\n",
      "                                                                                       Hardware > Plumbing > Plumbing Fixture Hardware & Parts > Toilet & Bidet Accessories > Toilet Tanks       0.00      0.00      0.00         2\n",
      "                                                                                                                                                   Hardware > Plumbing > Plumbing Fixtures       0.00      0.00      0.00         1\n",
      "                                                                                                                                        Hardware > Plumbing > Plumbing Fixtures > Bathtubs       1.00      1.00      1.00        36\n",
      "                                                                                                                                         Hardware > Plumbing > Plumbing Fixtures > Faucets       0.97      1.00      0.99       289\n",
      "                                                                                                                                           Hardware > Plumbing > Plumbing Fixtures > Sinks       0.00      0.00      0.00         2\n",
      "                                                                                                                          Hardware > Plumbing > Plumbing Fixtures > Sinks > Bathroom Sinks       1.00      1.00      1.00        29\n",
      "                                                                                                                 Hardware > Plumbing > Plumbing Fixtures > Sinks > Kitchen & Utility Sinks       0.97      1.00      0.99        77\n",
      "                                                                                                                       Hardware > Plumbing > Plumbing Fixtures > Toilets & Bidets > Bidets       0.80      0.67      0.73         6\n",
      "                                                                                                                      Hardware > Plumbing > Plumbing Fixtures > Toilets & Bidets > Toilets       0.89      0.97      0.93        58\n",
      "                                                                                                                      Hardware > Plumbing > Plumbing Fixtures > Toilets & Bidets > Urinals       1.00      1.00      1.00         2\n",
      "                                                                                                                                                      Hardware > Plumbing > Plumbing Pipes       1.00      0.75      0.86         4\n",
      "                                                                                                               Hardware > Plumbing > Water Dispensing & Filtration > In-Line Water Filters       1.00      1.00      1.00         3\n",
      "                                                                                                        Hardware > Plumbing > Water Dispensing & Filtration > Water Filtration Accessories       0.45      0.45      0.45        11\n",
      "                                                                              Hardware > Plumbing > Water Dispensing & Filtration > Water Filtration Accessories > Water Filter Cartridges       1.00      0.50      0.67         6\n",
      "                                                                                                                 Hardware > Plumbing > Water Dispensing & Filtration > Water Softener Salt       1.00      0.50      0.67         2\n",
      "                                                                                                                                                    Hardware > Power & Electrical Supplies       0.00      0.00      0.00         1\n",
      "                                                                                                                             Hardware > Power & Electrical Supplies > Electrical Plug Caps       0.00      0.00      0.00         2\n",
      "                                                                                                                              Hardware > Power & Electrical Supplies > Electrical Switches       1.00      1.00      1.00        13\n",
      "                                                                                                             Hardware > Power & Electrical Supplies > Electrical Switches > Light Switches       1.00      0.50      0.67         2\n",
      "                                                                                                                                  Hardware > Power & Electrical Supplies > Extension Cords       0.88      0.88      0.88         8\n",
      "                                                                                                                            Hardware > Power & Electrical Supplies > Generator Accessories       0.00      0.00      0.00         1\n",
      "                                                                                                                                       Hardware > Power & Electrical Supplies > Generators       1.00      1.00      1.00         2\n",
      "                                                                                                                             Hardware > Power & Electrical Supplies > Home Automation Kits       0.00      0.00      0.00         3\n",
      "                                                                                                                                  Hardware > Power & Electrical Supplies > Power Inverters       0.00      0.00      0.00         1\n",
      "                                                                                                                          Hardware > Power & Electrical Supplies > Power Outlets & Sockets       0.00      0.00      0.00         1\n",
      "                                                                                                                                     Hardware > Power & Electrical Supplies > Solar Panels       1.00      0.75      0.86         4\n",
      "                                                                                                                Hardware > Power & Electrical Supplies > Voltage Transformers & Regulators       0.00      0.00      0.00         1\n",
      "                                                                                                                             Hardware > Power & Electrical Supplies > Wall Plates & Covers       0.96      0.93      0.94        27\n",
      "                                                                                                                   Hardware > Power & Electrical Supplies > Wall Socket Controls & Sensors       0.00      0.00      0.00         2\n",
      "                                                                                                                                                                  Hardware > Storage Tanks       1.00      1.00      1.00         2\n",
      "                                                                                                                                                               Hardware > Tool Accessories       1.00      0.33      0.50         3\n",
      "                                                                                                                             Hardware > Tool Accessories > Drill & Screwdriver Accessories       0.00      0.00      0.00         4\n",
      "                                                                                                  Hardware > Tool Accessories > Drill & Screwdriver Accessories > Drill & Screwdriver Bits       0.00      0.00      0.00         2\n",
      "                                                                                                              Hardware > Tool Accessories > Grinder Accessories > Grinding Wheels & Points       0.00      0.00      0.00         1\n",
      "                                                                                                                                          Hardware > Tool Accessories > Industrial Staples       0.00      0.00      0.00         1\n",
      "                                                                                                           Hardware > Tool Accessories > Paint Tool Accessories > Paint Roller Accessories       1.00      1.00      1.00         1\n",
      "                                                                                                                                         Hardware > Tool Accessories > Sanding Accessories       1.00      1.00      1.00         1\n",
      "                                                                                                                                                 Hardware > Tool Accessories > Tool Blades       0.00      0.00      0.00         1\n",
      "                                                                                                                                         Hardware > Tool Accessories > Welding Accessories       0.00      0.00      0.00         1\n",
      "                                                                                                                                                                          Hardware > Tools       0.46      0.45      0.45        60\n",
      "                                                                                                                                                                 Hardware > Tools > Anvils       0.00      0.00      0.00         1\n",
      "                                                                                                                                                                   Hardware > Tools > Axes       0.00      0.00      0.00         1\n",
      "                                                                                                                                               Hardware > Tools > Cutters > Utility Knives       0.67      0.80      0.73        15\n",
      "                                                                                                                                                  Hardware > Tools > Dollies & Hand Trucks       0.00      0.00      0.00         1\n",
      "                                                                                                                                                                 Hardware > Tools > Drills       0.00      0.00      0.00         1\n",
      "                                                                                                                                         Hardware > Tools > Drills > Handheld Power Drills       0.00      0.00      0.00         2\n",
      "                                                                                                                                                Hardware > Tools > Flashlights & Headlamps       0.74      0.78      0.76        18\n",
      "                                                                                                                                                                  Hardware > Tools > Grips       1.00      0.67      0.80         3\n",
      "                                                                                                                                               Hardware > Tools > Hammers > Manual Hammers       0.00      0.00      0.00         2\n",
      "                                                                                                                                                              Hardware > Tools > Heat Guns       0.00      0.00      0.00         1\n",
      "                                                                                                                                              Hardware > Tools > Impact Wrenches & Drivers       0.00      0.00      0.00         1\n",
      "                                                                                                                                                  Hardware > Tools > Ladders & Scaffolding       1.00      0.50      0.67         2\n",
      "                                                                                                                                        Hardware > Tools > Ladders & Scaffolding > Ladders       1.00      0.25      0.40         4\n",
      "                                                                                                                                    Hardware > Tools > Ladders & Scaffolding > Step Stools       0.84      0.76      0.80        21\n",
      "                                                                                                                                                     Hardware > Tools > Lighters & Matches       1.00      1.00      1.00         4\n",
      "                                                                                                                                        Hardware > Tools > Masonry Tools > Masonry Trowels       0.00      0.00      0.00         1\n",
      "                                                                                                                                              Hardware > Tools > Measuring Tools & Sensors       0.00      0.00      0.00         1\n",
      "                                                                                                                   Hardware > Tools > Measuring Tools & Sensors > Electrical Testing Tools       0.00      0.00      0.00         1\n",
      "                                                                                                                                     Hardware > Tools > Measuring Tools & Sensors > Levels       0.00      0.00      0.00         1\n",
      "                                                                                                                           Hardware > Tools > Measuring Tools & Sensors > Measuring Scales       1.00      0.50      0.67         2\n",
      "                                                                                                                            Hardware > Tools > Measuring Tools & Sensors > Moisture Meters       0.00      0.00      0.00         1\n",
      "                                                                                                                                     Hardware > Tools > Measuring Tools & Sensors > Rulers       0.67      1.00      0.80         8\n",
      "                                                                                                                              Hardware > Tools > Measuring Tools & Sensors > Tape Measures       0.00      0.00      0.00         1\n",
      "                                                                                                             Hardware > Tools > Measuring Tools & Sensors > Weather Forecasters & Stations       1.00      0.88      0.93         8\n",
      "                                                                                                                                            Hardware > Tools > Paint Tools > Paint Brushes       1.00      0.50      0.67         2\n",
      "                                                                                                                                            Hardware > Tools > Paint Tools > Paint Rollers       0.00      0.00      0.00         1\n",
      "                                                                                                                                                                 Hardware > Tools > Pliers       1.00      0.25      0.40         4\n",
      "                                                                                                                                                               Hardware > Tools > Plungers       0.80      0.80      0.80         5\n",
      "                                                                                                                                                       Hardware > Tools > Saws > Hand Saws       0.00      0.00      0.00         1\n",
      "                                                                                                                                                         Hardware > Tools > Saws > Jigsaws       0.00      0.00      0.00         2\n",
      "                                                                                                                                              Hardware > Tools > Saws > Reciprocating Saws       0.00      0.00      0.00         1\n",
      "                                                                                                                                                           Hardware > Tools > Screwdrivers       0.25      0.50      0.33         4\n",
      "                                                                                                                                                             Hardware > Tools > Sharpeners       1.00      1.00      1.00         1\n",
      "                                                                                                                                                         Hardware > Tools > Socket Drivers       0.00      0.00      0.00         3\n",
      "                                                                                                                                                              Hardware > Tools > Tool Sets       0.00      0.00      0.00         1\n",
      "                                                                                                                                             Hardware > Tools > Tool Sets > Hand Tool Sets       0.88      0.78      0.82         9\n",
      "                                                                                                                                                            Hardware > Tools > Work Lights       0.00      0.00      0.00         1\n",
      "                                                                                                                                                               Hardware > Tools > Wrenches       1.00      0.50      0.67         2\n",
      "                                                                                                                                                             Health & Beauty > Health Care       0.69      0.53      0.60        34\n",
      "                                                                                              Health & Beauty > Health Care > Biometric Monitor Accessories > Activity Monitor Accessories       0.80      1.00      0.89         4\n",
      "                                                                                                                    Health & Beauty > Health Care > Biometric Monitors > Activity Monitors       0.73      1.00      0.84        19\n",
      "                                                                                                              Health & Beauty > Health Care > Biometric Monitors > Blood Pressure Monitors       1.00      0.80      0.89         5\n",
      "                                                                                                                   Health & Beauty > Health Care > Biometric Monitors > Body Weight Scales       0.44      1.00      0.62         4\n",
      "                                                                                               Health & Beauty > Health Care > Biometric Monitors > Fertility Monitors and Ovulation Tests       0.00      0.00      0.00         2\n",
      "                                                                                                                 Health & Beauty > Health Care > Biometric Monitors > Medical Thermometers       0.86      0.75      0.80         8\n",
      "                                                                                                                      Health & Beauty > Health Care > Biometric Monitors > Pulse Oximeters       1.00      1.00      1.00         1\n",
      "                                                                                                                                                   Health & Beauty > Health Care > Condoms       0.00      0.00      0.00         1\n",
      "                                                                                                                                                 Health & Beauty > Health Care > First Aid       0.00      0.00      0.00         2\n",
      "                                                                                                               Health & Beauty > Health Care > First Aid > Antiseptics & Cleaning Supplies       0.60      0.60      0.60         5\n",
      "                                                                                                                                Health & Beauty > Health Care > First Aid > First Aid Kits       0.67      0.86      0.75         7\n",
      "                                                                                                                          Health & Beauty > Health Care > First Aid > Hot & Cold Therapies       0.92      0.71      0.80        17\n",
      "                                                                                                                       Health & Beauty > Health Care > First Aid > Medical Tape & Bandages       0.76      0.87      0.81        30\n",
      "                                                                                                                      Health & Beauty > Health Care > Fitness & Nutrition > Nutrition Bars       0.93      0.87      0.90        76\n",
      "                                                                                                           Health & Beauty > Health Care > Fitness & Nutrition > Nutrition Drinks & Shakes       0.92      0.92      0.92        52\n",
      "                                                                                                              Health & Beauty > Health Care > Fitness & Nutrition > Vitamins & Supplements       0.94      0.96      0.95       742\n",
      "                                                                                                                                         Health & Beauty > Health Care > Incontinence Aids       0.89      0.83      0.86        48\n",
      "                                                                                                                                             Health & Beauty > Health Care > Medical Tests       0.91      1.00      0.95        10\n",
      "                                                                                                                                          Health & Beauty > Health Care > Medicine & Drugs       0.91      0.87      0.89       199\n",
      "                                                                                                        Health & Beauty > Health Care > Mobility & Accessibility > Accessibility Equipment       0.00      0.00      0.00         1\n",
      "                                                                                             Health & Beauty > Health Care > Mobility & Accessibility > Accessibility Furniture & Fixtures       0.62      0.83      0.71         6\n",
      "                                                                    Health & Beauty > Health Care > Mobility & Accessibility > Accessibility Furniture & Fixtures > Shower Benches & Seats       1.00      1.00      1.00         3\n",
      "                                                                                                                   Health & Beauty > Health Care > Mobility & Accessibility > Walking Aids       1.00      1.00      1.00         4\n",
      "                                                                                 Health & Beauty > Health Care > Occupational & Physical Therapy Equipment > Electrical Muscle Stimulators       0.00      0.00      0.00         1\n",
      "                                                                                                                                                 Health & Beauty > Health Care > Pillboxes       1.00      0.50      0.67         2\n",
      "                                                                                                                                          Health & Beauty > Health Care > Respiratory Care       0.80      1.00      0.89         4\n",
      "                                                                                                                         Health & Beauty > Health Care > Respiratory Care > Steam Inhalers       0.00      0.00      0.00         1\n",
      "                                                                                                                                         Health & Beauty > Health Care > Supports & Braces       0.84      0.75      0.79        36\n",
      "                                                                                                                                                 Health & Beauty > Jewelry Cleaning & Care       0.00      0.00      0.00         1\n",
      "                                                                                                         Health & Beauty > Jewelry Cleaning & Care > Jewelry Cleaning Solutions & Polishes       0.50      0.25      0.33         4\n",
      "                                                                                                                               Health & Beauty > Jewelry Cleaning & Care > Jewelry Holders       0.68      0.68      0.68        22\n",
      "                                                                                                                                                           Health & Beauty > Personal Care       0.68      0.45      0.54       266\n",
      "                                                                                                              Health & Beauty > Personal Care > Back Care > Back & Lumbar Support Cushions       1.00      0.17      0.29        12\n",
      "                                                                                                                                               Health & Beauty > Personal Care > Cosmetics       0.76      0.84      0.80        79\n",
      "                                                                                                                                 Health & Beauty > Personal Care > Cosmetics > Bath & Body       0.69      0.77      0.73       479\n",
      "                                                                                                          Health & Beauty > Personal Care > Cosmetics > Bath & Body > Adult Hygienic Wipes       0.00      0.00      0.00         1\n",
      "                                                                                                                      Health & Beauty > Personal Care > Cosmetics > Bath & Body > Bar Soap       0.00      0.00      0.00         1\n",
      "                                                                                                                Health & Beauty > Personal Care > Cosmetics > Bath & Body > Bath Additives       0.67      0.17      0.27        12\n",
      "                                                                                                        Health & Beauty > Personal Care > Cosmetics > Bath & Body > Bath Sponges & Loofahs       0.00      0.00      0.00         2\n",
      "                                                                                                                     Health & Beauty > Personal Care > Cosmetics > Bath & Body > Body Wash       0.62      0.57      0.60        35\n",
      "                                                                                                       Health & Beauty > Personal Care > Cosmetics > Bath & Body > Hand Sanitizers & Wipes       0.00      0.00      0.00         1\n",
      "                                                                                                              Health & Beauty > Personal Care > Cosmetics > Bath & Body > Liquid Hand Soap       1.00      0.88      0.93         8\n",
      "                                                                                                                       Health & Beauty > Personal Care > Cosmetics > Bath & Body Gift Sets       0.52      0.49      0.50        35\n",
      "                                                                                                                               Health & Beauty > Personal Care > Cosmetics > Cosmetic Sets       0.46      0.31      0.37        36\n",
      "                                                                                                                     Health & Beauty > Personal Care > Cosmetics > Cosmetic Tool Cleansers       1.00      0.17      0.29         6\n",
      "                                                                                                                              Health & Beauty > Personal Care > Cosmetics > Cosmetic Tools       0.55      0.65      0.60       132\n",
      "                                                                                                               Health & Beauty > Personal Care > Cosmetics > Cosmetic Tools > Makeup Tools       0.68      0.79      0.73       104\n",
      "                                                                                   Health & Beauty > Personal Care > Cosmetics > Cosmetic Tools > Makeup Tools > Double Eyelid Glue & Tape       1.00      1.00      1.00         1\n",
      "                                                                                             Health & Beauty > Personal Care > Cosmetics > Cosmetic Tools > Makeup Tools > Eyelash Curlers       1.00      0.33      0.50         3\n",
      "                                                                                                Health & Beauty > Personal Care > Cosmetics > Cosmetic Tools > Makeup Tools > Face Mirrors       1.00      0.80      0.89        10\n",
      "                                                          Health & Beauty > Personal Care > Cosmetics > Cosmetic Tools > Makeup Tools > False Eyelash Accessories > False Eyelash Adhesive       0.00      0.00      0.00         1\n",
      "                                                                                              Health & Beauty > Personal Care > Cosmetics > Cosmetic Tools > Makeup Tools > Makeup Brushes       1.00      0.47      0.64        15\n",
      "                                                                                              Health & Beauty > Personal Care > Cosmetics > Cosmetic Tools > Makeup Tools > Makeup Sponges       1.00      0.50      0.67         2\n",
      "                                                                          Health & Beauty > Personal Care > Cosmetics > Cosmetic Tools > Makeup Tools > Refillable Makeup Palettes & Cases       0.00      0.00      0.00         2\n",
      "                                                                                                                 Health & Beauty > Personal Care > Cosmetics > Cosmetic Tools > Nail Tools       0.80      0.57      0.67        14\n",
      "                                                                                                            Health & Beauty > Personal Care > Cosmetics > Cosmetic Tools > Skin Care Tools       0.25      0.14      0.18         7\n",
      "                                                                         Health & Beauty > Personal Care > Cosmetics > Cosmetic Tools > Skin Care Tools > Skin Cleansing Brushes & Systems       0.00      0.00      0.00         2\n",
      "                                                                                                                                      Health & Beauty > Personal Care > Cosmetics > Makeup       0.74      0.85      0.79      1062\n",
      "                                                                                                                        Health & Beauty > Personal Care > Cosmetics > Makeup > Body Makeup       0.83      0.71      0.77         7\n",
      "                                                                                                                         Health & Beauty > Personal Care > Cosmetics > Makeup > Eye Makeup       0.67      0.22      0.33        27\n",
      "                                                                                                            Health & Beauty > Personal Care > Cosmetics > Makeup > Eye Makeup > Eye Primer       1.00      0.14      0.25         7\n",
      "                                                                                                            Health & Beauty > Personal Care > Cosmetics > Makeup > Eye Makeup > Eye Shadow       0.73      0.60      0.66        67\n",
      "                                                                                                     Health & Beauty > Personal Care > Cosmetics > Makeup > Eye Makeup > Eyebrow Enhancers       0.73      0.69      0.71        80\n",
      "                                                                                                              Health & Beauty > Personal Care > Cosmetics > Makeup > Eye Makeup > Eyeliner       0.71      0.52      0.60        67\n",
      "                                                                                                       Health & Beauty > Personal Care > Cosmetics > Makeup > Eye Makeup > False Eyelashes       0.00      0.00      0.00         1\n",
      "                                                                                                               Health & Beauty > Personal Care > Cosmetics > Makeup > Eye Makeup > Mascara       0.67      0.62      0.64        71\n",
      "                                                                                                                        Health & Beauty > Personal Care > Cosmetics > Makeup > Face Makeup       0.82      0.47      0.60        59\n",
      "                                                                                                   Health & Beauty > Personal Care > Cosmetics > Makeup > Face Makeup > Blushes & Bronzers       0.75      0.56      0.64        82\n",
      "                                                                                                          Health & Beauty > Personal Care > Cosmetics > Makeup > Face Makeup > Face Powder       0.80      0.50      0.62        16\n",
      "                                                                                                          Health & Beauty > Personal Care > Cosmetics > Makeup > Face Makeup > Face Primer       0.36      0.17      0.24        46\n",
      "                                                                                             Health & Beauty > Personal Care > Cosmetics > Makeup > Face Makeup > Foundations & Concealers       0.83      0.67      0.74       141\n",
      "                                                                                            Health & Beauty > Personal Care > Cosmetics > Makeup > Face Makeup > Highlighters & Luminizers       0.50      0.20      0.29        25\n",
      "                                                                                                                         Health & Beauty > Personal Care > Cosmetics > Makeup > Lip Makeup       0.78      0.77      0.77       132\n",
      "                                                                                                    Health & Beauty > Personal Care > Cosmetics > Makeup > Lip Makeup > Lip & Cheek Stains       0.90      1.00      0.95         9\n",
      "                                                                                                             Health & Beauty > Personal Care > Cosmetics > Makeup > Lip Makeup > Lip Gloss       0.83      0.85      0.84       127\n",
      "                                                                                                             Health & Beauty > Personal Care > Cosmetics > Makeup > Lip Makeup > Lip Liner       0.88      0.94      0.91        83\n",
      "                                                                                                            Health & Beauty > Personal Care > Cosmetics > Makeup > Lip Makeup > Lip Primer       0.80      0.80      0.80         5\n",
      "                                                                                                              Health & Beauty > Personal Care > Cosmetics > Makeup > Lip Makeup > Lipstick       0.86      0.95      0.90       299\n",
      "                                                                                                            Health & Beauty > Personal Care > Cosmetics > Makeup > Makeup Finishing Sprays       0.00      0.00      0.00         1\n",
      "                                                                                                                  Health & Beauty > Personal Care > Cosmetics > Makeup > Temporary Tattoos       0.00      0.00      0.00         2\n",
      "                                                                                                                                   Health & Beauty > Personal Care > Cosmetics > Nail Care       0.87      0.96      0.91       290\n",
      "                                                                                                            Health & Beauty > Personal Care > Cosmetics > Nail Care > Nail Polish Removers       0.00      0.00      0.00         4\n",
      "                                                                                                                   Health & Beauty > Personal Care > Cosmetics > Nail Care > Nail Polishes       0.84      0.55      0.67        38\n",
      "                                                                                                                           Health & Beauty > Personal Care > Cosmetics > Perfume & Cologne       0.84      0.91      0.87       233\n",
      "                                                                                                                                   Health & Beauty > Personal Care > Cosmetics > Skin Care       0.75      0.85      0.80      1502\n",
      "                                                                                                                        Health & Beauty > Personal Care > Cosmetics > Skin Care > Body Oil       1.00      1.00      1.00         1\n",
      "                                                                                                                Health & Beauty > Personal Care > Cosmetics > Skin Care > Facial Cleansers       0.56      0.41      0.47       100\n",
      "                                                                                                              Health & Beauty > Personal Care > Cosmetics > Skin Care > Facial Pore Strips       0.00      0.00      0.00         1\n",
      "                                                                                                          Health & Beauty > Personal Care > Cosmetics > Skin Care > Lip Balms & Treatments       0.67      0.25      0.36         8\n",
      "                                                                                              Health & Beauty > Personal Care > Cosmetics > Skin Care > Lip Balms & Treatments > Lip Balms       0.00      0.00      0.00         1\n",
      "                                                                                                            Health & Beauty > Personal Care > Cosmetics > Skin Care > Lotion & Moisturizer       0.52      0.39      0.45       231\n",
      "                                                                                                                 Health & Beauty > Personal Care > Cosmetics > Skin Care > Makeup Removers       1.00      0.43      0.60        14\n",
      "                                                                                                         Health & Beauty > Personal Care > Cosmetics > Skin Care > Skin Care Masks & Peels       0.78      0.77      0.77        60\n",
      "                                                                                                                       Health & Beauty > Personal Care > Cosmetics > Skin Care > Sunscreen       0.64      0.79      0.71        67\n",
      "                                                                                                                Health & Beauty > Personal Care > Cosmetics > Skin Care > Tanning Products       0.67      0.62      0.64        29\n",
      "                                                                                                            Health & Beauty > Personal Care > Cosmetics > Skin Care > Toners & Astringents       0.59      0.41      0.48        49\n",
      "                                                                                                                                            Health & Beauty > Personal Care > Cotton Balls       0.75      0.75      0.75         4\n",
      "                                                                                                                                            Health & Beauty > Personal Care > Cotton Swabs       1.00      0.80      0.89         5\n",
      "                                                                                                                             Health & Beauty > Personal Care > Deodorant & Anti-Perspirant       0.89      0.90      0.89       105\n",
      "                                                                                                                                    Health & Beauty > Personal Care > Ear Care > Ear Drops       0.00      0.00      0.00         1\n",
      "                                                                                                                                     Health & Beauty > Personal Care > Ear Care > Earplugs       1.00      0.33      0.50         3\n",
      "                                                                                                                              Health & Beauty > Personal Care > Feminine Sanitary Supplies       1.00      0.50      0.67         6\n",
      "                                                                                                  Health & Beauty > Personal Care > Feminine Sanitary Supplies > Feminine Douches & Creams       0.50      0.20      0.29         5\n",
      "                                                                                                 Health & Beauty > Personal Care > Feminine Sanitary Supplies > Feminine Pads & Protectors       0.77      0.89      0.83        27\n",
      "                                                                                                             Health & Beauty > Personal Care > Feminine Sanitary Supplies > Menstrual Cups       1.00      0.83      0.91         6\n",
      "                                                                                                                    Health & Beauty > Personal Care > Feminine Sanitary Supplies > Tampons       1.00      0.93      0.96        14\n",
      "                                                                                                                                               Health & Beauty > Personal Care > Foot Care       0.00      0.00      0.00         2\n",
      "                                                                                                                 Health & Beauty > Personal Care > Foot Care > Corn & Callus Care Supplies       1.00      0.50      0.67         2\n",
      "                                                                                                                          Health & Beauty > Personal Care > Foot Care > Foot Odor Removers       0.50      1.00      0.67         1\n",
      "                                                                                                                           Health & Beauty > Personal Care > Foot Care > Insoles & Inserts       0.83      1.00      0.91        20\n",
      "                                                                                                                                 Health & Beauty > Personal Care > Foot Care > Toe Spacers       1.00      0.67      0.80         3\n",
      "                                                                                                                                               Health & Beauty > Personal Care > Hair Care       0.67      0.63      0.65       347\n",
      "                                                                                                                              Health & Beauty > Personal Care > Hair Care > Hair Care Kits       0.77      0.48      0.59        21\n",
      "                                                                                                                                  Health & Beauty > Personal Care > Hair Care > Hair Color       0.94      0.97      0.95       119\n",
      "                                                                                                                   Health & Beauty > Personal Care > Hair Care > Hair Coloring Accessories       0.00      0.00      0.00         1\n",
      "                                                                                                                        Health & Beauty > Personal Care > Hair Care > Hair Loss Treatments       0.62      0.42      0.50        19\n",
      "                                                                                                                                 Health & Beauty > Personal Care > Hair Care > Hair Shears       0.00      0.00      0.00         3\n",
      "                                                                                                                       Health & Beauty > Personal Care > Hair Care > Hair Styling Products       0.69      0.68      0.68       204\n",
      "                                                                                                               Health & Beauty > Personal Care > Hair Care > Hair Styling Tool Accessories       0.81      0.77      0.79        70\n",
      "                                                                                                                          Health & Beauty > Personal Care > Hair Care > Hair Styling Tools       0.70      0.88      0.78        97\n",
      "                                                                                                        Health & Beauty > Personal Care > Hair Care > Hair Styling Tools > Combs & Brushes       0.83      0.81      0.82        43\n",
      "                                                                                                          Health & Beauty > Personal Care > Hair Care > Hair Styling Tools > Curling Irons       0.75      0.52      0.62        23\n",
      "                                                                                                           Health & Beauty > Personal Care > Hair Care > Hair Styling Tools > Hair Curlers       0.00      0.00      0.00         1\n",
      "                                                                                                            Health & Beauty > Personal Care > Hair Care > Hair Styling Tools > Hair Dryers       0.50      0.29      0.36         7\n",
      "                                                                                                                       Health & Beauty > Personal Care > Hair Care > Shampoo & Conditioner       0.82      0.88      0.85       728\n",
      "                                                                                                        Health & Beauty > Personal Care > Hair Care > Shampoo & Conditioner > Conditioners       1.00      0.38      0.55         8\n",
      "                                                                                                             Health & Beauty > Personal Care > Hair Care > Shampoo & Conditioner > Shampoo       0.50      0.36      0.42        11\n",
      "                                                                                          Health & Beauty > Personal Care > Hair Care > Shampoo & Conditioner > Shampoo & Conditioner Sets       0.00      0.00      0.00         2\n",
      "                                                                                                                                    Health & Beauty > Personal Care > Massage & Relaxation       0.67      0.38      0.48        16\n",
      "                                                                                                                        Health & Beauty > Personal Care > Massage & Relaxation > Massagers       0.81      0.93      0.87        28\n",
      "                                                                                                                                               Health & Beauty > Personal Care > Oral Care       0.90      0.41      0.56        22\n",
      "                                                                                                                                Health & Beauty > Personal Care > Oral Care > Breath Spray       0.00      0.00      0.00         1\n",
      "                                                                                                                                Health & Beauty > Personal Care > Oral Care > Dental Floss       0.86      0.92      0.89        13\n",
      "                                                                                                                          Health & Beauty > Personal Care > Oral Care > Dental Mouthguards       0.00      0.00      0.00         4\n",
      "                                                                                                                           Health & Beauty > Personal Care > Oral Care > Dental Water Jets       0.80      1.00      0.89         4\n",
      "                                                                                                                           Health & Beauty > Personal Care > Oral Care > Denture Adhesives       1.00      0.67      0.80         3\n",
      "                                                                                                                            Health & Beauty > Personal Care > Oral Care > Denture Cleaners       1.00      1.00      1.00         1\n",
      "                                                                                                                                   Health & Beauty > Personal Care > Oral Care > Mouthwash       0.83      0.92      0.87        26\n",
      "                                                                                                                             Health & Beauty > Personal Care > Oral Care > Teeth Whiteners       0.64      0.78      0.70         9\n",
      "                                                                                                                             Health & Beauty > Personal Care > Oral Care > Tongue Scrapers       0.00      0.00      0.00         2\n",
      "                                                                                                                      Health & Beauty > Personal Care > Oral Care > Toothbrush Accessories       0.71      0.92      0.80        13\n",
      "                                                                                                                                Health & Beauty > Personal Care > Oral Care > Toothbrushes       0.82      0.91      0.86        54\n",
      "                                                                                                                                  Health & Beauty > Personal Care > Oral Care > Toothpaste       0.91      0.95      0.93        76\n",
      "                                                                                                                                  Health & Beauty > Personal Care > Oral Care > Toothpicks       1.00      0.50      0.67         2\n",
      "                                                                                                                                     Health & Beauty > Personal Care > Personal Lubricants       0.94      0.98      0.96        50\n",
      "                                                                                                                                      Health & Beauty > Personal Care > Shaving & Grooming       0.65      0.81      0.72        32\n",
      "                                                                                                                         Health & Beauty > Personal Care > Shaving & Grooming > Aftershave       0.00      0.00      0.00         1\n",
      "                                                                                                                       Health & Beauty > Personal Care > Shaving & Grooming > Hair Removal       0.72      0.68      0.70        63\n",
      "                                                                                                              Health & Beauty > Personal Care > Shaving & Grooming > Razors & Razor Blades       0.69      0.76      0.72        29\n",
      "                                                                                                                      Health & Beauty > Personal Care > Shaving & Grooming > Shaving Cream       0.89      0.77      0.83        22\n",
      "                                                                                                                       Health & Beauty > Personal Care > Shaving & Grooming > Shaving Kits       0.00      0.00      0.00         3\n",
      "                                                                                                                                           Health & Beauty > Personal Care > Sleeping Aids       0.00      0.00      0.00         5\n",
      "                                                                                                                               Health & Beauty > Personal Care > Sleeping Aids > Eye Masks       1.00      0.82      0.90        11\n",
      "                                                                                                              Health & Beauty > Personal Care > Sleeping Aids > Snoring & Sleep Apnea Aids       1.00      1.00      1.00         3\n",
      "                                                                                                                          Health & Beauty > Personal Care > Sleeping Aids > Travel Pillows       0.80      0.40      0.53        10\n",
      "                                                                                                                    Health & Beauty > Personal Care > Sleeping Aids > White Noise Machines       0.91      0.91      0.91        11\n",
      "                                                                                                                                             Health & Beauty > Personal Care > Vision Care       0.00      0.00      0.00         2\n",
      "                                                                                                                         Health & Beauty > Personal Care > Vision Care > Contact Lens Care       1.00      1.00      1.00         7\n",
      "                                                                                                                            Health & Beauty > Personal Care > Vision Care > Contact Lenses       1.00      0.97      0.98        31\n",
      "                                                                                                                    Health & Beauty > Personal Care > Vision Care > Eye Drops & Lubricants       0.89      1.00      0.94        17\n",
      "                                                                                                                                Health & Beauty > Personal Care > Vision Care > Eyeglasses       0.96      0.95      0.95      1043\n",
      "                                                                                                                       Health & Beauty > Personal Care > Vision Care > Eyewear Accessories       1.00      0.67      0.80         3\n",
      "                                                                                                                                                      Home & Garden > Bathroom Accessories       0.97      0.88      0.92       318\n",
      "                                                                                                                                       Home & Garden > Bathroom Accessories > Bath Caddies       0.00      0.00      0.00         1\n",
      "                                                                                                                                   Home & Garden > Bathroom Accessories > Bath Mats & Rugs       0.92      0.97      0.94       211\n",
      "                                                                                                                                       Home & Garden > Bathroom Accessories > Bath Pillows       0.00      0.00      0.00         1\n",
      "                                                                                                                            Home & Garden > Bathroom Accessories > Bathroom Accessory Sets       0.80      0.83      0.82        24\n",
      "                                                                                                                              Home & Garden > Bathroom Accessories > Facial Tissue Holders       1.00      1.00      1.00         3\n",
      "                                                                                                                                  Home & Garden > Bathroom Accessories > Medicine Cabinets       1.00      0.83      0.91        18\n",
      "                                                                                                                                         Home & Garden > Bathroom Accessories > Robe Hooks       1.00      0.50      0.67         2\n",
      "                                                                                                                                   Home & Garden > Bathroom Accessories > Safety Grab Bars       0.94      1.00      0.97        32\n",
      "                                                                                                                               Home & Garden > Bathroom Accessories > Shower Curtain Rings       0.50      0.80      0.62         5\n",
      "                                                                                                                                    Home & Garden > Bathroom Accessories > Shower Curtains       0.94      0.94      0.94       156\n",
      "                                                                                                                                        Home & Garden > Bathroom Accessories > Shower Rods       0.90      1.00      0.95         9\n",
      "                                                                                                                           Home & Garden > Bathroom Accessories > Soap & Lotion Dispensers       0.78      0.88      0.83        33\n",
      "                                                                                                                              Home & Garden > Bathroom Accessories > Soap Dishes & Holders       1.00      0.57      0.73         7\n",
      "                                                                                                                           Home & Garden > Bathroom Accessories > Toilet Brushes & Holders       0.88      0.88      0.88        17\n",
      "                                                                                                                               Home & Garden > Bathroom Accessories > Toilet Paper Holders       0.94      0.79      0.86        19\n",
      "                                                                                                                                 Home & Garden > Bathroom Accessories > Toothbrush Holders       0.84      0.84      0.84        19\n",
      "                                                                                                                              Home & Garden > Bathroom Accessories > Towel Racks & Holders       1.00      0.67      0.80        18\n",
      "                                                                                                                                                  Home & Garden > Business & Home Security       0.79      0.83      0.81        36\n",
      "                                                                                                                                Home & Garden > Business & Home Security > Security Lights       1.00      1.00      1.00         1\n",
      "                                                                                                                  Home & Garden > Business & Home Security > Security Monitors & Recorders       0.75      0.38      0.50         8\n",
      "                                                                                                                                 Home & Garden > Business & Home Security > Security Safes       1.00      0.88      0.93         8\n",
      "                                                                                                                        Home & Garden > Business & Home Security > Security System Sensors       1.00      1.00      1.00         1\n",
      "                                                                                                                                                                     Home & Garden > Decor       0.63      0.46      0.53       166\n",
      "                                                                                                                                                     Home & Garden > Decor > Address Signs       1.00      1.00      1.00         3\n",
      "                                                                                                                                                  Home & Garden > Decor > Artificial Flora       1.00      1.00      1.00         1\n",
      "                                                                                                                                                           Home & Garden > Decor > Artwork       0.64      0.66      0.65        90\n",
      "                                                                                                                                   Home & Garden > Decor > Artwork > Decorative Tapestries       0.50      0.25      0.33         4\n",
      "                                                                                                                       Home & Garden > Decor > Artwork > Posters, Prints, & Visual Artwork       0.91      0.87      0.89       231\n",
      "                                                                                                                                    Home & Garden > Decor > Artwork > Sculptures & Statues       0.89      0.62      0.73        13\n",
      "                                                                                                                                                  Home & Garden > Decor > Backrest Pillows       1.00      0.83      0.91         6\n",
      "                                                                                                                                                           Home & Garden > Decor > Baskets       0.73      0.82      0.78        74\n",
      "                                                                                                                                           Home & Garden > Decor > Bird & Wildlife Feeders       1.00      0.33      0.50         3\n",
      "                                                                                                                            Home & Garden > Decor > Bird & Wildlife Feeders > Bird Feeders       0.86      0.60      0.71        10\n",
      "                                                                                                                                            Home & Garden > Decor > Bird & Wildlife Houses       1.00      1.00      1.00         1\n",
      "                                                                                                                               Home & Garden > Decor > Bird & Wildlife Houses > Birdhouses       1.00      0.80      0.89         5\n",
      "                                                                                                                                                        Home & Garden > Decor > Bird Baths       0.80      0.80      0.80        10\n",
      "                                                                                                                                                          Home & Garden > Decor > Bookends       1.00      0.33      0.50         6\n",
      "                                                                                                                                             Home & Garden > Decor > Chair & Sofa Cushions       0.86      0.95      0.90       111\n",
      "                                                                                                                                                            Home & Garden > Decor > Clocks       0.00      0.00      0.00         2\n",
      "                                                                                                                                             Home & Garden > Decor > Clocks > Alarm Clocks       0.60      0.75      0.67         4\n",
      "                                                                                                                                      Home & Garden > Decor > Clocks > Desk & Shelf Clocks       1.00      0.60      0.75         5\n",
      "                                                                                                                                              Home & Garden > Decor > Clocks > Wall Clocks       0.93      0.97      0.95        39\n",
      "                                                                                                                                                  Home & Garden > Decor > Coat & Hat Racks       0.64      0.58      0.61        12\n",
      "                                                                                                                                                  Home & Garden > Decor > Decorative Bowls       0.00      0.00      0.00         3\n",
      "                                                                                                                                                   Home & Garden > Decor > Decorative Jars       0.00      0.00      0.00         1\n",
      "                                                                                                                                                 Home & Garden > Decor > Decorative Plates       1.00      0.20      0.33         5\n",
      "                                                                                                                                                  Home & Garden > Decor > Decorative Trays       0.33      0.29      0.31         7\n",
      "                                                                                                                                                         Home & Garden > Decor > Door Mats       0.92      0.98      0.95        55\n",
      "                                                                                                                                                         Home & Garden > Decor > Figurines       0.73      0.48      0.58        23\n",
      "                                                                                       Home & Garden > Decor > Flag & Windsock Accessories > Flag & Windsock Pole Mounting Hardware & Kits       1.00      1.00      1.00         1\n",
      "                                                                                                                                                 Home & Garden > Decor > Flags & Windsocks       0.60      0.38      0.46         8\n",
      "                                                                                                                   Home & Garden > Decor > Fountains & Ponds > Fountain & Pond Accessories       0.25      0.50      0.33         2\n",
      "                                                                                                                        Home & Garden > Decor > Fountains & Ponds > Fountains & Waterfalls       0.82      0.82      0.82        11\n",
      "                                                                                                                                         Home & Garden > Decor > Fountains & Ponds > Ponds       0.00      0.00      0.00         1\n",
      "                                                                                                                                          Home & Garden > Decor > Garden & Stepping Stones       1.00      1.00      1.00         1\n",
      "                                                                                                                                                     Home & Garden > Decor > Growth Charts       0.00      0.00      0.00         1\n",
      "                                                                                                                                                 Home & Garden > Decor > Home Decor Decals       0.77      0.79      0.78        29\n",
      "                                                                                                                 Home & Garden > Decor > Home Fragrance Accessories > Candle & Oil Warmers       1.00      1.00      1.00         4\n",
      "                                                                                                                       Home & Garden > Decor > Home Fragrance Accessories > Candle Holders       0.84      0.88      0.86        24\n",
      "                                                                                                                      Home & Garden > Decor > Home Fragrance Accessories > Candle Snuffers       0.00      0.00      0.00         1\n",
      "                                                                                                                                                   Home & Garden > Decor > Home Fragrances       1.00      0.89      0.94         9\n",
      "                                                                                                                                  Home & Garden > Decor > Home Fragrances > Air Fresheners       0.83      0.94      0.88        95\n",
      "                                                                                                                                         Home & Garden > Decor > Home Fragrances > Candles       0.93      0.97      0.95       197\n",
      "                                                                                                                                   Home & Garden > Decor > Home Fragrances > Fragrance Oil       0.93      0.82      0.88        17\n",
      "                                                                                                                                         Home & Garden > Decor > Home Fragrances > Incense       0.00      0.00      0.00         3\n",
      "                                                                                                                                       Home & Garden > Decor > Home Fragrances > Potpourri       1.00      0.60      0.75         5\n",
      "                                                                                                                                Home & Garden > Decor > Lawn Ornaments & Garden Sculptures       0.65      0.80      0.72        35\n",
      "                                                                                                                                               Home & Garden > Decor > Mailbox Accessories       0.00      0.00      0.00         1\n",
      "                                                                                                                                                         Home & Garden > Decor > Mailboxes       1.00      0.80      0.89         5\n",
      "                                                                                                                                                           Home & Garden > Decor > Mirrors       0.87      0.99      0.92       137\n",
      "                                                                                                                                                      Home & Garden > Decor > Napkin Rings       1.00      1.00      1.00         2\n",
      "                                                                                                                                                  Home & Garden > Decor > Ottoman Cushions       0.67      0.17      0.27        12\n",
      "                                                                                                                                                    Home & Garden > Decor > Picture Frames       0.92      0.97      0.94       150\n",
      "                                                                                                                                          Home & Garden > Decor > Piggy Banks & Money Jars       0.75      0.60      0.67         5\n",
      "                                                                                                                                                       Home & Garden > Decor > Rain Gauges       0.00      0.00      0.00         2\n",
      "                                                                                                                                              Home & Garden > Decor > Refrigerator Magnets       1.00      0.17      0.29         6\n",
      "                                                                                                                                                              Home & Garden > Decor > Rugs       0.99      0.99      0.99      2032\n",
      "                                                                                                                                    Home & Garden > Decor > Seasonal & Holiday Decorations       0.58      0.65      0.62        49\n",
      "                                                                                                                 Home & Garden > Decor > Seasonal & Holiday Decorations > Advent Calendars       1.00      1.00      1.00         1\n",
      "                                                                                                            Home & Garden > Decor > Seasonal & Holiday Decorations > Christmas Tree Stands       0.00      0.00      0.00         1\n",
      "                                                                                                           Home & Garden > Decor > Seasonal & Holiday Decorations > Holiday Ornament Hooks       0.00      0.00      0.00         1\n",
      "                                                                                                                Home & Garden > Decor > Seasonal & Holiday Decorations > Holiday Ornaments       0.85      0.62      0.72        37\n",
      "                                                                                                                Home & Garden > Decor > Seasonal & Holiday Decorations > Holiday Stockings       1.00      0.50      0.67         4\n",
      "                                                                                                                    Home & Garden > Decor > Seasonal & Holiday Decorations > Nativity Sets       0.00      0.00      0.00         1\n",
      "                                                                                              Home & Garden > Decor > Seasonal & Holiday Decorations > Seasonal Village Sets & Accessories       0.67      0.50      0.57         4\n",
      "                                                                                                                                                      Home & Garden > Decor > Shadow Boxes       0.80      1.00      0.89         4\n",
      "                                                                                                                                                        Home & Garden > Decor > Slipcovers       1.00      0.95      0.98        21\n",
      "                                                                                                                                                       Home & Garden > Decor > Snow Globes       0.00      0.00      0.00         1\n",
      "                                                                                                                                                       Home & Garden > Decor > Suncatchers       0.00      0.00      0.00         2\n",
      "                                                                                                                                                     Home & Garden > Decor > Throw Pillows       0.88      0.95      0.91       393\n",
      "                                                                                                                                     Home & Garden > Decor > Vase Fillers & Table Scatters       1.00      0.50      0.67         4\n",
      "                                                                                                                                                             Home & Garden > Decor > Vases       0.86      0.89      0.87        35\n",
      "                                                                                                                                                         Home & Garden > Decor > Wallpaper       0.94      0.96      0.95        69\n",
      "                                                                                                                                                       Home & Garden > Decor > Wind Chimes       0.50      0.75      0.60         4\n",
      "                                                                                                                                            Home & Garden > Decor > Wind Wheels & Spinners       1.00      0.33      0.50         3\n",
      "                                                                                                                                      Home & Garden > Decor > Window Treatment Accessories       0.00      0.00      0.00         1\n",
      "                                                                                                              Home & Garden > Decor > Window Treatment Accessories > Curtain & Drape Rings       1.00      0.17      0.29         6\n",
      "                                                                                                               Home & Garden > Decor > Window Treatment Accessories > Curtain & Drape Rods       0.91      0.98      0.95        63\n",
      "                                                                                                        Home & Garden > Decor > Window Treatment Accessories > Curtain Holdbacks & Tassels       0.00      0.00      0.00         3\n",
      "                                                                                                                             Home & Garden > Decor > Window Treatments > Curtains & Drapes       0.98      0.99      0.98       493\n",
      "                                                                                                                        Home & Garden > Decor > Window Treatments > Window Blinds & Shades       0.98      1.00      0.99        54\n",
      "                                                                                                                                  Home & Garden > Decor > Window Treatments > Window Films       1.00      1.00      1.00         1\n",
      "                                                                                                                    Home & Garden > Decor > Window Treatments > Window Valances & Cornices       0.84      0.75      0.79        36\n",
      "                                                                                                                                                      Home & Garden > Decor > World Globes       0.00      0.00      0.00         4\n",
      "                                                                                                                                                Home & Garden > Decor > Wreaths & Garlands       0.74      0.77      0.75        26\n",
      "                                                                                                                              Home & Garden > Emergency Preparedness > Emergency Food Kits       0.00      0.00      0.00         1\n",
      "                                                                                                                                Home & Garden > Emergency Preparedness > Furniture Anchors       0.00      0.00      0.00         1\n",
      "                                                                                                                                        Home & Garden > Fireplace & Wood Stove Accessories       1.00      0.50      0.67        10\n",
      "                                                                                                                    Home & Garden > Fireplace & Wood Stove Accessories > Fireplace Screens       1.00      0.60      0.75         5\n",
      "                                                                                                                      Home & Garden > Fireplace & Wood Stove Accessories > Firewood & Fuel       0.00      0.00      0.00         7\n",
      "                                                                                                                 Home & Garden > Fireplace & Wood Stove Accessories > Log Racks & Carriers       0.50      1.00      0.67         1\n",
      "                                                                                                                                                                Home & Garden > Fireplaces       0.88      0.97      0.93        39\n",
      "                                                                                                              Home & Garden > Flood, Fire & Gas Safety > Smoke & Carbon Monoxide Detectors       0.56      1.00      0.71         5\n",
      "                                                                                                                                           Home & Garden > Household Appliance Accessories       0.00      0.00      0.00         4\n",
      "                                                                                                             Home & Garden > Household Appliance Accessories > Air Conditioner Accessories       1.00      0.90      0.95        10\n",
      "                                                                                                                Home & Garden > Household Appliance Accessories > Air Purifier Accessories       0.00      0.00      0.00         2\n",
      "                                                                                         Home & Garden > Household Appliance Accessories > Air Purifier Accessories > Air Purifier Filters       0.00      0.00      0.00         1\n",
      "                                                                                                                         Home & Garden > Household Appliance Accessories > Fan Accessories       0.00      0.00      0.00         3\n",
      "                                                                                                       Home & Garden > Household Appliance Accessories > Floor & Steam Cleaner Accessories       0.00      0.00      0.00         1\n",
      "                                                                                                            Home & Garden > Household Appliance Accessories > Heating Radiator Accessories       1.00      1.00      1.00         2\n",
      "                                                                                                                  Home & Garden > Household Appliance Accessories > Humidifier Accessories       0.00      0.00      0.00         2\n",
      "                                                                                                                Home & Garden > Household Appliance Accessories > Patio Heater Accessories       1.00      0.50      0.67         2\n",
      "                                                                                                                      Home & Garden > Household Appliance Accessories > Vacuum Accessories       1.00      0.20      0.33         5\n",
      "                                                                                                                                                      Home & Garden > Household Appliances       1.00      0.33      0.50         3\n",
      "                                                                                                                         Home & Garden > Household Appliances > Climate Control Appliances       0.00      0.00      0.00         2\n",
      "                                                                                                      Home & Garden > Household Appliances > Climate Control Appliances > Air Conditioners       0.75      1.00      0.86        12\n",
      "                                                                                                         Home & Garden > Household Appliances > Climate Control Appliances > Air Purifiers       0.73      0.84      0.78        19\n",
      "                                                                                                         Home & Garden > Household Appliances > Climate Control Appliances > Dehumidifiers       0.00      0.00      0.00         1\n",
      "                                                                                                   Home & Garden > Household Appliances > Climate Control Appliances > Evaporative Coolers       0.50      0.43      0.46         7\n",
      "                                                                                                                  Home & Garden > Household Appliances > Climate Control Appliances > Fans       0.80      0.89      0.84        45\n",
      "                                                                                                   Home & Garden > Household Appliances > Climate Control Appliances > Fans > Ceiling Fans       0.95      0.98      0.97       102\n",
      "                                                                                           Home & Garden > Household Appliances > Climate Control Appliances > Fans > Desk & Pedestal Fans       0.00      0.00      0.00         2\n",
      "                                                                                                           Home & Garden > Household Appliances > Climate Control Appliances > Humidifiers       0.91      1.00      0.95        10\n",
      "                                                                                                         Home & Garden > Household Appliances > Climate Control Appliances > Patio Heaters       0.83      0.45      0.59        11\n",
      "                                                                                                         Home & Garden > Household Appliances > Climate Control Appliances > Space Heaters       0.57      0.57      0.57         7\n",
      "                                                                                                                             Home & Garden > Household Appliances > Floor & Steam Cleaners       0.29      0.33      0.31         6\n",
      "                                                                                                                                Home & Garden > Household Appliances > Garage Door Openers       1.00      1.00      1.00         1\n",
      "                                                                                                                        Home & Garden > Household Appliances > Laundry Appliances > Dryers       1.00      1.00      1.00         8\n",
      "                                                                                                              Home & Garden > Household Appliances > Laundry Appliances > Garment Steamers       0.60      0.60      0.60         5\n",
      "                                                                                                       Home & Garden > Household Appliances > Laundry Appliances > Irons & Ironing Systems       0.80      0.80      0.80         5\n",
      "                                                                                                              Home & Garden > Household Appliances > Laundry Appliances > Washing Machines       1.00      0.83      0.91         6\n",
      "                                                                                                                                            Home & Garden > Household Appliances > Vacuums       0.85      0.96      0.90        47\n",
      "                                                                                                                                                        Home & Garden > Household Supplies       0.80      0.50      0.62        16\n",
      "                                                                                                                                Home & Garden > Household Supplies > Drawer & Shelf Liners       1.00      1.00      1.00         8\n",
      "                                                                                                                           Home & Garden > Household Supplies > Furniture Floor Protectors       0.67      0.57      0.62         7\n",
      "                                                                                                                                         Home & Garden > Household Supplies > Garbage Bags       0.97      0.97      0.97        39\n",
      "                                                                                                                          Home & Garden > Household Supplies > Household Cleaning Supplies       0.77      0.67      0.71        30\n",
      "                                                                                                                 Home & Garden > Household Supplies > Household Cleaning Supplies > Brooms       0.40      0.50      0.44         4\n",
      "                                                                                                                Home & Garden > Household Supplies > Household Cleaning Supplies > Buckets       1.00      0.29      0.44        14\n",
      "                                                                                                        Home & Garden > Household Supplies > Household Cleaning Supplies > Carpet Sweepers       0.00      0.00      0.00         1\n",
      "                                                                                                        Home & Garden > Household Supplies > Household Cleaning Supplies > Cleaning Gloves       1.00      0.67      0.80         6\n",
      "                                                                                                         Home & Garden > Household Supplies > Household Cleaning Supplies > Duster Refills       0.00      0.00      0.00         0\n",
      "                                                                                                                Home & Garden > Household Supplies > Household Cleaning Supplies > Dusters       1.00      0.10      0.18        10\n",
      "                                                                                                               Home & Garden > Household Supplies > Household Cleaning Supplies > Dustpans       0.33      1.00      0.50         1\n",
      "                                                                                         Home & Garden > Household Supplies > Household Cleaning Supplies > Fabric & Upholstery Protectors       1.00      0.50      0.67         2\n",
      "                                                                                            Home & Garden > Household Supplies > Household Cleaning Supplies > Household Cleaning Products       0.69      0.90      0.78       142\n",
      "                                                                     Home & Garden > Household Supplies > Household Cleaning Supplies > Household Cleaning Products > All-Purpose Cleaners       0.29      0.20      0.24        10\n",
      "                                                                          Home & Garden > Household Supplies > Household Cleaning Supplies > Household Cleaning Products > Carpet Cleaners       0.00      0.00      0.00         1\n",
      "                                                                    Home & Garden > Household Supplies > Household Cleaning Supplies > Household Cleaning Products > Dish Detergent & Soap       1.00      0.50      0.67         2\n",
      "                                                                      Home & Garden > Household Supplies > Household Cleaning Supplies > Household Cleaning Products > Dishwasher Cleaners       0.00      0.00      0.00         1\n",
      "                                                             Home & Garden > Household Supplies > Household Cleaning Supplies > Household Cleaning Products > Fabric & Upholstery Cleaners       0.00      0.00      0.00         1\n",
      "                                                                           Home & Garden > Household Supplies > Household Cleaning Supplies > Household Cleaning Products > Floor Cleaners       0.00      0.00      0.00         2\n",
      "                                                                    Home & Garden > Household Supplies > Household Cleaning Supplies > Household Cleaning Products > Oven & Grill Cleaners       0.00      0.00      0.00         3\n",
      "                                                                Home & Garden > Household Supplies > Household Cleaning Supplies > Household Cleaning Products > Pet Odor & Stain Removers       0.48      0.68      0.57        19\n",
      "                                                                               Home & Garden > Household Supplies > Household Cleaning Supplies > Household Cleaning Products > Rinse Aids       0.00      0.00      0.00         1\n",
      "                                                                     Home & Garden > Household Supplies > Household Cleaning Supplies > Household Cleaning Products > Toilet Bowl Cleaners       1.00      1.00      1.00         1\n",
      "                                                                      Home & Garden > Household Supplies > Household Cleaning Supplies > Household Cleaning Products > Tub & Tile Cleaners       1.00      0.33      0.50         3\n",
      "                                                                 Home & Garden > Household Supplies > Household Cleaning Supplies > Household Cleaning Products > Washing Machine Cleaners       0.00      0.00      0.00         1\n",
      "                                                                                                    Home & Garden > Household Supplies > Household Cleaning Supplies > Mop Heads & Refills       0.55      0.73      0.63        15\n",
      "                                                                                                                   Home & Garden > Household Supplies > Household Cleaning Supplies > Mops       0.50      0.33      0.40        15\n",
      "                                                                                                          Home & Garden > Household Supplies > Household Cleaning Supplies > Scrub Brushes       0.50      0.36      0.42        11\n",
      "                                                                          Home & Garden > Household Supplies > Household Cleaning Supplies > Shop Towels & General-Purpose Cleaning Cloths       1.00      0.50      0.67         8\n",
      "                                                                                                Home & Garden > Household Supplies > Household Cleaning Supplies > Sponges & Scouring Pads       0.80      0.76      0.78        21\n",
      "                                                                                                              Home & Garden > Household Supplies > Household Cleaning Supplies > Squeegees       0.00      0.00      0.00         5\n",
      "                                                                                                            Home & Garden > Household Supplies > Household Paper Products > Facial Tissues       1.00      0.44      0.62         9\n",
      "                                                                                                             Home & Garden > Household Supplies > Household Paper Products > Paper Napkins       0.88      0.95      0.91        56\n",
      "                                                                                                              Home & Garden > Household Supplies > Household Paper Products > Paper Towels       0.78      0.88      0.82         8\n",
      "                                                                                                              Home & Garden > Household Supplies > Household Paper Products > Toilet Paper       1.00      0.75      0.86         8\n",
      "                                                                                                                               Home & Garden > Household Supplies > Household Thermometers       1.00      0.50      0.67         2\n",
      "                                                                                                                                     Home & Garden > Household Supplies > Laundry Supplies       0.67      0.67      0.67         6\n",
      "                                                                                                                            Home & Garden > Household Supplies > Laundry Supplies > Bleach       1.00      0.67      0.80         6\n",
      "                                                                                                                       Home & Garden > Household Supplies > Laundry Supplies > Clothespins       1.00      0.25      0.40         4\n",
      "                                                                                                            Home & Garden > Household Supplies > Laundry Supplies > Drying Racks & Hangers       0.89      0.73      0.80        11\n",
      "                                                                                                                 Home & Garden > Household Supplies > Laundry Supplies > Fabric Refreshers       1.00      0.71      0.83         7\n",
      "                                                                                                                    Home & Garden > Household Supplies > Laundry Supplies > Fabric Shavers       0.00      0.00      0.00         1\n",
      "                                                                                                   Home & Garden > Household Supplies > Laundry Supplies > Fabric Softeners & Dryer Sheets       0.88      0.93      0.90        15\n",
      "                                                                                                             Home & Garden > Household Supplies > Laundry Supplies > Fabric Stain Removers       0.70      0.58      0.64        12\n",
      "                                                                                                       Home & Garden > Household Supplies > Laundry Supplies > Ironing Board Pads & Covers       1.00      1.00      1.00         2\n",
      "                                                                                                                    Home & Garden > Household Supplies > Laundry Supplies > Ironing Boards       1.00      1.00      1.00         3\n",
      "                                                                                                                   Home & Garden > Household Supplies > Laundry Supplies > Laundry Baskets       0.82      0.89      0.86        37\n",
      "                                                                                                                 Home & Garden > Household Supplies > Laundry Supplies > Laundry Detergent       0.85      0.93      0.88        54\n",
      "                                                                                                        Home & Garden > Household Supplies > Laundry Supplies > Laundry Wash Bags & Frames       1.00      1.00      1.00         2\n",
      "                                                                                                                      Home & Garden > Household Supplies > Laundry Supplies > Lint Rollers       1.00      0.78      0.88         9\n",
      "                                                                                            Home & Garden > Household Supplies > Laundry Supplies > Wrinkle Releasers & Anti-Static Sprays       0.00      0.00      0.00         1\n",
      "                                                                                                                                   Home & Garden > Household Supplies > Moisture Absorbers       1.00      1.00      1.00         2\n",
      "                                                                                                                                         Home & Garden > Household Supplies > Pest Control       0.83      0.62      0.71         8\n",
      "                                                                                                                    Home & Garden > Household Supplies > Pest Control > Pest Control Traps       0.89      0.89      0.89         9\n",
      "                                                                                                                            Home & Garden > Household Supplies > Pest Control > Pesticides       0.69      0.82      0.75        11\n",
      "                                                                                                                            Home & Garden > Household Supplies > Pest Control > Repellents       0.80      0.50      0.62        16\n",
      "                                                                                                                                             Home & Garden > Household Supplies > Rug Pads       0.88      0.92      0.90        24\n",
      "                                                                                                                                    Home & Garden > Household Supplies > Shoe Care & Tools       0.71      0.83      0.77         6\n",
      "                                                                                                                               Home & Garden > Household Supplies > Storage & Organization       0.56      0.75      0.64        83\n",
      "                                                                                                   Home & Garden > Household Supplies > Storage & Organization > Clothing & Closet Storage       0.84      0.91      0.87       111\n",
      "                                                                                  Home & Garden > Household Supplies > Storage & Organization > Clothing & Closet Storage > Clothes Valets       0.00      0.00      0.00         1\n",
      "                                                                                          Home & Garden > Household Supplies > Storage & Organization > Household Drawer Organizer Inserts       0.59      0.63      0.61        52\n",
      "                                                                                                      Home & Garden > Household Supplies > Storage & Organization > Household Storage Bags       1.00      0.62      0.77         8\n",
      "                                                                                                Home & Garden > Household Supplies > Storage & Organization > Household Storage Containers       0.80      0.84      0.82       152\n",
      "                                                                                                   Home & Garden > Household Supplies > Storage & Organization > Household Storage Drawers       0.83      0.77      0.80        26\n",
      "                                                                                                               Home & Garden > Household Supplies > Storage & Organization > Photo Storage       0.87      0.68      0.76        19\n",
      "                                                                                                       Home & Garden > Household Supplies > Storage & Organization > Storage Hooks & Racks       0.67      0.72      0.69        53\n",
      "                                                                                                                          Home & Garden > Household Supplies > Trash Compactor Accessories       1.00      0.67      0.80         3\n",
      "                                                                                                             Home & Garden > Household Supplies > Waste Containment > Recycling Containers       0.00      0.00      0.00         2\n",
      "                                                                                                        Home & Garden > Household Supplies > Waste Containment > Trash Cans & Wastebaskets       0.91      0.91      0.91       105\n",
      "                                                                                       Home & Garden > Household Supplies > Waste Containment Accessories > Waste Container Labels & Signs       0.00      0.00      0.00         1\n",
      "                                                                                                                                                          Home & Garden > Kitchen & Dining       0.50      0.21      0.30        14\n",
      "                                                                                                                                                Home & Garden > Kitchen & Dining > Barware       0.60      0.43      0.50         7\n",
      "                                                                                                             Home & Garden > Kitchen & Dining > Barware > Beverage Chilling Cubes & Sticks       0.00      0.00      0.00         1\n",
      "                                                                                                                     Home & Garden > Kitchen & Dining > Barware > Beverage Tubs & Chillers       0.89      0.62      0.73        13\n",
      "                                                                                                                     Home & Garden > Kitchen & Dining > Barware > Bottle Stoppers & Savers       0.00      0.00      0.00         1\n",
      "                                                                                                                                     Home & Garden > Kitchen & Dining > Barware > Coasters       0.92      0.77      0.84        31\n",
      "                                                                                                                 Home & Garden > Kitchen & Dining > Barware > Cocktail & Barware Tool Sets       1.00      1.00      1.00         2\n",
      "                                                                                                                     Home & Garden > Kitchen & Dining > Barware > Cocktail Shakers & Tools       0.40      0.50      0.44         4\n",
      "                                                                                                    Home & Garden > Kitchen & Dining > Barware > Cocktail Shakers & Tools > Bottle Openers       0.00      0.00      0.00         1\n",
      "                                                                                                                                   Home & Garden > Kitchen & Dining > Barware > Corkscrews       0.00      0.00      0.00         2\n",
      "                                                                                                                                    Home & Garden > Kitchen & Dining > Barware > Decanters       0.00      0.00      0.00         1\n",
      "                                                                                                                                Home & Garden > Kitchen & Dining > Barware > Wine Aerators       0.00      0.00      0.00         1\n",
      "                                                                                                                            Home & Garden > Kitchen & Dining > Barware > Wine Glass Charms       0.00      0.00      0.00         1\n",
      "                                                                                                                                    Home & Garden > Kitchen & Dining > Cookware & Bakeware       0.00      0.00      0.00         1\n",
      "                                                                                                                         Home & Garden > Kitchen & Dining > Cookware & Bakeware > Bakeware       0.80      0.89      0.84        76\n",
      "                                                                                                         Home & Garden > Kitchen & Dining > Cookware & Bakeware > Bakeware > Bakeware Sets       0.00      0.00      0.00         1\n",
      "                                                                                                            Home & Garden > Kitchen & Dining > Cookware & Bakeware > Bakeware > Pizza Pans       1.00      0.33      0.50         3\n",
      "                                                                                                          Home & Garden > Kitchen & Dining > Cookware & Bakeware > Bakeware > Pizza Stones       0.00      0.00      0.00         1\n",
      "                                                                                                         Home & Garden > Kitchen & Dining > Cookware & Bakeware > Bakeware > Roasting Pans       1.00      1.00      1.00         1\n",
      "                                                                                                             Home & Garden > Kitchen & Dining > Cookware & Bakeware > Bakeware Accessories       1.00      0.40      0.57         5\n",
      "                                                                                                                         Home & Garden > Kitchen & Dining > Cookware & Bakeware > Cookware       0.78      0.91      0.84       160\n",
      "                                                                                                         Home & Garden > Kitchen & Dining > Cookware & Bakeware > Cookware > Cookware Sets       0.75      0.50      0.60         6\n",
      "                                                                                                 Home & Garden > Kitchen & Dining > Cookware & Bakeware > Cookware > Griddles & Grill Pans       0.00      0.00      0.00         7\n",
      "                                                                                                            Home & Garden > Kitchen & Dining > Cookware & Bakeware > Cookware > Sauté Pans       0.00      0.00      0.00         3\n",
      "                                                                                                Home & Garden > Kitchen & Dining > Cookware & Bakeware > Cookware > Skillets & Frying Pans       0.67      0.50      0.57         4\n",
      "                                                                                                             Home & Garden > Kitchen & Dining > Cookware & Bakeware > Cookware Accessories       1.00      0.33      0.50         3\n",
      "                                                                                                                               Home & Garden > Kitchen & Dining > Food & Beverage Carriers       0.84      0.92      0.88       219\n",
      "                                                                                                                     Home & Garden > Kitchen & Dining > Food & Beverage Carriers > Coolers       0.67      0.59      0.63        27\n",
      "                                                                                                               Home & Garden > Kitchen & Dining > Food & Beverage Carriers > Drink Sleeves       0.00      0.00      0.00         5\n",
      "                                                                                                                      Home & Garden > Kitchen & Dining > Food & Beverage Carriers > Flasks       0.00      0.00      0.00         5\n",
      "                                                                                                         Home & Garden > Kitchen & Dining > Food & Beverage Carriers > Lunch Boxes & Totes       0.89      0.88      0.88       105\n",
      "                                                                                                              Home & Garden > Kitchen & Dining > Food & Beverage Carriers > Picnic Baskets       1.00      0.25      0.40         4\n",
      "                                                                                                      Home & Garden > Kitchen & Dining > Food & Beverage Carriers > Replacement Drink Lids       1.00      0.50      0.67         4\n",
      "                                                                                                               Home & Garden > Kitchen & Dining > Food & Beverage Carriers > Water Bottles       0.80      0.89      0.84        92\n",
      "                                                                                                           Home & Garden > Kitchen & Dining > Food & Beverage Carriers > Wine Carrier Bags       0.00      0.00      0.00         2\n",
      "                                                                                                                                           Home & Garden > Kitchen & Dining > Food Storage       0.00      0.00      0.00         3\n",
      "                                                                                                                      Home & Garden > Kitchen & Dining > Food Storage > Bread Boxes & Bags       1.00      0.20      0.33         5\n",
      "                                                                                                                   Home & Garden > Kitchen & Dining > Food Storage > Food Container Covers       0.00      0.00      0.00         2\n",
      "                                                                                                                       Home & Garden > Kitchen & Dining > Food Storage > Food Storage Bags       0.91      0.98      0.94        42\n",
      "                                                                                                                 Home & Garden > Kitchen & Dining > Food Storage > Food Storage Containers       0.69      0.79      0.74        91\n",
      "                                                                                                                              Home & Garden > Kitchen & Dining > Food Storage > Food Wraps       0.75      0.60      0.67         5\n",
      "                                                                                                      Home & Garden > Kitchen & Dining > Food Storage Accessories > Food & Beverage Labels       1.00      0.67      0.80         6\n",
      "                                                                                                                          Home & Garden > Kitchen & Dining > Kitchen Appliance Accessories       0.80      0.50      0.62         8\n",
      "                                                                            Home & Garden > Kitchen & Dining > Kitchen Appliance Accessories > Coffee Maker & Espresso Machine Accessories       1.00      0.62      0.77        16\n",
      "                                                                                      Home & Garden > Kitchen & Dining > Kitchen Appliance Accessories > Cooktop, Oven & Range Accessories       0.83      0.42      0.56        12\n",
      "                                                                                                 Home & Garden > Kitchen & Dining > Kitchen Appliance Accessories > Deep Fryer Accessories       1.00      0.50      0.67         2\n",
      "                                                                                         Home & Garden > Kitchen & Dining > Kitchen Appliance Accessories > Dishwasher Parts & Accessories       0.00      0.00      0.00         1\n",
      "                                                                                       Home & Garden > Kitchen & Dining > Kitchen Appliance Accessories > Food Mixer & Blender Accessories       1.00      0.20      0.33         5\n",
      "                                                                                                    Home & Garden > Kitchen & Dining > Kitchen Appliance Accessories > Freezer Accessories       0.00      0.00      0.00         1\n",
      "                                                                                              Home & Garden > Kitchen & Dining > Kitchen Appliance Accessories > Outdoor Grill Accessories       0.58      0.82      0.68       141\n",
      "                                                                        Home & Garden > Kitchen & Dining > Kitchen Appliance Accessories > Outdoor Grill Accessories > Outdoor Grill Carts       0.00      0.00      0.00         3\n",
      "                                                                       Home & Garden > Kitchen & Dining > Kitchen Appliance Accessories > Outdoor Grill Accessories > Outdoor Grill Covers       0.83      0.63      0.72        30\n",
      "                                                              Home & Garden > Kitchen & Dining > Kitchen Appliance Accessories > Outdoor Grill Accessories > Outdoor Grill Racks & Toppers       0.50      0.20      0.29         5\n",
      "                                                            Home & Garden > Kitchen & Dining > Kitchen Appliance Accessories > Outdoor Grill Accessories > Outdoor Grill Replacement Parts       0.79      0.38      0.51        29\n",
      "                                                              Home & Garden > Kitchen & Dining > Kitchen Appliance Accessories > Outdoor Grill Accessories > Outdoor Grill Spits & Baskets       0.00      0.00      0.00         5\n",
      "                                                                    Home & Garden > Kitchen & Dining > Kitchen Appliance Accessories > Outdoor Grill Accessories > Smoking Chips & Pellets       1.00      1.00      1.00        13\n",
      "                                                                                               Home & Garden > Kitchen & Dining > Kitchen Appliance Accessories > Refrigerator Accessories       1.00      0.57      0.73         7\n",
      "                                                                                                 Home & Garden > Kitchen & Dining > Kitchen Appliance Accessories > Soda Maker Accessories       0.00      0.00      0.00         1\n",
      "                                                                                              Home & Garden > Kitchen & Dining > Kitchen Appliance Accessories > Vacuum Sealer Accessories       0.67      1.00      0.80         4\n",
      "                                                                                                Home & Garden > Kitchen & Dining > Kitchen Appliance Accessories > Waffle Iron Accessories       0.00      0.00      0.00         1\n",
      "                                                                                                                                     Home & Garden > Kitchen & Dining > Kitchen Appliances       0.61      0.63      0.62        73\n",
      "                                                                                                                       Home & Garden > Kitchen & Dining > Kitchen Appliances > Breadmakers       1.00      0.67      0.80         3\n",
      "                                                                                                 Home & Garden > Kitchen & Dining > Kitchen Appliances > Coffee Makers & Espresso Machines       0.83      1.00      0.91        55\n",
      "                                                                                                                          Home & Garden > Kitchen & Dining > Kitchen Appliances > Cooktops       0.50      1.00      0.67         1\n",
      "                                                                                                                       Home & Garden > Kitchen & Dining > Kitchen Appliances > Deep Fryers       0.76      0.76      0.76        17\n",
      "                                                                                                                      Home & Garden > Kitchen & Dining > Kitchen Appliances > Deli Slicers       0.00      0.00      0.00         1\n",
      "                                                                                                                       Home & Garden > Kitchen & Dining > Kitchen Appliances > Dishwashers       1.00      1.00      1.00        10\n",
      "                                                                                                        Home & Garden > Kitchen & Dining > Kitchen Appliances > Electric Griddles & Grills       0.00      0.00      0.00         3\n",
      "                                                                                                                  Home & Garden > Kitchen & Dining > Kitchen Appliances > Electric Kettles       0.00      0.00      0.00         1\n",
      "                                                                                                          Home & Garden > Kitchen & Dining > Kitchen Appliances > Electric Skillets & Woks       1.00      0.40      0.57         5\n",
      "                                                                                                                Home & Garden > Kitchen & Dining > Kitchen Appliances > Fondue Pots & Sets       0.00      0.00      0.00         1\n",
      "                                                                                                           Home & Garden > Kitchen & Dining > Kitchen Appliances > Food Cookers & Steamers       0.70      0.84      0.76        25\n",
      "                                                                                            Home & Garden > Kitchen & Dining > Kitchen Appliances > Food Cookers & Steamers > Slow Cookers       1.00      0.25      0.40         4\n",
      "                                                                                                                  Home & Garden > Kitchen & Dining > Kitchen Appliances > Food Dehydrators       1.00      1.00      1.00         1\n",
      "                                                                                                            Home & Garden > Kitchen & Dining > Kitchen Appliances > Food Mixers & Blenders       0.72      0.83      0.77        47\n",
      "                                                                                                                      Home & Garden > Kitchen & Dining > Kitchen Appliances > Food Smokers       0.67      0.67      0.67         6\n",
      "                                                                                                                      Home & Garden > Kitchen & Dining > Kitchen Appliances > Food Warmers       0.00      0.00      0.00         1\n",
      "                                                                                                                          Home & Garden > Kitchen & Dining > Kitchen Appliances > Freezers       1.00      0.83      0.91         6\n",
      "                                                                                                               Home & Garden > Kitchen & Dining > Kitchen Appliances > Frozen Drink Makers       0.00      0.00      0.00         0\n",
      "                                                                                                                 Home & Garden > Kitchen & Dining > Kitchen Appliances > Garbage Disposals       1.00      0.83      0.91         6\n",
      "                                                                                                                      Home & Garden > Kitchen & Dining > Kitchen Appliances > Gas Griddles       0.00      0.00      0.00         2\n",
      "                                                                                                                  Home & Garden > Kitchen & Dining > Kitchen Appliances > Ice Cream Makers       0.75      0.75      0.75         4\n",
      "                                                                                                            Home & Garden > Kitchen & Dining > Kitchen Appliances > Ice Crushers & Shavers       0.00      0.00      0.00         1\n",
      "                                                                                                                        Home & Garden > Kitchen & Dining > Kitchen Appliances > Ice Makers       1.00      1.00      1.00         7\n",
      "                                                                                                                           Home & Garden > Kitchen & Dining > Kitchen Appliances > Juicers       1.00      0.79      0.88        14\n",
      "                                                                                                                  Home & Garden > Kitchen & Dining > Kitchen Appliances > Knife Sharpeners       1.00      0.25      0.40         4\n",
      "                                                                                                                   Home & Garden > Kitchen & Dining > Kitchen Appliances > Microwave Ovens       0.78      0.95      0.86        22\n",
      "                                                                                                          Home & Garden > Kitchen & Dining > Kitchen Appliances > Milk Frothers & Steamers       0.90      1.00      0.95         9\n",
      "                                                                                                                    Home & Garden > Kitchen & Dining > Kitchen Appliances > Outdoor Grills       0.72      0.92      0.81        76\n",
      "                                                                                                                             Home & Garden > Kitchen & Dining > Kitchen Appliances > Ovens       0.50      0.14      0.22         7\n",
      "                                                                                                                    Home & Garden > Kitchen & Dining > Kitchen Appliances > Popcorn Makers       1.00      0.80      0.89         5\n",
      "                                                                                                           Home & Garden > Kitchen & Dining > Kitchen Appliances > Portable Cooking Stoves       0.00      0.00      0.00         2\n",
      "                                                                                                                       Home & Garden > Kitchen & Dining > Kitchen Appliances > Range Hoods       0.64      1.00      0.78        14\n",
      "                                                                                                                            Home & Garden > Kitchen & Dining > Kitchen Appliances > Ranges       0.75      0.43      0.55         7\n",
      "                                                                                                                     Home & Garden > Kitchen & Dining > Kitchen Appliances > Refrigerators       0.83      0.91      0.87        22\n",
      "                                                                                                                       Home & Garden > Kitchen & Dining > Kitchen Appliances > Soda Makers       1.00      1.00      1.00         4\n",
      "                                                                                                                        Home & Garden > Kitchen & Dining > Kitchen Appliances > Tea Makers       0.60      0.75      0.67         4\n",
      "                                                                                                                 Home & Garden > Kitchen & Dining > Kitchen Appliances > Toasters & Grills       0.78      0.90      0.84        42\n",
      "                                                                                    Home & Garden > Kitchen & Dining > Kitchen Appliances > Toasters & Grills > Countertop & Toaster Ovens       1.00      1.00      1.00         1\n",
      "                                                                                          Home & Garden > Kitchen & Dining > Kitchen Appliances > Toasters & Grills > Pizza Makers & Ovens       1.00      0.50      0.67         4\n",
      "                                                                                                      Home & Garden > Kitchen & Dining > Kitchen Appliances > Toasters & Grills > Toasters       1.00      0.33      0.50         3\n",
      "                                                                                                  Home & Garden > Kitchen & Dining > Kitchen Appliances > Toasters & Grills > Waffle Irons       0.00      0.00      0.00         1\n",
      "                                                                                                                    Home & Garden > Kitchen & Dining > Kitchen Appliances > Vacuum Sealers       1.00      0.40      0.57         5\n",
      "                                                                                                                     Home & Garden > Kitchen & Dining > Kitchen Appliances > Water Coolers       0.00      0.00      0.00         1\n",
      "                                                                                                                     Home & Garden > Kitchen & Dining > Kitchen Appliances > Water Filters       1.00      1.00      1.00         1\n",
      "                                                                                                                      Home & Garden > Kitchen & Dining > Kitchen Appliances > Wine Fridges       0.67      1.00      0.80         2\n",
      "                                                                                                                               Home & Garden > Kitchen & Dining > Kitchen Tools & Utensils       0.59      0.38      0.46        45\n",
      "                                                                                                                      Home & Garden > Kitchen & Dining > Kitchen Tools & Utensils > Aprons       1.00      0.50      0.67         6\n",
      "                                                                                                                Home & Garden > Kitchen & Dining > Kitchen Tools & Utensils > Baking Peels       0.00      0.00      0.00         1\n",
      "                                                                                                                     Home & Garden > Kitchen & Dining > Kitchen Tools & Utensils > Basters       0.00      0.00      0.00         2\n",
      "                                                                                                             Home & Garden > Kitchen & Dining > Kitchen Tools & Utensils > Basting Brushes       1.00      0.67      0.80         3\n",
      "                                                                                                         Home & Garden > Kitchen & Dining > Kitchen Tools & Utensils > Beverage Dispensers       1.00      0.56      0.71         9\n",
      "                                                                                                    Home & Garden > Kitchen & Dining > Kitchen Tools & Utensils > Cake Decorating Supplies       0.67      0.80      0.73        10\n",
      "                                                                                                                Home & Garden > Kitchen & Dining > Kitchen Tools & Utensils > Cake Servers       0.00      0.00      0.00         0\n",
      "                                                                                                                 Home & Garden > Kitchen & Dining > Kitchen Tools & Utensils > Can Openers       0.57      0.36      0.44        11\n",
      "                                                                                                               Home & Garden > Kitchen & Dining > Kitchen Tools & Utensils > Carving Forks       0.00      0.00      0.00         1\n",
      "                                                                                                       Home & Garden > Kitchen & Dining > Kitchen Tools & Utensils > Colanders & Strainers       0.88      0.54      0.67        13\n",
      "                                                                                                        Home & Garden > Kitchen & Dining > Kitchen Tools & Utensils > Condiment Dispensers       0.00      0.00      0.00         1\n",
      "                                                                                                              Home & Garden > Kitchen & Dining > Kitchen Tools & Utensils > Cookie Cutters       1.00      1.00      1.00         5\n",
      "                                                                                                        Home & Garden > Kitchen & Dining > Kitchen Tools & Utensils > Cooking Thermometers       0.88      0.94      0.91        16\n",
      "                                                                                                              Home & Garden > Kitchen & Dining > Kitchen Tools & Utensils > Cooking Timers       0.00      0.00      0.00         1\n",
      "                                                                                                               Home & Garden > Kitchen & Dining > Kitchen Tools & Utensils > Cooling Racks       0.00      0.00      0.00         2\n",
      "                                                                                                              Home & Garden > Kitchen & Dining > Kitchen Tools & Utensils > Cutting Boards       0.80      0.92      0.86        39\n",
      "                                                                                                   Home & Garden > Kitchen & Dining > Kitchen Tools & Utensils > Dish Racks & Drain Boards       0.82      0.88      0.85        16\n",
      "                                                                                                             Home & Garden > Kitchen & Dining > Kitchen Tools & Utensils > Electric Knives       1.00      1.00      1.00         1\n",
      "                                                                                                               Home & Garden > Kitchen & Dining > Kitchen Tools & Utensils > Flour Sifters       0.00      0.00      0.00         1\n",
      "                                                                                                             Home & Garden > Kitchen & Dining > Kitchen Tools & Utensils > Food Dispensers       0.00      0.00      0.00         1\n",
      "                                                                                                      Home & Garden > Kitchen & Dining > Kitchen Tools & Utensils > Food Graters & Zesters       0.33      0.20      0.25         5\n",
      "                                                                                                       Home & Garden > Kitchen & Dining > Kitchen Tools & Utensils > Food Peelers & Corers       0.60      0.38      0.46         8\n",
      "                                                                                                       Home & Garden > Kitchen & Dining > Kitchen Tools & Utensils > Food Sticks & Skewers       1.00      0.25      0.40         4\n",
      "                                                                                                                     Home & Garden > Kitchen & Dining > Kitchen Tools & Utensils > Funnels       0.00      0.00      0.00         0\n",
      "                                                                                                              Home & Garden > Kitchen & Dining > Kitchen Tools & Utensils > Garlic Presses       1.00      1.00      1.00         1\n",
      "                                                                                                              Home & Garden > Kitchen & Dining > Kitchen Tools & Utensils > Ice Cube Trays       0.86      0.92      0.89        13\n",
      "                                                                                                              Home & Garden > Kitchen & Dining > Kitchen Tools & Utensils > Kitchen Knives       0.67      0.95      0.79        44\n",
      "                                                                                                               Home & Garden > Kitchen & Dining > Kitchen Tools & Utensils > Kitchen Molds       1.00      0.62      0.77         8\n",
      "                                                                                                          Home & Garden > Kitchen & Dining > Kitchen Tools & Utensils > Kitchen Organizers       0.71      0.84      0.77       113\n",
      "                                                                             Home & Garden > Kitchen & Dining > Kitchen Tools & Utensils > Kitchen Organizers > Kitchen Cabinet Organizers       1.00      1.00      1.00         3\n",
      "                                                                       Home & Garden > Kitchen & Dining > Kitchen Tools & Utensils > Kitchen Organizers > Paper Towel Holders & Dispensers       0.00      0.00      0.00         1\n",
      "                                                                                                            Home & Garden > Kitchen & Dining > Kitchen Tools & Utensils > Kitchen Scrapers       1.00      0.33      0.50         6\n",
      "                                                                                                              Home & Garden > Kitchen & Dining > Kitchen Tools & Utensils > Kitchen Shears       1.00      0.33      0.50         3\n",
      "                                                                                                             Home & Garden > Kitchen & Dining > Kitchen Tools & Utensils > Kitchen Slicers       0.67      0.33      0.44        12\n",
      "                                                                                                        Home & Garden > Kitchen & Dining > Kitchen Tools & Utensils > Kitchen Utensil Sets       0.54      0.56      0.55        27\n",
      "                                                                                                                      Home & Garden > Kitchen & Dining > Kitchen Tools & Utensils > Ladles       1.00      1.00      1.00         2\n",
      "                                                                                                                     Home & Garden > Kitchen & Dining > Kitchen Tools & Utensils > Mashers       0.40      0.67      0.50         3\n",
      "                                                                                                     Home & Garden > Kitchen & Dining > Kitchen Tools & Utensils > Measuring Cups & Spoons       0.90      0.90      0.90        10\n",
      "                                                                                                            Home & Garden > Kitchen & Dining > Kitchen Tools & Utensils > Meat Tenderizers       0.00      0.00      0.00         1\n",
      "                                                                                                                Home & Garden > Kitchen & Dining > Kitchen Tools & Utensils > Mixing Bowls       1.00      0.83      0.91        12\n",
      "                                                                                                    Home & Garden > Kitchen & Dining > Kitchen Tools & Utensils > Oil & Vinegar Dispensers       1.00      1.00      1.00         1\n",
      "                                                                                                    Home & Garden > Kitchen & Dining > Kitchen Tools & Utensils > Oven Mitts & Pot Holders       0.84      0.93      0.88        40\n",
      "                                                                                                             Home & Garden > Kitchen & Dining > Kitchen Tools & Utensils > Pastry Blenders       0.00      0.00      0.00         2\n",
      "                                                                                                               Home & Garden > Kitchen & Dining > Kitchen Tools & Utensils > Pizza Cutters       1.00      0.60      0.75         5\n",
      "                                                                                                                      Home & Garden > Kitchen & Dining > Kitchen Tools & Utensils > Ricers       0.00      0.00      0.00         1\n",
      "                                                                                                                Home & Garden > Kitchen & Dining > Kitchen Tools & Utensils > Rolling Pins       1.00      0.33      0.50         3\n",
      "                                                                                                                      Home & Garden > Kitchen & Dining > Kitchen Tools & Utensils > Scoops       0.50      1.00      0.67         2\n",
      "                                                                                                           Home & Garden > Kitchen & Dining > Kitchen Tools & Utensils > Sink Mats & Grids       1.00      1.00      1.00         2\n",
      "                                                                                                                    Home & Garden > Kitchen & Dining > Kitchen Tools & Utensils > Spatulas       0.74      0.71      0.72        35\n",
      "                                                                                                              Home & Garden > Kitchen & Dining > Kitchen Tools & Utensils > Spice Grinders       0.75      1.00      0.86         6\n",
      "                                                                                                               Home & Garden > Kitchen & Dining > Kitchen Tools & Utensils > Tea Strainers       0.00      0.00      0.00         1\n",
      "                                                                                                                       Home & Garden > Kitchen & Dining > Kitchen Tools & Utensils > Tongs       0.54      0.78      0.64         9\n",
      "                                                                                                                      Home & Garden > Kitchen & Dining > Kitchen Tools & Utensils > Whisks       1.00      0.25      0.40         8\n",
      "                                                                                                                                              Home & Garden > Kitchen & Dining > Tableware       0.53      0.56      0.54        34\n",
      "                                                                                                                  Home & Garden > Kitchen & Dining > Tableware > Coffee Servers & Tea Pots       0.00      0.00      0.00         1\n",
      "                                                                                                                                 Home & Garden > Kitchen & Dining > Tableware > Dinnerware       0.86      0.91      0.88       215\n",
      "                                                                                                                         Home & Garden > Kitchen & Dining > Tableware > Dinnerware > Bowls       0.00      0.00      0.00         6\n",
      "                                                                                                               Home & Garden > Kitchen & Dining > Tableware > Dinnerware > Dinnerware Sets       1.00      0.33      0.50         3\n",
      "                                                                                                                        Home & Garden > Kitchen & Dining > Tableware > Dinnerware > Plates       0.50      0.75      0.60         4\n",
      "                                                                                                                                  Home & Garden > Kitchen & Dining > Tableware > Drinkware       0.85      0.85      0.85       197\n",
      "                                                                                                                   Home & Garden > Kitchen & Dining > Tableware > Drinkware > Beer Glasses       1.00      0.50      0.67         2\n",
      "                                                                                                                           Home & Garden > Kitchen & Dining > Tableware > Drinkware > Mugs       1.00      0.59      0.74        17\n",
      "                                                                                                                   Home & Garden > Kitchen & Dining > Tableware > Drinkware > Shot Glasses       0.00      0.00      0.00         1\n",
      "                                                                                                                       Home & Garden > Kitchen & Dining > Tableware > Drinkware > Stemware       0.00      0.00      0.00         1\n",
      "                                                                                                                       Home & Garden > Kitchen & Dining > Tableware > Drinkware > Tumblers       0.81      0.81      0.81        21\n",
      "                                                                                                                                   Home & Garden > Kitchen & Dining > Tableware > Flatware       0.88      0.89      0.89        57\n",
      "                                                                                                                      Home & Garden > Kitchen & Dining > Tableware > Salt & Pepper Shakers       1.00      0.80      0.89         5\n",
      "                                                                                                                                  Home & Garden > Kitchen & Dining > Tableware > Serveware       0.65      0.86      0.74        85\n",
      "                                                                                                                  Home & Garden > Kitchen & Dining > Tableware > Serveware > Butter Dishes       0.00      0.00      0.00         1\n",
      "                                                                                                                    Home & Garden > Kitchen & Dining > Tableware > Serveware > Gravy Boats       0.00      0.00      0.00         1\n",
      "                                                                                                     Home & Garden > Kitchen & Dining > Tableware > Serveware > Serving Pitchers & Carafes       0.00      0.00      0.00         1\n",
      "                                                                                                                  Home & Garden > Kitchen & Dining > Tableware > Serveware > Serving Trays       0.00      0.00      0.00         0\n",
      "                                                                                                                                    Home & Garden > Kitchen & Dining > Tableware > Trivets       1.00      1.00      1.00         3\n",
      "                                                                                                                                                 Home & Garden > Lawn & Garden > Gardening       0.60      0.43      0.50         7\n",
      "                                                                                                                                    Home & Garden > Lawn & Garden > Gardening > Composting       1.00      1.00      1.00         1\n",
      "                                                                                                                          Home & Garden > Lawn & Garden > Gardening > Composting > Compost       1.00      1.00      1.00         4\n",
      "                                                                                                                       Home & Garden > Lawn & Garden > Gardening > Composting > Composters       0.00      0.00      0.00         1\n",
      "                                                                                                                                   Home & Garden > Lawn & Garden > Gardening > Fertilizers       0.62      0.62      0.62         8\n",
      "                                                                                                                    Home & Garden > Lawn & Garden > Gardening > Garden Pot Saucers & Trays       0.00      0.00      0.00         2\n",
      "                                                                                                                         Home & Garden > Lawn & Garden > Gardening > Gardening Accessories       1.00      0.60      0.75         5\n",
      "                                                                                                                               Home & Garden > Lawn & Garden > Gardening > Gardening Tools       0.85      0.82      0.84        28\n",
      "                                                                                                           Home & Garden > Lawn & Garden > Gardening > Gardening Tools > Cultivating Tools       0.00      0.00      0.00         1\n",
      "                                                                                                              Home & Garden > Lawn & Garden > Gardening > Gardening Tools > Pruning Shears       0.00      0.00      0.00         3\n",
      "                                                                                                            Home & Garden > Lawn & Garden > Gardening > Gardening Tools > Shovels & Spades       0.00      0.00      0.00         0\n",
      "                                                                                                                                   Home & Garden > Lawn & Garden > Gardening > Greenhouses       0.00      0.00      0.00         5\n",
      "                                                                                                                                    Home & Garden > Lawn & Garden > Gardening > Herbicides       0.89      0.89      0.89         9\n",
      "                                                                                                                  Home & Garden > Lawn & Garden > Gardening > Landscape Fabric Accessories       0.00      0.00      0.00         1\n",
      "                                                                                                                        Home & Garden > Lawn & Garden > Gardening > Plant Cages & Supports       0.50      0.25      0.33         4\n",
      "                                                                                                                                  Home & Garden > Lawn & Garden > Gardening > Plant Stands       0.62      0.33      0.43        15\n",
      "                                                                                                                          Home & Garden > Lawn & Garden > Gardening > Pot & Planter Liners       0.00      0.00      0.00         1\n",
      "                                                                                                                               Home & Garden > Lawn & Garden > Gardening > Pots & Planters       0.76      0.88      0.82        85\n",
      "                                                                                                                                 Home & Garden > Lawn & Garden > Gardening > Sands & Soils       0.86      0.67      0.75         9\n",
      "                                                                                                                                            Home & Garden > Lawn & Garden > Outdoor Living       0.00      0.00      0.00         8\n",
      "                                                                                                                                  Home & Garden > Lawn & Garden > Outdoor Living > Awnings       1.00      1.00      1.00         2\n",
      "                                                                                                                                 Home & Garden > Lawn & Garden > Outdoor Living > Hammocks       1.00      0.80      0.89        15\n",
      "                                                                                                                         Home & Garden > Lawn & Garden > Outdoor Living > Outdoor Blankets       0.88      0.64      0.74        11\n",
      "                                                                                                                       Home & Garden > Lawn & Garden > Outdoor Living > Outdoor Structures       0.85      0.92      0.89        38\n",
      "                                                                                                  Home & Garden > Lawn & Garden > Outdoor Living > Outdoor Structures > Canopies & Gazebos       1.00      0.58      0.74        12\n",
      "                                                                         Home & Garden > Lawn & Garden > Outdoor Living > Outdoor Structures > Garden Arches, Trellises, Arbors & Pergolas       0.00      0.00      0.00         1\n",
      "                                                                                           Home & Garden > Lawn & Garden > Outdoor Living > Outdoor Structures > Sheds, Garages & Carports       0.67      0.57      0.62         7\n",
      "                                                                                                  Home & Garden > Lawn & Garden > Outdoor Living > Outdoor Umbrella & Sunshade Accessories       1.00      0.86      0.92         7\n",
      "                                                                         Home & Garden > Lawn & Garden > Outdoor Living > Outdoor Umbrella & Sunshade Accessories > Outdoor Umbrella Bases       0.00      0.00      0.00         2\n",
      "                                                                                                            Home & Garden > Lawn & Garden > Outdoor Living > Outdoor Umbrellas & Sunshades       0.93      0.95      0.94        74\n",
      "                                                                                                                  Home & Garden > Lawn & Garden > Outdoor Living > Porch Swing Accessories       1.00      0.67      0.80         3\n",
      "                                                                                                                             Home & Garden > Lawn & Garden > Outdoor Living > Porch Swings       1.00      0.67      0.80        12\n",
      "                                                                                                                       Home & Garden > Lawn & Garden > Outdoor Power Equipment > Chainsaws       1.00      1.00      1.00         2\n",
      "                                                                                                                     Home & Garden > Lawn & Garden > Outdoor Power Equipment > Lawn Mowers       0.50      1.00      0.67         1\n",
      "                                                                                                                    Home & Garden > Lawn & Garden > Outdoor Power Equipment > Leaf Blowers       1.00      0.33      0.50         3\n",
      "                                                                                                    Home & Garden > Lawn & Garden > Outdoor Power Equipment > Outdoor Power Equipment Sets       0.00      0.00      0.00         0\n",
      "                                                                                                                Home & Garden > Lawn & Garden > Outdoor Power Equipment > Pressure Washers       1.00      0.60      0.75         5\n",
      "                                                                                                                        Home & Garden > Lawn & Garden > Outdoor Power Equipment > Tractors       0.00      0.00      0.00         1\n",
      "                                                                          Home & Garden > Lawn & Garden > Outdoor Power Equipment Accessories > Lawn Mower Accessories > Lawn Mower Blades       0.00      0.00      0.00         1\n",
      "                                                                                            Home & Garden > Lawn & Garden > Outdoor Power Equipment Accessories > Weed Trimmer Accessories       0.00      0.00      0.00         1\n",
      "                                                                                                                Home & Garden > Lawn & Garden > Snow Removal > Ice Scrapers & Snow Brushes       0.00      0.00      0.00         1\n",
      "                                                                                                     Home & Garden > Lawn & Garden > Watering & Irrigation > Garden Hose Fittings & Valves       1.00      1.00      1.00         1\n",
      "                                                                                                         Home & Garden > Lawn & Garden > Watering & Irrigation > Garden Hose Spray Nozzles       0.62      0.83      0.71         6\n",
      "                                                                                                                      Home & Garden > Lawn & Garden > Watering & Irrigation > Garden Hoses       1.00      1.00      1.00         9\n",
      "                                                                                                             Home & Garden > Lawn & Garden > Watering & Irrigation > Sprinkler Accessories       1.00      1.00      1.00         1\n",
      "                                                                                                      Home & Garden > Lawn & Garden > Watering & Irrigation > Sprinklers & Sprinkler Heads       1.00      0.60      0.75         5\n",
      "                                                                                                                     Home & Garden > Lawn & Garden > Watering & Irrigation > Watering Cans       0.75      0.75      0.75         4\n",
      "                                                                                                                                                                  Home & Garden > Lighting       1.00      0.44      0.61        16\n",
      "                                                                                                                                             Home & Garden > Lighting > Emergency Lighting       0.50      0.25      0.33         4\n",
      "                                                                                                                                  Home & Garden > Lighting > Floating & Submersible Lights       1.00      1.00      1.00         1\n",
      "                                                                                                                                            Home & Garden > Lighting > Flood & Spot Lights       0.75      1.00      0.86         3\n",
      "                                                                                                                                               Home & Garden > Lighting > In-Ground Lights       0.00      0.00      0.00         2\n",
      "                                                                                                                                                          Home & Garden > Lighting > Lamps       0.91      0.98      0.94       322\n",
      "                                                                                                                                     Home & Garden > Lighting > Landscape Pathway Lighting       0.64      0.75      0.69        12\n",
      "                                                                                                                                                    Home & Garden > Lighting > Light Bulbs       0.89      1.00      0.94        83\n",
      "                                                                                                                                  Home & Garden > Lighting > Light Bulbs > LED Light Bulbs       0.00      0.00      0.00         1\n",
      "                                                                                                                                          Home & Garden > Lighting > Light Ropes & Strings       0.85      0.97      0.91        40\n",
      "                                                                                                                                              Home & Garden > Lighting > Lighting Fixtures       0.94      0.57      0.71        28\n",
      "                                                                                                                     Home & Garden > Lighting > Lighting Fixtures > Cabinet Light Fixtures       1.00      1.00      1.00         2\n",
      "                                                                                                                     Home & Garden > Lighting > Lighting Fixtures > Ceiling Light Fixtures       0.91      0.94      0.92       251\n",
      "                                                                                                                                Home & Garden > Lighting > Lighting Fixtures > Chandeliers       0.92      0.87      0.89        38\n",
      "                                                                                                                        Home & Garden > Lighting > Lighting Fixtures > Wall Light Fixtures       0.96      0.96      0.96       273\n",
      "                                                                                                                                Home & Garden > Lighting > Night Lights & Ambient Lighting       0.88      0.58      0.70        26\n",
      "                                                                                                                                                 Home & Garden > Lighting > Picture Lights       1.00      0.50      0.67         2\n",
      "                                                                                                                                       Home & Garden > Lighting > Tiki Torches & Oil Lamps       1.00      0.71      0.83         7\n",
      "                                                                                                                       Home & Garden > Lighting > Track Lighting > Track Lighting Fixtures       1.00      0.50      0.67         2\n",
      "                                                                                                                          Home & Garden > Lighting > Track Lighting > Track Lighting Rails       1.00      1.00      1.00         1\n",
      "                                                                                                                                                      Home & Garden > Lighting Accessories       0.00      0.00      0.00         4\n",
      "                                                                                                                                        Home & Garden > Lighting Accessories > Lamp Shades       0.94      0.70      0.80        23\n",
      "                                                                                                                                    Home & Garden > Lighting Accessories > Lighting Timers       1.00      1.00      1.00         1\n",
      "                                                                                                                                                Home & Garden > Linens & Bedding > Bedding       0.93      0.67      0.78        21\n",
      "                                                                                                                                 Home & Garden > Linens & Bedding > Bedding > Bed Canopies       0.00      0.00      0.00         2\n",
      "                                                                                                                                   Home & Garden > Linens & Bedding > Bedding > Bed Sheets       0.96      0.98      0.97       737\n",
      "                                                                                                                                    Home & Garden > Linens & Bedding > Bedding > Bedskirts       0.96      0.91      0.93        54\n",
      "                                                                                                                                     Home & Garden > Linens & Bedding > Bedding > Blankets       0.90      0.91      0.90       386\n",
      "                                                                                                                                 Home & Garden > Linens & Bedding > Bedding > Duvet Covers       0.94      0.90      0.92       277\n",
      "                                                                                                                          Home & Garden > Linens & Bedding > Bedding > Mattress Protectors       0.86      0.99      0.92       135\n",
      "                                                                                                   Home & Garden > Linens & Bedding > Bedding > Mattress Protectors > Mattress Encasements       0.67      0.67      0.67         3\n",
      "                                                                                                          Home & Garden > Linens & Bedding > Bedding > Mattress Protectors > Mattress Pads       1.00      0.17      0.29         6\n",
      "                                                                                                                                     Home & Garden > Linens & Bedding > Bedding > Nap Mats       0.88      0.70      0.78        10\n",
      "                                                                                                                          Home & Garden > Linens & Bedding > Bedding > Pillowcases & Shams       0.87      0.86      0.87       325\n",
      "                                                                                                                                      Home & Garden > Linens & Bedding > Bedding > Pillows       0.79      0.91      0.84        87\n",
      "                                                                                                                          Home & Garden > Linens & Bedding > Bedding > Quilts & Comforters       0.93      0.93      0.93       766\n",
      "                                                                                                                                    Home & Garden > Linens & Bedding > Kitchen Linens Sets       0.50      1.00      0.67         1\n",
      "                                                                                                                                           Home & Garden > Linens & Bedding > Table Linens       0.82      0.85      0.83        47\n",
      "                                                                                                                           Home & Garden > Linens & Bedding > Table Linens > Cloth Napkins       0.83      0.86      0.85        29\n",
      "                                                                                                                                 Home & Garden > Linens & Bedding > Table Linens > Doilies       1.00      1.00      1.00         1\n",
      "                                                                                                                               Home & Garden > Linens & Bedding > Table Linens > Placemats       0.84      0.82      0.83        72\n",
      "                                                                                                                           Home & Garden > Linens & Bedding > Table Linens > Table Runners       0.83      0.95      0.89        42\n",
      "                                                                                                                             Home & Garden > Linens & Bedding > Table Linens > Tablecloths       0.90      0.85      0.88        89\n",
      "                                                                                                                                                 Home & Garden > Linens & Bedding > Towels       0.80      0.50      0.62        16\n",
      "                                                                                                                      Home & Garden > Linens & Bedding > Towels > Bath Towels & Washcloths       0.92      0.96      0.94       274\n",
      "                                                                                                                                  Home & Garden > Linens & Bedding > Towels > Beach Towels       0.88      0.97      0.92        36\n",
      "                                                                                                                                Home & Garden > Linens & Bedding > Towels > Kitchen Towels       0.82      0.92      0.87        74\n",
      "                                                                                                                                                 Home & Garden > Parasols & Rain Umbrellas       0.94      0.91      0.93        34\n",
      "                                                                                                                                                                    Home & Garden > Plants       0.88      0.69      0.77        52\n",
      "                                                                                                                                                          Home & Garden > Plants > Flowers       0.85      0.78      0.81        67\n",
      "                                                                                                                                        Home & Garden > Plants > Plant & Herb Growing Kits       1.00      0.60      0.75         5\n",
      "                                                                                                                                                            Home & Garden > Plants > Seeds       0.89      0.92      0.91        63\n",
      "                                                                                                                                                            Home & Garden > Plants > Trees       0.67      0.50      0.57         4\n",
      "                                                                                                                                                                Home & Garden > Pool & Spa       1.00      0.43      0.60         7\n",
      "                                                                                                      Home & Garden > Pool & Spa > Pool & Spa Accessories > Pool & Spa Chlorine Generators       0.00      0.00      0.00         0\n",
      "                                                                                                                  Home & Garden > Pool & Spa > Pool & Spa Accessories > Pool & Spa Filters       1.00      0.50      0.67         4\n",
      "                                                                                                         Home & Garden > Pool & Spa > Pool & Spa Accessories > Pool & Spa Maintenance Kits       0.50      1.00      0.67         2\n",
      "                                                                                                               Home & Garden > Pool & Spa > Pool & Spa Accessories > Pool Brushes & Brooms       1.00      0.50      0.67         2\n",
      "                                                                                                                  Home & Garden > Pool & Spa > Pool & Spa Accessories > Pool Cleaner Hoses       0.00      0.00      0.00         1\n",
      "                                                                                                           Home & Garden > Pool & Spa > Pool & Spa Accessories > Pool Cleaners & Chemicals       1.00      1.00      1.00         1\n",
      "                                                                                                         Home & Garden > Pool & Spa > Pool & Spa Accessories > Pool Covers & Ground Cloths       1.00      0.86      0.92         7\n",
      "                                                                                                              Home & Garden > Pool & Spa > Pool & Spa Accessories > Pool Floats & Loungers       0.72      0.94      0.82        64\n",
      "                                                                                                                        Home & Garden > Pool & Spa > Pool & Spa Accessories > Pool Heaters       0.00      0.00      0.00         1\n",
      "                                                                                                                       Home & Garden > Pool & Spa > Pool & Spa Accessories > Pool Skimmers       0.50      0.50      0.50         2\n",
      "                                                                                                               Home & Garden > Pool & Spa > Pool & Spa Accessories > Pool Sweeps & Vacuums       0.75      1.00      0.86         3\n",
      "                                                                                                                           Home & Garden > Pool & Spa > Pool & Spa Accessories > Pool Toys       0.71      0.56      0.62         9\n",
      "                                                                                                                                                         Home & Garden > Pool & Spa > Spas       1.00      0.50      0.67         2\n",
      "                                                                                                                                               Home & Garden > Pool & Spa > Swimming Pools       0.70      0.96      0.81        27\n",
      "                                                                                                                                            Home & Garden > Smoking Accessories > Humidors       1.00      1.00      1.00         2\n",
      "                                                                                                                                                                Luggage & Bags > Backpacks       0.77      0.82      0.80       245\n",
      "                                                                                                                                                               Luggage & Bags > Briefcases       0.50      0.50      0.50         2\n",
      "                                                                                                                                                 Luggage & Bags > Cosmetic & Toiletry Bags       0.70      0.86      0.78        22\n",
      "                                                                                                                                                              Luggage & Bags > Diaper Bags       0.74      0.77      0.75        26\n",
      "                                                                                                                                                              Luggage & Bags > Duffel Bags       0.78      0.72      0.75        29\n",
      "                                                                                                                                                              Luggage & Bags > Fanny Packs       0.74      0.63      0.68        27\n",
      "                                                                                                                                                             Luggage & Bags > Garment Bags       1.00      1.00      1.00         1\n",
      "                                                                                                                                                      Luggage & Bags > Luggage Accessories       1.00      0.17      0.29         6\n",
      "                                                                                                                             Luggage & Bags > Luggage Accessories > Luggage Racks & Stands       0.00      0.00      0.00         2\n",
      "                                                                                                                                       Luggage & Bags > Luggage Accessories > Luggage Tags       1.00      0.75      0.86         4\n",
      "                                                                                                                                 Luggage & Bags > Luggage Accessories > Packing Organizers       0.67      0.57      0.62         7\n",
      "                                                                                                                                     Luggage & Bags > Luggage Accessories > Travel Pouches       1.00      0.33      0.50         6\n",
      "                                                                                                                                                           Luggage & Bags > Messenger Bags       0.00      0.00      0.00         3\n",
      "                                                                                                                                                           Luggage & Bags > Shopping Totes       0.89      0.62      0.73        13\n",
      "                                                                                                                                                                Luggage & Bags > Suitcases       0.97      0.92      0.95        39\n",
      "                                                                                                                                                                           Mature > Erotic       0.76      0.76      0.76        45\n",
      "                                                                                                                                                            Mature > Erotic > Erotic Books       1.00      0.40      0.57         5\n",
      "                                                                                                                                                         Mature > Erotic > Erotic Clothing       1.00      1.00      1.00         2\n",
      "                                                                                                                                                                Mature > Erotic > Sex Toys       0.92      0.82      0.87        28\n",
      "                                                                                                                                                 Mature > Weapons > Gun Care & Accessories       1.00      0.50      0.67         2\n",
      "                                                                                                                                    Mature > Weapons > Gun Care & Accessories > Ammunition       0.95      0.87      0.91        23\n",
      "                                                                                                                    Mature > Weapons > Gun Care & Accessories > Ammunition Cases & Holders       1.00      0.75      0.86         4\n",
      "                                                                                                                                  Mature > Weapons > Gun Care & Accessories > Gun Cleaning       0.80      0.73      0.76        11\n",
      "                                                                                                    Mature > Weapons > Gun Care & Accessories > Gun Cleaning > Gun Cleaning Cloths & Swabs       0.00      0.00      0.00         2\n",
      "                                                                                                                                  Mature > Weapons > Gun Care & Accessories > Gun Holsters       1.00      0.86      0.92         7\n",
      "                                                                                                                                    Mature > Weapons > Gun Care & Accessories > Gun Slings       1.00      1.00      1.00         1\n",
      "                                                                                                                                                    Mature > Weapons > Mace & Pepper Spray       1.00      0.67      0.80         3\n",
      "                                                                                                                                                     Mature > Weapons > Stun Guns & Tasers       0.86      0.95      0.90        38\n",
      "                                                                                                                                                                             Media > Books       0.90      0.95      0.92      2812\n",
      "                                                                                                                                                                     Media > DVDs & Videos       0.94      0.88      0.91       529\n",
      "                                                                                                                                                            Media > Magazines & Newspapers       0.00      0.00      0.00         2\n",
      "                                                                                                                                                          Media > Music & Sound Recordings       0.91      0.87      0.89       269\n",
      "                                                                                                                                                                   Media > Product Manuals       0.50      1.00      0.67         1\n",
      "                                                                                                                                             Media > Product Manuals > Electronics Manuals       0.00      0.00      0.00         1\n",
      "                                                                                                                                                                       Media > Sheet Music       0.00      0.00      0.00         2\n",
      "                                                                                                                                          Office Supplies > Book Accessories > Book Lights       1.00      0.40      0.57         5\n",
      "                                                                                                                                  Office Supplies > Book Accessories > Book Stands & Rests       0.00      0.00      0.00         1\n",
      "                                                                                                                                            Office Supplies > Book Accessories > Bookmarks       0.50      0.14      0.22         7\n",
      "                                                                                                                                                    Office Supplies > Desk Pads & Blotters       0.00      0.00      0.00         1\n",
      "                                                                                                                                                   Office Supplies > Filing & Organization       0.75      0.77      0.76        31\n",
      "                                                                                                           Office Supplies > Filing & Organization > Binding Supplies > Binder Accessories       0.87      0.91      0.89        22\n",
      "                                                                                                                      Office Supplies > Filing & Organization > Binding Supplies > Binders       0.96      0.96      0.96        49\n",
      "                                                                                                                       Office Supplies > Filing & Organization > CD/DVD Cases & Organizers       1.00      0.50      0.67         2\n",
      "                                                                                                                Office Supplies > Filing & Organization > Calendars, Organizers & Planners       0.88      0.95      0.91        56\n",
      "                                                                                                                                    Office Supplies > Filing & Organization > Card Sleeves       0.00      0.00      0.00         2\n",
      "                                                                                                                                 Office Supplies > Filing & Organization > Desk Organizers       0.76      0.81      0.78        36\n",
      "                                                                                                                                    Office Supplies > Filing & Organization > File Folders       0.81      0.86      0.83        29\n",
      "                                                                                                                         Office Supplies > Filing & Organization > Folders & Report Covers       0.93      0.97      0.95        29\n",
      "                                                                                                                                    Office Supplies > Filing & Organization > Mail Sorters       1.00      0.50      0.67         2\n",
      "                                                                                                                              Office Supplies > Filing & Organization > Pen & Pencil Cases       0.97      0.89      0.93        35\n",
      "                                                                                                                          Office Supplies > Filing & Organization > Portfolios & Padfolios       0.00      0.00      0.00         2\n",
      "                                                                                                                                                 Office Supplies > General Office Supplies       1.00      0.17      0.29         6\n",
      "                                                                                                               Office Supplies > General Office Supplies > Correction Fluids, Pens & Tapes       1.00      1.00      1.00         3\n",
      "                                                                                                                                       Office Supplies > General Office Supplies > Erasers       1.00      0.43      0.60         7\n",
      "                                                                                                                                 Office Supplies > General Office Supplies > Labels & Tags       0.00      0.00      0.00         2\n",
      "                                                                                                                Office Supplies > General Office Supplies > Labels & Tags > Address Labels       0.50      1.00      0.67         1\n",
      "                                                                                                                   Office Supplies > General Office Supplies > Labels & Tags > Folder Tabs       1.00      0.50      0.67         4\n",
      "                                                                                                    Office Supplies > General Office Supplies > Labels & Tags > Label Tapes & Refill Rolls       0.75      1.00      0.86         3\n",
      "                                                                                                               Office Supplies > General Office Supplies > Labels & Tags > Shipping Labels       1.00      0.33      0.50         3\n",
      "                                                                                                             Office Supplies > General Office Supplies > Laminating Film, Pouches & Sheets       0.67      1.00      0.80         2\n",
      "                                                                                                                                   Office Supplies > General Office Supplies > Office Tape       0.77      0.71      0.74        14\n",
      "                                                                                                                          Office Supplies > General Office Supplies > Paper Clips & Clamps       0.86      1.00      0.92        12\n",
      "                                                                                                                                Office Supplies > General Office Supplies > Paper Products       0.00      0.00      0.00         1\n",
      "                                                                                                                 Office Supplies > General Office Supplies > Paper Products > Binder Paper       1.00      0.89      0.94         9\n",
      "                                                                                                               Office Supplies > General Office Supplies > Paper Products > Blank ID Cards       0.00      0.00      0.00         1\n",
      "                                                                                                    Office Supplies > General Office Supplies > Paper Products > Business Forms & Receipts       0.00      0.00      0.00         1\n",
      "                                                                                                                    Office Supplies > General Office Supplies > Paper Products > Envelopes       0.83      0.71      0.77        21\n",
      "                                                                                                                  Office Supplies > General Office Supplies > Paper Products > Index Cards       1.00      0.70      0.82        10\n",
      "                                                                                                         Office Supplies > General Office Supplies > Paper Products > Notebooks & Notepads       0.86      0.91      0.88       137\n",
      "                                                                                                                   Office Supplies > General Office Supplies > Paper Products > Post Cards       0.00      0.00      0.00         1\n",
      "                                                                                                       Office Supplies > General Office Supplies > Paper Products > Printer & Copier Paper       0.56      1.00      0.71        10\n",
      "                                                                                                                   Office Supplies > General Office Supplies > Paper Products > Stationery       0.50      0.40      0.44        15\n",
      "                                                                                                                 Office Supplies > General Office Supplies > Paper Products > Sticky Notes       0.95      0.95      0.95        21\n",
      "                                                                                                                                  Office Supplies > General Office Supplies > Rubber Bands       1.00      0.50      0.67         2\n",
      "                                                                                                                              Office Supplies > General Office Supplies > Tacks & Pushpins       1.00      0.25      0.40         4\n",
      "                                                                                                                                                               Office Supplies > Lap Desks       0.00      0.00      0.00         4\n",
      "                                                                                                                                 Office Supplies > Office & Chair Mats > Anti-Fatigue Mats       1.00      0.75      0.86         4\n",
      "                                                                                                                                        Office Supplies > Office & Chair Mats > Chair Mats       1.00      1.00      1.00         2\n",
      "                                                                                                                                            Office Supplies > Office Carts > Utility Carts       0.81      0.74      0.77        23\n",
      "                                                                                                                                          Office Supplies > Office Equipment > Calculators       1.00      1.00      1.00         7\n",
      "                                                                                                                Office Supplies > Office Equipment > Electronic Dictionaries & Translators       0.00      0.00      0.00         1\n",
      "                                                                                                                                         Office Supplies > Office Equipment > Label Makers       0.00      0.00      0.00         1\n",
      "                                                                                                                                     Office Supplies > Office Equipment > Office Shredders       1.00      1.00      1.00         7\n",
      "                                                                                                                                         Office Supplies > Office Instruments > Clipboards       0.80      0.67      0.73         6\n",
      "                                                                                                                                     Office Supplies > Office Instruments > Letter Openers       0.00      0.00      0.00         1\n",
      "                                                                                                                               Office Supplies > Office Instruments > Office Rubber Stamps       0.00      0.00      0.00         1\n",
      "                                                                                                                                  Office Supplies > Office Instruments > Pencil Sharpeners       1.00      0.75      0.86         4\n",
      "                                                                                                                                    Office Supplies > Office Instruments > Staple Removers       1.00      1.00      1.00         1\n",
      "                                                                                                                                           Office Supplies > Office Instruments > Staplers       1.00      0.83      0.91         6\n",
      "                                                                                                                                    Office Supplies > Office Instruments > Tape Dispensers       0.54      0.88      0.67         8\n",
      "                                                                                       Office Supplies > Office Instruments > Writing & Drawing Instrument Accessories > Pen Ink & Refills       0.00      0.00      0.00         1\n",
      "                                                                                                              Office Supplies > Office Instruments > Writing & Drawing Instruments > Chalk       0.50      1.00      0.67         2\n",
      "                                                                                                            Office Supplies > Office Instruments > Writing & Drawing Instruments > Crayons       1.00      0.73      0.85        15\n",
      "                                                                                             Office Supplies > Office Instruments > Writing & Drawing Instruments > Markers & Highlighters       0.84      0.94      0.89        51\n",
      "                                                                              Office Supplies > Office Instruments > Writing & Drawing Instruments > Markers & Highlighters > Highlighters       0.00      0.00      0.00         2\n",
      "                                                                                   Office Supplies > Office Instruments > Writing & Drawing Instruments > Markers & Highlighters > Markers       0.67      0.50      0.57         4\n",
      "                                                                                                            Office Supplies > Office Instruments > Writing & Drawing Instruments > Pastels       0.00      0.00      0.00         4\n",
      "                                                                                                     Office Supplies > Office Instruments > Writing & Drawing Instruments > Pens & Pencils       0.85      0.92      0.88       108\n",
      "                                                                                           Office Supplies > Office Instruments > Writing & Drawing Instruments > Pens & Pencils > Pencils       0.67      0.29      0.40         7\n",
      "                                                                                              Office Supplies > Office Instruments > Writing & Drawing Instruments > Pens & Pencils > Pens       0.75      0.62      0.68        24\n",
      "                                                                                                                                           Office Supplies > Paper Handling > Hole Punches       1.00      1.00      1.00         3\n",
      "                                                                                                                                     Office Supplies > Presentation Supplies > Chalkboards       0.00      0.00      0.00         4\n",
      "                                                                                                                                  Office Supplies > Presentation Supplies > Display Boards       0.00      0.00      0.00         2\n",
      "                                                                                                                Office Supplies > Presentation Supplies > Display Boards > Bulletin Boards       0.67      0.55      0.60        22\n",
      "                                                                                                                  Office Supplies > Presentation Supplies > Display Boards > Poster Boards       1.00      0.83      0.91         6\n",
      "                                                                                                                                Office Supplies > Presentation Supplies > Dry-Erase Boards       0.59      0.76      0.67        17\n",
      "                                                                                                                                      Office Supplies > Presentation Supplies > Easel Pads       1.00      1.00      1.00         1\n",
      "                                                                                                                                          Office Supplies > Presentation Supplies > Easels       0.00      0.00      0.00         2\n",
      "                                                                                                                                  Office Supplies > Presentation Supplies > Laser Pointers       0.00      0.00      0.00         1\n",
      "                                                                                                                             Office Supplies > Shipping Supplies > Moving & Shipping Boxes       1.00      0.60      0.75         5\n",
      "                                                                                                                                   Office Supplies > Shipping Supplies > Packing Materials       1.00      0.20      0.33         5\n",
      "                                                                                                                                        Office Supplies > Shipping Supplies > Packing Tape       0.00      0.00      0.00         5\n",
      "                                                                                                                                       Religious & Ceremonial > Memorial Ceremony Supplies       0.00      0.00      0.00         1\n",
      "                                                                                                                                        Religious & Ceremonial > Wedding Ceremony Supplies       0.00      0.00      0.00         1\n",
      "                                                                                                                  Religious & Ceremonial > Wedding Ceremony Supplies > Flower Girl Baskets       0.00      0.00      0.00         1\n",
      "                                                                                                                                                              Software > Computer Software       1.00      0.33      0.50         3\n",
      "                                                                                                                           Software > Computer Software > Business & Productivity Software       0.00      0.00      0.00         1\n",
      "                                                                                                                                       Software > Computer Software > Educational Software       0.93      0.70      0.80       159\n",
      "                                                                                                                       Software > Computer Software > Financial, Tax & Accounting Software       1.00      1.00      1.00         3\n",
      "                                                                                                                               Software > Computer Software > Multimedia & Design Software       1.00      0.82      0.90        28\n",
      "                                                                                                  Software > Computer Software > Multimedia & Design Software > Music Composition Software       0.50      0.60      0.55         5\n",
      "                                                                                                                                Software > Computer Software > Office Application Software       1.00      1.00      1.00         2\n",
      "                                                                                                                                          Software > Computer Software > Operating Systems       0.00      0.00      0.00         5\n",
      "                                                                                                                                                            Software > Video Game Software       0.91      0.90      0.91       202\n",
      "                                                                                                                                                                Sporting Goods > Athletics       0.52      0.73      0.60        22\n",
      "                                                                                                                 Sporting Goods > Athletics > American Football > American Football Gloves       1.00      0.67      0.80         6\n",
      "                                                                                                                       Sporting Goods > Athletics > American Football > American Footballs       1.00      0.50      0.67         2\n",
      "                                                                                                                                          Sporting Goods > Athletics > Baseball & Softball       0.80      0.89      0.84         9\n",
      "                                                                                                     Sporting Goods > Athletics > Baseball & Softball > Baseball & Softball Batting Gloves       0.80      1.00      0.89         4\n",
      "                                                                                                     Sporting Goods > Athletics > Baseball & Softball > Baseball & Softball Gloves & Mitts       0.75      0.75      0.75         8\n",
      "                                                                                                    Sporting Goods > Athletics > Baseball & Softball > Baseball & Softball Protective Gear       0.73      1.00      0.84         8\n",
      "                                                              Sporting Goods > Athletics > Baseball & Softball > Baseball & Softball Protective Gear > Baseball & Softball Batting Helmets       1.00      0.75      0.86         4\n",
      "                                                             Sporting Goods > Athletics > Baseball & Softball > Baseball & Softball Protective Gear > Baseball & Softball Chest Protectors       1.00      1.00      1.00         2\n",
      "                                                                   Sporting Goods > Athletics > Baseball & Softball > Baseball & Softball Protective Gear > Baseball & Softball Leg Guards       1.00      0.83      0.91         6\n",
      "                                                                                                                          Sporting Goods > Athletics > Baseball & Softball > Baseball Bats       0.81      0.96      0.88        26\n",
      "                                                                                                                              Sporting Goods > Athletics > Baseball & Softball > Baseballs       1.00      0.20      0.33         5\n",
      "                                                                                                                      Sporting Goods > Athletics > Baseball & Softball > Pitching Machines       1.00      0.33      0.50         3\n",
      "                                                                                                                          Sporting Goods > Athletics > Baseball & Softball > Softball Bats       1.00      0.83      0.91         6\n",
      "                                                                                                                                                   Sporting Goods > Athletics > Basketball       0.60      0.47      0.53        19\n",
      "                                                                                                             Sporting Goods > Athletics > Basketball > Basketball Hoop Parts & Accessories       0.40      0.50      0.44         4\n",
      "                                                                                                                                Sporting Goods > Athletics > Basketball > Basketball Hoops       0.50      0.25      0.33         4\n",
      "                                                                                                                                     Sporting Goods > Athletics > Basketball > Basketballs       0.94      1.00      0.97        15\n",
      "                                                                                                                                        Sporting Goods > Athletics > Boxing & Martial Arts       1.00      0.83      0.91         6\n",
      "                                                                                                Sporting Goods > Athletics > Boxing & Martial Arts > Boxing & Martial Arts Protective Gear       0.60      0.38      0.46         8\n",
      "                                                                      Sporting Goods > Athletics > Boxing & Martial Arts > Boxing & Martial Arts Protective Gear > Boxing & MMA Hand Wraps       1.00      1.00      1.00         1\n",
      "                                                               Sporting Goods > Athletics > Boxing & Martial Arts > Boxing & Martial Arts Protective Gear > Boxing & Martial Arts Headgear       0.00      0.00      0.00         1\n",
      "                                                                        Sporting Goods > Athletics > Boxing & Martial Arts > Boxing & Martial Arts Protective Gear > Boxing Gloves & Mitts       0.67      0.91      0.77        11\n",
      "                                                                                             Sporting Goods > Athletics > Boxing & Martial Arts > Boxing & Martial Arts Training Equipment       0.75      0.75      0.75         4\n",
      "                                                                  Sporting Goods > Athletics > Boxing & Martial Arts > Boxing & Martial Arts Training Equipment > Punching & Training Bags       0.71      1.00      0.83         5\n",
      "                                                                                                             Sporting Goods > Athletics > Coaching & Officiating > Sport & Safety Whistles       0.00      0.00      0.00         1\n",
      "                                                                                                                                                      Sporting Goods > Athletics > Cricket       0.67      0.80      0.73         5\n",
      "                                                                                                                                      Sporting Goods > Athletics > Cricket > Cricket Balls       1.00      1.00      1.00         1\n",
      "                                                                                                                                       Sporting Goods > Athletics > Cricket > Cricket Bats       0.67      1.00      0.80         2\n",
      "                                                                                                                            Sporting Goods > Athletics > Cricket > Cricket Protective Gear       0.00      0.00      0.00         1\n",
      "                                                                                                           Sporting Goods > Athletics > Cricket > Cricket Protective Gear > Cricket Gloves       1.00      1.00      1.00         1\n",
      "                                                                                                          Sporting Goods > Athletics > Cricket > Cricket Protective Gear > Cricket Helmets       0.00      0.00      0.00         1\n",
      "                                                                                                                                      Sporting Goods > Athletics > Dancing > Ballet Barres       0.00      0.00      0.00         1\n",
      "                                                                                                                                      Sporting Goods > Athletics > Field Hockey & Lacrosse       1.00      0.25      0.40         4\n",
      "                                                                                                                         Sporting Goods > Athletics > Figure Skating & Hockey > Ice Skates       1.00      0.50      0.67         2\n",
      "                                                                                                                           Sporting Goods > Athletics > General Purpose Athletic Equipment       0.78      0.70      0.74        10\n",
      "                                                                                                                Sporting Goods > Athletics > General Purpose Athletic Equipment > Gym Mats       1.00      0.50      0.67         8\n",
      "                                                                                                 Sporting Goods > Athletics > General Purpose Athletic Equipment > Practice Nets & Screens       0.00      0.00      0.00         1\n",
      "                                                                                       Sporting Goods > Athletics > General Purpose Athletic Equipment > Speed & Agility Ladders & Hurdles       0.00      0.00      0.00         1\n",
      "                                                                                                  Sporting Goods > Athletics > General Purpose Athletic Equipment > Sports & Agility Cones       0.00      0.00      0.00         3\n",
      "                                                                                                      Sporting Goods > Athletics > General Purpose Athletic Equipment > Sports Mouthguards       0.88      1.00      0.94        15\n",
      "                                                                                                Sporting Goods > Athletics > General Purpose Athletic Equipment > Stadium Seats & Cushions       0.00      0.00      0.00         1\n",
      "                                                                                                                 Sporting Goods > Athletics > Gymnastics > Gymnastics Bars & Balance Beams       1.00      1.00      1.00         1\n",
      "                                                                                                                                         Sporting Goods > Athletics > Racquetball & Squash       1.00      1.00      1.00         3\n",
      "                                                                                                                                          Sporting Goods > Athletics > Rugby > Rugby Balls       1.00      1.00      1.00         6\n",
      "                                                                                                               Sporting Goods > Athletics > Rugby > Rugby Protective Gear > Rugby Headgear       1.00      1.00      1.00         3\n",
      "                                                                                                                                                       Sporting Goods > Athletics > Soccer       0.00      0.00      0.00         5\n",
      "                                                                                                                                        Sporting Goods > Athletics > Soccer > Soccer Balls       0.97      0.93      0.95        30\n",
      "                                                                                                                             Sporting Goods > Athletics > Soccer > Soccer Goal Accessories       0.00      0.00      0.00         1\n",
      "                                                                                                                                        Sporting Goods > Athletics > Soccer > Soccer Goals       0.79      0.85      0.81        13\n",
      "                                                                                                                              Sporting Goods > Athletics > Soccer > Soccer Protective Gear       1.00      1.00      1.00         3\n",
      "                                                                                                         Sporting Goods > Athletics > Soccer > Soccer Protective Gear > Soccer Shin Guards       0.89      1.00      0.94         8\n",
      "                                                                                                                                                       Sporting Goods > Athletics > Tennis       0.74      0.85      0.80        41\n",
      "                                                                                                                                        Sporting Goods > Athletics > Tennis > Tennis Balls       1.00      0.50      0.67         4\n",
      "                                                                                                                          Sporting Goods > Athletics > Tennis > Tennis Racquet Accessories       0.00      0.00      0.00         1\n",
      "                                                                                                                                     Sporting Goods > Athletics > Tennis > Tennis Racquets       1.00      0.73      0.84        11\n",
      "                                                                                                                                                Sporting Goods > Athletics > Track & Field       1.00      0.60      0.75         5\n",
      "                                                                                                                                                   Sporting Goods > Athletics > Volleyball       1.00      0.43      0.60         7\n",
      "                                                                                                                                 Sporting Goods > Athletics > Volleyball > Volleyball Nets       0.00      0.00      0.00         3\n",
      "                                                                                                                      Sporting Goods > Athletics > Volleyball > Volleyball Protective Gear       1.00      1.00      1.00         1\n",
      "                                                                                                                                     Sporting Goods > Athletics > Volleyball > Volleyballs       0.00      0.00      0.00         2\n",
      "                                                                                                                        Sporting Goods > Athletics > Wrestling > Wrestling Protective Gear       0.00      0.00      0.00         1\n",
      "                                                                                                                                                       Sporting Goods > Exercise & Fitness       0.49      0.53      0.51        34\n",
      "                                                                                                                                 Sporting Goods > Exercise & Fitness > Ab Wheels & Rollers       1.00      0.50      0.67         2\n",
      "                                                                                                                                       Sporting Goods > Exercise & Fitness > Aerobic Steps       0.50      0.33      0.40         3\n",
      "                                                                                                                                    Sporting Goods > Exercise & Fitness > Balance Trainers       0.40      1.00      0.57         2\n",
      "                                                                                                                                              Sporting Goods > Exercise & Fitness > Cardio       0.50      0.12      0.20         8\n",
      "                                                                                Sporting Goods > Exercise & Fitness > Cardio > Cardio Machine Accessories > Elliptical Trainer Accessories       0.00      0.00      0.00         3\n",
      "                                                                                                                            Sporting Goods > Exercise & Fitness > Cardio > Cardio Machines       0.77      0.94      0.85        18\n",
      "                                                                                                           Sporting Goods > Exercise & Fitness > Cardio > Cardio Machines > Exercise Bikes       1.00      1.00      1.00         1\n",
      "                                                                                                               Sporting Goods > Exercise & Fitness > Cardio > Cardio Machines > Treadmills       1.00      0.67      0.80         6\n",
      "                                                                                                                                 Sporting Goods > Exercise & Fitness > Cardio > Jump Ropes       0.33      0.25      0.29         4\n",
      "                                                                                                                                      Sporting Goods > Exercise & Fitness > Exercise Balls       1.00      0.25      0.40         4\n",
      "                                                                                                                                      Sporting Goods > Exercise & Fitness > Exercise Bands       1.00      0.47      0.64        19\n",
      "                                                                                                                                    Sporting Goods > Exercise & Fitness > Exercise Benches       0.67      1.00      0.80         2\n",
      "                                                                                                                             Sporting Goods > Exercise & Fitness > Exercise Equipment Mats       1.00      0.50      0.67         2\n",
      "                                                                                                                   Sporting Goods > Exercise & Fitness > Exercise Machine & Equipment Sets       0.00      0.00      0.00         1\n",
      "                                                                                                                                        Sporting Goods > Exercise & Fitness > Foam Rollers       0.50      0.50      0.50         4\n",
      "                                                                                                                                     Sporting Goods > Exercise & Fitness > Hand Exercisers       0.80      0.71      0.75        17\n",
      "                                                                                                                          Sporting Goods > Exercise & Fitness > Inversion Tables & Systems       0.00      0.00      0.00         1\n",
      "                                                                                                                                      Sporting Goods > Exercise & Fitness > Medicine Balls       1.00      0.50      0.67         2\n",
      "                                                                                                                              Sporting Goods > Exercise & Fitness > Push Up & Pull Up Bars       0.67      1.00      0.80         2\n",
      "                                                                                                                    Sporting Goods > Exercise & Fitness > Sport Safety Lights & Reflectors       1.00      1.00      1.00         2\n",
      "                                                                                                                                         Sporting Goods > Exercise & Fitness > Stopwatches       0.00      0.00      0.00         1\n",
      "                                                                                                                         Sporting Goods > Exercise & Fitness > Vibration Exercise Machines       0.00      0.00      0.00         1\n",
      "                                                                                                                                      Sporting Goods > Exercise & Fitness > Weight Lifting       0.50      0.33      0.40         3\n",
      "                                                                                                            Sporting Goods > Exercise & Fitness > Weight Lifting > Free Weight Accessories       0.00      0.00      0.00         2\n",
      "                                                                                                                       Sporting Goods > Exercise & Fitness > Weight Lifting > Free Weights       0.75      0.92      0.83        13\n",
      "                                                                                              Sporting Goods > Exercise & Fitness > Weight Lifting > Weight Lifting Gloves & Hand Supports       0.88      1.00      0.94        15\n",
      "                                                                                                    Sporting Goods > Exercise & Fitness > Weight Lifting > Weight Lifting Machines & Racks       0.00      0.00      0.00         1\n",
      "                                                                                                                                   Sporting Goods > Exercise & Fitness > Weighted Clothing       1.00      1.00      1.00         4\n",
      "                                                                                                                                      Sporting Goods > Exercise & Fitness > Yoga & Pilates       0.33      0.25      0.29         4\n",
      "                                                                                                                   Sporting Goods > Exercise & Fitness > Yoga & Pilates > Pilates Machines       0.00      0.00      0.00         1\n",
      "                                                                                                              Sporting Goods > Exercise & Fitness > Yoga & Pilates > Yoga & Pilates Blocks       0.00      0.00      0.00         2\n",
      "                                                                                                                Sporting Goods > Exercise & Fitness > Yoga & Pilates > Yoga & Pilates Mats       0.61      0.89      0.72        19\n",
      "                                                                                                             Sporting Goods > Exercise & Fitness > Yoga & Pilates > Yoga Mat Bags & Straps       0.00      0.00      0.00         1\n",
      "                                                                                                                                                             Sporting Goods > Indoor Games       0.00      0.00      0.00         2\n",
      "                                                                                                                            Sporting Goods > Indoor Games > Air Hockey > Air Hockey Tables       0.00      0.00      0.00         1\n",
      "                                                                                                                                                 Sporting Goods > Indoor Games > Billiards       0.00      0.00      0.00         0\n",
      "                                                                                                                       Sporting Goods > Indoor Games > Billiards > Billiard Cues & Bridges       0.00      0.00      0.00         4\n",
      "                                                                                                                               Sporting Goods > Indoor Games > Billiards > Billiard Tables       0.00      0.00      0.00         2\n",
      "                                                                                                                                 Sporting Goods > Indoor Games > Foosball > Foosball Balls       0.00      0.00      0.00         1\n",
      "                                                                                                                                         Sporting Goods > Indoor Games > Multi-Game Tables       1.00      1.00      1.00         1\n",
      "                                                                                                                  Sporting Goods > Indoor Games > Ping Pong > Ping Pong Paddle Accessories       1.00      1.00      1.00         1\n",
      "                                                                                                                      Sporting Goods > Indoor Games > Ping Pong > Ping Pong Paddles & Sets       0.75      1.00      0.86         3\n",
      "                                                                                                                              Sporting Goods > Indoor Games > Ping Pong > Ping Pong Tables       1.00      1.00      1.00         1\n",
      "                                                                                                                  Sporting Goods > Indoor Games > Table Shuffleboard > Shuffleboard Tables       0.00      0.00      0.00         1\n",
      "                                                                                                                               Sporting Goods > Indoor Games > Throwing Darts > Dartboards       1.00      0.33      0.50         6\n",
      "                                                                                                                                    Sporting Goods > Indoor Games > Throwing Darts > Darts       0.67      0.67      0.67         3\n",
      "                                                                                                                                                       Sporting Goods > Outdoor Recreation       0.78      0.77      0.77        91\n",
      "                                                                                                                              Sporting Goods > Outdoor Recreation > Boating & Water Sports       0.72      0.51      0.60        41\n",
      "                                                                                                          Sporting Goods > Outdoor Recreation > Boating & Water Sports > Boating & Rafting       0.75      0.75      0.75         4\n",
      "                                                                                      Sporting Goods > Outdoor Recreation > Boating & Water Sports > Boating & Rafting > Kayak Accessories       0.29      0.40      0.33         5\n",
      "                                                                                                 Sporting Goods > Outdoor Recreation > Boating & Water Sports > Boating & Rafting > Kayaks       1.00      0.50      0.67         6\n",
      "                                                                                         Sporting Goods > Outdoor Recreation > Boating & Water Sports > Boating & Rafting > Paddles & Oars       1.00      1.00      1.00         2\n",
      "                                                                                              Sporting Goods > Outdoor Recreation > Boating & Water Sports > Boating & Water Sport Apparel       0.90      0.98      0.94        96\n",
      "                                                                               Sporting Goods > Outdoor Recreation > Boating & Water Sports > Boating & Water Sport Apparel > Life Jackets       0.83      0.71      0.77        14\n",
      "                                                                  Sporting Goods > Outdoor Recreation > Boating & Water Sports > Boating & Water Sport Apparel > Rash Guards & Swim Shirts       1.00      0.17      0.29         6\n",
      "                                                                                                        Sporting Goods > Outdoor Recreation > Boating & Water Sports > Diving & Snorkeling       1.00      1.00      1.00         3\n",
      "                                                                            Sporting Goods > Outdoor Recreation > Boating & Water Sports > Diving & Snorkeling > Diving & Snorkeling Masks       1.00      1.00      1.00         1\n",
      "                                                                                                                    Sporting Goods > Outdoor Recreation > Boating & Water Sports > Surfing       1.00      0.83      0.91         6\n",
      "                                                                                                       Sporting Goods > Outdoor Recreation > Boating & Water Sports > Surfing > Bodyboards       1.00      0.50      0.67         2\n",
      "                                                                                                     Sporting Goods > Outdoor Recreation > Boating & Water Sports > Surfing > Paddleboards       1.00      0.50      0.67         2\n",
      "                                                                                                   Sporting Goods > Outdoor Recreation > Boating & Water Sports > Surfing > Surfboard Fins       0.67      1.00      0.80         2\n",
      "                                                                                                                   Sporting Goods > Outdoor Recreation > Boating & Water Sports > Swimming       0.84      0.90      0.87        30\n",
      "                                                                                                       Sporting Goods > Outdoor Recreation > Boating & Water Sports > Swimming > Swim Caps       1.00      0.50      0.67         2\n",
      "                                                                                            Sporting Goods > Outdoor Recreation > Boating & Water Sports > Swimming > Swim Goggles & Masks       0.80      1.00      0.89         4\n",
      "                                                                                                         Sporting Goods > Outdoor Recreation > Boating & Water Sports > Towed Water Sports       0.00      0.00      0.00         1\n",
      "                                                                                                                                    Sporting Goods > Outdoor Recreation > Camping & Hiking       0.65      0.79      0.71       138\n",
      "                                                                                                                   Sporting Goods > Outdoor Recreation > Camping & Hiking > Camp Furniture       0.79      0.87      0.83        30\n",
      "                                                                         Sporting Goods > Outdoor Recreation > Camping & Hiking > Camp Furniture > Air Mattress & Sleeping Pad Accessories       0.00      0.00      0.00         1\n",
      "                                                                                                  Sporting Goods > Outdoor Recreation > Camping & Hiking > Camp Furniture > Air Mattresses       1.00      1.00      1.00         5\n",
      "                                                                                                            Sporting Goods > Outdoor Recreation > Camping & Hiking > Camp Furniture > Cots       0.00      0.00      0.00         2\n",
      "                                                                                                    Sporting Goods > Outdoor Recreation > Camping & Hiking > Camping Cookware & Dinnerware       1.00      0.14      0.25         7\n",
      "                                                                                                        Sporting Goods > Outdoor Recreation > Camping & Hiking > Camping Lights & Lanterns       0.38      0.62      0.48         8\n",
      "                                                                                                                    Sporting Goods > Outdoor Recreation > Camping & Hiking > Camping Tools       0.00      0.00      0.00         1\n",
      "                                                                                     Sporting Goods > Outdoor Recreation > Camping & Hiking > Camping Tools > Multifunction Tools & Knives       0.00      0.00      0.00         2\n",
      "                                                                                                                Sporting Goods > Outdoor Recreation > Camping & Hiking > Compression Sacks       1.00      0.50      0.67         6\n",
      "                                                                                                                     Sporting Goods > Outdoor Recreation > Camping & Hiking > Hiking Poles       0.75      1.00      0.86         3\n",
      "                                                                                                   Sporting Goods > Outdoor Recreation > Camping & Hiking > Mosquito Nets & Insect Screens       0.00      0.00      0.00         0\n",
      "                                                                                                           Sporting Goods > Outdoor Recreation > Camping & Hiking > Navigational Compasses       0.00      0.00      0.00         0\n",
      "                                                                                                       Sporting Goods > Outdoor Recreation > Camping & Hiking > Portable Toilets & Showers       0.00      0.00      0.00         2\n",
      "                                                                Sporting Goods > Outdoor Recreation > Camping & Hiking > Portable Toilets & Showers > Portable Toilets & Urination Devices       0.00      0.00      0.00         1\n",
      "                                                                                               Sporting Goods > Outdoor Recreation > Camping & Hiking > Portable Water Filters & Purifiers       1.00      1.00      1.00         2\n",
      "                                                                                                              Sporting Goods > Outdoor Recreation > Camping & Hiking > Sleeping Bag Liners       0.00      0.00      0.00         1\n",
      "                                                                                                                    Sporting Goods > Outdoor Recreation > Camping & Hiking > Sleeping Bags       0.86      1.00      0.92        24\n",
      "                                                                                                                    Sporting Goods > Outdoor Recreation > Camping & Hiking > Sleeping Pads       1.00      0.83      0.91        12\n",
      "                                                                                                                 Sporting Goods > Outdoor Recreation > Camping & Hiking > Tent Accessories       0.00      0.00      0.00         4\n",
      "                                                                                               Sporting Goods > Outdoor Recreation > Camping & Hiking > Tent Accessories > Tent Footprints       1.00      0.38      0.55         8\n",
      "                                                                                                                            Sporting Goods > Outdoor Recreation > Camping & Hiking > Tents       0.76      0.81      0.78        42\n",
      "                                                                                                                       Sporting Goods > Outdoor Recreation > Camping & Hiking > Windbreaks       0.00      0.00      0.00         1\n",
      "                                                                                                                                            Sporting Goods > Outdoor Recreation > Climbing       0.50      0.68      0.58        25\n",
      "                                                                                                                            Sporting Goods > Outdoor Recreation > Climbing > Belay Devices       0.00      0.00      0.00         1\n",
      "                                                                                                           Sporting Goods > Outdoor Recreation > Climbing > Climbing Apparel & Accessories       0.77      1.00      0.87        10\n",
      "                                                                                        Sporting Goods > Outdoor Recreation > Climbing > Climbing Apparel & Accessories > Climbing Helmets       0.00      0.00      0.00         1\n",
      "                                                                                                          Sporting Goods > Outdoor Recreation > Climbing > Climbing Ascenders & Descenders       1.00      1.00      1.00         1\n",
      "                                                                                                                      Sporting Goods > Outdoor Recreation > Climbing > Climbing Chalk Bags       1.00      1.00      1.00         1\n",
      "                                                                                                                      Sporting Goods > Outdoor Recreation > Climbing > Climbing Crash Pads       0.00      0.00      0.00         1\n",
      "                                                                                                                       Sporting Goods > Outdoor Recreation > Climbing > Climbing Harnesses       1.00      0.50      0.67         4\n",
      "                                                                                                                            Sporting Goods > Outdoor Recreation > Climbing > Climbing Rope       0.50      0.25      0.33         4\n",
      "                                                                                                                       Sporting Goods > Outdoor Recreation > Climbing > Climbing Rope Bags       0.00      0.00      0.00         1\n",
      "                                                                                                                    Sporting Goods > Outdoor Recreation > Climbing > Indoor Climbing Holds       0.00      0.00      0.00         1\n",
      "                                                                                                                                             Sporting Goods > Outdoor Recreation > Cycling       1.00      0.33      0.50         9\n",
      "                                                                                                                       Sporting Goods > Outdoor Recreation > Cycling > Bicycle Accessories       0.50      0.36      0.42        11\n",
      "                                                                                             Sporting Goods > Outdoor Recreation > Cycling > Bicycle Accessories > Bicycle Bags & Panniers       0.33      0.33      0.33         3\n",
      "                                                                                     Sporting Goods > Outdoor Recreation > Cycling > Bicycle Accessories > Bicycle Handlebar Grips & Decor       0.00      0.00      0.00         1\n",
      "                                                                                                       Sporting Goods > Outdoor Recreation > Cycling > Bicycle Accessories > Bicycle Pumps       0.00      0.00      0.00         3\n",
      "                                                                                                       Sporting Goods > Outdoor Recreation > Cycling > Bicycle Accessories > Bicycle Tools       0.00      0.00      0.00         5\n",
      "                                                                                                    Sporting Goods > Outdoor Recreation > Cycling > Bicycle Accessories > Bicycle Trailers       0.00      0.00      0.00         1\n",
      "                                                                                                    Sporting Goods > Outdoor Recreation > Cycling > Bicycle Accessories > Bicycle Trainers       0.00      0.00      0.00         2\n",
      "                                                                                                                             Sporting Goods > Outdoor Recreation > Cycling > Bicycle Parts       1.00      0.67      0.80        12\n",
      "                                                                                                                                  Sporting Goods > Outdoor Recreation > Cycling > Bicycles       0.93      0.98      0.95        96\n",
      "                                                                                                             Sporting Goods > Outdoor Recreation > Cycling > Cycling Apparel & Accessories       0.84      0.94      0.89        17\n",
      "                                                                                           Sporting Goods > Outdoor Recreation > Cycling > Cycling Apparel & Accessories > Bicycle Helmets       1.00      0.75      0.86         8\n",
      "                                                                                                                                 Sporting Goods > Outdoor Recreation > Cycling > Tricycles       0.50      0.60      0.55         5\n",
      "                                                                                                                             Sporting Goods > Outdoor Recreation > Equestrian > Horse Care       0.00      0.00      0.00         1\n",
      "                                                                                                                             Sporting Goods > Outdoor Recreation > Equestrian > Horse Tack       0.00      0.00      0.00         1\n",
      "                                                                                                                                             Sporting Goods > Outdoor Recreation > Fishing       0.64      0.66      0.65        96\n",
      "                                                                                                                  Sporting Goods > Outdoor Recreation > Fishing > Fishing & Hunting Waders       1.00      1.00      1.00         6\n",
      "                                                                                                                             Sporting Goods > Outdoor Recreation > Fishing > Fishing Gaffs       0.00      0.00      0.00         1\n",
      "                                                                                                                   Sporting Goods > Outdoor Recreation > Fishing > Fishing Lines & Leaders       0.96      0.96      0.96        27\n",
      "                                                                                                                              Sporting Goods > Outdoor Recreation > Fishing > Fishing Nets       1.00      0.90      0.95        10\n",
      "                                                                                      Sporting Goods > Outdoor Recreation > Fishing > Fishing Reel Accessories > Fishing Reel Bags & Cases       0.00      0.00      0.00         3\n",
      "                                                                                                                             Sporting Goods > Outdoor Recreation > Fishing > Fishing Reels       0.85      0.88      0.87        26\n",
      "                                                                                                                   Sporting Goods > Outdoor Recreation > Fishing > Fishing Rod Accessories       0.00      0.00      0.00         1\n",
      "                                                                                        Sporting Goods > Outdoor Recreation > Fishing > Fishing Rod Accessories > Fishing Rod Bags & Cases       0.00      0.00      0.00         1\n",
      "                                                                             Sporting Goods > Outdoor Recreation > Fishing > Fishing Rod Accessories > Fishing Rod Holders & Storage Racks       1.00      0.20      0.33         5\n",
      "                                                                                                                              Sporting Goods > Outdoor Recreation > Fishing > Fishing Rods       0.83      0.91      0.87        43\n",
      "                                                                                                                            Sporting Goods > Outdoor Recreation > Fishing > Fishing Tackle       0.74      0.76      0.75       140\n",
      "                                                                                                    Sporting Goods > Outdoor Recreation > Fishing > Fishing Tackle > Fishing Baits & Lures       0.81      0.82      0.82       116\n",
      "                                                                                                           Sporting Goods > Outdoor Recreation > Fishing > Fishing Tackle > Fishing Floats       0.80      0.57      0.67         7\n",
      "                                                                                                            Sporting Goods > Outdoor Recreation > Fishing > Fishing Tackle > Fishing Hooks       0.87      0.87      0.87        31\n",
      "                                                                                                          Sporting Goods > Outdoor Recreation > Fishing > Fishing Tackle > Fishing Sinkers       0.75      0.75      0.75         4\n",
      "                                                                                                  Sporting Goods > Outdoor Recreation > Fishing > Fishing Tackle > Fishing Snaps & Swivels       0.83      0.62      0.71         8\n",
      "                                                                                                                             Sporting Goods > Outdoor Recreation > Fishing > Fishing Traps       0.00      0.00      0.00         1\n",
      "                                                                                                                       Sporting Goods > Outdoor Recreation > Fishing > Fly Tying Materials       0.00      0.00      0.00         1\n",
      "                                                                                                                       Sporting Goods > Outdoor Recreation > Fishing > Tackle Bags & Boxes       0.84      0.76      0.80        21\n",
      "                                                                                                                                                Sporting Goods > Outdoor Recreation > Golf       0.72      0.81      0.76        26\n",
      "                                                                                                                         Sporting Goods > Outdoor Recreation > Golf > Golf Bag Accessories       0.00      0.00      0.00         1\n",
      "                                                                                                        Sporting Goods > Outdoor Recreation > Golf > Golf Bag Accessories > Golf Bag Carts       0.00      0.00      0.00         1\n",
      "                                                                                                                                    Sporting Goods > Outdoor Recreation > Golf > Golf Bags       1.00      0.62      0.77        16\n",
      "                                                                                                                            Sporting Goods > Outdoor Recreation > Golf > Golf Ball Markers       1.00      1.00      1.00         1\n",
      "                                                                                                                                   Sporting Goods > Outdoor Recreation > Golf > Golf Balls       0.96      1.00      0.98        22\n",
      "                                                                                              Sporting Goods > Outdoor Recreation > Golf > Golf Club Parts & Accessories > Golf Club Grips       1.00      1.00      1.00         5\n",
      "                                                                                                                                   Sporting Goods > Outdoor Recreation > Golf > Golf Clubs       0.80      0.78      0.79        41\n",
      "                                                                                                                                  Sporting Goods > Outdoor Recreation > Golf > Golf Gloves       0.70      1.00      0.82         7\n",
      "                                                                                                                                    Sporting Goods > Outdoor Recreation > Golf > Golf Tees       0.00      0.00      0.00         3\n",
      "                                                                                                                                  Sporting Goods > Outdoor Recreation > Golf > Golf Towels       1.00      0.33      0.50         3\n",
      "                                                                                                                           Sporting Goods > Outdoor Recreation > Golf > Golf Training Aids       0.00      0.00      0.00         3\n",
      "                                                                                                                                  Sporting Goods > Outdoor Recreation > Hunting & Shooting       0.75      0.68      0.71        22\n",
      "                                                                                                      Sporting Goods > Outdoor Recreation > Hunting & Shooting > Archery > Archery Targets       1.00      1.00      1.00         3\n",
      "                                                                                                     Sporting Goods > Outdoor Recreation > Hunting & Shooting > Archery > Bows & Crossbows       0.00      0.00      0.00         2\n",
      "                                                                 Sporting Goods > Outdoor Recreation > Hunting & Shooting > Hunting & Shooting Protective Gear > Hunting & Shooting Gloves       0.00      0.00      0.00         4\n",
      "                                                                                                         Sporting Goods > Outdoor Recreation > Hunting & Shooting > Hunting > Animal Traps       0.00      0.00      0.00         1\n",
      "                                                                                             Sporting Goods > Outdoor Recreation > Hunting & Shooting > Hunting > Hunting Blinds & Screens       1.00      0.25      0.40         4\n",
      "                                                                                                 Sporting Goods > Outdoor Recreation > Hunting & Shooting > Hunting > Wildlife Attractants       0.88      1.00      0.93         7\n",
      "                                                                     Sporting Goods > Outdoor Recreation > Hunting & Shooting > Hunting > Wildlife Attractants > Hunting & Wildlife Decoys       1.00      1.00      1.00         1\n",
      "                                                                                                            Sporting Goods > Outdoor Recreation > Hunting & Shooting > Paintball & Airsoft       1.00      0.89      0.94        18\n",
      "                                                                                                   Sporting Goods > Outdoor Recreation > Hunting & Shooting > Shooting & Range Accessories       0.90      0.80      0.85        76\n",
      "                                                                                Sporting Goods > Outdoor Recreation > Hunting & Shooting > Shooting & Range Accessories > Shooting Targets       1.00      0.80      0.89         5\n",
      "                                                                                                                                   Sporting Goods > Outdoor Recreation > Hydration Systems       1.00      0.83      0.91         6\n",
      "                                                                                                             Sporting Goods > Outdoor Recreation > Inline & Roller Skating > Inline Skates       0.93      0.93      0.93        15\n",
      "                                                                                                             Sporting Goods > Outdoor Recreation > Inline & Roller Skating > Roller Skates       0.89      1.00      0.94        16\n",
      "                                                                                                                                       Sporting Goods > Outdoor Recreation > Outdoor Games       0.50      0.35      0.41        20\n",
      "                                                                                                                           Sporting Goods > Outdoor Recreation > Outdoor Games > Badminton       0.80      0.80      0.80         5\n",
      "                                                                                                                          Sporting Goods > Outdoor Recreation > Outdoor Games > Lawn Games       0.39      0.81      0.53        16\n",
      "                                                                                                                          Sporting Goods > Outdoor Recreation > Outdoor Games > Pickleball       0.78      0.64      0.70        11\n",
      "                                                                                                     Sporting Goods > Outdoor Recreation > Outdoor Games > Pickleball > Pickleball Paddles       0.50      0.50      0.50         2\n",
      "                                                                                                                                     Sporting Goods > Outdoor Recreation > Riding Scooters       0.93      0.95      0.94        39\n",
      "                                                                                                                                       Sporting Goods > Outdoor Recreation > Skateboarding       0.00      0.00      0.00         1\n",
      "                                                                                                                    Sporting Goods > Outdoor Recreation > Skateboarding > Skateboard Parts       0.00      0.00      0.00         1\n",
      "                                                                                                 Sporting Goods > Outdoor Recreation > Skateboarding > Skateboard Parts > Skateboard Decks       0.86      1.00      0.92         6\n",
      "                                                                                                       Sporting Goods > Outdoor Recreation > Skateboarding > Skateboarding Protective Gear       1.00      0.60      0.75         5\n",
      "                                                                                       Sporting Goods > Outdoor Recreation > Skateboarding > Skateboarding Protective Gear > Skate Helmets       1.00      1.00      1.00         4\n",
      "                                                                                                                         Sporting Goods > Outdoor Recreation > Skateboarding > Skateboards       1.00      0.82      0.90        11\n",
      "                                                                                                  Sporting Goods > Outdoor Recreation > Winter Sports & Activities > Skiing & Snowboarding       1.00      0.67      0.80         6\n",
      "                                                                        Sporting Goods > Outdoor Recreation > Winter Sports & Activities > Skiing & Snowboarding > Ski & Snowboard Goggles       1.00      0.33      0.50         3\n",
      "                                                                        Sporting Goods > Outdoor Recreation > Winter Sports & Activities > Skiing & Snowboarding > Ski & Snowboard Helmets       0.00      0.00      0.00         1\n",
      "                                                                                                                  Sporting Goods > Outdoor Recreation > Winter Sports & Activities > Sleds       1.00      1.00      1.00         2\n",
      "                                                                                                                                                                      Toys & Games > Games       0.80      0.79      0.79       201\n",
      "                                                                                                                                                        Toys & Games > Games > Battle Tops       1.00      1.00      1.00         2\n",
      "                                                                                                                                                         Toys & Games > Games > Bingo Sets       0.00      0.00      0.00         1\n",
      "                                                                                                                                                        Toys & Games > Games > Board Games       1.00      0.25      0.40         4\n",
      "                                                                                                                                                         Toys & Games > Games > Card Games       0.00      0.00      0.00         1\n",
      "                                                                                                                                          Toys & Games > Games > Portable Electronic Games       1.00      0.67      0.80         3\n",
      "                                                                                                                                                     Toys & Games > Outdoor Play Equipment       0.33      0.08      0.13        12\n",
      "                                                                                                                               Toys & Games > Outdoor Play Equipment > Inflatable Bouncers       1.00      0.25      0.40         4\n",
      "                                                                                                                                       Toys & Games > Outdoor Play Equipment > Play Swings       1.00      0.88      0.93         8\n",
      "                                                                                                                              Toys & Games > Outdoor Play Equipment > Play Tents & Tunnels       0.67      0.53      0.59        15\n",
      "                                                                                                                                        Toys & Games > Outdoor Play Equipment > Playhouses       0.50      0.50      0.50         2\n",
      "                                                                                                                                       Toys & Games > Outdoor Play Equipment > Pogo Sticks       0.00      0.00      0.00         1\n",
      "                                                                                                                                          Toys & Games > Outdoor Play Equipment > See Saws       1.00      1.00      1.00         1\n",
      "                                                                                                                                            Toys & Games > Outdoor Play Equipment > Slides       0.00      0.00      0.00         3\n",
      "                                                                                                                             Toys & Games > Outdoor Play Equipment > Swing Sets & Playsets       0.56      0.62      0.59         8\n",
      "                                                                                                                            Toys & Games > Outdoor Play Equipment > Trampoline Accessories       0.00      0.00      0.00         2\n",
      "                                                                                                                                       Toys & Games > Outdoor Play Equipment > Trampolines       0.76      1.00      0.86        16\n",
      "                                                                                                             Toys & Games > Outdoor Play Equipment > Water Play Equipment > Play Sprinkers       0.40      0.50      0.44         4\n",
      "                                                                                                       Toys & Games > Outdoor Play Equipment > Water Play Equipment > Water Parks & Slides       0.55      0.80      0.65        15\n",
      "                                                                                                                                                                    Toys & Games > Puzzles       0.50      0.20      0.29        10\n",
      "                                                                                                                                        Toys & Games > Puzzles > Jigsaw Puzzle Accessories       1.00      1.00      1.00         1\n",
      "                                                                                                                                                   Toys & Games > Puzzles > Jigsaw Puzzles       0.83      0.96      0.89        83\n",
      "                                                                                                                                               Toys & Games > Puzzles > Mechanical Puzzles       0.00      0.00      0.00         5\n",
      "                                                                                                                                          Toys & Games > Puzzles > Wooden & Pegged Puzzles       1.00      0.33      0.50        12\n",
      "                                                                                                                                                                       Toys & Games > Toys       0.86      0.50      0.63        12\n",
      "                                                                                                                                                       Toys & Games > Toys > Activity Toys       0.00      0.00      0.00         4\n",
      "                                                                                                                                    Toys & Games > Toys > Activity Toys > Ball & Cup Games       0.00      0.00      0.00         1\n",
      "                                                                                                                                        Toys & Games > Toys > Activity Toys > Bouncy Balls       1.00      0.62      0.77         8\n",
      "                                                                                                                             Toys & Games > Toys > Activity Toys > Bubble Blowing Solution       0.71      0.62      0.67         8\n",
      "                                                                                                                                 Toys & Games > Toys > Activity Toys > Bubble Blowing Toys       0.67      0.40      0.50         5\n",
      "                                                                                                                                             Toys & Games > Toys > Activity Toys > Marbles       0.00      0.00      0.00         0\n",
      "                                                                                                                                              Toys & Games > Toys > Activity Toys > Yo-Yos       0.00      0.00      0.00         2\n",
      "                                                                                                                                                  Toys & Games > Toys > Art & Drawing Toys       1.00      0.14      0.25         7\n",
      "                                                                                                                             Toys & Games > Toys > Art & Drawing Toys > Play Dough & Putty       0.70      0.50      0.58        14\n",
      "                                                                                                                               Toys & Games > Toys > Ball Pit Accessories > Ball Pit Balls       0.00      0.00      0.00         1\n",
      "                                                                                                                                                           Toys & Games > Toys > Ball Pits       1.00      1.00      1.00         4\n",
      "                                                                                                                                                           Toys & Games > Toys > Bath Toys       0.73      0.61      0.67        31\n",
      "                                                                                                                                                   Toys & Games > Toys > Beach & Sand Toys       0.83      0.62      0.71        16\n",
      "                                                                                                                                                       Toys & Games > Toys > Building Toys       0.71      0.28      0.40        18\n",
      "                                                                                                                               Toys & Games > Toys > Building Toys > Construction Set Toys       0.58      0.54      0.56        28\n",
      "                                                                                                                                         Toys & Games > Toys > Building Toys > Foam Blocks       0.00      0.00      0.00         3\n",
      "                                                                                                                                 Toys & Games > Toys > Building Toys > Interlocking Blocks       0.65      0.96      0.77        80\n",
      "                                                                                                                                   Toys & Games > Toys > Building Toys > Marble Track Sets       1.00      0.33      0.50         3\n",
      "                                                                                                                                       Toys & Games > Toys > Building Toys > Wooden Blocks       0.60      0.25      0.35        12\n",
      "                                                                                                                                       Toys & Games > Toys > Dolls, Playsets & Toy Figures       0.17      0.14      0.15         7\n",
      "                                                                                                                Toys & Games > Toys > Dolls, Playsets & Toy Figures > Action & Toy Figures       0.80      0.87      0.83       244\n",
      "                                                                                                    Toys & Games > Toys > Dolls, Playsets & Toy Figures > Doll & Action Figure Accessories       0.82      0.85      0.84        87\n",
      "                                                                                                               Toys & Games > Toys > Dolls, Playsets & Toy Figures > Dollhouse Accessories       0.33      0.50      0.40         2\n",
      "                                                                                                                          Toys & Games > Toys > Dolls, Playsets & Toy Figures > Dollhouses       0.67      0.22      0.33         9\n",
      "                                                                                                                               Toys & Games > Toys > Dolls, Playsets & Toy Figures > Dolls       0.79      0.87      0.83       186\n",
      "                                                                                                               Toys & Games > Toys > Dolls, Playsets & Toy Figures > Puppets & Marionettes       0.75      0.43      0.55         7\n",
      "                                                                                                                     Toys & Games > Toys > Dolls, Playsets & Toy Figures > Stuffed Animals       0.77      0.75      0.76       200\n",
      "                                                                                                                        Toys & Games > Toys > Dolls, Playsets & Toy Figures > Toy Playsets       0.57      0.64      0.60       112\n",
      "                                                                                                                                                    Toys & Games > Toys > Educational Toys       0.27      0.18      0.21        17\n",
      "                                                                                                                          Toys & Games > Toys > Educational Toys > Astronomy Toys & Models       0.00      0.00      0.00         1\n",
      "                                                                                                                              Toys & Games > Toys > Educational Toys > Bug Collecting Kits       1.00      0.25      0.40         4\n",
      "                                                                                                                          Toys & Games > Toys > Educational Toys > Educational Flash Cards       0.89      0.73      0.80        11\n",
      "                                                                                                                                     Toys & Games > Toys > Educational Toys > Reading Toys       0.00      0.00      0.00         3\n",
      "                                                                                                                       Toys & Games > Toys > Educational Toys > Science & Exploration Sets       0.60      0.82      0.69        22\n",
      "                                                                                                                                     Toys & Games > Toys > Educational Toys > Toy Abacuses       0.00      0.00      0.00         1\n",
      "                                                                                                                                                         Toys & Games > Toys > Flying Toys       1.00      0.33      0.50         3\n",
      "                                                                                                                                   Toys & Games > Toys > Flying Toys > Air & Water Rockets       1.00      0.67      0.80         3\n",
      "                                                                                                                                                 Toys & Games > Toys > Flying Toys > Kites       0.00      0.00      0.00         3\n",
      "                                                                                                                                           Toys & Games > Toys > Flying Toys > Toy Gliders       0.00      0.00      0.00         2\n",
      "                                                                                                                                        Toys & Games > Toys > Flying Toys > Toy Parachutes       0.00      0.00      0.00         1\n",
      "                                                                                                                                                        Toys & Games > Toys > Musical Toys       0.00      0.00      0.00         2\n",
      "                                                                                                                                      Toys & Games > Toys > Musical Toys > Toy Instruments       1.00      0.57      0.73        14\n",
      "                                                                                                                                            Toys & Games > Toys > Play Vehicle Accessories       0.00      0.00      0.00         1\n",
      "                                                                                                                    Toys & Games > Toys > Play Vehicle Accessories > Toy Train Accessories       0.00      0.00      0.00         1\n",
      "                                                                                                                                                       Toys & Games > Toys > Play Vehicles       0.00      0.00      0.00         1\n",
      "                                                                                                                                            Toys & Games > Toys > Play Vehicles > Toy Cars       0.67      0.32      0.43        19\n",
      "                                                                                                                                     Toys & Games > Toys > Play Vehicles > Toy Helicopters       0.00      0.00      0.00         1\n",
      "                                                                                                                             Toys & Games > Toys > Play Vehicles > Toy Trains & Train Sets       0.50      0.67      0.57         3\n",
      "                                                                                                                  Toys & Games > Toys > Play Vehicles > Toy Trucks & Construction Vehicles       0.71      0.69      0.70        29\n",
      "                                                                                                                                                        Toys & Games > Toys > Pretend Play       1.00      0.20      0.33         5\n",
      "                                                                                                                                 Toys & Games > Toys > Pretend Play > Play Money & Banking       1.00      0.33      0.50         3\n",
      "                                                                                                                                  Toys & Games > Toys > Pretend Play > Pretend Electronics       0.80      0.80      0.80         5\n",
      "                                                                                                                                 Toys & Games > Toys > Pretend Play > Pretend Housekeeping       0.00      0.00      0.00         5\n",
      "                                                                                                                                Toys & Games > Toys > Pretend Play > Pretend Lawn & Garden       1.00      0.67      0.80         3\n",
      "                                                                                                                   Toys & Games > Toys > Pretend Play > Pretend Professions & Role Playing       0.20      0.11      0.14         9\n",
      "                                                                                                                           Toys & Games > Toys > Pretend Play > Pretend Shopping & Grocery       0.00      0.00      0.00         2\n",
      "                                                                                                                             Toys & Games > Toys > Pretend Play > Toy Kitchens & Play Food       0.63      0.83      0.72        46\n",
      "                                                                                                                                            Toys & Games > Toys > Pretend Play > Toy Tools       0.43      0.38      0.40         8\n",
      "                                                                                                                                      Toys & Games > Toys > Remote Control Toy Accessories       0.00      0.00      0.00         1\n",
      "                                                                                                                                                 Toys & Games > Toys > Remote Control Toys       0.86      1.00      0.92         6\n",
      "                                                                                                             Toys & Games > Toys > Remote Control Toys > Remote Control Boats & Watercraft       1.00      1.00      1.00         2\n",
      "                                                                                                                  Toys & Games > Toys > Remote Control Toys > Remote Control Cars & Trucks       0.83      0.86      0.84        22\n",
      "                                                                                                                    Toys & Games > Toys > Remote Control Toys > Remote Control Motorcycles       0.00      0.00      0.00         2\n",
      "                                                                                                                         Toys & Games > Toys > Remote Control Toys > Remote Control Robots       0.33      0.25      0.29         4\n",
      "                                                                                                                                                         Toys & Games > Toys > Riding Toys       1.00      0.44      0.62         9\n",
      "                                                                                                                              Toys & Games > Toys > Riding Toys > Electric Riding Vehicles       0.89      1.00      0.94        16\n",
      "                                                                                                                          Toys & Games > Toys > Riding Toys > Push & Pedal Riding Vehicles       0.74      0.78      0.76        18\n",
      "                                                                                                                          Toys & Games > Toys > Riding Toys > Rocking & Spring Riding Toys       1.00      0.33      0.50         3\n",
      "                                                                                                                                                Toys & Games > Toys > Riding Toys > Wagons       1.00      0.14      0.25         7\n",
      "                                                                                                                                                        Toys & Games > Toys > Robotic Toys       0.62      0.62      0.62         8\n",
      "                                                                                                                                                         Toys & Games > Toys > Sports Toys       0.00      0.00      0.00         4\n",
      "                                                                                                                                         Toys & Games > Toys > Sports Toys > Baseball Toys       0.67      0.67      0.67         3\n",
      "                                                                                                                                       Toys & Games > Toys > Sports Toys > Basketball Toys       0.50      0.20      0.29         5\n",
      "                                                                                                                                          Toys & Games > Toys > Sports Toys > Bowling Toys       0.00      0.00      0.00         2\n",
      "                                                                                                                       Toys & Games > Toys > Sports Toys > Fingerboards & Fingerboard Sets       1.00      1.00      1.00         2\n",
      "                                                                                                                                          Toys & Games > Toys > Sports Toys > Fishing Toys       0.00      0.00      0.00         2\n",
      "                                                                                                                                          Toys & Games > Toys > Sports Toys > Fitness Toys       1.00      1.00      1.00         1\n",
      "                                                                                                                                          Toys & Games > Toys > Sports Toys > Flying Discs       1.00      0.67      0.80         3\n",
      "                                                                                                                                             Toys & Games > Toys > Sports Toys > Golf Toys       1.00      1.00      1.00         1\n",
      "                                                                                                                                           Toys & Games > Toys > Sports Toys > Hockey Toys       0.00      0.00      0.00         2\n",
      "                                                                                                                                      Toys & Games > Toys > Sports Toys > Playground Balls       0.67      0.67      0.67         3\n",
      "                                                                                                                                    Toys & Games > Toys > Sports Toys > Racquet Sport Toys       0.00      0.00      0.00         1\n",
      "                                                                                                                                     Toys & Games > Toys > Toy Weapon & Gadget Accessories       0.50      0.33      0.40         3\n",
      "                                                                                                                                               Toys & Games > Toys > Toy Weapons & Gadgets       0.63      0.73      0.68        33\n",
      "                                                                                                                                         Toys & Games > Toys > Visual Toys > Kaleidoscopes       0.00      0.00      0.00         1\n",
      "                                                                                                                                            Vehicles & Parts > Vehicle Parts & Accessories       0.65      0.63      0.64        51\n",
      "                                                                                                                Vehicles & Parts > Vehicle Parts & Accessories > Motor Vehicle Electronics       1.00      0.67      0.80         3\n",
      "                                                                  Vehicles & Parts > Vehicle Parts & Accessories > Motor Vehicle Electronics > Motor Vehicle A/V Players & In-Dash Systems       0.50      1.00      0.67         1\n",
      "                                                                                  Vehicles & Parts > Vehicle Parts & Accessories > Motor Vehicle Electronics > Motor Vehicle Speakerphones       1.00      1.00      1.00         1\n",
      "                                                                                       Vehicles & Parts > Vehicle Parts & Accessories > Motor Vehicle Electronics > Motor Vehicle Speakers       1.00      0.50      0.67         2\n",
      "                                                                                     Vehicles & Parts > Vehicle Parts & Accessories > Motor Vehicle Electronics > Motor Vehicle Subwoofers       0.00      0.00      0.00         1\n",
      "                                                                                                                      Vehicles & Parts > Vehicle Parts & Accessories > Motor Vehicle Parts       0.80      0.87      0.83       793\n",
      "                                                                                              Vehicles & Parts > Vehicle Parts & Accessories > Motor Vehicle Parts > Motor Vehicle Braking       0.88      0.92      0.90        39\n",
      "                                                                                  Vehicles & Parts > Vehicle Parts & Accessories > Motor Vehicle Parts > Motor Vehicle Carpet & Upholstery       1.00      0.83      0.91         6\n",
      "                                                                                      Vehicles & Parts > Vehicle Parts & Accessories > Motor Vehicle Parts > Motor Vehicle Climate Control       0.00      0.00      0.00         1\n",
      "                                                                                             Vehicles & Parts > Vehicle Parts & Accessories > Motor Vehicle Parts > Motor Vehicle Controls       0.00      0.00      0.00         1\n",
      "                                                                               Vehicles & Parts > Vehicle Parts & Accessories > Motor Vehicle Parts > Motor Vehicle Engine Oil Circulation       0.89      0.85      0.87        39\n",
      "                                                                                         Vehicles & Parts > Vehicle Parts & Accessories > Motor Vehicle Parts > Motor Vehicle Engine Parts       0.00      0.00      0.00         1\n",
      "                                                                                              Vehicles & Parts > Vehicle Parts & Accessories > Motor Vehicle Parts > Motor Vehicle Exhaust       0.99      0.95      0.97        73\n",
      "                                                                                   Vehicles & Parts > Vehicle Parts & Accessories > Motor Vehicle Parts > Motor Vehicle Frame & Body Parts       0.82      0.86      0.84        99\n",
      "                                                                                         Vehicles & Parts > Vehicle Parts & Accessories > Motor Vehicle Parts > Motor Vehicle Fuel Systems       0.88      0.48      0.62        29\n",
      "                                                                                             Vehicles & Parts > Vehicle Parts & Accessories > Motor Vehicle Parts > Motor Vehicle Lighting       0.89      0.44      0.59        18\n",
      "                                                                           Vehicles & Parts > Vehicle Parts & Accessories > Motor Vehicle Parts > Motor Vehicle Power & Electrical Systems       0.80      0.76      0.78        21\n",
      "                                                                                              Vehicles & Parts > Vehicle Parts & Accessories > Motor Vehicle Parts > Motor Vehicle Seating       0.77      0.95      0.85        21\n",
      "                                                                                     Vehicles & Parts > Vehicle Parts & Accessories > Motor Vehicle Parts > Motor Vehicle Sensors & Gauges       0.00      0.00      0.00         1\n",
      "                                                                                     Vehicles & Parts > Vehicle Parts & Accessories > Motor Vehicle Parts > Motor Vehicle Suspension Parts       0.92      0.65      0.76        17\n",
      "                                                                      Vehicles & Parts > Vehicle Parts & Accessories > Motor Vehicle Parts > Motor Vehicle Transmission & Drivetrain Parts       0.55      0.44      0.49        25\n",
      "                                                                                        Vehicles & Parts > Vehicle Parts & Accessories > Motor Vehicle Parts > Motor Vehicle Wheel Systems       0.00      0.00      0.00         1\n",
      "                               Vehicles & Parts > Vehicle Parts & Accessories > Motor Vehicle Parts > Motor Vehicle Wheel Systems > Motor Vehicle Rims & Wheels > Automotive Rims & Wheels       0.75      0.60      0.67         5\n",
      "                                                                           Vehicles & Parts > Vehicle Parts & Accessories > Motor Vehicle Parts > Motor Vehicle Window Parts & Accessories       0.95      1.00      0.97        18\n",
      "                                                                                                        Vehicles & Parts > Vehicle Parts & Accessories > Vehicle Maintenance, Care & Decor       0.60      0.46      0.52        13\n",
      "                                                                                   Vehicles & Parts > Vehicle Parts & Accessories > Vehicle Maintenance, Care & Decor > Portable Fuel Cans       0.00      0.00      0.00         1\n",
      "                                                                                     Vehicles & Parts > Vehicle Parts & Accessories > Vehicle Maintenance, Care & Decor > Vehicle Cleaning       0.54      0.68      0.60        28\n",
      "                                                                  Vehicles & Parts > Vehicle Parts & Accessories > Vehicle Maintenance, Care & Decor > Vehicle Cleaning > Car Wash Brushes       0.00      0.00      0.00         0\n",
      "                                                                Vehicles & Parts > Vehicle Parts & Accessories > Vehicle Maintenance, Care & Decor > Vehicle Cleaning > Car Wash Solutions       0.60      0.43      0.50         7\n",
      "                                              Vehicles & Parts > Vehicle Parts & Accessories > Vehicle Maintenance, Care & Decor > Vehicle Cleaning > Vehicle Carpet & Upholstery Cleaners       0.00      0.00      0.00         2\n",
      "                                                            Vehicles & Parts > Vehicle Parts & Accessories > Vehicle Maintenance, Care & Decor > Vehicle Cleaning > Vehicle Glass Cleaners       0.00      0.00      0.00         4\n",
      "                                             Vehicles & Parts > Vehicle Parts & Accessories > Vehicle Maintenance, Care & Decor > Vehicle Cleaning > Vehicle Waxes, Polishes & Protectants       0.00      0.00      0.00         4\n",
      "                                                                                       Vehicles & Parts > Vehicle Parts & Accessories > Vehicle Maintenance, Care & Decor > Vehicle Covers       0.00      0.00      0.00         2\n",
      "                                                                      Vehicles & Parts > Vehicle Parts & Accessories > Vehicle Maintenance, Care & Decor > Vehicle Covers > Tonneau Covers       1.00      1.00      1.00         9\n",
      "                                  Vehicles & Parts > Vehicle Parts & Accessories > Vehicle Maintenance, Care & Decor > Vehicle Covers > Vehicle Storage Covers > Automotive Storage Covers       0.00      0.00      0.00         1\n",
      "                                                                                        Vehicles & Parts > Vehicle Parts & Accessories > Vehicle Maintenance, Care & Decor > Vehicle Decor       0.00      0.00      0.00         3\n",
      "                                                               Vehicles & Parts > Vehicle Parts & Accessories > Vehicle Maintenance, Care & Decor > Vehicle Decor > Vehicle Air Fresheners       0.60      0.43      0.50         7\n",
      "                                                        Vehicles & Parts > Vehicle Parts & Accessories > Vehicle Maintenance, Care & Decor > Vehicle Decor > Vehicle Dashboard Accessories       1.00      1.00      1.00         1\n",
      "                                                                       Vehicles & Parts > Vehicle Parts & Accessories > Vehicle Maintenance, Care & Decor > Vehicle Decor > Vehicle Decals       0.50      0.50      0.50         2\n",
      "                                                               Vehicles & Parts > Vehicle Parts & Accessories > Vehicle Maintenance, Care & Decor > Vehicle Decor > Vehicle License Plates       1.00      0.50      0.67         2\n",
      "                                                                      Vehicles & Parts > Vehicle Parts & Accessories > Vehicle Maintenance, Care & Decor > Vehicle Decor > Vehicle Magnets       0.00      0.00      0.00         3\n",
      "                                                        Vehicles & Parts > Vehicle Parts & Accessories > Vehicle Maintenance, Care & Decor > Vehicle Decor > Vehicle Steering Wheel Covers       1.00      0.75      0.86         4\n",
      "                                                                                       Vehicles & Parts > Vehicle Parts & Accessories > Vehicle Maintenance, Care & Decor > Vehicle Fluids       1.00      0.50      0.67         6\n",
      "                                                                  Vehicles & Parts > Vehicle Parts & Accessories > Vehicle Maintenance, Care & Decor > Vehicle Fluids > Vehicle Antifreeze       1.00      1.00      1.00         3\n",
      "                                                                     Vehicles & Parts > Vehicle Parts & Accessories > Vehicle Maintenance, Care & Decor > Vehicle Fluids > Vehicle Greases       1.00      0.33      0.50         3\n",
      "                                                                   Vehicles & Parts > Vehicle Parts & Accessories > Vehicle Maintenance, Care & Decor > Vehicle Fluids > Vehicle Motor Oil       0.94      1.00      0.97        15\n",
      "                                                       Vehicles & Parts > Vehicle Parts & Accessories > Vehicle Maintenance, Care & Decor > Vehicle Fluids > Vehicle Performance Additives       1.00      0.50      0.67         8\n",
      "                                                          Vehicles & Parts > Vehicle Parts & Accessories > Vehicle Maintenance, Care & Decor > Vehicle Fluids > Vehicle Transmission Fluid       1.00      0.33      0.50         3\n",
      "                                                                                        Vehicles & Parts > Vehicle Parts & Accessories > Vehicle Maintenance, Care & Decor > Vehicle Paint       0.88      0.72      0.79        78\n",
      "                                                                     Vehicles & Parts > Vehicle Parts & Accessories > Vehicle Maintenance, Care & Decor > Vehicle Repair & Specialty Tools       0.57      0.67      0.61        94\n",
      "                                          Vehicles & Parts > Vehicle Parts & Accessories > Vehicle Maintenance, Care & Decor > Vehicle Repair & Specialty Tools > Vehicle Battery Chargers       1.00      1.00      1.00         1\n",
      "                                           Vehicles & Parts > Vehicle Parts & Accessories > Vehicle Maintenance, Care & Decor > Vehicle Repair & Specialty Tools > Vehicle Battery Testers       0.00      0.00      0.00         1\n",
      "                                             Vehicles & Parts > Vehicle Parts & Accessories > Vehicle Maintenance, Care & Decor > Vehicle Repair & Specialty Tools > Vehicle Jump Starters       1.00      1.00      1.00         1\n",
      "                                             Vehicles & Parts > Vehicle Parts & Accessories > Vehicle Maintenance, Care & Decor > Vehicle Repair & Specialty Tools > Vehicle Jumper Cables       1.00      1.00      1.00         1\n",
      "                                                                                                                Vehicles & Parts > Vehicle Parts & Accessories > Vehicle Safety & Security       0.00      0.00      0.00         1\n",
      "                                                              Vehicles & Parts > Vehicle Parts & Accessories > Vehicle Safety & Security > Motorcycle Protective Gear > Motorcycle Helmets       1.00      0.50      0.67         2\n",
      "                                                                                       Vehicles & Parts > Vehicle Parts & Accessories > Vehicle Safety & Security > Vehicle Alarms & Locks       1.00      1.00      1.00         1\n",
      "                                                        Vehicles & Parts > Vehicle Parts & Accessories > Vehicle Safety & Security > Vehicle Alarms & Locks > Vehicle Steering Wheel Locks       0.00      0.00      0.00         1\n",
      "                                                                                     Vehicles & Parts > Vehicle Parts & Accessories > Vehicle Safety & Security > Vehicle Safety Equipment       1.00      0.33      0.50         3\n",
      "                                                   Vehicles & Parts > Vehicle Parts & Accessories > Vehicle Safety & Security > Vehicle Safety Equipment > Motor Vehicle Roll Cages & Bars       0.00      0.00      0.00         2\n",
      "                                                              Vehicles & Parts > Vehicle Parts & Accessories > Vehicle Safety & Security > Vehicle Safety Equipment > Vehicle Wheel Chocks       0.00      0.00      0.00         2\n",
      "                                                                                                                  Vehicles & Parts > Vehicle Parts & Accessories > Vehicle Storage & Cargo       1.00      0.14      0.25         7\n",
      "                                                                                   Vehicles & Parts > Vehicle Parts & Accessories > Vehicle Storage & Cargo > Motor Vehicle Carrying Racks       0.80      0.80      0.80         5\n",
      "                                                       Vehicles & Parts > Vehicle Parts & Accessories > Vehicle Storage & Cargo > Motor Vehicle Carrying Racks > Vehicle Base Rack Systems       1.00      0.50      0.67         6\n",
      "                                                           Vehicles & Parts > Vehicle Parts & Accessories > Vehicle Storage & Cargo > Motor Vehicle Carrying Racks > Vehicle Bicycle Racks       0.75      1.00      0.86         6\n",
      "                                                             Vehicles & Parts > Vehicle Parts & Accessories > Vehicle Storage & Cargo > Motor Vehicle Carrying Racks > Vehicle Cargo Racks       0.00      0.00      0.00         2\n",
      "                                                                                         Vehicles & Parts > Vehicle Parts & Accessories > Vehicle Storage & Cargo > Motor Vehicle Trailers       0.00      0.00      0.00         2\n",
      "                                                                                             Vehicles & Parts > Vehicle Parts & Accessories > Vehicle Storage & Cargo > Vehicle Organizers       0.50      0.40      0.44         5\n",
      "                                                                             Vehicles & Parts > Vehicle Parts & Accessories > Watercraft Parts & Accessories > Watercraft Engines & Motors       1.00      1.00      1.00         1\n",
      "\n",
      "                                                                                                                                                                                  accuracy                           0.88    115623\n",
      "                                                                                                                                                                                 macro avg       0.62      0.54      0.56    115623\n",
      "                                                                                                                                                                              weighted avg       0.88      0.88      0.87    115623\n",
      "\n"
     ]
    }
   ],
   "source": [
    "# Predict on the test set\n",
    "y_pred_2 = pipeline_2.predict(X_test)\n",
    "\n",
    "# Print accuracy and classification report\n",
    "print(\"Accuracy:\", accuracy_score(y_test, y_pred_2))\n",
    "print(\"Classification Report:\\n\", classification_report(y_test, y_pred_2,zero_division=0))"
   ]
  },
  {
   "cell_type": "code",
   "execution_count": null,
   "metadata": {},
   "outputs": [
    {
     "name": "stdout",
     "output_type": "stream",
     "text": [
      "           Accuracy  Precision    Recall  F1 Score\n",
      "Macro Avg  0.880828   0.618357  0.538377  0.555262\n",
      "Micro Avg  0.880828   0.880828  0.880828  0.880828\n"
     ]
    }
   ],
   "source": [
    "from sklearn.metrics import accuracy_score, precision_score, recall_score, f1_score\n",
    "import pandas as pd\n",
    "\n",
    "# Predict on the test set\n",
    "y_pred_2 = pipeline_2.predict(X_test)\n",
    "\n",
    "# Assuming y_test and y_pred_2 are already defined\n",
    "accuracy = accuracy_score(y_test, y_pred_2)\n",
    "precision_macro = precision_score(y_test, y_pred_2, average='macro', zero_division=0)\n",
    "recall_macro = recall_score(y_test, y_pred_2, average='macro', zero_division=0)\n",
    "f1_macro = f1_score(y_test, y_pred_2, average='macro', zero_division=0)\n",
    "precision_micro = precision_score(y_test, y_pred_2, average='micro', zero_division=0)\n",
    "recall_micro = recall_score(y_test, y_pred_2, average='micro', zero_division=0)\n",
    "f1_micro = f1_score(y_test, y_pred_2, average='micro', zero_division=0)\n",
    "\n",
    "# Create a dictionary of the metrics\n",
    "metrics_data = {\n",
    "    'Accuracy': [accuracy, accuracy],  # Accuracy is the same for both macro and micro\n",
    "    'Precision': [precision_macro, precision_micro],\n",
    "    'Recall': [recall_macro, recall_micro],\n",
    "    'F1 Score': [f1_macro, f1_micro]\n",
    "}\n",
    "\n",
    "# Specify row labels\n",
    "row_labels = ['Macro Avg', 'Micro Avg']\n",
    "\n",
    "# Convert dictionary to a DataFrame\n",
    "metrics_df = pd.DataFrame(metrics_data, index=row_labels)\n",
    "\n",
    "# Display the table\n",
    "print(metrics_df)\n"
   ]
  },
  {
   "cell_type": "markdown",
   "metadata": {},
   "source": [
    "#### Model still performs exceptionally well on the majority class(es), but might need improvement on the minority class(es)."
   ]
  },
  {
   "cell_type": "code",
   "execution_count": 30,
   "metadata": {},
   "outputs": [],
   "source": [
    "\n",
    "# Predict categories for unlabeled data\n",
    "product_sales['target_label'] = pipeline_2.predict(product_sales['item_name'])\n"
   ]
  },
  {
   "cell_type": "code",
   "execution_count": null,
   "metadata": {},
   "outputs": [],
   "source": [
    "## prediction takes too long to run and is computationally intensive \n",
    "#xport for later use in case kernel crashes again\n",
    "product_sales.to_csv('predicted product sale dataset.csv', index=False)"
   ]
  },
  {
   "cell_type": "code",
   "execution_count": 29,
   "metadata": {},
   "outputs": [],
   "source": [
    "## as anticipated \n",
    "import pandas as pd\n",
    "product_sales =pd.read_csv('predicted product sale dataset.csv')"
   ]
  },
  {
   "cell_type": "code",
   "execution_count": null,
   "metadata": {},
   "outputs": [],
   "source": [
    "product_sales[product_sales['item_name'].str.contains('ps5', case=False, na=False)].head(60)#\n",
    "#Apple AirPods Pro Magsafe (2021) MLWK3AM/A needs to be changed\n",
    "\n",
    "#Microsoft Xbox Series X Mini Fridge (US Plug) is correctly categorised\n",
    "# while other xbox series x are not\n",
    "#Sony PS5 PlayStation 5 (US Plug) Blu-ray Edition: should be Electronics > Video Games Console"
   ]
  },
  {
   "cell_type": "code",
   "execution_count": 40,
   "metadata": {},
   "outputs": [
    {
     "data": {
      "text/html": [
       "<div>\n",
       "<style scoped>\n",
       "    .dataframe tbody tr th:only-of-type {\n",
       "        vertical-align: middle;\n",
       "    }\n",
       "\n",
       "    .dataframe tbody tr th {\n",
       "        vertical-align: top;\n",
       "    }\n",
       "\n",
       "    .dataframe thead th {\n",
       "        text-align: right;\n",
       "    }\n",
       "</style>\n",
       "<table border=\"1\" class=\"dataframe\">\n",
       "  <thead>\n",
       "    <tr style=\"text-align: right;\">\n",
       "      <th></th>\n",
       "      <th>action_id</th>\n",
       "      <th>sqldate</th>\n",
       "      <th>item_name</th>\n",
       "      <th>country</th>\n",
       "      <th>payout_type</th>\n",
       "      <th>saleamt</th>\n",
       "      <th>commission</th>\n",
       "    </tr>\n",
       "  </thead>\n",
       "  <tbody>\n",
       "    <tr>\n",
       "      <th>1133892</th>\n",
       "      <td>9581.5081.2128315</td>\n",
       "      <td>2021-11-29</td>\n",
       "      <td>Vincero The Chrono S - Gunmetal/Walnut</td>\n",
       "      <td>US</td>\n",
       "      <td>PCT_OF_SALEAMOUNT</td>\n",
       "      <td>131</td>\n",
       "      <td>5</td>\n",
       "    </tr>\n",
       "    <tr>\n",
       "      <th>1133893</th>\n",
       "      <td>10151.5081.168180</td>\n",
       "      <td>2021-11-29</td>\n",
       "      <td>Gap Toddler Girls' 100% Organic Cotton Mix And...</td>\n",
       "      <td>GB</td>\n",
       "      <td>PCT_OF_SALEAMOUNT</td>\n",
       "      <td>5</td>\n",
       "      <td>1</td>\n",
       "    </tr>\n",
       "    <tr>\n",
       "      <th>1133894</th>\n",
       "      <td>10151.5081.94022</td>\n",
       "      <td>2021-11-29</td>\n",
       "      <td>Gap Men's Classic Long Sleeve T-Shirt Billie J...</td>\n",
       "      <td>GB</td>\n",
       "      <td>PCT_OF_SALEAMOUNT</td>\n",
       "      <td>12</td>\n",
       "      <td>1</td>\n",
       "    </tr>\n",
       "    <tr>\n",
       "      <th>1133895</th>\n",
       "      <td>9941.5074.144338</td>\n",
       "      <td>2021-11-22</td>\n",
       "      <td>Full Spectrum Favorites – 30mg Full Spectrum C...</td>\n",
       "      <td>US</td>\n",
       "      <td>PCT_OF_SALEAMOUNT</td>\n",
       "      <td>100</td>\n",
       "      <td>52</td>\n",
       "    </tr>\n",
       "    <tr>\n",
       "      <th>1133896</th>\n",
       "      <td>10151.5075.52918</td>\n",
       "      <td>2021-11-23</td>\n",
       "      <td>Teen V-Neck Top</td>\n",
       "      <td>GB</td>\n",
       "      <td>PCT_OF_SALEAMOUNT</td>\n",
       "      <td>4</td>\n",
       "      <td>0</td>\n",
       "    </tr>\n",
       "  </tbody>\n",
       "</table>\n",
       "</div>"
      ],
      "text/plain": [
       "                 action_id     sqldate  \\\n",
       "1133892  9581.5081.2128315  2021-11-29   \n",
       "1133893  10151.5081.168180  2021-11-29   \n",
       "1133894   10151.5081.94022  2021-11-29   \n",
       "1133895   9941.5074.144338  2021-11-22   \n",
       "1133896   10151.5075.52918  2021-11-23   \n",
       "\n",
       "                                                 item_name country  \\\n",
       "1133892             Vincero The Chrono S - Gunmetal/Walnut      US   \n",
       "1133893  Gap Toddler Girls' 100% Organic Cotton Mix And...      GB   \n",
       "1133894  Gap Men's Classic Long Sleeve T-Shirt Billie J...      GB   \n",
       "1133895  Full Spectrum Favorites – 30mg Full Spectrum C...      US   \n",
       "1133896                                    Teen V-Neck Top      GB   \n",
       "\n",
       "               payout_type  saleamt  commission  \n",
       "1133892  PCT_OF_SALEAMOUNT      131           5  \n",
       "1133893  PCT_OF_SALEAMOUNT        5           1  \n",
       "1133894  PCT_OF_SALEAMOUNT       12           1  \n",
       "1133895  PCT_OF_SALEAMOUNT      100          52  \n",
       "1133896  PCT_OF_SALEAMOUNT        4           0  "
      ]
     },
     "execution_count": 40,
     "metadata": {},
     "output_type": "execute_result"
    }
   ],
   "source": [
    "product_sales_new =product_sales.copy()\n",
    "product_sales_new.rename(columns={\"targe_label\": \"target_label\"}, inplace=True)\n",
    "product_sales_new.tail()"
   ]
  },
  {
   "cell_type": "code",
   "execution_count": null,
   "metadata": {},
   "outputs": [],
   "source": [
    "### calcualte KPIs for dashboard"
   ]
  },
  {
   "cell_type": "code",
   "execution_count": 47,
   "metadata": {},
   "outputs": [
    {
     "name": "stdout",
     "output_type": "stream",
     "text": [
      "Total revenue 84007093.98363596\n",
      "Total items sold 1133897\n",
      "Total commission 5180817.218743\n"
     ]
    }
   ],
   "source": [
    "print(f'Total revenue {product_sales_new[\"saleamt\"].sum()}')\n",
    "print(f'Total items sold {(len(product_sales_new))}' )\n",
    "print(f'Total commission { product_sales_new[\"commission\"].sum()}')"
   ]
  },
  {
   "cell_type": "markdown",
   "metadata": {},
   "source": [
    "# Question 1\n",
    "### 1.What product sales trends do you observe from the data during Thanksgiving holidays in 2021? "
   ]
  },
  {
   "cell_type": "code",
   "execution_count": null,
   "metadata": {},
   "outputs": [],
   "source": [
    "## the data has long names so sell output must print out everything\n",
    "import pandas as pd\n",
    "\n",
    "# Adjust the display settings\n",
    "pd.set_option('display.max_colwidth', None)  # Ensures full content is displayed in a DataFrame column\n",
    "pd.set_option('display.max_rows', None)      # Ensures all rows are displayed\n",
    "pd.set_option('display.max_columns', None)   # Ensures all columns are displayed\n"
   ]
  },
  {
   "cell_type": "code",
   "execution_count": 32,
   "metadata": {},
   "outputs": [
    {
     "name": "stdout",
     "output_type": "stream",
     "text": [
      "2021-11-22 00:00:00\n",
      "2021-11-29 00:00:00\n"
     ]
    }
   ],
   "source": [
    "# since we are looking at a week of data the lowet granular value is day and for sales intepretation we need the name of day\n",
    "#convert date time column\n",
    "from datetime import datetime\n",
    "\n",
    "product_sales_new['sqldate'] =pd.to_datetime(product_sales_new['sqldate'], format='%Y-%m-%d')\n",
    "print(min(product_sales_new['sqldate']))\n",
    "print(max(product_sales_new['sqldate']))"
   ]
  },
  {
   "cell_type": "code",
   "execution_count": 33,
   "metadata": {},
   "outputs": [
    {
     "data": {
      "text/html": [
       "<div>\n",
       "<style scoped>\n",
       "    .dataframe tbody tr th:only-of-type {\n",
       "        vertical-align: middle;\n",
       "    }\n",
       "\n",
       "    .dataframe tbody tr th {\n",
       "        vertical-align: top;\n",
       "    }\n",
       "\n",
       "    .dataframe thead th {\n",
       "        text-align: right;\n",
       "    }\n",
       "</style>\n",
       "<table border=\"1\" class=\"dataframe\">\n",
       "  <thead>\n",
       "    <tr style=\"text-align: right;\">\n",
       "      <th></th>\n",
       "      <th>action_id</th>\n",
       "      <th>sqldate</th>\n",
       "      <th>item_name</th>\n",
       "      <th>country</th>\n",
       "      <th>payout_type</th>\n",
       "      <th>saleamt</th>\n",
       "      <th>commission</th>\n",
       "      <th>day</th>\n",
       "    </tr>\n",
       "  </thead>\n",
       "  <tbody>\n",
       "    <tr>\n",
       "      <th>0</th>\n",
       "      <td>4270.5079.279362</td>\n",
       "      <td>2021-11-27</td>\n",
       "      <td>adidas Supernova Shoes Cloud White 11 Womens</td>\n",
       "      <td>US</td>\n",
       "      <td>PCT_OF_SALEAMOUNT</td>\n",
       "      <td>65.0</td>\n",
       "      <td>11.05</td>\n",
       "      <td>27</td>\n",
       "    </tr>\n",
       "    <tr>\n",
       "      <th>1</th>\n",
       "      <td>4270.5080.265784</td>\n",
       "      <td>2021-11-28</td>\n",
       "      <td>adidas Adilette Comfort Slides Core Black 10 Mens</td>\n",
       "      <td>US</td>\n",
       "      <td>PCT_OF_SALEAMOUNT</td>\n",
       "      <td>24.5</td>\n",
       "      <td>1.47</td>\n",
       "      <td>28</td>\n",
       "    </tr>\n",
       "    <tr>\n",
       "      <th>2</th>\n",
       "      <td>9800.5081.66990</td>\n",
       "      <td>2021-11-29</td>\n",
       "      <td>Pro Tools | Ultimate  Subscription ExpertPlus ...</td>\n",
       "      <td>FR</td>\n",
       "      <td>PCT_OF_SALEAMOUNT</td>\n",
       "      <td>0.0</td>\n",
       "      <td>0.00</td>\n",
       "      <td>29</td>\n",
       "    </tr>\n",
       "    <tr>\n",
       "      <th>3</th>\n",
       "      <td>10310.5077.1677940</td>\n",
       "      <td>2021-11-26</td>\n",
       "      <td>Loose Built-In Flex Jeans For Men</td>\n",
       "      <td>CA</td>\n",
       "      <td>PCT_OF_SALEAMOUNT</td>\n",
       "      <td>35.4</td>\n",
       "      <td>1.06</td>\n",
       "      <td>26</td>\n",
       "    </tr>\n",
       "    <tr>\n",
       "      <th>4</th>\n",
       "      <td>4270.5081.1564705</td>\n",
       "      <td>2021-11-29</td>\n",
       "      <td>adidas Adissage Slides Core Black M 12 / W 13 ...</td>\n",
       "      <td>US</td>\n",
       "      <td>PCT_OF_SALEAMOUNT</td>\n",
       "      <td>21.0</td>\n",
       "      <td>2.52</td>\n",
       "      <td>29</td>\n",
       "    </tr>\n",
       "  </tbody>\n",
       "</table>\n",
       "</div>"
      ],
      "text/plain": [
       "            action_id    sqldate  \\\n",
       "0    4270.5079.279362 2021-11-27   \n",
       "1    4270.5080.265784 2021-11-28   \n",
       "2     9800.5081.66990 2021-11-29   \n",
       "3  10310.5077.1677940 2021-11-26   \n",
       "4   4270.5081.1564705 2021-11-29   \n",
       "\n",
       "                                           item_name country  \\\n",
       "0       adidas Supernova Shoes Cloud White 11 Womens      US   \n",
       "1  adidas Adilette Comfort Slides Core Black 10 Mens      US   \n",
       "2  Pro Tools | Ultimate  Subscription ExpertPlus ...      FR   \n",
       "3                  Loose Built-In Flex Jeans For Men      CA   \n",
       "4  adidas Adissage Slides Core Black M 12 / W 13 ...      US   \n",
       "\n",
       "         payout_type  saleamt  commission day  \n",
       "0  PCT_OF_SALEAMOUNT     65.0       11.05  27  \n",
       "1  PCT_OF_SALEAMOUNT     24.5        1.47  28  \n",
       "2  PCT_OF_SALEAMOUNT      0.0        0.00  29  \n",
       "3  PCT_OF_SALEAMOUNT     35.4        1.06  26  \n",
       "4  PCT_OF_SALEAMOUNT     21.0        2.52  29  "
      ]
     },
     "execution_count": 33,
     "metadata": {},
     "output_type": "execute_result"
    }
   ],
   "source": [
    "product_sales_new['day'] = product_sales_new['sqldate'].dt.strftime('%d')\n",
    "product_sales_new.head()"
   ]
  },
  {
   "cell_type": "code",
   "execution_count": 34,
   "metadata": {},
   "outputs": [
    {
     "data": {
      "text/html": [
       "<div>\n",
       "<style scoped>\n",
       "    .dataframe tbody tr th:only-of-type {\n",
       "        vertical-align: middle;\n",
       "    }\n",
       "\n",
       "    .dataframe tbody tr th {\n",
       "        vertical-align: top;\n",
       "    }\n",
       "\n",
       "    .dataframe thead th {\n",
       "        text-align: right;\n",
       "    }\n",
       "</style>\n",
       "<table border=\"1\" class=\"dataframe\">\n",
       "  <thead>\n",
       "    <tr style=\"text-align: right;\">\n",
       "      <th></th>\n",
       "      <th>action_id</th>\n",
       "      <th>sqldate</th>\n",
       "      <th>item_name</th>\n",
       "      <th>country</th>\n",
       "      <th>payout_type</th>\n",
       "      <th>saleamt</th>\n",
       "      <th>commission</th>\n",
       "      <th>day</th>\n",
       "      <th>day_name</th>\n",
       "    </tr>\n",
       "  </thead>\n",
       "  <tbody>\n",
       "    <tr>\n",
       "      <th>0</th>\n",
       "      <td>4270.5079.279362</td>\n",
       "      <td>2021-11-27</td>\n",
       "      <td>adidas Supernova Shoes Cloud White 11 Womens</td>\n",
       "      <td>US</td>\n",
       "      <td>PCT_OF_SALEAMOUNT</td>\n",
       "      <td>65.0</td>\n",
       "      <td>11.05</td>\n",
       "      <td>27</td>\n",
       "      <td>Saturday</td>\n",
       "    </tr>\n",
       "    <tr>\n",
       "      <th>1</th>\n",
       "      <td>4270.5080.265784</td>\n",
       "      <td>2021-11-28</td>\n",
       "      <td>adidas Adilette Comfort Slides Core Black 10 Mens</td>\n",
       "      <td>US</td>\n",
       "      <td>PCT_OF_SALEAMOUNT</td>\n",
       "      <td>24.5</td>\n",
       "      <td>1.47</td>\n",
       "      <td>28</td>\n",
       "      <td>Sunday</td>\n",
       "    </tr>\n",
       "    <tr>\n",
       "      <th>2</th>\n",
       "      <td>9800.5081.66990</td>\n",
       "      <td>2021-11-29</td>\n",
       "      <td>Pro Tools | Ultimate  Subscription ExpertPlus ...</td>\n",
       "      <td>FR</td>\n",
       "      <td>PCT_OF_SALEAMOUNT</td>\n",
       "      <td>0.0</td>\n",
       "      <td>0.00</td>\n",
       "      <td>29</td>\n",
       "      <td>Monday</td>\n",
       "    </tr>\n",
       "    <tr>\n",
       "      <th>3</th>\n",
       "      <td>10310.5077.1677940</td>\n",
       "      <td>2021-11-26</td>\n",
       "      <td>Loose Built-In Flex Jeans For Men</td>\n",
       "      <td>CA</td>\n",
       "      <td>PCT_OF_SALEAMOUNT</td>\n",
       "      <td>35.4</td>\n",
       "      <td>1.06</td>\n",
       "      <td>26</td>\n",
       "      <td>Friday</td>\n",
       "    </tr>\n",
       "    <tr>\n",
       "      <th>4</th>\n",
       "      <td>4270.5081.1564705</td>\n",
       "      <td>2021-11-29</td>\n",
       "      <td>adidas Adissage Slides Core Black M 12 / W 13 ...</td>\n",
       "      <td>US</td>\n",
       "      <td>PCT_OF_SALEAMOUNT</td>\n",
       "      <td>21.0</td>\n",
       "      <td>2.52</td>\n",
       "      <td>29</td>\n",
       "      <td>Monday</td>\n",
       "    </tr>\n",
       "  </tbody>\n",
       "</table>\n",
       "</div>"
      ],
      "text/plain": [
       "            action_id    sqldate  \\\n",
       "0    4270.5079.279362 2021-11-27   \n",
       "1    4270.5080.265784 2021-11-28   \n",
       "2     9800.5081.66990 2021-11-29   \n",
       "3  10310.5077.1677940 2021-11-26   \n",
       "4   4270.5081.1564705 2021-11-29   \n",
       "\n",
       "                                           item_name country  \\\n",
       "0       adidas Supernova Shoes Cloud White 11 Womens      US   \n",
       "1  adidas Adilette Comfort Slides Core Black 10 Mens      US   \n",
       "2  Pro Tools | Ultimate  Subscription ExpertPlus ...      FR   \n",
       "3                  Loose Built-In Flex Jeans For Men      CA   \n",
       "4  adidas Adissage Slides Core Black M 12 / W 13 ...      US   \n",
       "\n",
       "         payout_type  saleamt  commission day  day_name  \n",
       "0  PCT_OF_SALEAMOUNT     65.0       11.05  27  Saturday  \n",
       "1  PCT_OF_SALEAMOUNT     24.5        1.47  28    Sunday  \n",
       "2  PCT_OF_SALEAMOUNT      0.0        0.00  29    Monday  \n",
       "3  PCT_OF_SALEAMOUNT     35.4        1.06  26    Friday  \n",
       "4  PCT_OF_SALEAMOUNT     21.0        2.52  29    Monday  "
      ]
     },
     "execution_count": 34,
     "metadata": {},
     "output_type": "execute_result"
    }
   ],
   "source": [
    "import datetime\n",
    "product_sales_new['day_name'] = product_sales_new['sqldate'].dt.strftime(\"%A\")\n",
    "product_sales_new.head()"
   ]
  },
  {
   "cell_type": "code",
   "execution_count": 35,
   "metadata": {},
   "outputs": [
    {
     "data": {
      "text/html": [
       "<div>\n",
       "<style scoped>\n",
       "    .dataframe tbody tr th:only-of-type {\n",
       "        vertical-align: middle;\n",
       "    }\n",
       "\n",
       "    .dataframe tbody tr th {\n",
       "        vertical-align: top;\n",
       "    }\n",
       "\n",
       "    .dataframe thead th {\n",
       "        text-align: right;\n",
       "    }\n",
       "</style>\n",
       "<table border=\"1\" class=\"dataframe\">\n",
       "  <thead>\n",
       "    <tr style=\"text-align: right;\">\n",
       "      <th></th>\n",
       "      <th>sqldate</th>\n",
       "      <th>day</th>\n",
       "      <th>day_name</th>\n",
       "      <th>saleamt</th>\n",
       "    </tr>\n",
       "  </thead>\n",
       "  <tbody>\n",
       "    <tr>\n",
       "      <th>0</th>\n",
       "      <td>2021-11-22</td>\n",
       "      <td>22</td>\n",
       "      <td>Monday</td>\n",
       "      <td>6897277</td>\n",
       "    </tr>\n",
       "    <tr>\n",
       "      <th>1</th>\n",
       "      <td>2021-11-23</td>\n",
       "      <td>23</td>\n",
       "      <td>Tuesday</td>\n",
       "      <td>6418734</td>\n",
       "    </tr>\n",
       "    <tr>\n",
       "      <th>2</th>\n",
       "      <td>2021-11-24</td>\n",
       "      <td>24</td>\n",
       "      <td>Wednesday</td>\n",
       "      <td>7054085</td>\n",
       "    </tr>\n",
       "    <tr>\n",
       "      <th>3</th>\n",
       "      <td>2021-11-25</td>\n",
       "      <td>25</td>\n",
       "      <td>Thursday</td>\n",
       "      <td>8291045</td>\n",
       "    </tr>\n",
       "    <tr>\n",
       "      <th>4</th>\n",
       "      <td>2021-11-26</td>\n",
       "      <td>26</td>\n",
       "      <td>Friday</td>\n",
       "      <td>18181002</td>\n",
       "    </tr>\n",
       "    <tr>\n",
       "      <th>5</th>\n",
       "      <td>2021-11-27</td>\n",
       "      <td>27</td>\n",
       "      <td>Saturday</td>\n",
       "      <td>9369157</td>\n",
       "    </tr>\n",
       "    <tr>\n",
       "      <th>6</th>\n",
       "      <td>2021-11-28</td>\n",
       "      <td>28</td>\n",
       "      <td>Sunday</td>\n",
       "      <td>10970376</td>\n",
       "    </tr>\n",
       "    <tr>\n",
       "      <th>7</th>\n",
       "      <td>2021-11-29</td>\n",
       "      <td>29</td>\n",
       "      <td>Monday</td>\n",
       "      <td>16825420</td>\n",
       "    </tr>\n",
       "  </tbody>\n",
       "</table>\n",
       "</div>"
      ],
      "text/plain": [
       "     sqldate day   day_name  saleamt\n",
       "0 2021-11-22  22     Monday  6897277\n",
       "1 2021-11-23  23    Tuesday  6418734\n",
       "2 2021-11-24  24  Wednesday  7054085\n",
       "3 2021-11-25  25   Thursday  8291045\n",
       "4 2021-11-26  26     Friday 18181002\n",
       "5 2021-11-27  27   Saturday  9369157\n",
       "6 2021-11-28  28     Sunday 10970376\n",
       "7 2021-11-29  29     Monday 16825420"
      ]
     },
     "execution_count": 35,
     "metadata": {},
     "output_type": "execute_result"
    }
   ],
   "source": [
    "# since we are looking at a week of data the lowet granular value is day and for sales intepretation we need the name of day\n",
    "\n",
    "#TOTAL DAILY SALES TREND\n",
    "import pandas as pd\n",
    "\n",
    "pd.set_option('display.float_format', lambda x: '%.0f' % x)#supress scientific notation\n",
    "\n",
    "day_to_day = product_sales_new.groupby(['sqldate','day','day_name'])['saleamt'].sum().reset_index()\n",
    "day_to_day.head(8)"
   ]
  },
  {
   "cell_type": "code",
   "execution_count": 36,
   "metadata": {},
   "outputs": [
    {
     "data": {
      "text/plain": [
       "84007093.98363599"
      ]
     },
     "execution_count": 36,
     "metadata": {},
     "output_type": "execute_result"
    }
   ],
   "source": [
    "day_to_day['saleamt'].sum()"
   ]
  },
  {
   "cell_type": "code",
   "execution_count": 37,
   "metadata": {},
   "outputs": [
    {
     "name": "stderr",
     "output_type": "stream",
     "text": [
      "c:\\Users\\farie\\anaconda3\\Lib\\site-packages\\_plotly_utils\\basevalidators.py:106: FutureWarning: The behavior of DatetimeProperties.to_pydatetime is deprecated, in a future version this will return a Series containing python datetime objects instead of an ndarray. To retain the old behavior, call `np.array` on the result\n",
      "  v = v.dt.to_pydatetime()\n"
     ]
    },
    {
     "data": {
      "application/vnd.plotly.v1+json": {
       "config": {
        "plotlyServerURL": "https://plot.ly"
       },
       "data": [
        {
         "hovertemplate": "<b>%{x}</b>: %{y:.2s} USD<extra></extra>",
         "legendgroup": "",
         "marker": {
          "color": "#636efa",
          "symbol": "circle"
         },
         "mode": "lines+markers+text",
         "name": "",
         "orientation": "v",
         "showlegend": false,
         "text": [
          6897276.927034,
          6418733.669431,
          7054084.517671,
          8291044.809118,
          18181001.945119,
          9369156.982857,
          10970375.506591,
          16825419.625815
         ],
         "textposition": "top center",
         "texttemplate": "%{text:.2s}",
         "type": "scatter",
         "x": [
          "2021-11-22T00:00:00",
          "2021-11-23T00:00:00",
          "2021-11-24T00:00:00",
          "2021-11-25T00:00:00",
          "2021-11-26T00:00:00",
          "2021-11-27T00:00:00",
          "2021-11-28T00:00:00",
          "2021-11-29T00:00:00"
         ],
         "xaxis": "x",
         "y": [
          6897276.927034,
          6418733.669431,
          7054084.517671,
          8291044.809118,
          18181001.945119,
          9369156.982857,
          10970375.506591,
          16825419.625815
         ],
         "yaxis": "y"
        }
       ],
       "layout": {
        "hovermode": "x",
        "legend": {
         "tracegroupgap": 0
        },
        "template": {
         "data": {
          "bar": [
           {
            "error_x": {
             "color": "#2a3f5f"
            },
            "error_y": {
             "color": "#2a3f5f"
            },
            "marker": {
             "line": {
              "color": "#E5ECF6",
              "width": 0.5
             },
             "pattern": {
              "fillmode": "overlay",
              "size": 10,
              "solidity": 0.2
             }
            },
            "type": "bar"
           }
          ],
          "barpolar": [
           {
            "marker": {
             "line": {
              "color": "#E5ECF6",
              "width": 0.5
             },
             "pattern": {
              "fillmode": "overlay",
              "size": 10,
              "solidity": 0.2
             }
            },
            "type": "barpolar"
           }
          ],
          "carpet": [
           {
            "aaxis": {
             "endlinecolor": "#2a3f5f",
             "gridcolor": "white",
             "linecolor": "white",
             "minorgridcolor": "white",
             "startlinecolor": "#2a3f5f"
            },
            "baxis": {
             "endlinecolor": "#2a3f5f",
             "gridcolor": "white",
             "linecolor": "white",
             "minorgridcolor": "white",
             "startlinecolor": "#2a3f5f"
            },
            "type": "carpet"
           }
          ],
          "choropleth": [
           {
            "colorbar": {
             "outlinewidth": 0,
             "ticks": ""
            },
            "type": "choropleth"
           }
          ],
          "contour": [
           {
            "colorbar": {
             "outlinewidth": 0,
             "ticks": ""
            },
            "colorscale": [
             [
              0,
              "#0d0887"
             ],
             [
              0.1111111111111111,
              "#46039f"
             ],
             [
              0.2222222222222222,
              "#7201a8"
             ],
             [
              0.3333333333333333,
              "#9c179e"
             ],
             [
              0.4444444444444444,
              "#bd3786"
             ],
             [
              0.5555555555555556,
              "#d8576b"
             ],
             [
              0.6666666666666666,
              "#ed7953"
             ],
             [
              0.7777777777777778,
              "#fb9f3a"
             ],
             [
              0.8888888888888888,
              "#fdca26"
             ],
             [
              1,
              "#f0f921"
             ]
            ],
            "type": "contour"
           }
          ],
          "contourcarpet": [
           {
            "colorbar": {
             "outlinewidth": 0,
             "ticks": ""
            },
            "type": "contourcarpet"
           }
          ],
          "heatmap": [
           {
            "colorbar": {
             "outlinewidth": 0,
             "ticks": ""
            },
            "colorscale": [
             [
              0,
              "#0d0887"
             ],
             [
              0.1111111111111111,
              "#46039f"
             ],
             [
              0.2222222222222222,
              "#7201a8"
             ],
             [
              0.3333333333333333,
              "#9c179e"
             ],
             [
              0.4444444444444444,
              "#bd3786"
             ],
             [
              0.5555555555555556,
              "#d8576b"
             ],
             [
              0.6666666666666666,
              "#ed7953"
             ],
             [
              0.7777777777777778,
              "#fb9f3a"
             ],
             [
              0.8888888888888888,
              "#fdca26"
             ],
             [
              1,
              "#f0f921"
             ]
            ],
            "type": "heatmap"
           }
          ],
          "heatmapgl": [
           {
            "colorbar": {
             "outlinewidth": 0,
             "ticks": ""
            },
            "colorscale": [
             [
              0,
              "#0d0887"
             ],
             [
              0.1111111111111111,
              "#46039f"
             ],
             [
              0.2222222222222222,
              "#7201a8"
             ],
             [
              0.3333333333333333,
              "#9c179e"
             ],
             [
              0.4444444444444444,
              "#bd3786"
             ],
             [
              0.5555555555555556,
              "#d8576b"
             ],
             [
              0.6666666666666666,
              "#ed7953"
             ],
             [
              0.7777777777777778,
              "#fb9f3a"
             ],
             [
              0.8888888888888888,
              "#fdca26"
             ],
             [
              1,
              "#f0f921"
             ]
            ],
            "type": "heatmapgl"
           }
          ],
          "histogram": [
           {
            "marker": {
             "pattern": {
              "fillmode": "overlay",
              "size": 10,
              "solidity": 0.2
             }
            },
            "type": "histogram"
           }
          ],
          "histogram2d": [
           {
            "colorbar": {
             "outlinewidth": 0,
             "ticks": ""
            },
            "colorscale": [
             [
              0,
              "#0d0887"
             ],
             [
              0.1111111111111111,
              "#46039f"
             ],
             [
              0.2222222222222222,
              "#7201a8"
             ],
             [
              0.3333333333333333,
              "#9c179e"
             ],
             [
              0.4444444444444444,
              "#bd3786"
             ],
             [
              0.5555555555555556,
              "#d8576b"
             ],
             [
              0.6666666666666666,
              "#ed7953"
             ],
             [
              0.7777777777777778,
              "#fb9f3a"
             ],
             [
              0.8888888888888888,
              "#fdca26"
             ],
             [
              1,
              "#f0f921"
             ]
            ],
            "type": "histogram2d"
           }
          ],
          "histogram2dcontour": [
           {
            "colorbar": {
             "outlinewidth": 0,
             "ticks": ""
            },
            "colorscale": [
             [
              0,
              "#0d0887"
             ],
             [
              0.1111111111111111,
              "#46039f"
             ],
             [
              0.2222222222222222,
              "#7201a8"
             ],
             [
              0.3333333333333333,
              "#9c179e"
             ],
             [
              0.4444444444444444,
              "#bd3786"
             ],
             [
              0.5555555555555556,
              "#d8576b"
             ],
             [
              0.6666666666666666,
              "#ed7953"
             ],
             [
              0.7777777777777778,
              "#fb9f3a"
             ],
             [
              0.8888888888888888,
              "#fdca26"
             ],
             [
              1,
              "#f0f921"
             ]
            ],
            "type": "histogram2dcontour"
           }
          ],
          "mesh3d": [
           {
            "colorbar": {
             "outlinewidth": 0,
             "ticks": ""
            },
            "type": "mesh3d"
           }
          ],
          "parcoords": [
           {
            "line": {
             "colorbar": {
              "outlinewidth": 0,
              "ticks": ""
             }
            },
            "type": "parcoords"
           }
          ],
          "pie": [
           {
            "automargin": true,
            "type": "pie"
           }
          ],
          "scatter": [
           {
            "fillpattern": {
             "fillmode": "overlay",
             "size": 10,
             "solidity": 0.2
            },
            "type": "scatter"
           }
          ],
          "scatter3d": [
           {
            "line": {
             "colorbar": {
              "outlinewidth": 0,
              "ticks": ""
             }
            },
            "marker": {
             "colorbar": {
              "outlinewidth": 0,
              "ticks": ""
             }
            },
            "type": "scatter3d"
           }
          ],
          "scattercarpet": [
           {
            "marker": {
             "colorbar": {
              "outlinewidth": 0,
              "ticks": ""
             }
            },
            "type": "scattercarpet"
           }
          ],
          "scattergeo": [
           {
            "marker": {
             "colorbar": {
              "outlinewidth": 0,
              "ticks": ""
             }
            },
            "type": "scattergeo"
           }
          ],
          "scattergl": [
           {
            "marker": {
             "colorbar": {
              "outlinewidth": 0,
              "ticks": ""
             }
            },
            "type": "scattergl"
           }
          ],
          "scattermapbox": [
           {
            "marker": {
             "colorbar": {
              "outlinewidth": 0,
              "ticks": ""
             }
            },
            "type": "scattermapbox"
           }
          ],
          "scatterpolar": [
           {
            "marker": {
             "colorbar": {
              "outlinewidth": 0,
              "ticks": ""
             }
            },
            "type": "scatterpolar"
           }
          ],
          "scatterpolargl": [
           {
            "marker": {
             "colorbar": {
              "outlinewidth": 0,
              "ticks": ""
             }
            },
            "type": "scatterpolargl"
           }
          ],
          "scatterternary": [
           {
            "marker": {
             "colorbar": {
              "outlinewidth": 0,
              "ticks": ""
             }
            },
            "type": "scatterternary"
           }
          ],
          "surface": [
           {
            "colorbar": {
             "outlinewidth": 0,
             "ticks": ""
            },
            "colorscale": [
             [
              0,
              "#0d0887"
             ],
             [
              0.1111111111111111,
              "#46039f"
             ],
             [
              0.2222222222222222,
              "#7201a8"
             ],
             [
              0.3333333333333333,
              "#9c179e"
             ],
             [
              0.4444444444444444,
              "#bd3786"
             ],
             [
              0.5555555555555556,
              "#d8576b"
             ],
             [
              0.6666666666666666,
              "#ed7953"
             ],
             [
              0.7777777777777778,
              "#fb9f3a"
             ],
             [
              0.8888888888888888,
              "#fdca26"
             ],
             [
              1,
              "#f0f921"
             ]
            ],
            "type": "surface"
           }
          ],
          "table": [
           {
            "cells": {
             "fill": {
              "color": "#EBF0F8"
             },
             "line": {
              "color": "white"
             }
            },
            "header": {
             "fill": {
              "color": "#C8D4E3"
             },
             "line": {
              "color": "white"
             }
            },
            "type": "table"
           }
          ]
         },
         "layout": {
          "annotationdefaults": {
           "arrowcolor": "#2a3f5f",
           "arrowhead": 0,
           "arrowwidth": 1
          },
          "autotypenumbers": "strict",
          "coloraxis": {
           "colorbar": {
            "outlinewidth": 0,
            "ticks": ""
           }
          },
          "colorscale": {
           "diverging": [
            [
             0,
             "#8e0152"
            ],
            [
             0.1,
             "#c51b7d"
            ],
            [
             0.2,
             "#de77ae"
            ],
            [
             0.3,
             "#f1b6da"
            ],
            [
             0.4,
             "#fde0ef"
            ],
            [
             0.5,
             "#f7f7f7"
            ],
            [
             0.6,
             "#e6f5d0"
            ],
            [
             0.7,
             "#b8e186"
            ],
            [
             0.8,
             "#7fbc41"
            ],
            [
             0.9,
             "#4d9221"
            ],
            [
             1,
             "#276419"
            ]
           ],
           "sequential": [
            [
             0,
             "#0d0887"
            ],
            [
             0.1111111111111111,
             "#46039f"
            ],
            [
             0.2222222222222222,
             "#7201a8"
            ],
            [
             0.3333333333333333,
             "#9c179e"
            ],
            [
             0.4444444444444444,
             "#bd3786"
            ],
            [
             0.5555555555555556,
             "#d8576b"
            ],
            [
             0.6666666666666666,
             "#ed7953"
            ],
            [
             0.7777777777777778,
             "#fb9f3a"
            ],
            [
             0.8888888888888888,
             "#fdca26"
            ],
            [
             1,
             "#f0f921"
            ]
           ],
           "sequentialminus": [
            [
             0,
             "#0d0887"
            ],
            [
             0.1111111111111111,
             "#46039f"
            ],
            [
             0.2222222222222222,
             "#7201a8"
            ],
            [
             0.3333333333333333,
             "#9c179e"
            ],
            [
             0.4444444444444444,
             "#bd3786"
            ],
            [
             0.5555555555555556,
             "#d8576b"
            ],
            [
             0.6666666666666666,
             "#ed7953"
            ],
            [
             0.7777777777777778,
             "#fb9f3a"
            ],
            [
             0.8888888888888888,
             "#fdca26"
            ],
            [
             1,
             "#f0f921"
            ]
           ]
          },
          "colorway": [
           "#636efa",
           "#EF553B",
           "#00cc96",
           "#ab63fa",
           "#FFA15A",
           "#19d3f3",
           "#FF6692",
           "#B6E880",
           "#FF97FF",
           "#FECB52"
          ],
          "font": {
           "color": "#2a3f5f"
          },
          "geo": {
           "bgcolor": "white",
           "lakecolor": "white",
           "landcolor": "#E5ECF6",
           "showlakes": true,
           "showland": true,
           "subunitcolor": "white"
          },
          "hoverlabel": {
           "align": "left"
          },
          "hovermode": "closest",
          "mapbox": {
           "style": "light"
          },
          "paper_bgcolor": "white",
          "plot_bgcolor": "#E5ECF6",
          "polar": {
           "angularaxis": {
            "gridcolor": "white",
            "linecolor": "white",
            "ticks": ""
           },
           "bgcolor": "#E5ECF6",
           "radialaxis": {
            "gridcolor": "white",
            "linecolor": "white",
            "ticks": ""
           }
          },
          "scene": {
           "xaxis": {
            "backgroundcolor": "#E5ECF6",
            "gridcolor": "white",
            "gridwidth": 2,
            "linecolor": "white",
            "showbackground": true,
            "ticks": "",
            "zerolinecolor": "white"
           },
           "yaxis": {
            "backgroundcolor": "#E5ECF6",
            "gridcolor": "white",
            "gridwidth": 2,
            "linecolor": "white",
            "showbackground": true,
            "ticks": "",
            "zerolinecolor": "white"
           },
           "zaxis": {
            "backgroundcolor": "#E5ECF6",
            "gridcolor": "white",
            "gridwidth": 2,
            "linecolor": "white",
            "showbackground": true,
            "ticks": "",
            "zerolinecolor": "white"
           }
          },
          "shapedefaults": {
           "line": {
            "color": "#2a3f5f"
           }
          },
          "ternary": {
           "aaxis": {
            "gridcolor": "white",
            "linecolor": "white",
            "ticks": ""
           },
           "baxis": {
            "gridcolor": "white",
            "linecolor": "white",
            "ticks": ""
           },
           "bgcolor": "#E5ECF6",
           "caxis": {
            "gridcolor": "white",
            "linecolor": "white",
            "ticks": ""
           }
          },
          "title": {
           "x": 0.05
          },
          "xaxis": {
           "automargin": true,
           "gridcolor": "white",
           "linecolor": "white",
           "ticks": "",
           "title": {
            "standoff": 15
           },
           "zerolinecolor": "white",
           "zerolinewidth": 2
          },
          "yaxis": {
           "automargin": true,
           "gridcolor": "white",
           "linecolor": "white",
           "ticks": "",
           "title": {
            "standoff": 15
           },
           "zerolinecolor": "white",
           "zerolinewidth": 2
          }
         }
        },
        "title": {
         "text": "Daily Sales Revenue during Thanksgiving Week 2021"
        },
        "xaxis": {
         "anchor": "y",
         "domain": [
          0,
          1
         ],
         "dtick": "D1",
         "tickformat": "%A %d %b",
         "title": {
          "text": "Thanksgiving Week November 2021"
         }
        },
        "yaxis": {
         "anchor": "x",
         "domain": [
          0,
          1
         ],
         "title": {
          "text": "Daily Sales Revenue (USD)"
         }
        }
       }
      }
     },
     "metadata": {},
     "output_type": "display_data"
    }
   ],
   "source": [
    "import plotly.express as px\n",
    "\n",
    "# Assuming commision_to_day is your DataFrame\n",
    "fig = px.scatter(day_to_day, x='sqldate', y='saleamt', text='saleamt', title='Daily Sales Revenue during Thanksgiving Week 2021')\n",
    "\n",
    "# Update the traces to show lines and markers (points), and add the text\n",
    "fig.update_traces(mode='lines+markers+text', texttemplate='%{text:.2s}', textposition='top center', \n",
    "                  hovertemplate='<b>%{x}</b>: %{y:.2s} USD<extra></extra>')\n",
    "\n",
    "# Update layout settings\n",
    "fig.update_layout(\n",
    "    hovermode=\"x\",\n",
    "    xaxis=dict(title='Thanksgiving Week November 2021', tickformat='%A %d %b', dtick='D1'),\n",
    "    yaxis=dict(title='Daily Sales Revenue (USD)')\n",
    ")\n",
    "\n",
    "# Show the figure\n",
    "\n",
    "fig.show()\n"
   ]
  },
  {
   "cell_type": "code",
   "execution_count": 38,
   "metadata": {},
   "outputs": [
    {
     "data": {
      "text/html": [
       "<div>\n",
       "<style scoped>\n",
       "    .dataframe tbody tr th:only-of-type {\n",
       "        vertical-align: middle;\n",
       "    }\n",
       "\n",
       "    .dataframe tbody tr th {\n",
       "        vertical-align: top;\n",
       "    }\n",
       "\n",
       "    .dataframe thead th {\n",
       "        text-align: right;\n",
       "    }\n",
       "</style>\n",
       "<table border=\"1\" class=\"dataframe\">\n",
       "  <thead>\n",
       "    <tr style=\"text-align: right;\">\n",
       "      <th></th>\n",
       "      <th>sqldate</th>\n",
       "      <th>day</th>\n",
       "      <th>day_name</th>\n",
       "      <th>commission</th>\n",
       "    </tr>\n",
       "  </thead>\n",
       "  <tbody>\n",
       "    <tr>\n",
       "      <th>0</th>\n",
       "      <td>2021-11-22</td>\n",
       "      <td>22</td>\n",
       "      <td>Monday</td>\n",
       "      <td>367870</td>\n",
       "    </tr>\n",
       "    <tr>\n",
       "      <th>1</th>\n",
       "      <td>2021-11-23</td>\n",
       "      <td>23</td>\n",
       "      <td>Tuesday</td>\n",
       "      <td>354323</td>\n",
       "    </tr>\n",
       "    <tr>\n",
       "      <th>2</th>\n",
       "      <td>2021-11-24</td>\n",
       "      <td>24</td>\n",
       "      <td>Wednesday</td>\n",
       "      <td>372445</td>\n",
       "    </tr>\n",
       "    <tr>\n",
       "      <th>3</th>\n",
       "      <td>2021-11-25</td>\n",
       "      <td>25</td>\n",
       "      <td>Thursday</td>\n",
       "      <td>512287</td>\n",
       "    </tr>\n",
       "    <tr>\n",
       "      <th>4</th>\n",
       "      <td>2021-11-26</td>\n",
       "      <td>26</td>\n",
       "      <td>Friday</td>\n",
       "      <td>1105023</td>\n",
       "    </tr>\n",
       "    <tr>\n",
       "      <th>5</th>\n",
       "      <td>2021-11-27</td>\n",
       "      <td>27</td>\n",
       "      <td>Saturday</td>\n",
       "      <td>511805</td>\n",
       "    </tr>\n",
       "    <tr>\n",
       "      <th>6</th>\n",
       "      <td>2021-11-28</td>\n",
       "      <td>28</td>\n",
       "      <td>Sunday</td>\n",
       "      <td>671713</td>\n",
       "    </tr>\n",
       "    <tr>\n",
       "      <th>7</th>\n",
       "      <td>2021-11-29</td>\n",
       "      <td>29</td>\n",
       "      <td>Monday</td>\n",
       "      <td>1285350</td>\n",
       "    </tr>\n",
       "  </tbody>\n",
       "</table>\n",
       "</div>"
      ],
      "text/plain": [
       "     sqldate day   day_name  commission\n",
       "0 2021-11-22  22     Monday      367870\n",
       "1 2021-11-23  23    Tuesday      354323\n",
       "2 2021-11-24  24  Wednesday      372445\n",
       "3 2021-11-25  25   Thursday      512287\n",
       "4 2021-11-26  26     Friday     1105023\n",
       "5 2021-11-27  27   Saturday      511805\n",
       "6 2021-11-28  28     Sunday      671713\n",
       "7 2021-11-29  29     Monday     1285350"
      ]
     },
     "execution_count": 38,
     "metadata": {},
     "output_type": "execute_result"
    }
   ],
   "source": [
    "###TOTAL DAILY COMMISION ON PRODUCTS\n",
    "\n",
    "pd.set_option('display.float_format', lambda x: '%.0f' % x)#supress scientific notation\n",
    "\n",
    "commision_to_day = product_sales_new.groupby(['sqldate','day','day_name'])['commission'].sum().reset_index()\n",
    "commision_to_day.head(8)\n"
   ]
  },
  {
   "cell_type": "code",
   "execution_count": 39,
   "metadata": {},
   "outputs": [
    {
     "data": {
      "text/plain": [
       "5180817.218743"
      ]
     },
     "execution_count": 39,
     "metadata": {},
     "output_type": "execute_result"
    }
   ],
   "source": [
    "commision_to_day['commission'].sum()"
   ]
  },
  {
   "cell_type": "code",
   "execution_count": null,
   "metadata": {},
   "outputs": [
    {
     "name": "stderr",
     "output_type": "stream",
     "text": [
      "c:\\Users\\farie\\anaconda3\\Lib\\site-packages\\_plotly_utils\\basevalidators.py:106: FutureWarning:\n",
      "\n",
      "The behavior of DatetimeProperties.to_pydatetime is deprecated, in a future version this will return a Series containing python datetime objects instead of an ndarray. To retain the old behavior, call `np.array` on the result\n",
      "\n"
     ]
    },
    {
     "data": {
      "application/vnd.plotly.v1+json": {
       "config": {
        "plotlyServerURL": "https://plot.ly"
       },
       "data": [
        {
         "hovertemplate": "<b>%{x}</b>: %{y:.2s} USD<extra></extra>",
         "legendgroup": "",
         "marker": {
          "color": "#636efa",
          "symbol": "circle"
         },
         "mode": "lines+markers+text",
         "name": "",
         "orientation": "v",
         "showlegend": false,
         "text": [
          367869.844593,
          354323.237087,
          372445.073211,
          512286.770195,
          1105023.291018,
          511805.436225,
          671713.475057,
          1285350.091357
         ],
         "textposition": "top center",
         "texttemplate": "%{text:.2s}",
         "type": "scatter",
         "x": [
          "2021-11-22T00:00:00",
          "2021-11-23T00:00:00",
          "2021-11-24T00:00:00",
          "2021-11-25T00:00:00",
          "2021-11-26T00:00:00",
          "2021-11-27T00:00:00",
          "2021-11-28T00:00:00",
          "2021-11-29T00:00:00"
         ],
         "xaxis": "x",
         "y": [
          367869.844593,
          354323.237087,
          372445.073211,
          512286.770195,
          1105023.291018,
          511805.436225,
          671713.475057,
          1285350.091357
         ],
         "yaxis": "y"
        }
       ],
       "layout": {
        "hovermode": "x",
        "legend": {
         "tracegroupgap": 0
        },
        "template": {
         "data": {
          "bar": [
           {
            "error_x": {
             "color": "#2a3f5f"
            },
            "error_y": {
             "color": "#2a3f5f"
            },
            "marker": {
             "line": {
              "color": "#E5ECF6",
              "width": 0.5
             },
             "pattern": {
              "fillmode": "overlay",
              "size": 10,
              "solidity": 0.2
             }
            },
            "type": "bar"
           }
          ],
          "barpolar": [
           {
            "marker": {
             "line": {
              "color": "#E5ECF6",
              "width": 0.5
             },
             "pattern": {
              "fillmode": "overlay",
              "size": 10,
              "solidity": 0.2
             }
            },
            "type": "barpolar"
           }
          ],
          "carpet": [
           {
            "aaxis": {
             "endlinecolor": "#2a3f5f",
             "gridcolor": "white",
             "linecolor": "white",
             "minorgridcolor": "white",
             "startlinecolor": "#2a3f5f"
            },
            "baxis": {
             "endlinecolor": "#2a3f5f",
             "gridcolor": "white",
             "linecolor": "white",
             "minorgridcolor": "white",
             "startlinecolor": "#2a3f5f"
            },
            "type": "carpet"
           }
          ],
          "choropleth": [
           {
            "colorbar": {
             "outlinewidth": 0,
             "ticks": ""
            },
            "type": "choropleth"
           }
          ],
          "contour": [
           {
            "colorbar": {
             "outlinewidth": 0,
             "ticks": ""
            },
            "colorscale": [
             [
              0,
              "#0d0887"
             ],
             [
              0.1111111111111111,
              "#46039f"
             ],
             [
              0.2222222222222222,
              "#7201a8"
             ],
             [
              0.3333333333333333,
              "#9c179e"
             ],
             [
              0.4444444444444444,
              "#bd3786"
             ],
             [
              0.5555555555555556,
              "#d8576b"
             ],
             [
              0.6666666666666666,
              "#ed7953"
             ],
             [
              0.7777777777777778,
              "#fb9f3a"
             ],
             [
              0.8888888888888888,
              "#fdca26"
             ],
             [
              1,
              "#f0f921"
             ]
            ],
            "type": "contour"
           }
          ],
          "contourcarpet": [
           {
            "colorbar": {
             "outlinewidth": 0,
             "ticks": ""
            },
            "type": "contourcarpet"
           }
          ],
          "heatmap": [
           {
            "colorbar": {
             "outlinewidth": 0,
             "ticks": ""
            },
            "colorscale": [
             [
              0,
              "#0d0887"
             ],
             [
              0.1111111111111111,
              "#46039f"
             ],
             [
              0.2222222222222222,
              "#7201a8"
             ],
             [
              0.3333333333333333,
              "#9c179e"
             ],
             [
              0.4444444444444444,
              "#bd3786"
             ],
             [
              0.5555555555555556,
              "#d8576b"
             ],
             [
              0.6666666666666666,
              "#ed7953"
             ],
             [
              0.7777777777777778,
              "#fb9f3a"
             ],
             [
              0.8888888888888888,
              "#fdca26"
             ],
             [
              1,
              "#f0f921"
             ]
            ],
            "type": "heatmap"
           }
          ],
          "heatmapgl": [
           {
            "colorbar": {
             "outlinewidth": 0,
             "ticks": ""
            },
            "colorscale": [
             [
              0,
              "#0d0887"
             ],
             [
              0.1111111111111111,
              "#46039f"
             ],
             [
              0.2222222222222222,
              "#7201a8"
             ],
             [
              0.3333333333333333,
              "#9c179e"
             ],
             [
              0.4444444444444444,
              "#bd3786"
             ],
             [
              0.5555555555555556,
              "#d8576b"
             ],
             [
              0.6666666666666666,
              "#ed7953"
             ],
             [
              0.7777777777777778,
              "#fb9f3a"
             ],
             [
              0.8888888888888888,
              "#fdca26"
             ],
             [
              1,
              "#f0f921"
             ]
            ],
            "type": "heatmapgl"
           }
          ],
          "histogram": [
           {
            "marker": {
             "pattern": {
              "fillmode": "overlay",
              "size": 10,
              "solidity": 0.2
             }
            },
            "type": "histogram"
           }
          ],
          "histogram2d": [
           {
            "colorbar": {
             "outlinewidth": 0,
             "ticks": ""
            },
            "colorscale": [
             [
              0,
              "#0d0887"
             ],
             [
              0.1111111111111111,
              "#46039f"
             ],
             [
              0.2222222222222222,
              "#7201a8"
             ],
             [
              0.3333333333333333,
              "#9c179e"
             ],
             [
              0.4444444444444444,
              "#bd3786"
             ],
             [
              0.5555555555555556,
              "#d8576b"
             ],
             [
              0.6666666666666666,
              "#ed7953"
             ],
             [
              0.7777777777777778,
              "#fb9f3a"
             ],
             [
              0.8888888888888888,
              "#fdca26"
             ],
             [
              1,
              "#f0f921"
             ]
            ],
            "type": "histogram2d"
           }
          ],
          "histogram2dcontour": [
           {
            "colorbar": {
             "outlinewidth": 0,
             "ticks": ""
            },
            "colorscale": [
             [
              0,
              "#0d0887"
             ],
             [
              0.1111111111111111,
              "#46039f"
             ],
             [
              0.2222222222222222,
              "#7201a8"
             ],
             [
              0.3333333333333333,
              "#9c179e"
             ],
             [
              0.4444444444444444,
              "#bd3786"
             ],
             [
              0.5555555555555556,
              "#d8576b"
             ],
             [
              0.6666666666666666,
              "#ed7953"
             ],
             [
              0.7777777777777778,
              "#fb9f3a"
             ],
             [
              0.8888888888888888,
              "#fdca26"
             ],
             [
              1,
              "#f0f921"
             ]
            ],
            "type": "histogram2dcontour"
           }
          ],
          "mesh3d": [
           {
            "colorbar": {
             "outlinewidth": 0,
             "ticks": ""
            },
            "type": "mesh3d"
           }
          ],
          "parcoords": [
           {
            "line": {
             "colorbar": {
              "outlinewidth": 0,
              "ticks": ""
             }
            },
            "type": "parcoords"
           }
          ],
          "pie": [
           {
            "automargin": true,
            "type": "pie"
           }
          ],
          "scatter": [
           {
            "fillpattern": {
             "fillmode": "overlay",
             "size": 10,
             "solidity": 0.2
            },
            "type": "scatter"
           }
          ],
          "scatter3d": [
           {
            "line": {
             "colorbar": {
              "outlinewidth": 0,
              "ticks": ""
             }
            },
            "marker": {
             "colorbar": {
              "outlinewidth": 0,
              "ticks": ""
             }
            },
            "type": "scatter3d"
           }
          ],
          "scattercarpet": [
           {
            "marker": {
             "colorbar": {
              "outlinewidth": 0,
              "ticks": ""
             }
            },
            "type": "scattercarpet"
           }
          ],
          "scattergeo": [
           {
            "marker": {
             "colorbar": {
              "outlinewidth": 0,
              "ticks": ""
             }
            },
            "type": "scattergeo"
           }
          ],
          "scattergl": [
           {
            "marker": {
             "colorbar": {
              "outlinewidth": 0,
              "ticks": ""
             }
            },
            "type": "scattergl"
           }
          ],
          "scattermapbox": [
           {
            "marker": {
             "colorbar": {
              "outlinewidth": 0,
              "ticks": ""
             }
            },
            "type": "scattermapbox"
           }
          ],
          "scatterpolar": [
           {
            "marker": {
             "colorbar": {
              "outlinewidth": 0,
              "ticks": ""
             }
            },
            "type": "scatterpolar"
           }
          ],
          "scatterpolargl": [
           {
            "marker": {
             "colorbar": {
              "outlinewidth": 0,
              "ticks": ""
             }
            },
            "type": "scatterpolargl"
           }
          ],
          "scatterternary": [
           {
            "marker": {
             "colorbar": {
              "outlinewidth": 0,
              "ticks": ""
             }
            },
            "type": "scatterternary"
           }
          ],
          "surface": [
           {
            "colorbar": {
             "outlinewidth": 0,
             "ticks": ""
            },
            "colorscale": [
             [
              0,
              "#0d0887"
             ],
             [
              0.1111111111111111,
              "#46039f"
             ],
             [
              0.2222222222222222,
              "#7201a8"
             ],
             [
              0.3333333333333333,
              "#9c179e"
             ],
             [
              0.4444444444444444,
              "#bd3786"
             ],
             [
              0.5555555555555556,
              "#d8576b"
             ],
             [
              0.6666666666666666,
              "#ed7953"
             ],
             [
              0.7777777777777778,
              "#fb9f3a"
             ],
             [
              0.8888888888888888,
              "#fdca26"
             ],
             [
              1,
              "#f0f921"
             ]
            ],
            "type": "surface"
           }
          ],
          "table": [
           {
            "cells": {
             "fill": {
              "color": "#EBF0F8"
             },
             "line": {
              "color": "white"
             }
            },
            "header": {
             "fill": {
              "color": "#C8D4E3"
             },
             "line": {
              "color": "white"
             }
            },
            "type": "table"
           }
          ]
         },
         "layout": {
          "annotationdefaults": {
           "arrowcolor": "#2a3f5f",
           "arrowhead": 0,
           "arrowwidth": 1
          },
          "autotypenumbers": "strict",
          "coloraxis": {
           "colorbar": {
            "outlinewidth": 0,
            "ticks": ""
           }
          },
          "colorscale": {
           "diverging": [
            [
             0,
             "#8e0152"
            ],
            [
             0.1,
             "#c51b7d"
            ],
            [
             0.2,
             "#de77ae"
            ],
            [
             0.3,
             "#f1b6da"
            ],
            [
             0.4,
             "#fde0ef"
            ],
            [
             0.5,
             "#f7f7f7"
            ],
            [
             0.6,
             "#e6f5d0"
            ],
            [
             0.7,
             "#b8e186"
            ],
            [
             0.8,
             "#7fbc41"
            ],
            [
             0.9,
             "#4d9221"
            ],
            [
             1,
             "#276419"
            ]
           ],
           "sequential": [
            [
             0,
             "#0d0887"
            ],
            [
             0.1111111111111111,
             "#46039f"
            ],
            [
             0.2222222222222222,
             "#7201a8"
            ],
            [
             0.3333333333333333,
             "#9c179e"
            ],
            [
             0.4444444444444444,
             "#bd3786"
            ],
            [
             0.5555555555555556,
             "#d8576b"
            ],
            [
             0.6666666666666666,
             "#ed7953"
            ],
            [
             0.7777777777777778,
             "#fb9f3a"
            ],
            [
             0.8888888888888888,
             "#fdca26"
            ],
            [
             1,
             "#f0f921"
            ]
           ],
           "sequentialminus": [
            [
             0,
             "#0d0887"
            ],
            [
             0.1111111111111111,
             "#46039f"
            ],
            [
             0.2222222222222222,
             "#7201a8"
            ],
            [
             0.3333333333333333,
             "#9c179e"
            ],
            [
             0.4444444444444444,
             "#bd3786"
            ],
            [
             0.5555555555555556,
             "#d8576b"
            ],
            [
             0.6666666666666666,
             "#ed7953"
            ],
            [
             0.7777777777777778,
             "#fb9f3a"
            ],
            [
             0.8888888888888888,
             "#fdca26"
            ],
            [
             1,
             "#f0f921"
            ]
           ]
          },
          "colorway": [
           "#636efa",
           "#EF553B",
           "#00cc96",
           "#ab63fa",
           "#FFA15A",
           "#19d3f3",
           "#FF6692",
           "#B6E880",
           "#FF97FF",
           "#FECB52"
          ],
          "font": {
           "color": "#2a3f5f"
          },
          "geo": {
           "bgcolor": "white",
           "lakecolor": "white",
           "landcolor": "#E5ECF6",
           "showlakes": true,
           "showland": true,
           "subunitcolor": "white"
          },
          "hoverlabel": {
           "align": "left"
          },
          "hovermode": "closest",
          "mapbox": {
           "style": "light"
          },
          "paper_bgcolor": "white",
          "plot_bgcolor": "#E5ECF6",
          "polar": {
           "angularaxis": {
            "gridcolor": "white",
            "linecolor": "white",
            "ticks": ""
           },
           "bgcolor": "#E5ECF6",
           "radialaxis": {
            "gridcolor": "white",
            "linecolor": "white",
            "ticks": ""
           }
          },
          "scene": {
           "xaxis": {
            "backgroundcolor": "#E5ECF6",
            "gridcolor": "white",
            "gridwidth": 2,
            "linecolor": "white",
            "showbackground": true,
            "ticks": "",
            "zerolinecolor": "white"
           },
           "yaxis": {
            "backgroundcolor": "#E5ECF6",
            "gridcolor": "white",
            "gridwidth": 2,
            "linecolor": "white",
            "showbackground": true,
            "ticks": "",
            "zerolinecolor": "white"
           },
           "zaxis": {
            "backgroundcolor": "#E5ECF6",
            "gridcolor": "white",
            "gridwidth": 2,
            "linecolor": "white",
            "showbackground": true,
            "ticks": "",
            "zerolinecolor": "white"
           }
          },
          "shapedefaults": {
           "line": {
            "color": "#2a3f5f"
           }
          },
          "ternary": {
           "aaxis": {
            "gridcolor": "white",
            "linecolor": "white",
            "ticks": ""
           },
           "baxis": {
            "gridcolor": "white",
            "linecolor": "white",
            "ticks": ""
           },
           "bgcolor": "#E5ECF6",
           "caxis": {
            "gridcolor": "white",
            "linecolor": "white",
            "ticks": ""
           }
          },
          "title": {
           "x": 0.05
          },
          "xaxis": {
           "automargin": true,
           "gridcolor": "white",
           "linecolor": "white",
           "ticks": "",
           "title": {
            "standoff": 15
           },
           "zerolinecolor": "white",
           "zerolinewidth": 2
          },
          "yaxis": {
           "automargin": true,
           "gridcolor": "white",
           "linecolor": "white",
           "ticks": "",
           "title": {
            "standoff": 15
           },
           "zerolinecolor": "white",
           "zerolinewidth": 2
          }
         }
        },
        "title": {
         "text": "Daily Commission during Thanksgiving Week 2021"
        },
        "xaxis": {
         "anchor": "y",
         "domain": [
          0,
          1
         ],
         "tickformat": "%A %d %b",
         "title": {
          "text": "Thanksgiving Week November 2021"
         }
        },
        "yaxis": {
         "anchor": "x",
         "domain": [
          0,
          1
         ],
         "title": {
          "text": "Daily Commission (USD)"
         }
        }
       }
      }
     },
     "metadata": {},
     "output_type": "display_data"
    }
   ],
   "source": [
    "import plotly.express as px\n",
    "\n",
    "# Assuming commision_to_day is your DataFrame\n",
    "fig = px.scatter(commision_to_day, x='sqldate', y='commission', text='commission', title='Daily Commission during Thanksgiving Week 2021')\n",
    "\n",
    "# Update the traces to show lines and markers (points), and add the text\n",
    "fig.update_traces(mode='lines+markers+text', texttemplate='%{text:.2s}', textposition='top center', \n",
    "                  hovertemplate='<b>%{x}</b>: %{y:.2s} USD<extra></extra>')\n",
    "\n",
    "# Update layout settings\n",
    "fig.update_layout(\n",
    "    hovermode=\"x\",\n",
    "    xaxis=dict(title='Thanksgiving Week November 2021', tickformat='%A %d %b', dtick='D1'),\n",
    "    yaxis=dict(title='Daily Commission (USD)')\n",
    ")\n",
    "\n",
    "# Show the figure\n",
    "fig.show()\n",
    "\n"
   ]
  },
  {
   "cell_type": "code",
   "execution_count": 204,
   "metadata": {},
   "outputs": [
    {
     "data": {
      "text/plain": [
       "country\n",
       "US    734860\n",
       "CA    258060\n",
       "GB     66946\n",
       "AU     26030\n",
       "SG      9107\n",
       "dtype: int64"
      ]
     },
     "execution_count": 204,
     "metadata": {},
     "output_type": "execute_result"
    }
   ],
   "source": [
    "### country specific sales\n",
    "\n",
    "country_total = product_sales_new.groupby('country').size().sort_values(ascending=False)\n",
    "country_total.head()"
   ]
  },
  {
   "cell_type": "code",
   "execution_count": 217,
   "metadata": {},
   "outputs": [
    {
     "data": {
      "text/html": [
       "<div>\n",
       "<style scoped>\n",
       "    .dataframe tbody tr th:only-of-type {\n",
       "        vertical-align: middle;\n",
       "    }\n",
       "\n",
       "    .dataframe tbody tr th {\n",
       "        vertical-align: top;\n",
       "    }\n",
       "\n",
       "    .dataframe thead th {\n",
       "        text-align: right;\n",
       "    }\n",
       "</style>\n",
       "<table border=\"1\" class=\"dataframe\">\n",
       "  <thead>\n",
       "    <tr style=\"text-align: right;\">\n",
       "      <th></th>\n",
       "      <th>sqldate</th>\n",
       "      <th>country</th>\n",
       "      <th>saleamt_x</th>\n",
       "      <th>saleamt_y</th>\n",
       "      <th>proportion</th>\n",
       "    </tr>\n",
       "  </thead>\n",
       "  <tbody>\n",
       "    <tr>\n",
       "      <th>967</th>\n",
       "      <td>2021-11-29</td>\n",
       "      <td>VG</td>\n",
       "      <td>171</td>\n",
       "      <td>16825420</td>\n",
       "      <td>0</td>\n",
       "    </tr>\n",
       "    <tr>\n",
       "      <th>968</th>\n",
       "      <td>2021-11-29</td>\n",
       "      <td>VI</td>\n",
       "      <td>2615</td>\n",
       "      <td>16825420</td>\n",
       "      <td>0</td>\n",
       "    </tr>\n",
       "    <tr>\n",
       "      <th>969</th>\n",
       "      <td>2021-11-29</td>\n",
       "      <td>VN</td>\n",
       "      <td>13339</td>\n",
       "      <td>16825420</td>\n",
       "      <td>0</td>\n",
       "    </tr>\n",
       "    <tr>\n",
       "      <th>970</th>\n",
       "      <td>2021-11-29</td>\n",
       "      <td>ZA</td>\n",
       "      <td>453</td>\n",
       "      <td>16825420</td>\n",
       "      <td>0</td>\n",
       "    </tr>\n",
       "    <tr>\n",
       "      <th>971</th>\n",
       "      <td>2021-11-29</td>\n",
       "      <td>ZM</td>\n",
       "      <td>322</td>\n",
       "      <td>16825420</td>\n",
       "      <td>0</td>\n",
       "    </tr>\n",
       "  </tbody>\n",
       "</table>\n",
       "</div>"
      ],
      "text/plain": [
       "       sqldate country  saleamt_x  saleamt_y  proportion\n",
       "967 2021-11-29      VG        171   16825420           0\n",
       "968 2021-11-29      VI       2615   16825420           0\n",
       "969 2021-11-29      VN      13339   16825420           0\n",
       "970 2021-11-29      ZA        453   16825420           0\n",
       "971 2021-11-29      ZM        322   16825420           0"
      ]
     },
     "execution_count": 217,
     "metadata": {},
     "output_type": "execute_result"
    }
   ],
   "source": [
    "##country specific sales\n",
    "\n",
    "country_sale = product_sales_new.groupby(['sqldate','country'])['saleamt'].sum().reset_index()\n",
    "\n",
    "##merge with daily total to calculate percentage sales contributed by each country\n",
    "country_sale_2 = country_sale.merge(day_to_day[['sqldate','saleamt']], on='sqldate', how='left')\n",
    "country_sale_2['proportion'] = (country_sale_2['saleamt_x']/country_sale_2['saleamt_y'])*100\n",
    "country_sale_2.tail()"
   ]
  },
  {
   "cell_type": "code",
   "execution_count": 219,
   "metadata": {},
   "outputs": [
    {
     "data": {
      "text/html": [
       "<div>\n",
       "<style scoped>\n",
       "    .dataframe tbody tr th:only-of-type {\n",
       "        vertical-align: middle;\n",
       "    }\n",
       "\n",
       "    .dataframe tbody tr th {\n",
       "        vertical-align: top;\n",
       "    }\n",
       "\n",
       "    .dataframe thead th {\n",
       "        text-align: right;\n",
       "    }\n",
       "</style>\n",
       "<table border=\"1\" class=\"dataframe\">\n",
       "  <thead>\n",
       "    <tr style=\"text-align: right;\">\n",
       "      <th></th>\n",
       "      <th>sqldate</th>\n",
       "      <th>country</th>\n",
       "      <th>saleamt_x</th>\n",
       "      <th>saleamt_y</th>\n",
       "      <th>proportion</th>\n",
       "      <th>country_new</th>\n",
       "    </tr>\n",
       "  </thead>\n",
       "  <tbody>\n",
       "    <tr>\n",
       "      <th>0</th>\n",
       "      <td>2021-11-22</td>\n",
       "      <td>AE</td>\n",
       "      <td>6685</td>\n",
       "      <td>6897277</td>\n",
       "      <td>0</td>\n",
       "      <td>Other</td>\n",
       "    </tr>\n",
       "    <tr>\n",
       "      <th>1</th>\n",
       "      <td>2021-11-22</td>\n",
       "      <td>AG</td>\n",
       "      <td>476</td>\n",
       "      <td>6897277</td>\n",
       "      <td>0</td>\n",
       "      <td>Other</td>\n",
       "    </tr>\n",
       "    <tr>\n",
       "      <th>2</th>\n",
       "      <td>2021-11-22</td>\n",
       "      <td>AI</td>\n",
       "      <td>240</td>\n",
       "      <td>6897277</td>\n",
       "      <td>0</td>\n",
       "      <td>Other</td>\n",
       "    </tr>\n",
       "    <tr>\n",
       "      <th>3</th>\n",
       "      <td>2021-11-22</td>\n",
       "      <td>AM</td>\n",
       "      <td>632</td>\n",
       "      <td>6897277</td>\n",
       "      <td>0</td>\n",
       "      <td>Other</td>\n",
       "    </tr>\n",
       "    <tr>\n",
       "      <th>4</th>\n",
       "      <td>2021-11-22</td>\n",
       "      <td>AR</td>\n",
       "      <td>162</td>\n",
       "      <td>6897277</td>\n",
       "      <td>0</td>\n",
       "      <td>Other</td>\n",
       "    </tr>\n",
       "    <tr>\n",
       "      <th>5</th>\n",
       "      <td>2021-11-22</td>\n",
       "      <td>AT</td>\n",
       "      <td>2441</td>\n",
       "      <td>6897277</td>\n",
       "      <td>0</td>\n",
       "      <td>Other</td>\n",
       "    </tr>\n",
       "    <tr>\n",
       "      <th>6</th>\n",
       "      <td>2021-11-22</td>\n",
       "      <td>AU</td>\n",
       "      <td>93197</td>\n",
       "      <td>6897277</td>\n",
       "      <td>1</td>\n",
       "      <td>AU</td>\n",
       "    </tr>\n",
       "    <tr>\n",
       "      <th>7</th>\n",
       "      <td>2021-11-22</td>\n",
       "      <td>AW</td>\n",
       "      <td>40</td>\n",
       "      <td>6897277</td>\n",
       "      <td>0</td>\n",
       "      <td>Other</td>\n",
       "    </tr>\n",
       "    <tr>\n",
       "      <th>8</th>\n",
       "      <td>2021-11-22</td>\n",
       "      <td>AZ</td>\n",
       "      <td>186</td>\n",
       "      <td>6897277</td>\n",
       "      <td>0</td>\n",
       "      <td>Other</td>\n",
       "    </tr>\n",
       "    <tr>\n",
       "      <th>9</th>\n",
       "      <td>2021-11-22</td>\n",
       "      <td>BB</td>\n",
       "      <td>306</td>\n",
       "      <td>6897277</td>\n",
       "      <td>0</td>\n",
       "      <td>Other</td>\n",
       "    </tr>\n",
       "  </tbody>\n",
       "</table>\n",
       "</div>"
      ],
      "text/plain": [
       "     sqldate country  saleamt_x  saleamt_y  proportion country_new\n",
       "0 2021-11-22      AE       6685    6897277           0       Other\n",
       "1 2021-11-22      AG        476    6897277           0       Other\n",
       "2 2021-11-22      AI        240    6897277           0       Other\n",
       "3 2021-11-22      AM        632    6897277           0       Other\n",
       "4 2021-11-22      AR        162    6897277           0       Other\n",
       "5 2021-11-22      AT       2441    6897277           0       Other\n",
       "6 2021-11-22      AU      93197    6897277           1          AU\n",
       "7 2021-11-22      AW         40    6897277           0       Other\n",
       "8 2021-11-22      AZ        186    6897277           0       Other\n",
       "9 2021-11-22      BB        306    6897277           0       Other"
      ]
     },
     "execution_count": 219,
     "metadata": {},
     "output_type": "execute_result"
    }
   ],
   "source": [
    "#rename hte leve_2 for categories contribution > 5% to the total sales\n",
    "# Identify categories contributing less than 5% \n",
    "country_sale_2['country_new'] = country_sale_2.apply(lambda x: 'Other' if x['proportion'] < 1 else x['country'], axis=1)\n",
    "\n",
    "country_sale_2.head(10)\n",
    "\n",
    "#"
   ]
  },
  {
   "cell_type": "code",
   "execution_count": null,
   "metadata": {},
   "outputs": [],
   "source": [
    "#regroup with the outher in place\n",
    "\n",
    "# Aggregate sales for 'Other' categories within each day \n",
    "final_country =country_sale_2.groupby(['sqldate', 'country_new']).agg({'saleamt_x': 'sum'}).reset_index()\n",
    "final_country.head(100)"
   ]
  },
  {
   "cell_type": "code",
   "execution_count": 237,
   "metadata": {},
   "outputs": [
    {
     "data": {
      "text/html": [
       "<div>\n",
       "<style scoped>\n",
       "    .dataframe tbody tr th:only-of-type {\n",
       "        vertical-align: middle;\n",
       "    }\n",
       "\n",
       "    .dataframe tbody tr th {\n",
       "        vertical-align: top;\n",
       "    }\n",
       "\n",
       "    .dataframe thead th {\n",
       "        text-align: right;\n",
       "    }\n",
       "</style>\n",
       "<table border=\"1\" class=\"dataframe\">\n",
       "  <thead>\n",
       "    <tr style=\"text-align: right;\">\n",
       "      <th></th>\n",
       "      <th>sqldate</th>\n",
       "      <th>country_new</th>\n",
       "      <th>saleamt_x</th>\n",
       "    </tr>\n",
       "  </thead>\n",
       "  <tbody>\n",
       "    <tr>\n",
       "      <th>0</th>\n",
       "      <td>2021-11-22</td>\n",
       "      <td>Australia</td>\n",
       "      <td>93197</td>\n",
       "    </tr>\n",
       "    <tr>\n",
       "      <th>1</th>\n",
       "      <td>2021-11-22</td>\n",
       "      <td>Canada</td>\n",
       "      <td>982064</td>\n",
       "    </tr>\n",
       "    <tr>\n",
       "      <th>2</th>\n",
       "      <td>2021-11-22</td>\n",
       "      <td>United Kingdom</td>\n",
       "      <td>358898</td>\n",
       "    </tr>\n",
       "    <tr>\n",
       "      <th>3</th>\n",
       "      <td>2021-11-22</td>\n",
       "      <td>Other Countries</td>\n",
       "      <td>602486</td>\n",
       "    </tr>\n",
       "    <tr>\n",
       "      <th>4</th>\n",
       "      <td>2021-11-22</td>\n",
       "      <td>United States</td>\n",
       "      <td>4859254</td>\n",
       "    </tr>\n",
       "    <tr>\n",
       "      <th>5</th>\n",
       "      <td>2021-11-23</td>\n",
       "      <td>Australia</td>\n",
       "      <td>149930</td>\n",
       "    </tr>\n",
       "    <tr>\n",
       "      <th>6</th>\n",
       "      <td>2021-11-23</td>\n",
       "      <td>Canada</td>\n",
       "      <td>1473099</td>\n",
       "    </tr>\n",
       "    <tr>\n",
       "      <th>7</th>\n",
       "      <td>2021-11-23</td>\n",
       "      <td>United Kingdom</td>\n",
       "      <td>267453</td>\n",
       "    </tr>\n",
       "    <tr>\n",
       "      <th>8</th>\n",
       "      <td>2021-11-23</td>\n",
       "      <td>Other Countries</td>\n",
       "      <td>444790</td>\n",
       "    </tr>\n",
       "    <tr>\n",
       "      <th>9</th>\n",
       "      <td>2021-11-23</td>\n",
       "      <td>United States</td>\n",
       "      <td>4083321</td>\n",
       "    </tr>\n",
       "    <tr>\n",
       "      <th>10</th>\n",
       "      <td>2021-11-24</td>\n",
       "      <td>Australia</td>\n",
       "      <td>184342</td>\n",
       "    </tr>\n",
       "    <tr>\n",
       "      <th>11</th>\n",
       "      <td>2021-11-24</td>\n",
       "      <td>Canada</td>\n",
       "      <td>1152700</td>\n",
       "    </tr>\n",
       "    <tr>\n",
       "      <th>12</th>\n",
       "      <td>2021-11-24</td>\n",
       "      <td>United Kingdom</td>\n",
       "      <td>336851</td>\n",
       "    </tr>\n",
       "    <tr>\n",
       "      <th>13</th>\n",
       "      <td>2021-11-24</td>\n",
       "      <td>Other Countries</td>\n",
       "      <td>462093</td>\n",
       "    </tr>\n",
       "    <tr>\n",
       "      <th>14</th>\n",
       "      <td>2021-11-24</td>\n",
       "      <td>United States</td>\n",
       "      <td>4917264</td>\n",
       "    </tr>\n",
       "    <tr>\n",
       "      <th>15</th>\n",
       "      <td>2021-11-25</td>\n",
       "      <td>Australia</td>\n",
       "      <td>145188</td>\n",
       "    </tr>\n",
       "    <tr>\n",
       "      <th>16</th>\n",
       "      <td>2021-11-25</td>\n",
       "      <td>Canada</td>\n",
       "      <td>1758845</td>\n",
       "    </tr>\n",
       "    <tr>\n",
       "      <th>17</th>\n",
       "      <td>2021-11-25</td>\n",
       "      <td>China</td>\n",
       "      <td>83882</td>\n",
       "    </tr>\n",
       "    <tr>\n",
       "      <th>18</th>\n",
       "      <td>2021-11-25</td>\n",
       "      <td>United Kingdom</td>\n",
       "      <td>281568</td>\n",
       "    </tr>\n",
       "    <tr>\n",
       "      <th>19</th>\n",
       "      <td>2021-11-25</td>\n",
       "      <td>Other Countries</td>\n",
       "      <td>473167</td>\n",
       "    </tr>\n",
       "    <tr>\n",
       "      <th>20</th>\n",
       "      <td>2021-11-25</td>\n",
       "      <td>Singapore</td>\n",
       "      <td>103962</td>\n",
       "    </tr>\n",
       "    <tr>\n",
       "      <th>21</th>\n",
       "      <td>2021-11-25</td>\n",
       "      <td>United States</td>\n",
       "      <td>5444391</td>\n",
       "    </tr>\n",
       "    <tr>\n",
       "      <th>22</th>\n",
       "      <td>2021-11-26</td>\n",
       "      <td>Australia</td>\n",
       "      <td>258943</td>\n",
       "    </tr>\n",
       "    <tr>\n",
       "      <th>23</th>\n",
       "      <td>2021-11-26</td>\n",
       "      <td>Canada</td>\n",
       "      <td>2978348</td>\n",
       "    </tr>\n",
       "    <tr>\n",
       "      <th>24</th>\n",
       "      <td>2021-11-26</td>\n",
       "      <td>United Kingdom</td>\n",
       "      <td>757900</td>\n",
       "    </tr>\n",
       "    <tr>\n",
       "      <th>25</th>\n",
       "      <td>2021-11-26</td>\n",
       "      <td>Other Countries</td>\n",
       "      <td>1115557</td>\n",
       "    </tr>\n",
       "    <tr>\n",
       "      <th>26</th>\n",
       "      <td>2021-11-26</td>\n",
       "      <td>United States</td>\n",
       "      <td>13068980</td>\n",
       "    </tr>\n",
       "    <tr>\n",
       "      <th>27</th>\n",
       "      <td>2021-11-27</td>\n",
       "      <td>Australia</td>\n",
       "      <td>142723</td>\n",
       "    </tr>\n",
       "    <tr>\n",
       "      <th>28</th>\n",
       "      <td>2021-11-27</td>\n",
       "      <td>Canada</td>\n",
       "      <td>1192765</td>\n",
       "    </tr>\n",
       "    <tr>\n",
       "      <th>29</th>\n",
       "      <td>2021-11-27</td>\n",
       "      <td>United Kingdom</td>\n",
       "      <td>264251</td>\n",
       "    </tr>\n",
       "    <tr>\n",
       "      <th>30</th>\n",
       "      <td>2021-11-27</td>\n",
       "      <td>Other Countries</td>\n",
       "      <td>571375</td>\n",
       "    </tr>\n",
       "    <tr>\n",
       "      <th>31</th>\n",
       "      <td>2021-11-27</td>\n",
       "      <td>United States</td>\n",
       "      <td>7197712</td>\n",
       "    </tr>\n",
       "    <tr>\n",
       "      <th>32</th>\n",
       "      <td>2021-11-28</td>\n",
       "      <td>Australia</td>\n",
       "      <td>176934</td>\n",
       "    </tr>\n",
       "    <tr>\n",
       "      <th>33</th>\n",
       "      <td>2021-11-28</td>\n",
       "      <td>Canada</td>\n",
       "      <td>1400572</td>\n",
       "    </tr>\n",
       "    <tr>\n",
       "      <th>34</th>\n",
       "      <td>2021-11-28</td>\n",
       "      <td>United Kingdom</td>\n",
       "      <td>305834</td>\n",
       "    </tr>\n",
       "    <tr>\n",
       "      <th>35</th>\n",
       "      <td>2021-11-28</td>\n",
       "      <td>Other Countries</td>\n",
       "      <td>869092</td>\n",
       "    </tr>\n",
       "    <tr>\n",
       "      <th>36</th>\n",
       "      <td>2021-11-28</td>\n",
       "      <td>United States</td>\n",
       "      <td>8217512</td>\n",
       "    </tr>\n",
       "    <tr>\n",
       "      <th>37</th>\n",
       "      <td>2021-11-29</td>\n",
       "      <td>Australia</td>\n",
       "      <td>177986</td>\n",
       "    </tr>\n",
       "    <tr>\n",
       "      <th>38</th>\n",
       "      <td>2021-11-29</td>\n",
       "      <td>Canada</td>\n",
       "      <td>1832752</td>\n",
       "    </tr>\n",
       "    <tr>\n",
       "      <th>39</th>\n",
       "      <td>2021-11-29</td>\n",
       "      <td>United Kingdom</td>\n",
       "      <td>351350</td>\n",
       "    </tr>\n",
       "    <tr>\n",
       "      <th>40</th>\n",
       "      <td>2021-11-29</td>\n",
       "      <td>Other Countries</td>\n",
       "      <td>916018</td>\n",
       "    </tr>\n",
       "    <tr>\n",
       "      <th>41</th>\n",
       "      <td>2021-11-29</td>\n",
       "      <td>United States</td>\n",
       "      <td>13547116</td>\n",
       "    </tr>\n",
       "  </tbody>\n",
       "</table>\n",
       "</div>"
      ],
      "text/plain": [
       "      sqldate      country_new  saleamt_x\n",
       "0  2021-11-22        Australia      93197\n",
       "1  2021-11-22           Canada     982064\n",
       "2  2021-11-22   United Kingdom     358898\n",
       "3  2021-11-22  Other Countries     602486\n",
       "4  2021-11-22    United States    4859254\n",
       "5  2021-11-23        Australia     149930\n",
       "6  2021-11-23           Canada    1473099\n",
       "7  2021-11-23   United Kingdom     267453\n",
       "8  2021-11-23  Other Countries     444790\n",
       "9  2021-11-23    United States    4083321\n",
       "10 2021-11-24        Australia     184342\n",
       "11 2021-11-24           Canada    1152700\n",
       "12 2021-11-24   United Kingdom     336851\n",
       "13 2021-11-24  Other Countries     462093\n",
       "14 2021-11-24    United States    4917264\n",
       "15 2021-11-25        Australia     145188\n",
       "16 2021-11-25           Canada    1758845\n",
       "17 2021-11-25            China      83882\n",
       "18 2021-11-25   United Kingdom     281568\n",
       "19 2021-11-25  Other Countries     473167\n",
       "20 2021-11-25        Singapore     103962\n",
       "21 2021-11-25    United States    5444391\n",
       "22 2021-11-26        Australia     258943\n",
       "23 2021-11-26           Canada    2978348\n",
       "24 2021-11-26   United Kingdom     757900\n",
       "25 2021-11-26  Other Countries    1115557\n",
       "26 2021-11-26    United States   13068980\n",
       "27 2021-11-27        Australia     142723\n",
       "28 2021-11-27           Canada    1192765\n",
       "29 2021-11-27   United Kingdom     264251\n",
       "30 2021-11-27  Other Countries     571375\n",
       "31 2021-11-27    United States    7197712\n",
       "32 2021-11-28        Australia     176934\n",
       "33 2021-11-28           Canada    1400572\n",
       "34 2021-11-28   United Kingdom     305834\n",
       "35 2021-11-28  Other Countries     869092\n",
       "36 2021-11-28    United States    8217512\n",
       "37 2021-11-29        Australia     177986\n",
       "38 2021-11-29           Canada    1832752\n",
       "39 2021-11-29   United Kingdom     351350\n",
       "40 2021-11-29  Other Countries     916018\n",
       "41 2021-11-29    United States   13547116"
      ]
     },
     "execution_count": 237,
     "metadata": {},
     "output_type": "execute_result"
    }
   ],
   "source": [
    "import pandas as pd\n",
    "\n",
    "\n",
    "\n",
    "\n",
    "# Mapping for country codes to full names\n",
    "country_mapping = {\n",
    "    'AU': 'Australia',\n",
    "    'CA': 'Canada',\n",
    "    'GB': 'United Kingdom',\n",
    "    'US': 'United States',\n",
    "    'Other': 'Other Countries',\n",
    "    'CN': 'China',\n",
    "    'SG': 'Singapore'\n",
    "\n",
    "}\n",
    "\n",
    "# Rename categories in the Country column\n",
    "final_country['country_new'] = final_country['country_new'].map(country_mapping)\n",
    "\n",
    "final_country.head(50)\n"
   ]
  },
  {
   "cell_type": "code",
   "execution_count": null,
   "metadata": {},
   "outputs": [
    {
     "name": "stderr",
     "output_type": "stream",
     "text": [
      "c:\\Users\\farie\\anaconda3\\Lib\\site-packages\\plotly\\express\\_core.py:1979: FutureWarning:\n",
      "\n",
      "When grouping with a length-1 list-like, you will need to pass a length-1 tuple to get_group in a future version of pandas. Pass `(name,)` instead of `name` to silence this warning.\n",
      "\n",
      "c:\\Users\\farie\\anaconda3\\Lib\\site-packages\\_plotly_utils\\basevalidators.py:106: FutureWarning:\n",
      "\n",
      "The behavior of DatetimeProperties.to_pydatetime is deprecated, in a future version this will return a Series containing python datetime objects instead of an ndarray. To retain the old behavior, call `np.array` on the result\n",
      "\n",
      "c:\\Users\\farie\\anaconda3\\Lib\\site-packages\\plotly\\io\\_renderers.py:395: DeprecationWarning:\n",
      "\n",
      "distutils Version classes are deprecated. Use packaging.version instead.\n",
      "\n",
      "c:\\Users\\farie\\anaconda3\\Lib\\site-packages\\plotly\\io\\_renderers.py:395: DeprecationWarning:\n",
      "\n",
      "distutils Version classes are deprecated. Use packaging.version instead.\n",
      "\n"
     ]
    },
    {
     "data": {
      "application/vnd.plotly.v1+json": {
       "config": {
        "plotlyServerURL": "https://plot.ly"
       },
       "data": [
        {
         "alignmentgroup": "True",
         "hovertemplate": "<b>%{y:.2s} USD",
         "legendgroup": "Australia",
         "marker": {
          "color": "#636efa",
          "pattern": {
           "shape": ""
          }
         },
         "name": "Australia",
         "offsetgroup": "Australia",
         "orientation": "v",
         "showlegend": true,
         "textposition": "outside",
         "texttemplate": "%{y:.2s}",
         "type": "bar",
         "x": [
          "2021-11-22T00:00:00",
          "2021-11-23T00:00:00",
          "2021-11-24T00:00:00",
          "2021-11-25T00:00:00",
          "2021-11-26T00:00:00",
          "2021-11-27T00:00:00",
          "2021-11-28T00:00:00",
          "2021-11-29T00:00:00"
         ],
         "xaxis": "x",
         "y": [
          93197.034908,
          149929.704624,
          184341.584798,
          145187.696835,
          258943.335826,
          142722.87839,
          176934.321853,
          177986.014346
         ],
         "yaxis": "y"
        },
        {
         "alignmentgroup": "True",
         "hovertemplate": "<b>%{y:.2s} USD",
         "legendgroup": "Canada",
         "marker": {
          "color": "#EF553B",
          "pattern": {
           "shape": ""
          }
         },
         "name": "Canada",
         "offsetgroup": "Canada",
         "orientation": "v",
         "showlegend": true,
         "textposition": "outside",
         "texttemplate": "%{y:.2s}",
         "type": "bar",
         "x": [
          "2021-11-22T00:00:00",
          "2021-11-23T00:00:00",
          "2021-11-24T00:00:00",
          "2021-11-25T00:00:00",
          "2021-11-26T00:00:00",
          "2021-11-27T00:00:00",
          "2021-11-28T00:00:00",
          "2021-11-29T00:00:00"
         ],
         "xaxis": "x",
         "y": [
          982064.10518,
          1473099.17182,
          1152700.371225,
          1758844.822848,
          2978347.50973,
          1192765.3543449999,
          1400571.655784,
          1832752.019461
         ],
         "yaxis": "y"
        },
        {
         "alignmentgroup": "True",
         "hovertemplate": "<b>%{y:.2s} USD",
         "legendgroup": "United Kingdom",
         "marker": {
          "color": "#00cc96",
          "pattern": {
           "shape": ""
          }
         },
         "name": "United Kingdom",
         "offsetgroup": "United Kingdom",
         "orientation": "v",
         "showlegend": true,
         "textposition": "outside",
         "texttemplate": "%{y:.2s}",
         "type": "bar",
         "x": [
          "2021-11-22T00:00:00",
          "2021-11-23T00:00:00",
          "2021-11-24T00:00:00",
          "2021-11-25T00:00:00",
          "2021-11-26T00:00:00",
          "2021-11-27T00:00:00",
          "2021-11-28T00:00:00",
          "2021-11-29T00:00:00"
         ],
         "xaxis": "x",
         "y": [
          358897.924477,
          267453.037364,
          336850.974664,
          281567.695349,
          757899.925536,
          264251.167044,
          305833.906049,
          351350.268955
         ],
         "yaxis": "y"
        },
        {
         "alignmentgroup": "True",
         "hovertemplate": "<b>%{y:.2s} USD",
         "legendgroup": "Other Countries",
         "marker": {
          "color": "#ab63fa",
          "pattern": {
           "shape": ""
          }
         },
         "name": "Other Countries",
         "offsetgroup": "Other Countries",
         "orientation": "v",
         "showlegend": true,
         "textposition": "outside",
         "texttemplate": "%{y:.2s}",
         "type": "bar",
         "x": [
          "2021-11-22T00:00:00",
          "2021-11-23T00:00:00",
          "2021-11-24T00:00:00",
          "2021-11-25T00:00:00",
          "2021-11-26T00:00:00",
          "2021-11-27T00:00:00",
          "2021-11-28T00:00:00",
          "2021-11-29T00:00:00"
         ],
         "xaxis": "x",
         "y": [
          602486.482107,
          444790.312005,
          462093.425584,
          473167.42660299997,
          1115556.987576,
          571374.842913,
          869092.218961,
          916018.177228
         ],
         "yaxis": "y"
        },
        {
         "alignmentgroup": "True",
         "hovertemplate": "<b>%{y:.2s} USD",
         "legendgroup": "United States",
         "marker": {
          "color": "#FFA15A",
          "pattern": {
           "shape": ""
          }
         },
         "name": "United States",
         "offsetgroup": "United States",
         "orientation": "v",
         "showlegend": true,
         "textposition": "outside",
         "texttemplate": "%{y:.2s}",
         "type": "bar",
         "x": [
          "2021-11-22T00:00:00",
          "2021-11-23T00:00:00",
          "2021-11-24T00:00:00",
          "2021-11-25T00:00:00",
          "2021-11-26T00:00:00",
          "2021-11-27T00:00:00",
          "2021-11-28T00:00:00",
          "2021-11-29T00:00:00"
         ],
         "xaxis": "x",
         "y": [
          4859254.054227,
          4083321.443618,
          4917263.953791,
          5444391.043112,
          13068979.804462,
          7197711.656376,
          8217512.014776,
          13547116.486296
         ],
         "yaxis": "y"
        },
        {
         "alignmentgroup": "True",
         "hovertemplate": "<b>%{y:.2s} USD",
         "legendgroup": "China",
         "marker": {
          "color": "#19d3f3",
          "pattern": {
           "shape": ""
          }
         },
         "name": "China",
         "offsetgroup": "China",
         "orientation": "v",
         "showlegend": true,
         "textposition": "outside",
         "texttemplate": "%{y:.2s}",
         "type": "bar",
         "x": [
          "2021-11-25T00:00:00"
         ],
         "xaxis": "x",
         "y": [
          83882.05159
         ],
         "yaxis": "y"
        },
        {
         "alignmentgroup": "True",
         "hovertemplate": "<b>%{y:.2s} USD",
         "legendgroup": "Singapore",
         "marker": {
          "color": "#FF6692",
          "pattern": {
           "shape": ""
          }
         },
         "name": "Singapore",
         "offsetgroup": "Singapore",
         "orientation": "v",
         "showlegend": true,
         "textposition": "outside",
         "texttemplate": "%{y:.2s}",
         "type": "bar",
         "x": [
          "2021-11-25T00:00:00"
         ],
         "xaxis": "x",
         "y": [
          103961.743383
         ],
         "yaxis": "y"
        }
       ],
       "layout": {
        "barmode": "relative",
        "legend": {
         "title": {
          "text": "country_new"
         },
         "tracegroupgap": 0
        },
        "margin": {
         "t": 60
        },
        "template": {
         "data": {
          "bar": [
           {
            "error_x": {
             "color": "#2a3f5f"
            },
            "error_y": {
             "color": "#2a3f5f"
            },
            "marker": {
             "line": {
              "color": "#E5ECF6",
              "width": 0.5
             },
             "pattern": {
              "fillmode": "overlay",
              "size": 10,
              "solidity": 0.2
             }
            },
            "type": "bar"
           }
          ],
          "barpolar": [
           {
            "marker": {
             "line": {
              "color": "#E5ECF6",
              "width": 0.5
             },
             "pattern": {
              "fillmode": "overlay",
              "size": 10,
              "solidity": 0.2
             }
            },
            "type": "barpolar"
           }
          ],
          "carpet": [
           {
            "aaxis": {
             "endlinecolor": "#2a3f5f",
             "gridcolor": "white",
             "linecolor": "white",
             "minorgridcolor": "white",
             "startlinecolor": "#2a3f5f"
            },
            "baxis": {
             "endlinecolor": "#2a3f5f",
             "gridcolor": "white",
             "linecolor": "white",
             "minorgridcolor": "white",
             "startlinecolor": "#2a3f5f"
            },
            "type": "carpet"
           }
          ],
          "choropleth": [
           {
            "colorbar": {
             "outlinewidth": 0,
             "ticks": ""
            },
            "type": "choropleth"
           }
          ],
          "contour": [
           {
            "colorbar": {
             "outlinewidth": 0,
             "ticks": ""
            },
            "colorscale": [
             [
              0,
              "#0d0887"
             ],
             [
              0.1111111111111111,
              "#46039f"
             ],
             [
              0.2222222222222222,
              "#7201a8"
             ],
             [
              0.3333333333333333,
              "#9c179e"
             ],
             [
              0.4444444444444444,
              "#bd3786"
             ],
             [
              0.5555555555555556,
              "#d8576b"
             ],
             [
              0.6666666666666666,
              "#ed7953"
             ],
             [
              0.7777777777777778,
              "#fb9f3a"
             ],
             [
              0.8888888888888888,
              "#fdca26"
             ],
             [
              1,
              "#f0f921"
             ]
            ],
            "type": "contour"
           }
          ],
          "contourcarpet": [
           {
            "colorbar": {
             "outlinewidth": 0,
             "ticks": ""
            },
            "type": "contourcarpet"
           }
          ],
          "heatmap": [
           {
            "colorbar": {
             "outlinewidth": 0,
             "ticks": ""
            },
            "colorscale": [
             [
              0,
              "#0d0887"
             ],
             [
              0.1111111111111111,
              "#46039f"
             ],
             [
              0.2222222222222222,
              "#7201a8"
             ],
             [
              0.3333333333333333,
              "#9c179e"
             ],
             [
              0.4444444444444444,
              "#bd3786"
             ],
             [
              0.5555555555555556,
              "#d8576b"
             ],
             [
              0.6666666666666666,
              "#ed7953"
             ],
             [
              0.7777777777777778,
              "#fb9f3a"
             ],
             [
              0.8888888888888888,
              "#fdca26"
             ],
             [
              1,
              "#f0f921"
             ]
            ],
            "type": "heatmap"
           }
          ],
          "heatmapgl": [
           {
            "colorbar": {
             "outlinewidth": 0,
             "ticks": ""
            },
            "colorscale": [
             [
              0,
              "#0d0887"
             ],
             [
              0.1111111111111111,
              "#46039f"
             ],
             [
              0.2222222222222222,
              "#7201a8"
             ],
             [
              0.3333333333333333,
              "#9c179e"
             ],
             [
              0.4444444444444444,
              "#bd3786"
             ],
             [
              0.5555555555555556,
              "#d8576b"
             ],
             [
              0.6666666666666666,
              "#ed7953"
             ],
             [
              0.7777777777777778,
              "#fb9f3a"
             ],
             [
              0.8888888888888888,
              "#fdca26"
             ],
             [
              1,
              "#f0f921"
             ]
            ],
            "type": "heatmapgl"
           }
          ],
          "histogram": [
           {
            "marker": {
             "pattern": {
              "fillmode": "overlay",
              "size": 10,
              "solidity": 0.2
             }
            },
            "type": "histogram"
           }
          ],
          "histogram2d": [
           {
            "colorbar": {
             "outlinewidth": 0,
             "ticks": ""
            },
            "colorscale": [
             [
              0,
              "#0d0887"
             ],
             [
              0.1111111111111111,
              "#46039f"
             ],
             [
              0.2222222222222222,
              "#7201a8"
             ],
             [
              0.3333333333333333,
              "#9c179e"
             ],
             [
              0.4444444444444444,
              "#bd3786"
             ],
             [
              0.5555555555555556,
              "#d8576b"
             ],
             [
              0.6666666666666666,
              "#ed7953"
             ],
             [
              0.7777777777777778,
              "#fb9f3a"
             ],
             [
              0.8888888888888888,
              "#fdca26"
             ],
             [
              1,
              "#f0f921"
             ]
            ],
            "type": "histogram2d"
           }
          ],
          "histogram2dcontour": [
           {
            "colorbar": {
             "outlinewidth": 0,
             "ticks": ""
            },
            "colorscale": [
             [
              0,
              "#0d0887"
             ],
             [
              0.1111111111111111,
              "#46039f"
             ],
             [
              0.2222222222222222,
              "#7201a8"
             ],
             [
              0.3333333333333333,
              "#9c179e"
             ],
             [
              0.4444444444444444,
              "#bd3786"
             ],
             [
              0.5555555555555556,
              "#d8576b"
             ],
             [
              0.6666666666666666,
              "#ed7953"
             ],
             [
              0.7777777777777778,
              "#fb9f3a"
             ],
             [
              0.8888888888888888,
              "#fdca26"
             ],
             [
              1,
              "#f0f921"
             ]
            ],
            "type": "histogram2dcontour"
           }
          ],
          "mesh3d": [
           {
            "colorbar": {
             "outlinewidth": 0,
             "ticks": ""
            },
            "type": "mesh3d"
           }
          ],
          "parcoords": [
           {
            "line": {
             "colorbar": {
              "outlinewidth": 0,
              "ticks": ""
             }
            },
            "type": "parcoords"
           }
          ],
          "pie": [
           {
            "automargin": true,
            "type": "pie"
           }
          ],
          "scatter": [
           {
            "fillpattern": {
             "fillmode": "overlay",
             "size": 10,
             "solidity": 0.2
            },
            "type": "scatter"
           }
          ],
          "scatter3d": [
           {
            "line": {
             "colorbar": {
              "outlinewidth": 0,
              "ticks": ""
             }
            },
            "marker": {
             "colorbar": {
              "outlinewidth": 0,
              "ticks": ""
             }
            },
            "type": "scatter3d"
           }
          ],
          "scattercarpet": [
           {
            "marker": {
             "colorbar": {
              "outlinewidth": 0,
              "ticks": ""
             }
            },
            "type": "scattercarpet"
           }
          ],
          "scattergeo": [
           {
            "marker": {
             "colorbar": {
              "outlinewidth": 0,
              "ticks": ""
             }
            },
            "type": "scattergeo"
           }
          ],
          "scattergl": [
           {
            "marker": {
             "colorbar": {
              "outlinewidth": 0,
              "ticks": ""
             }
            },
            "type": "scattergl"
           }
          ],
          "scattermapbox": [
           {
            "marker": {
             "colorbar": {
              "outlinewidth": 0,
              "ticks": ""
             }
            },
            "type": "scattermapbox"
           }
          ],
          "scatterpolar": [
           {
            "marker": {
             "colorbar": {
              "outlinewidth": 0,
              "ticks": ""
             }
            },
            "type": "scatterpolar"
           }
          ],
          "scatterpolargl": [
           {
            "marker": {
             "colorbar": {
              "outlinewidth": 0,
              "ticks": ""
             }
            },
            "type": "scatterpolargl"
           }
          ],
          "scatterternary": [
           {
            "marker": {
             "colorbar": {
              "outlinewidth": 0,
              "ticks": ""
             }
            },
            "type": "scatterternary"
           }
          ],
          "surface": [
           {
            "colorbar": {
             "outlinewidth": 0,
             "ticks": ""
            },
            "colorscale": [
             [
              0,
              "#0d0887"
             ],
             [
              0.1111111111111111,
              "#46039f"
             ],
             [
              0.2222222222222222,
              "#7201a8"
             ],
             [
              0.3333333333333333,
              "#9c179e"
             ],
             [
              0.4444444444444444,
              "#bd3786"
             ],
             [
              0.5555555555555556,
              "#d8576b"
             ],
             [
              0.6666666666666666,
              "#ed7953"
             ],
             [
              0.7777777777777778,
              "#fb9f3a"
             ],
             [
              0.8888888888888888,
              "#fdca26"
             ],
             [
              1,
              "#f0f921"
             ]
            ],
            "type": "surface"
           }
          ],
          "table": [
           {
            "cells": {
             "fill": {
              "color": "#EBF0F8"
             },
             "line": {
              "color": "white"
             }
            },
            "header": {
             "fill": {
              "color": "#C8D4E3"
             },
             "line": {
              "color": "white"
             }
            },
            "type": "table"
           }
          ]
         },
         "layout": {
          "annotationdefaults": {
           "arrowcolor": "#2a3f5f",
           "arrowhead": 0,
           "arrowwidth": 1
          },
          "autotypenumbers": "strict",
          "coloraxis": {
           "colorbar": {
            "outlinewidth": 0,
            "ticks": ""
           }
          },
          "colorscale": {
           "diverging": [
            [
             0,
             "#8e0152"
            ],
            [
             0.1,
             "#c51b7d"
            ],
            [
             0.2,
             "#de77ae"
            ],
            [
             0.3,
             "#f1b6da"
            ],
            [
             0.4,
             "#fde0ef"
            ],
            [
             0.5,
             "#f7f7f7"
            ],
            [
             0.6,
             "#e6f5d0"
            ],
            [
             0.7,
             "#b8e186"
            ],
            [
             0.8,
             "#7fbc41"
            ],
            [
             0.9,
             "#4d9221"
            ],
            [
             1,
             "#276419"
            ]
           ],
           "sequential": [
            [
             0,
             "#0d0887"
            ],
            [
             0.1111111111111111,
             "#46039f"
            ],
            [
             0.2222222222222222,
             "#7201a8"
            ],
            [
             0.3333333333333333,
             "#9c179e"
            ],
            [
             0.4444444444444444,
             "#bd3786"
            ],
            [
             0.5555555555555556,
             "#d8576b"
            ],
            [
             0.6666666666666666,
             "#ed7953"
            ],
            [
             0.7777777777777778,
             "#fb9f3a"
            ],
            [
             0.8888888888888888,
             "#fdca26"
            ],
            [
             1,
             "#f0f921"
            ]
           ],
           "sequentialminus": [
            [
             0,
             "#0d0887"
            ],
            [
             0.1111111111111111,
             "#46039f"
            ],
            [
             0.2222222222222222,
             "#7201a8"
            ],
            [
             0.3333333333333333,
             "#9c179e"
            ],
            [
             0.4444444444444444,
             "#bd3786"
            ],
            [
             0.5555555555555556,
             "#d8576b"
            ],
            [
             0.6666666666666666,
             "#ed7953"
            ],
            [
             0.7777777777777778,
             "#fb9f3a"
            ],
            [
             0.8888888888888888,
             "#fdca26"
            ],
            [
             1,
             "#f0f921"
            ]
           ]
          },
          "colorway": [
           "#636efa",
           "#EF553B",
           "#00cc96",
           "#ab63fa",
           "#FFA15A",
           "#19d3f3",
           "#FF6692",
           "#B6E880",
           "#FF97FF",
           "#FECB52"
          ],
          "font": {
           "color": "#2a3f5f"
          },
          "geo": {
           "bgcolor": "white",
           "lakecolor": "white",
           "landcolor": "#E5ECF6",
           "showlakes": true,
           "showland": true,
           "subunitcolor": "white"
          },
          "hoverlabel": {
           "align": "left"
          },
          "hovermode": "closest",
          "mapbox": {
           "style": "light"
          },
          "paper_bgcolor": "white",
          "plot_bgcolor": "#E5ECF6",
          "polar": {
           "angularaxis": {
            "gridcolor": "white",
            "linecolor": "white",
            "ticks": ""
           },
           "bgcolor": "#E5ECF6",
           "radialaxis": {
            "gridcolor": "white",
            "linecolor": "white",
            "ticks": ""
           }
          },
          "scene": {
           "xaxis": {
            "backgroundcolor": "#E5ECF6",
            "gridcolor": "white",
            "gridwidth": 2,
            "linecolor": "white",
            "showbackground": true,
            "ticks": "",
            "zerolinecolor": "white"
           },
           "yaxis": {
            "backgroundcolor": "#E5ECF6",
            "gridcolor": "white",
            "gridwidth": 2,
            "linecolor": "white",
            "showbackground": true,
            "ticks": "",
            "zerolinecolor": "white"
           },
           "zaxis": {
            "backgroundcolor": "#E5ECF6",
            "gridcolor": "white",
            "gridwidth": 2,
            "linecolor": "white",
            "showbackground": true,
            "ticks": "",
            "zerolinecolor": "white"
           }
          },
          "shapedefaults": {
           "line": {
            "color": "#2a3f5f"
           }
          },
          "ternary": {
           "aaxis": {
            "gridcolor": "white",
            "linecolor": "white",
            "ticks": ""
           },
           "baxis": {
            "gridcolor": "white",
            "linecolor": "white",
            "ticks": ""
           },
           "bgcolor": "#E5ECF6",
           "caxis": {
            "gridcolor": "white",
            "linecolor": "white",
            "ticks": ""
           }
          },
          "title": {
           "x": 0.05
          },
          "xaxis": {
           "automargin": true,
           "gridcolor": "white",
           "linecolor": "white",
           "ticks": "",
           "title": {
            "standoff": 15
           },
           "zerolinecolor": "white",
           "zerolinewidth": 2
          },
          "yaxis": {
           "automargin": true,
           "gridcolor": "white",
           "linecolor": "white",
           "ticks": "",
           "title": {
            "standoff": 15
           },
           "zerolinecolor": "white",
           "zerolinewidth": 2
          }
         }
        },
        "xaxis": {
         "anchor": "y",
         "domain": [
          0,
          1
         ],
         "dtick": "D1",
         "tickformat": "%A %d %b",
         "title": {
          "text": "Thank Giving Week November 2021"
         }
        },
        "yaxis": {
         "anchor": "x",
         "domain": [
          0,
          1
         ],
         "title": {
          "text": "Daily Sales Per Country (USD)"
         }
        }
       }
      }
     },
     "metadata": {},
     "output_type": "display_data"
    }
   ],
   "source": [
    "import plotly.express as px\n",
    "import pandas as pd\n",
    "\n",
    "\n",
    "\n",
    "fig = px.bar(final_country, x='sqldate', y='saleamt_x', color='country_new')\n",
    "# Update traces for text and hover information\n",
    "fig.update_traces(\n",
    "    \n",
    "      textposition='outside', # Position text outside the bars\n",
    "    hovertemplate='<b>%{y:.2s} USD'  # Display sum value in hover\n",
    ")\n",
    "fig.update_layout(\n",
    "                  xaxis=dict( title = 'Thank Giving Week November 2021',tickformat='%A %d %b', dtick='D1') ,\n",
    "                  yaxis=dict( title='Daily Sales Per Country (USD)' ))\n",
    "\n",
    "fig.show()"
   ]
  },
  {
   "cell_type": "code",
   "execution_count": 63,
   "metadata": {},
   "outputs": [
    {
     "data": {
      "text/html": [
       "<div>\n",
       "<style scoped>\n",
       "    .dataframe tbody tr th:only-of-type {\n",
       "        vertical-align: middle;\n",
       "    }\n",
       "\n",
       "    .dataframe tbody tr th {\n",
       "        vertical-align: top;\n",
       "    }\n",
       "\n",
       "    .dataframe thead th {\n",
       "        text-align: right;\n",
       "    }\n",
       "</style>\n",
       "<table border=\"1\" class=\"dataframe\">\n",
       "  <thead>\n",
       "    <tr style=\"text-align: right;\">\n",
       "      <th></th>\n",
       "      <th>sqldate</th>\n",
       "      <th>day</th>\n",
       "      <th>item_name</th>\n",
       "    </tr>\n",
       "  </thead>\n",
       "  <tbody>\n",
       "    <tr>\n",
       "      <th>0</th>\n",
       "      <td>2021-11-22</td>\n",
       "      <td>22</td>\n",
       "      <td>84556</td>\n",
       "    </tr>\n",
       "    <tr>\n",
       "      <th>1</th>\n",
       "      <td>2021-11-23</td>\n",
       "      <td>23</td>\n",
       "      <td>72919</td>\n",
       "    </tr>\n",
       "    <tr>\n",
       "      <th>2</th>\n",
       "      <td>2021-11-24</td>\n",
       "      <td>24</td>\n",
       "      <td>91840</td>\n",
       "    </tr>\n",
       "    <tr>\n",
       "      <th>3</th>\n",
       "      <td>2021-11-25</td>\n",
       "      <td>25</td>\n",
       "      <td>132950</td>\n",
       "    </tr>\n",
       "    <tr>\n",
       "      <th>4</th>\n",
       "      <td>2021-11-26</td>\n",
       "      <td>26</td>\n",
       "      <td>260692</td>\n",
       "    </tr>\n",
       "    <tr>\n",
       "      <th>5</th>\n",
       "      <td>2021-11-27</td>\n",
       "      <td>27</td>\n",
       "      <td>132096</td>\n",
       "    </tr>\n",
       "    <tr>\n",
       "      <th>6</th>\n",
       "      <td>2021-11-28</td>\n",
       "      <td>28</td>\n",
       "      <td>143573</td>\n",
       "    </tr>\n",
       "    <tr>\n",
       "      <th>7</th>\n",
       "      <td>2021-11-29</td>\n",
       "      <td>29</td>\n",
       "      <td>215271</td>\n",
       "    </tr>\n",
       "  </tbody>\n",
       "</table>\n",
       "</div>"
      ],
      "text/plain": [
       "     sqldate day  item_name\n",
       "0 2021-11-22  22      84556\n",
       "1 2021-11-23  23      72919\n",
       "2 2021-11-24  24      91840\n",
       "3 2021-11-25  25     132950\n",
       "4 2021-11-26  26     260692\n",
       "5 2021-11-27  27     132096\n",
       "6 2021-11-28  28     143573\n",
       "7 2021-11-29  29     215271"
      ]
     },
     "execution_count": 63,
     "metadata": {},
     "output_type": "execute_result"
    }
   ],
   "source": [
    "#number of items sold trend\n",
    "import pandas as pd\n",
    "\n",
    "pd.set_option('display.float_format', lambda x: '%.0f' % x)#supress scientific notation\n",
    "\n",
    "items_count_day_to_day = product_sales_new.groupby(['sqldate','day'])['item_name'].count().reset_index()\n",
    "items_count_day_to_day.head(8)"
   ]
  },
  {
   "cell_type": "code",
   "execution_count": 64,
   "metadata": {},
   "outputs": [
    {
     "name": "stderr",
     "output_type": "stream",
     "text": [
      "c:\\Users\\farie\\anaconda3\\Lib\\site-packages\\_plotly_utils\\basevalidators.py:106: FutureWarning:\n",
      "\n",
      "The behavior of DatetimeProperties.to_pydatetime is deprecated, in a future version this will return a Series containing python datetime objects instead of an ndarray. To retain the old behavior, call `np.array` on the result\n",
      "\n"
     ]
    },
    {
     "data": {
      "application/vnd.plotly.v1+json": {
       "config": {
        "plotlyServerURL": "https://plot.ly"
       },
       "data": [
        {
         "alignmentgroup": "True",
         "legendgroup": "",
         "marker": {
          "color": "#636efa",
          "pattern": {
           "shape": ""
          }
         },
         "name": "",
         "offsetgroup": "",
         "orientation": "v",
         "showlegend": false,
         "textposition": "outside",
         "texttemplate": "%{y:.2s}",
         "type": "bar",
         "x": [
          "2021-11-22T00:00:00",
          "2021-11-23T00:00:00",
          "2021-11-24T00:00:00",
          "2021-11-25T00:00:00",
          "2021-11-26T00:00:00",
          "2021-11-27T00:00:00",
          "2021-11-28T00:00:00",
          "2021-11-29T00:00:00"
         ],
         "xaxis": "x",
         "y": [
          84556,
          72919,
          91840,
          132950,
          260692,
          132096,
          143573,
          215271
         ],
         "yaxis": "y"
        }
       ],
       "layout": {
        "barmode": "relative",
        "hovermode": "x",
        "legend": {
         "tracegroupgap": 0
        },
        "margin": {
         "t": 60
        },
        "template": {
         "data": {
          "bar": [
           {
            "error_x": {
             "color": "#2a3f5f"
            },
            "error_y": {
             "color": "#2a3f5f"
            },
            "marker": {
             "line": {
              "color": "#E5ECF6",
              "width": 0.5
             },
             "pattern": {
              "fillmode": "overlay",
              "size": 10,
              "solidity": 0.2
             }
            },
            "type": "bar"
           }
          ],
          "barpolar": [
           {
            "marker": {
             "line": {
              "color": "#E5ECF6",
              "width": 0.5
             },
             "pattern": {
              "fillmode": "overlay",
              "size": 10,
              "solidity": 0.2
             }
            },
            "type": "barpolar"
           }
          ],
          "carpet": [
           {
            "aaxis": {
             "endlinecolor": "#2a3f5f",
             "gridcolor": "white",
             "linecolor": "white",
             "minorgridcolor": "white",
             "startlinecolor": "#2a3f5f"
            },
            "baxis": {
             "endlinecolor": "#2a3f5f",
             "gridcolor": "white",
             "linecolor": "white",
             "minorgridcolor": "white",
             "startlinecolor": "#2a3f5f"
            },
            "type": "carpet"
           }
          ],
          "choropleth": [
           {
            "colorbar": {
             "outlinewidth": 0,
             "ticks": ""
            },
            "type": "choropleth"
           }
          ],
          "contour": [
           {
            "colorbar": {
             "outlinewidth": 0,
             "ticks": ""
            },
            "colorscale": [
             [
              0,
              "#0d0887"
             ],
             [
              0.1111111111111111,
              "#46039f"
             ],
             [
              0.2222222222222222,
              "#7201a8"
             ],
             [
              0.3333333333333333,
              "#9c179e"
             ],
             [
              0.4444444444444444,
              "#bd3786"
             ],
             [
              0.5555555555555556,
              "#d8576b"
             ],
             [
              0.6666666666666666,
              "#ed7953"
             ],
             [
              0.7777777777777778,
              "#fb9f3a"
             ],
             [
              0.8888888888888888,
              "#fdca26"
             ],
             [
              1,
              "#f0f921"
             ]
            ],
            "type": "contour"
           }
          ],
          "contourcarpet": [
           {
            "colorbar": {
             "outlinewidth": 0,
             "ticks": ""
            },
            "type": "contourcarpet"
           }
          ],
          "heatmap": [
           {
            "colorbar": {
             "outlinewidth": 0,
             "ticks": ""
            },
            "colorscale": [
             [
              0,
              "#0d0887"
             ],
             [
              0.1111111111111111,
              "#46039f"
             ],
             [
              0.2222222222222222,
              "#7201a8"
             ],
             [
              0.3333333333333333,
              "#9c179e"
             ],
             [
              0.4444444444444444,
              "#bd3786"
             ],
             [
              0.5555555555555556,
              "#d8576b"
             ],
             [
              0.6666666666666666,
              "#ed7953"
             ],
             [
              0.7777777777777778,
              "#fb9f3a"
             ],
             [
              0.8888888888888888,
              "#fdca26"
             ],
             [
              1,
              "#f0f921"
             ]
            ],
            "type": "heatmap"
           }
          ],
          "heatmapgl": [
           {
            "colorbar": {
             "outlinewidth": 0,
             "ticks": ""
            },
            "colorscale": [
             [
              0,
              "#0d0887"
             ],
             [
              0.1111111111111111,
              "#46039f"
             ],
             [
              0.2222222222222222,
              "#7201a8"
             ],
             [
              0.3333333333333333,
              "#9c179e"
             ],
             [
              0.4444444444444444,
              "#bd3786"
             ],
             [
              0.5555555555555556,
              "#d8576b"
             ],
             [
              0.6666666666666666,
              "#ed7953"
             ],
             [
              0.7777777777777778,
              "#fb9f3a"
             ],
             [
              0.8888888888888888,
              "#fdca26"
             ],
             [
              1,
              "#f0f921"
             ]
            ],
            "type": "heatmapgl"
           }
          ],
          "histogram": [
           {
            "marker": {
             "pattern": {
              "fillmode": "overlay",
              "size": 10,
              "solidity": 0.2
             }
            },
            "type": "histogram"
           }
          ],
          "histogram2d": [
           {
            "colorbar": {
             "outlinewidth": 0,
             "ticks": ""
            },
            "colorscale": [
             [
              0,
              "#0d0887"
             ],
             [
              0.1111111111111111,
              "#46039f"
             ],
             [
              0.2222222222222222,
              "#7201a8"
             ],
             [
              0.3333333333333333,
              "#9c179e"
             ],
             [
              0.4444444444444444,
              "#bd3786"
             ],
             [
              0.5555555555555556,
              "#d8576b"
             ],
             [
              0.6666666666666666,
              "#ed7953"
             ],
             [
              0.7777777777777778,
              "#fb9f3a"
             ],
             [
              0.8888888888888888,
              "#fdca26"
             ],
             [
              1,
              "#f0f921"
             ]
            ],
            "type": "histogram2d"
           }
          ],
          "histogram2dcontour": [
           {
            "colorbar": {
             "outlinewidth": 0,
             "ticks": ""
            },
            "colorscale": [
             [
              0,
              "#0d0887"
             ],
             [
              0.1111111111111111,
              "#46039f"
             ],
             [
              0.2222222222222222,
              "#7201a8"
             ],
             [
              0.3333333333333333,
              "#9c179e"
             ],
             [
              0.4444444444444444,
              "#bd3786"
             ],
             [
              0.5555555555555556,
              "#d8576b"
             ],
             [
              0.6666666666666666,
              "#ed7953"
             ],
             [
              0.7777777777777778,
              "#fb9f3a"
             ],
             [
              0.8888888888888888,
              "#fdca26"
             ],
             [
              1,
              "#f0f921"
             ]
            ],
            "type": "histogram2dcontour"
           }
          ],
          "mesh3d": [
           {
            "colorbar": {
             "outlinewidth": 0,
             "ticks": ""
            },
            "type": "mesh3d"
           }
          ],
          "parcoords": [
           {
            "line": {
             "colorbar": {
              "outlinewidth": 0,
              "ticks": ""
             }
            },
            "type": "parcoords"
           }
          ],
          "pie": [
           {
            "automargin": true,
            "type": "pie"
           }
          ],
          "scatter": [
           {
            "fillpattern": {
             "fillmode": "overlay",
             "size": 10,
             "solidity": 0.2
            },
            "type": "scatter"
           }
          ],
          "scatter3d": [
           {
            "line": {
             "colorbar": {
              "outlinewidth": 0,
              "ticks": ""
             }
            },
            "marker": {
             "colorbar": {
              "outlinewidth": 0,
              "ticks": ""
             }
            },
            "type": "scatter3d"
           }
          ],
          "scattercarpet": [
           {
            "marker": {
             "colorbar": {
              "outlinewidth": 0,
              "ticks": ""
             }
            },
            "type": "scattercarpet"
           }
          ],
          "scattergeo": [
           {
            "marker": {
             "colorbar": {
              "outlinewidth": 0,
              "ticks": ""
             }
            },
            "type": "scattergeo"
           }
          ],
          "scattergl": [
           {
            "marker": {
             "colorbar": {
              "outlinewidth": 0,
              "ticks": ""
             }
            },
            "type": "scattergl"
           }
          ],
          "scattermapbox": [
           {
            "marker": {
             "colorbar": {
              "outlinewidth": 0,
              "ticks": ""
             }
            },
            "type": "scattermapbox"
           }
          ],
          "scatterpolar": [
           {
            "marker": {
             "colorbar": {
              "outlinewidth": 0,
              "ticks": ""
             }
            },
            "type": "scatterpolar"
           }
          ],
          "scatterpolargl": [
           {
            "marker": {
             "colorbar": {
              "outlinewidth": 0,
              "ticks": ""
             }
            },
            "type": "scatterpolargl"
           }
          ],
          "scatterternary": [
           {
            "marker": {
             "colorbar": {
              "outlinewidth": 0,
              "ticks": ""
             }
            },
            "type": "scatterternary"
           }
          ],
          "surface": [
           {
            "colorbar": {
             "outlinewidth": 0,
             "ticks": ""
            },
            "colorscale": [
             [
              0,
              "#0d0887"
             ],
             [
              0.1111111111111111,
              "#46039f"
             ],
             [
              0.2222222222222222,
              "#7201a8"
             ],
             [
              0.3333333333333333,
              "#9c179e"
             ],
             [
              0.4444444444444444,
              "#bd3786"
             ],
             [
              0.5555555555555556,
              "#d8576b"
             ],
             [
              0.6666666666666666,
              "#ed7953"
             ],
             [
              0.7777777777777778,
              "#fb9f3a"
             ],
             [
              0.8888888888888888,
              "#fdca26"
             ],
             [
              1,
              "#f0f921"
             ]
            ],
            "type": "surface"
           }
          ],
          "table": [
           {
            "cells": {
             "fill": {
              "color": "#EBF0F8"
             },
             "line": {
              "color": "white"
             }
            },
            "header": {
             "fill": {
              "color": "#C8D4E3"
             },
             "line": {
              "color": "white"
             }
            },
            "type": "table"
           }
          ]
         },
         "layout": {
          "annotationdefaults": {
           "arrowcolor": "#2a3f5f",
           "arrowhead": 0,
           "arrowwidth": 1
          },
          "autotypenumbers": "strict",
          "coloraxis": {
           "colorbar": {
            "outlinewidth": 0,
            "ticks": ""
           }
          },
          "colorscale": {
           "diverging": [
            [
             0,
             "#8e0152"
            ],
            [
             0.1,
             "#c51b7d"
            ],
            [
             0.2,
             "#de77ae"
            ],
            [
             0.3,
             "#f1b6da"
            ],
            [
             0.4,
             "#fde0ef"
            ],
            [
             0.5,
             "#f7f7f7"
            ],
            [
             0.6,
             "#e6f5d0"
            ],
            [
             0.7,
             "#b8e186"
            ],
            [
             0.8,
             "#7fbc41"
            ],
            [
             0.9,
             "#4d9221"
            ],
            [
             1,
             "#276419"
            ]
           ],
           "sequential": [
            [
             0,
             "#0d0887"
            ],
            [
             0.1111111111111111,
             "#46039f"
            ],
            [
             0.2222222222222222,
             "#7201a8"
            ],
            [
             0.3333333333333333,
             "#9c179e"
            ],
            [
             0.4444444444444444,
             "#bd3786"
            ],
            [
             0.5555555555555556,
             "#d8576b"
            ],
            [
             0.6666666666666666,
             "#ed7953"
            ],
            [
             0.7777777777777778,
             "#fb9f3a"
            ],
            [
             0.8888888888888888,
             "#fdca26"
            ],
            [
             1,
             "#f0f921"
            ]
           ],
           "sequentialminus": [
            [
             0,
             "#0d0887"
            ],
            [
             0.1111111111111111,
             "#46039f"
            ],
            [
             0.2222222222222222,
             "#7201a8"
            ],
            [
             0.3333333333333333,
             "#9c179e"
            ],
            [
             0.4444444444444444,
             "#bd3786"
            ],
            [
             0.5555555555555556,
             "#d8576b"
            ],
            [
             0.6666666666666666,
             "#ed7953"
            ],
            [
             0.7777777777777778,
             "#fb9f3a"
            ],
            [
             0.8888888888888888,
             "#fdca26"
            ],
            [
             1,
             "#f0f921"
            ]
           ]
          },
          "colorway": [
           "#636efa",
           "#EF553B",
           "#00cc96",
           "#ab63fa",
           "#FFA15A",
           "#19d3f3",
           "#FF6692",
           "#B6E880",
           "#FF97FF",
           "#FECB52"
          ],
          "font": {
           "color": "#2a3f5f"
          },
          "geo": {
           "bgcolor": "white",
           "lakecolor": "white",
           "landcolor": "#E5ECF6",
           "showlakes": true,
           "showland": true,
           "subunitcolor": "white"
          },
          "hoverlabel": {
           "align": "left"
          },
          "hovermode": "closest",
          "mapbox": {
           "style": "light"
          },
          "paper_bgcolor": "white",
          "plot_bgcolor": "#E5ECF6",
          "polar": {
           "angularaxis": {
            "gridcolor": "white",
            "linecolor": "white",
            "ticks": ""
           },
           "bgcolor": "#E5ECF6",
           "radialaxis": {
            "gridcolor": "white",
            "linecolor": "white",
            "ticks": ""
           }
          },
          "scene": {
           "xaxis": {
            "backgroundcolor": "#E5ECF6",
            "gridcolor": "white",
            "gridwidth": 2,
            "linecolor": "white",
            "showbackground": true,
            "ticks": "",
            "zerolinecolor": "white"
           },
           "yaxis": {
            "backgroundcolor": "#E5ECF6",
            "gridcolor": "white",
            "gridwidth": 2,
            "linecolor": "white",
            "showbackground": true,
            "ticks": "",
            "zerolinecolor": "white"
           },
           "zaxis": {
            "backgroundcolor": "#E5ECF6",
            "gridcolor": "white",
            "gridwidth": 2,
            "linecolor": "white",
            "showbackground": true,
            "ticks": "",
            "zerolinecolor": "white"
           }
          },
          "shapedefaults": {
           "line": {
            "color": "#2a3f5f"
           }
          },
          "ternary": {
           "aaxis": {
            "gridcolor": "white",
            "linecolor": "white",
            "ticks": ""
           },
           "baxis": {
            "gridcolor": "white",
            "linecolor": "white",
            "ticks": ""
           },
           "bgcolor": "#E5ECF6",
           "caxis": {
            "gridcolor": "white",
            "linecolor": "white",
            "ticks": ""
           }
          },
          "title": {
           "x": 0.05
          },
          "xaxis": {
           "automargin": true,
           "gridcolor": "white",
           "linecolor": "white",
           "ticks": "",
           "title": {
            "standoff": 15
           },
           "zerolinecolor": "white",
           "zerolinewidth": 2
          },
          "yaxis": {
           "automargin": true,
           "gridcolor": "white",
           "linecolor": "white",
           "ticks": "",
           "title": {
            "standoff": 15
           },
           "zerolinecolor": "white",
           "zerolinewidth": 2
          }
         }
        },
        "xaxis": {
         "anchor": "y",
         "domain": [
          0,
          1
         ],
         "dtick": "D1",
         "tickformat": "%A %d %b",
         "title": {
          "text": "Thank Giving Week November 2021"
         }
        },
        "yaxis": {
         "anchor": "x",
         "domain": [
          0,
          1
         ],
         "title": {
          "text": "Total product items sold"
         }
        }
       }
      }
     },
     "metadata": {},
     "output_type": "display_data"
    }
   ],
   "source": [
    "fig = px.bar(items_count_day_to_day, x='sqldate', y='item_name', text_auto='.2s')\n",
    "fig.update_traces(hovertemplate=None, textposition ='outside')\n",
    "fig.update_layout(hovermode=\"x\",\n",
    "                  xaxis=dict( title = 'Thank Giving Week November 2021',tickformat='%A %d %b', dtick='D1') ,\n",
    "                  yaxis=dict( title='Total product items sold' ))\n",
    "fig.show()"
   ]
  },
  {
   "cell_type": "markdown",
   "metadata": {},
   "source": [
    "# Question 2\n",
    "\n",
    "### 2.\tWhat are the top selling products during Thanksgiving week 2021, overall and by product category? "
   ]
  },
  {
   "cell_type": "code",
   "execution_count": 239,
   "metadata": {},
   "outputs": [
    {
     "data": {
      "text/html": [
       "<div>\n",
       "<style scoped>\n",
       "    .dataframe tbody tr th:only-of-type {\n",
       "        vertical-align: middle;\n",
       "    }\n",
       "\n",
       "    .dataframe tbody tr th {\n",
       "        vertical-align: top;\n",
       "    }\n",
       "\n",
       "    .dataframe thead th {\n",
       "        text-align: right;\n",
       "    }\n",
       "</style>\n",
       "<table border=\"1\" class=\"dataframe\">\n",
       "  <thead>\n",
       "    <tr style=\"text-align: right;\">\n",
       "      <th></th>\n",
       "      <th>item_name</th>\n",
       "      <th>saleamt</th>\n",
       "    </tr>\n",
       "  </thead>\n",
       "  <tbody>\n",
       "    <tr>\n",
       "      <th>0</th>\n",
       "      <td>Theragun Elite Black - Smart Percussive Therapy Massager</td>\n",
       "      <td>1097250</td>\n",
       "    </tr>\n",
       "    <tr>\n",
       "      <th>1</th>\n",
       "      <td>Console Playstation 5</td>\n",
       "      <td>621001</td>\n",
       "    </tr>\n",
       "    <tr>\n",
       "      <th>2</th>\n",
       "      <td>Sony PS5 PlayStation 5 (US Plug) Blu-ray Edition Console 3005718 White</td>\n",
       "      <td>599392</td>\n",
       "    </tr>\n",
       "    <tr>\n",
       "      <th>3</th>\n",
       "      <td>Bowflex C6 Bike</td>\n",
       "      <td>356184</td>\n",
       "    </tr>\n",
       "    <tr>\n",
       "      <th>4</th>\n",
       "      <td>Microsoft Xbox Series X (US Plug) RRT-00001 / RRT-00024 Black</td>\n",
       "      <td>259001</td>\n",
       "    </tr>\n",
       "    <tr>\n",
       "      <th>5</th>\n",
       "      <td>Theragun Elite White - Smart Percussive Therapy Massager</td>\n",
       "      <td>211071</td>\n",
       "    </tr>\n",
       "    <tr>\n",
       "      <th>6</th>\n",
       "      <td>Bowflex Max Trainer M6</td>\n",
       "      <td>204770</td>\n",
       "    </tr>\n",
       "    <tr>\n",
       "      <th>7</th>\n",
       "      <td>Sony PS5 PlayStation 5 (US Plug) Digital Edition Console 3005719 White</td>\n",
       "      <td>203385</td>\n",
       "    </tr>\n",
       "    <tr>\n",
       "      <th>8</th>\n",
       "      <td>Jordan 4 Retro Lightning (2021)</td>\n",
       "      <td>202048</td>\n",
       "    </tr>\n",
       "    <tr>\n",
       "      <th>9</th>\n",
       "      <td>Jordan 12 Retro Royalty Taxi</td>\n",
       "      <td>188433</td>\n",
       "    </tr>\n",
       "  </tbody>\n",
       "</table>\n",
       "</div>"
      ],
      "text/plain": [
       "                                                                item_name  \\\n",
       "0                Theragun Elite Black - Smart Percussive Therapy Massager   \n",
       "1                                                   Console Playstation 5   \n",
       "2  Sony PS5 PlayStation 5 (US Plug) Blu-ray Edition Console 3005718 White   \n",
       "3                                                         Bowflex C6 Bike   \n",
       "4           Microsoft Xbox Series X (US Plug) RRT-00001 / RRT-00024 Black   \n",
       "5                Theragun Elite White - Smart Percussive Therapy Massager   \n",
       "6                                                  Bowflex Max Trainer M6   \n",
       "7  Sony PS5 PlayStation 5 (US Plug) Digital Edition Console 3005719 White   \n",
       "8                                         Jordan 4 Retro Lightning (2021)   \n",
       "9                                            Jordan 12 Retro Royalty Taxi   \n",
       "\n",
       "   saleamt  \n",
       "0  1097250  \n",
       "1   621001  \n",
       "2   599392  \n",
       "3   356184  \n",
       "4   259001  \n",
       "5   211071  \n",
       "6   204770  \n",
       "7   203385  \n",
       "8   202048  \n",
       "9   188433  "
      ]
     },
     "execution_count": 239,
     "metadata": {},
     "output_type": "execute_result"
    }
   ],
   "source": [
    "top_selling = product_sales_new.groupby(['item_name', 'target_label'])['saleamt'].sum().sort_values(ascending=False).reset_index()\n",
    "total = top_selling['saleamt'].sum()\n",
    "top_selling['percent_sale'] = (top_selling['saleamt'] / total).apply(lambda x: f\"{x:.3g}\")\n",
    "top_selling[['item_name','saleamt']].head(10)\n"
   ]
  },
  {
   "cell_type": "code",
   "execution_count": null,
   "metadata": {},
   "outputs": [],
   "source": [
    "### high selling products that need to be manually recategorised to reflect sales\n",
    "\n",
    "#Console Playstation 5 \tSoftware > Video Game Software\n",
    "#Sony PS5 PlayStation 5 (US Plug) Blu-ray Edition Console 3005718 White\tArts & Entertainment > Hobbies & Creative Arts > Collectibles\t\n",
    "#Microsoft Xbox Series X (US Plug) RRT-00001 / RRT-00024 Black\tArts & Entertainment > Hobbies & Creative Arts > Collectibles\t\n",
    "#Microsoft Xbox Series X 1TB Halo Infinite Limited Edition Console Bundle (US Plug) C8Y-00023\tArts & Entertainment > Hobbies & Creative Arts > Collectibles"
   ]
  },
  {
   "cell_type": "code",
   "execution_count": 242,
   "metadata": {},
   "outputs": [
    {
     "name": "stdout",
     "output_type": "stream",
     "text": [
      "Index(['1', 'Animals & Pet Supplies', 'Unnamed: 2', 'Unnamed: 3', 'Unnamed: 4',\n",
      "       'Unnamed: 5', 'Unnamed: 6', 'Unnamed: 7', 'target_label'],\n",
      "      dtype='object')\n",
      "Index(['action_id', 'sqldate', 'item_name', 'country', 'payout_type',\n",
      "       'saleamt', 'commission', 'target_label', 'day', 'day_name'],\n",
      "      dtype='object')\n"
     ]
    }
   ],
   "source": [
    "placeholder_google = google_catalogue.copy().rename(columns={'original_format_category': 'target_label'})\n",
    "print(placeholder_google.columns)\n",
    "print(product_sales_new.columns)"
   ]
  },
  {
   "cell_type": "code",
   "execution_count": 243,
   "metadata": {},
   "outputs": [
    {
     "data": {
      "text/plain": [
       "1133897"
      ]
     },
     "execution_count": 243,
     "metadata": {},
     "output_type": "execute_result"
    }
   ],
   "source": [
    "category_sales = product_sales_new.merge(placeholder_google[['Animals & Pet Supplies','Unnamed: 2','Unnamed: 3','Unnamed: 4','Unnamed: 5','Unnamed: 6','Unnamed: 7','target_label']], on='target_label',how='left')\n",
    "len(category_sales)"
   ]
  },
  {
   "cell_type": "code",
   "execution_count": 244,
   "metadata": {},
   "outputs": [
    {
     "data": {
      "text/html": [
       "<div>\n",
       "<style scoped>\n",
       "    .dataframe tbody tr th:only-of-type {\n",
       "        vertical-align: middle;\n",
       "    }\n",
       "\n",
       "    .dataframe tbody tr th {\n",
       "        vertical-align: top;\n",
       "    }\n",
       "\n",
       "    .dataframe thead th {\n",
       "        text-align: right;\n",
       "    }\n",
       "</style>\n",
       "<table border=\"1\" class=\"dataframe\">\n",
       "  <thead>\n",
       "    <tr style=\"text-align: right;\">\n",
       "      <th></th>\n",
       "      <th>action_id</th>\n",
       "      <th>sqldate</th>\n",
       "      <th>item_name</th>\n",
       "      <th>country</th>\n",
       "      <th>payout_type</th>\n",
       "      <th>saleamt</th>\n",
       "      <th>commission</th>\n",
       "      <th>target_label</th>\n",
       "      <th>day</th>\n",
       "      <th>day_name</th>\n",
       "      <th>level_1</th>\n",
       "      <th>level_2</th>\n",
       "      <th>level_3</th>\n",
       "      <th>level_4</th>\n",
       "      <th>level_5</th>\n",
       "      <th>level_6</th>\n",
       "      <th>level_7</th>\n",
       "    </tr>\n",
       "  </thead>\n",
       "  <tbody>\n",
       "    <tr>\n",
       "      <th>1133892</th>\n",
       "      <td>9581.5081.2128315</td>\n",
       "      <td>2021-11-29</td>\n",
       "      <td>Vincero The Chrono S - Gunmetal/Walnut</td>\n",
       "      <td>US</td>\n",
       "      <td>PCT_OF_SALEAMOUNT</td>\n",
       "      <td>131</td>\n",
       "      <td>5</td>\n",
       "      <td>Apparel &amp; Accessories &gt; Jewelry &gt; Watches</td>\n",
       "      <td>29</td>\n",
       "      <td>Monday</td>\n",
       "      <td>Apparel &amp; Accessories</td>\n",
       "      <td>Jewelry</td>\n",
       "      <td>Watches</td>\n",
       "      <td>NaN</td>\n",
       "      <td>NaN</td>\n",
       "      <td>NaN</td>\n",
       "      <td>NaN</td>\n",
       "    </tr>\n",
       "    <tr>\n",
       "      <th>1133893</th>\n",
       "      <td>10151.5081.168180</td>\n",
       "      <td>2021-11-29</td>\n",
       "      <td>Gap Toddler Girls' 100% Organic Cotton Mix And Match T-Shirt Blue Heather Size 4 YRS</td>\n",
       "      <td>GB</td>\n",
       "      <td>PCT_OF_SALEAMOUNT</td>\n",
       "      <td>5</td>\n",
       "      <td>1</td>\n",
       "      <td>Apparel &amp; Accessories &gt; Clothing</td>\n",
       "      <td>29</td>\n",
       "      <td>Monday</td>\n",
       "      <td>Apparel &amp; Accessories</td>\n",
       "      <td>Clothing</td>\n",
       "      <td>NaN</td>\n",
       "      <td>NaN</td>\n",
       "      <td>NaN</td>\n",
       "      <td>NaN</td>\n",
       "      <td>NaN</td>\n",
       "    </tr>\n",
       "    <tr>\n",
       "      <th>1133894</th>\n",
       "      <td>10151.5081.94022</td>\n",
       "      <td>2021-11-29</td>\n",
       "      <td>Gap Men's Classic Long Sleeve T-Shirt Billie Jean Blue Size L</td>\n",
       "      <td>GB</td>\n",
       "      <td>PCT_OF_SALEAMOUNT</td>\n",
       "      <td>12</td>\n",
       "      <td>1</td>\n",
       "      <td>Apparel &amp; Accessories &gt; Clothing &gt; Shirts &amp; Tops</td>\n",
       "      <td>29</td>\n",
       "      <td>Monday</td>\n",
       "      <td>Apparel &amp; Accessories</td>\n",
       "      <td>Clothing</td>\n",
       "      <td>Shirts &amp; Tops</td>\n",
       "      <td>NaN</td>\n",
       "      <td>NaN</td>\n",
       "      <td>NaN</td>\n",
       "      <td>NaN</td>\n",
       "    </tr>\n",
       "    <tr>\n",
       "      <th>1133895</th>\n",
       "      <td>9941.5074.144338</td>\n",
       "      <td>2021-11-22</td>\n",
       "      <td>Full Spectrum Favorites – 30mg Full Spectrum CBD Gummies &amp; 1000mg Full Spectrum CBD Oil Tincture</td>\n",
       "      <td>US</td>\n",
       "      <td>PCT_OF_SALEAMOUNT</td>\n",
       "      <td>100</td>\n",
       "      <td>52</td>\n",
       "      <td>Health &amp; Beauty &gt; Health Care &gt; Fitness &amp; Nutrition &gt; Vitamins &amp; Supplements</td>\n",
       "      <td>22</td>\n",
       "      <td>Monday</td>\n",
       "      <td>Health &amp; Beauty</td>\n",
       "      <td>Health Care</td>\n",
       "      <td>Fitness &amp; Nutrition</td>\n",
       "      <td>Vitamins &amp; Supplements</td>\n",
       "      <td>NaN</td>\n",
       "      <td>NaN</td>\n",
       "      <td>NaN</td>\n",
       "    </tr>\n",
       "    <tr>\n",
       "      <th>1133896</th>\n",
       "      <td>10151.5075.52918</td>\n",
       "      <td>2021-11-23</td>\n",
       "      <td>Teen V-Neck Top</td>\n",
       "      <td>GB</td>\n",
       "      <td>PCT_OF_SALEAMOUNT</td>\n",
       "      <td>4</td>\n",
       "      <td>0</td>\n",
       "      <td>Apparel &amp; Accessories &gt; Clothing &gt; Shirts &amp; Tops</td>\n",
       "      <td>23</td>\n",
       "      <td>Tuesday</td>\n",
       "      <td>Apparel &amp; Accessories</td>\n",
       "      <td>Clothing</td>\n",
       "      <td>Shirts &amp; Tops</td>\n",
       "      <td>NaN</td>\n",
       "      <td>NaN</td>\n",
       "      <td>NaN</td>\n",
       "      <td>NaN</td>\n",
       "    </tr>\n",
       "  </tbody>\n",
       "</table>\n",
       "</div>"
      ],
      "text/plain": [
       "                 action_id    sqldate  \\\n",
       "1133892  9581.5081.2128315 2021-11-29   \n",
       "1133893  10151.5081.168180 2021-11-29   \n",
       "1133894   10151.5081.94022 2021-11-29   \n",
       "1133895   9941.5074.144338 2021-11-22   \n",
       "1133896   10151.5075.52918 2021-11-23   \n",
       "\n",
       "                                                                                                item_name  \\\n",
       "1133892                                                            Vincero The Chrono S - Gunmetal/Walnut   \n",
       "1133893              Gap Toddler Girls' 100% Organic Cotton Mix And Match T-Shirt Blue Heather Size 4 YRS   \n",
       "1133894                                     Gap Men's Classic Long Sleeve T-Shirt Billie Jean Blue Size L   \n",
       "1133895  Full Spectrum Favorites – 30mg Full Spectrum CBD Gummies & 1000mg Full Spectrum CBD Oil Tincture   \n",
       "1133896                                                                                   Teen V-Neck Top   \n",
       "\n",
       "        country        payout_type  saleamt  commission  \\\n",
       "1133892      US  PCT_OF_SALEAMOUNT      131           5   \n",
       "1133893      GB  PCT_OF_SALEAMOUNT        5           1   \n",
       "1133894      GB  PCT_OF_SALEAMOUNT       12           1   \n",
       "1133895      US  PCT_OF_SALEAMOUNT      100          52   \n",
       "1133896      GB  PCT_OF_SALEAMOUNT        4           0   \n",
       "\n",
       "                                                                         target_label  \\\n",
       "1133892                                     Apparel & Accessories > Jewelry > Watches   \n",
       "1133893                                              Apparel & Accessories > Clothing   \n",
       "1133894                              Apparel & Accessories > Clothing > Shirts & Tops   \n",
       "1133895  Health & Beauty > Health Care > Fitness & Nutrition > Vitamins & Supplements   \n",
       "1133896                              Apparel & Accessories > Clothing > Shirts & Tops   \n",
       "\n",
       "        day day_name                level_1      level_2              level_3  \\\n",
       "1133892  29   Monday  Apparel & Accessories      Jewelry              Watches   \n",
       "1133893  29   Monday  Apparel & Accessories     Clothing                  NaN   \n",
       "1133894  29   Monday  Apparel & Accessories     Clothing        Shirts & Tops   \n",
       "1133895  22   Monday        Health & Beauty  Health Care  Fitness & Nutrition   \n",
       "1133896  23  Tuesday  Apparel & Accessories     Clothing        Shirts & Tops   \n",
       "\n",
       "                        level_4 level_5 level_6 level_7  \n",
       "1133892                     NaN     NaN     NaN     NaN  \n",
       "1133893                     NaN     NaN     NaN     NaN  \n",
       "1133894                     NaN     NaN     NaN     NaN  \n",
       "1133895  Vitamins & Supplements     NaN     NaN     NaN  \n",
       "1133896                     NaN     NaN     NaN     NaN  "
      ]
     },
     "execution_count": 244,
     "metadata": {},
     "output_type": "execute_result"
    }
   ],
   "source": [
    "category_sales.rename(columns={'Animals & Pet Supplies': 'level_1','Unnamed: 2': 'level_2','Unnamed: 3':'level_3','Unnamed: 4':'level_4','Unnamed: 5':'level_5','Unnamed: 6':'level_6','Unnamed: 7':'level_7'}, inplace=True)\n",
    "category_sales.tail()"
   ]
  },
  {
   "cell_type": "code",
   "execution_count": 246,
   "metadata": {},
   "outputs": [
    {
     "data": {
      "text/html": [
       "<div>\n",
       "<style scoped>\n",
       "    .dataframe tbody tr th:only-of-type {\n",
       "        vertical-align: middle;\n",
       "    }\n",
       "\n",
       "    .dataframe tbody tr th {\n",
       "        vertical-align: top;\n",
       "    }\n",
       "\n",
       "    .dataframe thead th {\n",
       "        text-align: right;\n",
       "    }\n",
       "</style>\n",
       "<table border=\"1\" class=\"dataframe\">\n",
       "  <thead>\n",
       "    <tr style=\"text-align: right;\">\n",
       "      <th></th>\n",
       "      <th>target_label</th>\n",
       "      <th>total_category</th>\n",
       "    </tr>\n",
       "  </thead>\n",
       "  <tbody>\n",
       "    <tr>\n",
       "      <th>0</th>\n",
       "      <td>Apparel &amp; Accessories &gt; Shoes</td>\n",
       "      <td>21955169</td>\n",
       "    </tr>\n",
       "    <tr>\n",
       "      <th>1</th>\n",
       "      <td>Apparel &amp; Accessories &gt; Clothing &gt; Shirts &amp; Tops</td>\n",
       "      <td>7006964</td>\n",
       "    </tr>\n",
       "    <tr>\n",
       "      <th>2</th>\n",
       "      <td>Apparel &amp; Accessories &gt; Clothing &gt; Outerwear &gt; Coats &amp; Jackets</td>\n",
       "      <td>3703841</td>\n",
       "    </tr>\n",
       "    <tr>\n",
       "      <th>3</th>\n",
       "      <td>Apparel &amp; Accessories &gt; Jewelry &gt; Charms &amp; Pendants</td>\n",
       "      <td>2982234</td>\n",
       "    </tr>\n",
       "    <tr>\n",
       "      <th>4</th>\n",
       "      <td>Apparel &amp; Accessories &gt; Jewelry &gt; Rings</td>\n",
       "      <td>2854551</td>\n",
       "    </tr>\n",
       "    <tr>\n",
       "      <th>5</th>\n",
       "      <td>Arts &amp; Entertainment &gt; Hobbies &amp; Creative Arts &gt; Collectibles</td>\n",
       "      <td>2589922</td>\n",
       "    </tr>\n",
       "    <tr>\n",
       "      <th>6</th>\n",
       "      <td>Apparel &amp; Accessories &gt; Clothing &gt; Pants</td>\n",
       "      <td>2053210</td>\n",
       "    </tr>\n",
       "    <tr>\n",
       "      <th>7</th>\n",
       "      <td>Apparel &amp; Accessories &gt; Clothing &gt; Activewear</td>\n",
       "      <td>2041017</td>\n",
       "    </tr>\n",
       "    <tr>\n",
       "      <th>8</th>\n",
       "      <td>Home &amp; Garden &gt; Decor &gt; Rugs</td>\n",
       "      <td>1570417</td>\n",
       "    </tr>\n",
       "    <tr>\n",
       "      <th>9</th>\n",
       "      <td>Health &amp; Beauty &gt; Personal Care &gt; Massage &amp; Relaxation &gt; Massagers</td>\n",
       "      <td>1490888</td>\n",
       "    </tr>\n",
       "  </tbody>\n",
       "</table>\n",
       "</div>"
      ],
      "text/plain": [
       "                                                         target_label  \\\n",
       "0                                       Apparel & Accessories > Shoes   \n",
       "1                    Apparel & Accessories > Clothing > Shirts & Tops   \n",
       "2      Apparel & Accessories > Clothing > Outerwear > Coats & Jackets   \n",
       "3                 Apparel & Accessories > Jewelry > Charms & Pendants   \n",
       "4                             Apparel & Accessories > Jewelry > Rings   \n",
       "5       Arts & Entertainment > Hobbies & Creative Arts > Collectibles   \n",
       "6                            Apparel & Accessories > Clothing > Pants   \n",
       "7                       Apparel & Accessories > Clothing > Activewear   \n",
       "8                                        Home & Garden > Decor > Rugs   \n",
       "9  Health & Beauty > Personal Care > Massage & Relaxation > Massagers   \n",
       "\n",
       "   total_category  \n",
       "0        21955169  \n",
       "1         7006964  \n",
       "2         3703841  \n",
       "3         2982234  \n",
       "4         2854551  \n",
       "5         2589922  \n",
       "6         2053210  \n",
       "7         2041017  \n",
       "8         1570417  \n",
       "9         1490888  "
      ]
     },
     "execution_count": 246,
     "metadata": {},
     "output_type": "execute_result"
    }
   ],
   "source": [
    "### CREATE PIE CHART FROM THIS AND SELECT THE TOP CATEGORIES\n",
    "tot_category = category_sales.groupby(['target_label'])['saleamt'].sum().sort_values(ascending=False).reset_index(name= 'total_category')\n",
    "tot_category.head(10)"
   ]
  },
  {
   "cell_type": "code",
   "execution_count": 247,
   "metadata": {},
   "outputs": [
    {
     "data": {
      "text/html": [
       "<div>\n",
       "<style scoped>\n",
       "    .dataframe tbody tr th:only-of-type {\n",
       "        vertical-align: middle;\n",
       "    }\n",
       "\n",
       "    .dataframe tbody tr th {\n",
       "        vertical-align: top;\n",
       "    }\n",
       "\n",
       "    .dataframe thead th {\n",
       "        text-align: right;\n",
       "    }\n",
       "</style>\n",
       "<table border=\"1\" class=\"dataframe\">\n",
       "  <thead>\n",
       "    <tr style=\"text-align: right;\">\n",
       "      <th></th>\n",
       "      <th>target_label</th>\n",
       "      <th>item_name</th>\n",
       "      <th>saleamt</th>\n",
       "    </tr>\n",
       "  </thead>\n",
       "  <tbody>\n",
       "    <tr>\n",
       "      <th>0</th>\n",
       "      <td>Health &amp; Beauty &gt; Personal Care &gt; Massage &amp; Relaxation &gt; Massagers</td>\n",
       "      <td>Theragun Elite Black - Smart Percussive Therapy Massager</td>\n",
       "      <td>1097250</td>\n",
       "    </tr>\n",
       "    <tr>\n",
       "      <th>1</th>\n",
       "      <td>Software &gt; Video Game Software</td>\n",
       "      <td>Console Playstation 5</td>\n",
       "      <td>621001</td>\n",
       "    </tr>\n",
       "    <tr>\n",
       "      <th>2</th>\n",
       "      <td>Arts &amp; Entertainment &gt; Hobbies &amp; Creative Arts &gt; Collectibles</td>\n",
       "      <td>Sony PS5 PlayStation 5 (US Plug) Blu-ray Edition Console 3005718 White</td>\n",
       "      <td>599392</td>\n",
       "    </tr>\n",
       "    <tr>\n",
       "      <th>3</th>\n",
       "      <td>Sporting Goods &gt; Exercise &amp; Fitness &gt; Cardio &gt; Cardio Machines</td>\n",
       "      <td>Bowflex C6 Bike</td>\n",
       "      <td>356184</td>\n",
       "    </tr>\n",
       "    <tr>\n",
       "      <th>4</th>\n",
       "      <td>Arts &amp; Entertainment &gt; Hobbies &amp; Creative Arts &gt; Collectibles</td>\n",
       "      <td>Microsoft Xbox Series X (US Plug) RRT-00001 / RRT-00024 Black</td>\n",
       "      <td>259001</td>\n",
       "    </tr>\n",
       "  </tbody>\n",
       "</table>\n",
       "</div>"
      ],
      "text/plain": [
       "                                                         target_label  \\\n",
       "0  Health & Beauty > Personal Care > Massage & Relaxation > Massagers   \n",
       "1                                      Software > Video Game Software   \n",
       "2       Arts & Entertainment > Hobbies & Creative Arts > Collectibles   \n",
       "3      Sporting Goods > Exercise & Fitness > Cardio > Cardio Machines   \n",
       "4       Arts & Entertainment > Hobbies & Creative Arts > Collectibles   \n",
       "\n",
       "                                                                item_name  \\\n",
       "0                Theragun Elite Black - Smart Percussive Therapy Massager   \n",
       "1                                                   Console Playstation 5   \n",
       "2  Sony PS5 PlayStation 5 (US Plug) Blu-ray Edition Console 3005718 White   \n",
       "3                                                         Bowflex C6 Bike   \n",
       "4           Microsoft Xbox Series X (US Plug) RRT-00001 / RRT-00024 Black   \n",
       "\n",
       "   saleamt  \n",
       "0  1097250  \n",
       "1   621001  \n",
       "2   599392  \n",
       "3   356184  \n",
       "4   259001  "
      ]
     },
     "execution_count": 247,
     "metadata": {},
     "output_type": "execute_result"
    }
   ],
   "source": [
    "sell_cat = category_sales.groupby(['target_label','item_name'])['saleamt'].sum().sort_values(ascending=False).reset_index()\n",
    "sell_cat.head()\n"
   ]
  },
  {
   "cell_type": "code",
   "execution_count": 249,
   "metadata": {},
   "outputs": [
    {
     "name": "stderr",
     "output_type": "stream",
     "text": [
      "C:\\Users\\farie\\AppData\\Local\\Temp\\ipykernel_10512\\283791941.py:19: FutureWarning:\n",
      "\n",
      "The default of observed=False is deprecated and will be changed to True in a future version of pandas. Pass observed=False to retain current behavior or observed=True to adopt the future default and silence this warning.\n",
      "\n"
     ]
    },
    {
     "data": {
      "text/html": [
       "<div>\n",
       "<style scoped>\n",
       "    .dataframe tbody tr th:only-of-type {\n",
       "        vertical-align: middle;\n",
       "    }\n",
       "\n",
       "    .dataframe tbody tr th {\n",
       "        vertical-align: top;\n",
       "    }\n",
       "\n",
       "    .dataframe thead th {\n",
       "        text-align: right;\n",
       "    }\n",
       "</style>\n",
       "<table border=\"1\" class=\"dataframe\">\n",
       "  <thead>\n",
       "    <tr style=\"text-align: right;\">\n",
       "      <th></th>\n",
       "      <th>target_label</th>\n",
       "      <th>item_name</th>\n",
       "      <th>saleamt</th>\n",
       "    </tr>\n",
       "  </thead>\n",
       "  <tbody>\n",
       "    <tr>\n",
       "      <th>8</th>\n",
       "      <td>Apparel &amp; Accessories &gt; Shoes</td>\n",
       "      <td>Jordan 4 Retro Lightning (2021)</td>\n",
       "      <td>202048</td>\n",
       "    </tr>\n",
       "    <tr>\n",
       "      <th>9</th>\n",
       "      <td>Apparel &amp; Accessories &gt; Shoes</td>\n",
       "      <td>Jordan 12 Retro Royalty Taxi</td>\n",
       "      <td>188433</td>\n",
       "    </tr>\n",
       "    <tr>\n",
       "      <th>11</th>\n",
       "      <td>Apparel &amp; Accessories &gt; Shoes</td>\n",
       "      <td>Jordan 11 Retro Cool Grey (2021)</td>\n",
       "      <td>170982</td>\n",
       "    </tr>\n",
       "    <tr>\n",
       "      <th>12</th>\n",
       "      <td>Apparel &amp; Accessories &gt; Shoes</td>\n",
       "      <td>Jordan 3 Retro Pine Green</td>\n",
       "      <td>165843</td>\n",
       "    </tr>\n",
       "    <tr>\n",
       "      <th>13</th>\n",
       "      <td>Apparel &amp; Accessories &gt; Shoes</td>\n",
       "      <td>Jordan 4 Retro White Oreo (2021)</td>\n",
       "      <td>160627</td>\n",
       "    </tr>\n",
       "    <tr>\n",
       "      <th>10</th>\n",
       "      <td>Apparel &amp; Accessories &gt; Clothing &gt; Shirts &amp; Tops</td>\n",
       "      <td>Go Anywhere® Performance Un-Tucked Short Sleeve Shirt</td>\n",
       "      <td>174975</td>\n",
       "    </tr>\n",
       "    <tr>\n",
       "      <th>52</th>\n",
       "      <td>Apparel &amp; Accessories &gt; Clothing &gt; Shirts &amp; Tops</td>\n",
       "      <td>2021 Big Ten Football Championship - Michigan vs Iowa</td>\n",
       "      <td>65308</td>\n",
       "    </tr>\n",
       "    <tr>\n",
       "      <th>53</th>\n",
       "      <td>Apparel &amp; Accessories &gt; Clothing &gt; Shirts &amp; Tops</td>\n",
       "      <td>Classic Retro-X Jacket - Men's</td>\n",
       "      <td>65153</td>\n",
       "    </tr>\n",
       "    <tr>\n",
       "      <th>70</th>\n",
       "      <td>Apparel &amp; Accessories &gt; Clothing &gt; Shirts &amp; Tops</td>\n",
       "      <td>1996 Retro Nuptse Jacket - Men's</td>\n",
       "      <td>55010</td>\n",
       "    </tr>\n",
       "    <tr>\n",
       "      <th>83</th>\n",
       "      <td>Apparel &amp; Accessories &gt; Clothing &gt; Shirts &amp; Tops</td>\n",
       "      <td>Men's Powder Search 2.0 3-In-1 Down Jacket</td>\n",
       "      <td>51395</td>\n",
       "    </tr>\n",
       "    <tr>\n",
       "      <th>14</th>\n",
       "      <td>Apparel &amp; Accessories &gt; Clothing &gt; Outerwear &gt; Coats &amp; Jackets</td>\n",
       "      <td>Women's Lodge Cascadian Down Parka</td>\n",
       "      <td>152818</td>\n",
       "    </tr>\n",
       "    <tr>\n",
       "      <th>15</th>\n",
       "      <td>Apparel &amp; Accessories &gt; Clothing &gt; Outerwear &gt; Coats &amp; Jackets</td>\n",
       "      <td>Men's Boundary Pass Down Parka</td>\n",
       "      <td>142204</td>\n",
       "    </tr>\n",
       "    <tr>\n",
       "      <th>22</th>\n",
       "      <td>Apparel &amp; Accessories &gt; Clothing &gt; Outerwear &gt; Coats &amp; Jackets</td>\n",
       "      <td>Men's Superior Down Parka</td>\n",
       "      <td>107866</td>\n",
       "    </tr>\n",
       "    <tr>\n",
       "      <th>31</th>\n",
       "      <td>Apparel &amp; Accessories &gt; Clothing &gt; Outerwear &gt; Coats &amp; Jackets</td>\n",
       "      <td>Women's Sun Valley Down Parka</td>\n",
       "      <td>88320</td>\n",
       "    </tr>\n",
       "    <tr>\n",
       "      <th>32</th>\n",
       "      <td>Apparel &amp; Accessories &gt; Clothing &gt; Outerwear &gt; Coats &amp; Jackets</td>\n",
       "      <td>Men's CirrusLite Down Jacket</td>\n",
       "      <td>86556</td>\n",
       "    </tr>\n",
       "    <tr>\n",
       "      <th>71</th>\n",
       "      <td>Apparel &amp; Accessories &gt; Jewelry &gt; Charms &amp; Pendants</td>\n",
       "      <td>Pandora Moments Snake Chain Slider Bracelet - Size 11.0 inches</td>\n",
       "      <td>54516</td>\n",
       "    </tr>\n",
       "    <tr>\n",
       "      <th>77</th>\n",
       "      <td>Apparel &amp; Accessories &gt; Jewelry &gt; Charms &amp; Pendants</td>\n",
       "      <td>Airplane Bracelet, Globe &amp; Suitcase Dangle Charm</td>\n",
       "      <td>52965</td>\n",
       "    </tr>\n",
       "    <tr>\n",
       "      <th>92</th>\n",
       "      <td>Apparel &amp; Accessories &gt; Jewelry &gt; Charms &amp; Pendants</td>\n",
       "      <td>Mother &amp; Daughter Hearts Dangle Charm</td>\n",
       "      <td>47404</td>\n",
       "    </tr>\n",
       "    <tr>\n",
       "      <th>132</th>\n",
       "      <td>Apparel &amp; Accessories &gt; Jewelry &gt; Charms &amp; Pendants</td>\n",
       "      <td>Murano Glass Sea Turtle Dangle Charm</td>\n",
       "      <td>39034</td>\n",
       "    </tr>\n",
       "    <tr>\n",
       "      <th>137</th>\n",
       "      <td>Apparel &amp; Accessories &gt; Jewelry &gt; Charms &amp; Pendants</td>\n",
       "      <td>Gingerbread Man Dangle Charm</td>\n",
       "      <td>38300</td>\n",
       "    </tr>\n",
       "    <tr>\n",
       "      <th>38</th>\n",
       "      <td>Apparel &amp; Accessories &gt; Jewelry &gt; Rings</td>\n",
       "      <td>French Pave Eternity Band in Platinum (1 1/2 ct. tw.)</td>\n",
       "      <td>75810</td>\n",
       "    </tr>\n",
       "    <tr>\n",
       "      <th>66</th>\n",
       "      <td>Apparel &amp; Accessories &gt; Jewelry &gt; Rings</td>\n",
       "      <td>French Pave Eternity Band in Platinum (2 1/2 ct. tw.)</td>\n",
       "      <td>56768</td>\n",
       "    </tr>\n",
       "    <tr>\n",
       "      <th>81</th>\n",
       "      <td>Apparel &amp; Accessories &gt; Jewelry &gt; Rings</td>\n",
       "      <td>8.08 Carat, Ideal Cut, F Color, VS1 clarity Cushion Diamond</td>\n",
       "      <td>51940</td>\n",
       "    </tr>\n",
       "    <tr>\n",
       "      <th>182</th>\n",
       "      <td>Apparel &amp; Accessories &gt; Jewelry &gt; Rings</td>\n",
       "      <td>French Pave Diamond Wedding Ring in 14k White Gold (1/3 ct. tw.)</td>\n",
       "      <td>32093</td>\n",
       "    </tr>\n",
       "    <tr>\n",
       "      <th>189</th>\n",
       "      <td>Apparel &amp; Accessories &gt; Jewelry &gt; Rings</td>\n",
       "      <td>Selene 7-Stone Diamond Anniversary Ring in 14k White Gold (1 ct. tw.)</td>\n",
       "      <td>31395</td>\n",
       "    </tr>\n",
       "  </tbody>\n",
       "</table>\n",
       "</div>"
      ],
      "text/plain": [
       "                                                       target_label  \\\n",
       "8                                     Apparel & Accessories > Shoes   \n",
       "9                                     Apparel & Accessories > Shoes   \n",
       "11                                    Apparel & Accessories > Shoes   \n",
       "12                                    Apparel & Accessories > Shoes   \n",
       "13                                    Apparel & Accessories > Shoes   \n",
       "10                 Apparel & Accessories > Clothing > Shirts & Tops   \n",
       "52                 Apparel & Accessories > Clothing > Shirts & Tops   \n",
       "53                 Apparel & Accessories > Clothing > Shirts & Tops   \n",
       "70                 Apparel & Accessories > Clothing > Shirts & Tops   \n",
       "83                 Apparel & Accessories > Clothing > Shirts & Tops   \n",
       "14   Apparel & Accessories > Clothing > Outerwear > Coats & Jackets   \n",
       "15   Apparel & Accessories > Clothing > Outerwear > Coats & Jackets   \n",
       "22   Apparel & Accessories > Clothing > Outerwear > Coats & Jackets   \n",
       "31   Apparel & Accessories > Clothing > Outerwear > Coats & Jackets   \n",
       "32   Apparel & Accessories > Clothing > Outerwear > Coats & Jackets   \n",
       "71              Apparel & Accessories > Jewelry > Charms & Pendants   \n",
       "77              Apparel & Accessories > Jewelry > Charms & Pendants   \n",
       "92              Apparel & Accessories > Jewelry > Charms & Pendants   \n",
       "132             Apparel & Accessories > Jewelry > Charms & Pendants   \n",
       "137             Apparel & Accessories > Jewelry > Charms & Pendants   \n",
       "38                          Apparel & Accessories > Jewelry > Rings   \n",
       "66                          Apparel & Accessories > Jewelry > Rings   \n",
       "81                          Apparel & Accessories > Jewelry > Rings   \n",
       "182                         Apparel & Accessories > Jewelry > Rings   \n",
       "189                         Apparel & Accessories > Jewelry > Rings   \n",
       "\n",
       "                                                                 item_name  \\\n",
       "8                                          Jordan 4 Retro Lightning (2021)   \n",
       "9                                             Jordan 12 Retro Royalty Taxi   \n",
       "11                                        Jordan 11 Retro Cool Grey (2021)   \n",
       "12                                               Jordan 3 Retro Pine Green   \n",
       "13                                        Jordan 4 Retro White Oreo (2021)   \n",
       "10                   Go Anywhere® Performance Un-Tucked Short Sleeve Shirt   \n",
       "52                   2021 Big Ten Football Championship - Michigan vs Iowa   \n",
       "53                                          Classic Retro-X Jacket - Men's   \n",
       "70                                        1996 Retro Nuptse Jacket - Men's   \n",
       "83                              Men's Powder Search 2.0 3-In-1 Down Jacket   \n",
       "14                                      Women's Lodge Cascadian Down Parka   \n",
       "15                                          Men's Boundary Pass Down Parka   \n",
       "22                                               Men's Superior Down Parka   \n",
       "31                                           Women's Sun Valley Down Parka   \n",
       "32                                            Men's CirrusLite Down Jacket   \n",
       "71          Pandora Moments Snake Chain Slider Bracelet - Size 11.0 inches   \n",
       "77                        Airplane Bracelet, Globe & Suitcase Dangle Charm   \n",
       "92                                   Mother & Daughter Hearts Dangle Charm   \n",
       "132                                   Murano Glass Sea Turtle Dangle Charm   \n",
       "137                                           Gingerbread Man Dangle Charm   \n",
       "38                   French Pave Eternity Band in Platinum (1 1/2 ct. tw.)   \n",
       "66                   French Pave Eternity Band in Platinum (2 1/2 ct. tw.)   \n",
       "81             8.08 Carat, Ideal Cut, F Color, VS1 clarity Cushion Diamond   \n",
       "182       French Pave Diamond Wedding Ring in 14k White Gold (1/3 ct. tw.)   \n",
       "189  Selene 7-Stone Diamond Anniversary Ring in 14k White Gold (1 ct. tw.)   \n",
       "\n",
       "     saleamt  \n",
       "8     202048  \n",
       "9     188433  \n",
       "11    170982  \n",
       "12    165843  \n",
       "13    160627  \n",
       "10    174975  \n",
       "52     65308  \n",
       "53     65153  \n",
       "70     55010  \n",
       "83     51395  \n",
       "14    152818  \n",
       "15    142204  \n",
       "22    107866  \n",
       "31     88320  \n",
       "32     86556  \n",
       "71     54516  \n",
       "77     52965  \n",
       "92     47404  \n",
       "132    39034  \n",
       "137    38300  \n",
       "38     75810  \n",
       "66     56768  \n",
       "81     51940  \n",
       "182    32093  \n",
       "189    31395  "
      ]
     },
     "execution_count": 249,
     "metadata": {},
     "output_type": "execute_result"
    }
   ],
   "source": [
    "####PICK TOP FIVE IN EACH CATEGORY AND MOVE ON\n",
    "\n",
    "import pandas as pd\n",
    "\n",
    "\n",
    "\n",
    "# Group by 'category1' and 'category2', then select the top 5 within each group, create a pivot table in dashboard\n",
    "#top_five = sell_cat.groupby(['level_2', 'item_name'], group_keys=False).apply(lambda x: x.nlargest(5, 'saleamt'))\n",
    "\n",
    "# Sort the result in descending order within each group\n",
    "\n",
    "\n",
    "\n",
    "\n",
    "###order according to the top \n",
    "cat_order = tot_category['target_label'].head(20).to_list()# select the top 20 most selling categories, and find the top five items within the top categories\n",
    "\n",
    "sell_cat['target_label'] = pd.Categorical(sell_cat['target_label'], categories=cat_order, ordered=True)\n",
    "top_five = sell_cat.sort_values(['target_label', 'saleamt'], ascending=[True, False]).groupby('target_label').head(5)\n",
    "\n",
    "top_five.head(25)"
   ]
  },
  {
   "cell_type": "code",
   "execution_count": null,
   "metadata": {},
   "outputs": [
    {
     "data": {
      "text/html": [
       "<div>\n",
       "<style scoped>\n",
       "    .dataframe tbody tr th:only-of-type {\n",
       "        vertical-align: middle;\n",
       "    }\n",
       "\n",
       "    .dataframe tbody tr th {\n",
       "        vertical-align: top;\n",
       "    }\n",
       "\n",
       "    .dataframe thead th {\n",
       "        text-align: right;\n",
       "    }\n",
       "</style>\n",
       "<table border=\"1\" class=\"dataframe\">\n",
       "  <thead>\n",
       "    <tr style=\"text-align: right;\">\n",
       "      <th></th>\n",
       "      <th>action_id</th>\n",
       "      <th>sqldate</th>\n",
       "      <th>item_name</th>\n",
       "      <th>country</th>\n",
       "      <th>payout_type</th>\n",
       "      <th>saleamt</th>\n",
       "      <th>commission</th>\n",
       "      <th>target_label</th>\n",
       "      <th>day</th>\n",
       "      <th>day_name</th>\n",
       "      <th>level_1</th>\n",
       "      <th>level_2</th>\n",
       "      <th>level_3</th>\n",
       "      <th>level_4</th>\n",
       "      <th>level_5</th>\n",
       "      <th>level_6</th>\n",
       "      <th>level_7</th>\n",
       "    </tr>\n",
       "  </thead>\n",
       "  <tbody>\n",
       "    <tr>\n",
       "      <th>802495</th>\n",
       "      <td>10221.5078.864587</td>\n",
       "      <td>2021-11-26</td>\n",
       "      <td>Apple AirPods Max Over-Ear Noise Cancelling Bluetooth Headphones - Sky Blue</td>\n",
       "      <td>CA</td>\n",
       "      <td>PCT_OF_SALEAMOUNT</td>\n",
       "      <td>523</td>\n",
       "      <td>0</td>\n",
       "      <td>Electronics &gt; Audio &gt; Audio Components &gt; Headphones &amp; Headsets</td>\n",
       "      <td>26</td>\n",
       "      <td>Friday</td>\n",
       "      <td>Electronics</td>\n",
       "      <td>Audio</td>\n",
       "      <td>Audio Components</td>\n",
       "      <td>Headphones &amp; Headsets</td>\n",
       "      <td>NaN</td>\n",
       "      <td>NaN</td>\n",
       "      <td>NaN</td>\n",
       "    </tr>\n",
       "  </tbody>\n",
       "</table>\n",
       "</div>"
      ],
      "text/plain": [
       "                action_id    sqldate  \\\n",
       "802495  10221.5078.864587 2021-11-26   \n",
       "\n",
       "                                                                          item_name  \\\n",
       "802495  Apple AirPods Max Over-Ear Noise Cancelling Bluetooth Headphones - Sky Blue   \n",
       "\n",
       "       country        payout_type  saleamt  commission  \\\n",
       "802495      CA  PCT_OF_SALEAMOUNT      523           0   \n",
       "\n",
       "                                                          target_label day  \\\n",
       "802495  Electronics > Audio > Audio Components > Headphones & Headsets  26   \n",
       "\n",
       "       day_name      level_1 level_2           level_3                level_4  \\\n",
       "802495   Friday  Electronics   Audio  Audio Components  Headphones & Headsets   \n",
       "\n",
       "       level_5 level_6 level_7  \n",
       "802495     NaN     NaN     NaN  "
      ]
     },
     "execution_count": 47,
     "metadata": {},
     "output_type": "execute_result"
    }
   ],
   "source": [
    "category_sales[category_sales['item_name'] == 'Apple AirPods Max Over-Ear Noise Cancelling Bluetooth Headphones - Sky Blue']#check if labelled correctly"
   ]
  },
  {
   "cell_type": "markdown",
   "metadata": {},
   "source": [
    "# Question 3\n",
    "\n",
    "### 3.\tWhat are the highest commissioned product items?"
   ]
  },
  {
   "cell_type": "code",
   "execution_count": 250,
   "metadata": {},
   "outputs": [
    {
     "data": {
      "text/html": [
       "<div>\n",
       "<style scoped>\n",
       "    .dataframe tbody tr th:only-of-type {\n",
       "        vertical-align: middle;\n",
       "    }\n",
       "\n",
       "    .dataframe tbody tr th {\n",
       "        vertical-align: top;\n",
       "    }\n",
       "\n",
       "    .dataframe thead th {\n",
       "        text-align: right;\n",
       "    }\n",
       "</style>\n",
       "<table border=\"1\" class=\"dataframe\">\n",
       "  <thead>\n",
       "    <tr style=\"text-align: right;\">\n",
       "      <th></th>\n",
       "      <th>action_id</th>\n",
       "      <th>sqldate</th>\n",
       "      <th>item_name</th>\n",
       "      <th>country</th>\n",
       "      <th>payout_type</th>\n",
       "      <th>saleamt</th>\n",
       "      <th>commission</th>\n",
       "      <th>target_label</th>\n",
       "      <th>day</th>\n",
       "      <th>day_name</th>\n",
       "    </tr>\n",
       "  </thead>\n",
       "  <tbody>\n",
       "    <tr>\n",
       "      <th>0</th>\n",
       "      <td>4270.5079.279362</td>\n",
       "      <td>2021-11-27</td>\n",
       "      <td>adidas Supernova Shoes Cloud White 11 Womens</td>\n",
       "      <td>US</td>\n",
       "      <td>PCT_OF_SALEAMOUNT</td>\n",
       "      <td>65</td>\n",
       "      <td>11</td>\n",
       "      <td>Apparel &amp; Accessories &gt; Shoes</td>\n",
       "      <td>27</td>\n",
       "      <td>Saturday</td>\n",
       "    </tr>\n",
       "    <tr>\n",
       "      <th>1</th>\n",
       "      <td>4270.5080.265784</td>\n",
       "      <td>2021-11-28</td>\n",
       "      <td>adidas Adilette Comfort Slides Core Black 10 Mens</td>\n",
       "      <td>US</td>\n",
       "      <td>PCT_OF_SALEAMOUNT</td>\n",
       "      <td>24</td>\n",
       "      <td>1</td>\n",
       "      <td>Apparel &amp; Accessories &gt; Shoes</td>\n",
       "      <td>28</td>\n",
       "      <td>Sunday</td>\n",
       "    </tr>\n",
       "    <tr>\n",
       "      <th>2</th>\n",
       "      <td>9800.5081.66990</td>\n",
       "      <td>2021-11-29</td>\n",
       "      <td>Pro Tools | Ultimate  Subscription ExpertPlus Support</td>\n",
       "      <td>FR</td>\n",
       "      <td>PCT_OF_SALEAMOUNT</td>\n",
       "      <td>0</td>\n",
       "      <td>0</td>\n",
       "      <td>Software &gt; Computer Software &gt; Multimedia &amp; Design Software &gt; Music Composition Software</td>\n",
       "      <td>29</td>\n",
       "      <td>Monday</td>\n",
       "    </tr>\n",
       "    <tr>\n",
       "      <th>3</th>\n",
       "      <td>10310.5077.1677940</td>\n",
       "      <td>2021-11-26</td>\n",
       "      <td>Loose Built-In Flex Jeans For Men</td>\n",
       "      <td>CA</td>\n",
       "      <td>PCT_OF_SALEAMOUNT</td>\n",
       "      <td>35</td>\n",
       "      <td>1</td>\n",
       "      <td>Apparel &amp; Accessories &gt; Clothing &gt; Pants</td>\n",
       "      <td>26</td>\n",
       "      <td>Friday</td>\n",
       "    </tr>\n",
       "    <tr>\n",
       "      <th>4</th>\n",
       "      <td>4270.5081.1564705</td>\n",
       "      <td>2021-11-29</td>\n",
       "      <td>adidas Adissage Slides Core Black M 12 / W 13 Unisex</td>\n",
       "      <td>US</td>\n",
       "      <td>PCT_OF_SALEAMOUNT</td>\n",
       "      <td>21</td>\n",
       "      <td>3</td>\n",
       "      <td>Apparel &amp; Accessories &gt; Shoes</td>\n",
       "      <td>29</td>\n",
       "      <td>Monday</td>\n",
       "    </tr>\n",
       "  </tbody>\n",
       "</table>\n",
       "</div>"
      ],
      "text/plain": [
       "            action_id    sqldate  \\\n",
       "0    4270.5079.279362 2021-11-27   \n",
       "1    4270.5080.265784 2021-11-28   \n",
       "2     9800.5081.66990 2021-11-29   \n",
       "3  10310.5077.1677940 2021-11-26   \n",
       "4   4270.5081.1564705 2021-11-29   \n",
       "\n",
       "                                               item_name country  \\\n",
       "0           adidas Supernova Shoes Cloud White 11 Womens      US   \n",
       "1      adidas Adilette Comfort Slides Core Black 10 Mens      US   \n",
       "2  Pro Tools | Ultimate  Subscription ExpertPlus Support      FR   \n",
       "3                      Loose Built-In Flex Jeans For Men      CA   \n",
       "4   adidas Adissage Slides Core Black M 12 / W 13 Unisex      US   \n",
       "\n",
       "         payout_type  saleamt  commission  \\\n",
       "0  PCT_OF_SALEAMOUNT       65          11   \n",
       "1  PCT_OF_SALEAMOUNT       24           1   \n",
       "2  PCT_OF_SALEAMOUNT        0           0   \n",
       "3  PCT_OF_SALEAMOUNT       35           1   \n",
       "4  PCT_OF_SALEAMOUNT       21           3   \n",
       "\n",
       "                                                                               target_label  \\\n",
       "0                                                             Apparel & Accessories > Shoes   \n",
       "1                                                             Apparel & Accessories > Shoes   \n",
       "2  Software > Computer Software > Multimedia & Design Software > Music Composition Software   \n",
       "3                                                  Apparel & Accessories > Clothing > Pants   \n",
       "4                                                             Apparel & Accessories > Shoes   \n",
       "\n",
       "  day  day_name  \n",
       "0  27  Saturday  \n",
       "1  28    Sunday  \n",
       "2  29    Monday  \n",
       "3  26    Friday  \n",
       "4  29    Monday  "
      ]
     },
     "execution_count": 250,
     "metadata": {},
     "output_type": "execute_result"
    }
   ],
   "source": [
    "product_sales_new.head()"
   ]
  },
  {
   "cell_type": "code",
   "execution_count": 251,
   "metadata": {},
   "outputs": [
    {
     "data": {
      "text/html": [
       "<div>\n",
       "<style scoped>\n",
       "    .dataframe tbody tr th:only-of-type {\n",
       "        vertical-align: middle;\n",
       "    }\n",
       "\n",
       "    .dataframe tbody tr th {\n",
       "        vertical-align: top;\n",
       "    }\n",
       "\n",
       "    .dataframe thead th {\n",
       "        text-align: right;\n",
       "    }\n",
       "</style>\n",
       "<table border=\"1\" class=\"dataframe\">\n",
       "  <thead>\n",
       "    <tr style=\"text-align: right;\">\n",
       "      <th></th>\n",
       "      <th>index</th>\n",
       "      <th>item_name</th>\n",
       "      <th>payout_type</th>\n",
       "      <th>commission</th>\n",
       "    </tr>\n",
       "  </thead>\n",
       "  <tbody>\n",
       "    <tr>\n",
       "      <th>0</th>\n",
       "      <td>915744</td>\n",
       "      <td>PageOne Lighting Skylight LED Round Flushmount Light - Color: White - Size: 24\" - PC111150-MH</td>\n",
       "      <td>PCT_OF_SALEAMOUNT</td>\n",
       "      <td>6380</td>\n",
       "    </tr>\n",
       "    <tr>\n",
       "      <th>1</th>\n",
       "      <td>781375</td>\n",
       "      <td>The Business Platinum Card® from American Express</td>\n",
       "      <td>FIXED_AMOUNT</td>\n",
       "      <td>2400</td>\n",
       "    </tr>\n",
       "    <tr>\n",
       "      <th>2</th>\n",
       "      <td>128991</td>\n",
       "      <td>2022 College Football Championship - Alabama vs Georgia</td>\n",
       "      <td>PCT_OF_SALEAMOUNT</td>\n",
       "      <td>1994</td>\n",
       "    </tr>\n",
       "    <tr>\n",
       "      <th>3</th>\n",
       "      <td>798963</td>\n",
       "      <td>Mater High Stool - Premium Edition - Color: Black - Size: Counter - 01084</td>\n",
       "      <td>PCT_OF_SALEAMOUNT</td>\n",
       "      <td>1910</td>\n",
       "    </tr>\n",
       "    <tr>\n",
       "      <th>4</th>\n",
       "      <td>81481</td>\n",
       "      <td>Rugs USA Off White Maui Chunky Jute Tasseled rug - Casuals Rectangle 6' x 9'</td>\n",
       "      <td>PCT_OF_SALEAMOUNT</td>\n",
       "      <td>1839</td>\n",
       "    </tr>\n",
       "    <tr>\n",
       "      <th>5</th>\n",
       "      <td>1007743</td>\n",
       "      <td>American Express® Business Gold Card</td>\n",
       "      <td>FIXED_AMOUNT</td>\n",
       "      <td>1500</td>\n",
       "    </tr>\n",
       "    <tr>\n",
       "      <th>6</th>\n",
       "      <td>974087</td>\n",
       "      <td>Serge Mouille Three Arm Multi-Light Pendant Light - Color: Black - Size: 3 light - CL/3RA</td>\n",
       "      <td>PCT_OF_SALEAMOUNT</td>\n",
       "      <td>1329</td>\n",
       "    </tr>\n",
       "    <tr>\n",
       "      <th>7</th>\n",
       "      <td>666142</td>\n",
       "      <td>Brando 74\" Leather Sofa, Napoli Grey</td>\n",
       "      <td>PCT_OF_SALEAMOUNT</td>\n",
       "      <td>1295</td>\n",
       "    </tr>\n",
       "    <tr>\n",
       "      <th>8</th>\n",
       "      <td>743994</td>\n",
       "      <td>1.7 Carat, Super Ideal Cut, D Color, VVS1 clarity Round Diamond</td>\n",
       "      <td>PCT_OF_SALEAMOUNT</td>\n",
       "      <td>1179</td>\n",
       "    </tr>\n",
       "    <tr>\n",
       "      <th>9</th>\n",
       "      <td>310848</td>\n",
       "      <td>Lanvin - La besace poignée chat doré (Femme, Noir)</td>\n",
       "      <td>PCT_OF_SALEAMOUNT</td>\n",
       "      <td>1138</td>\n",
       "    </tr>\n",
       "    <tr>\n",
       "      <th>10</th>\n",
       "      <td>1048475</td>\n",
       "      <td>American Express Blue Business Cash™ Card</td>\n",
       "      <td>FIXED_AMOUNT</td>\n",
       "      <td>1000</td>\n",
       "    </tr>\n",
       "    <tr>\n",
       "      <th>11</th>\n",
       "      <td>976232</td>\n",
       "      <td>The Blue Business® Plus Credit Card from American Express</td>\n",
       "      <td>FIXED_AMOUNT</td>\n",
       "      <td>1000</td>\n",
       "    </tr>\n",
       "    <tr>\n",
       "      <th>12</th>\n",
       "      <td>487243</td>\n",
       "      <td>Lanvin - Pencil Box bag (Women, Black, ONE SIZE)</td>\n",
       "      <td>PCT_OF_SALEAMOUNT</td>\n",
       "      <td>953</td>\n",
       "    </tr>\n",
       "    <tr>\n",
       "      <th>13</th>\n",
       "      <td>773989</td>\n",
       "      <td>Florence Knoll Two Storage Cabinet Credenza - Color: Wood tones - 2545M-CO-E-MA-PM - Knoll Authorized Retailer</td>\n",
       "      <td>PCT_OF_SALEAMOUNT</td>\n",
       "      <td>925</td>\n",
       "    </tr>\n",
       "    <tr>\n",
       "      <th>14</th>\n",
       "      <td>752036</td>\n",
       "      <td>WAC Lighting Silo X20 LED Monopoint - Color: Black - MO-2020-930-BK</td>\n",
       "      <td>PCT_OF_SALEAMOUNT</td>\n",
       "      <td>921</td>\n",
       "    </tr>\n",
       "    <tr>\n",
       "      <th>15</th>\n",
       "      <td>1049856</td>\n",
       "      <td>Visual Comfort Alpine Linear Chandelier - Color: Gold - Size: 16 light - ARN 5312HAB-WG</td>\n",
       "      <td>PCT_OF_SALEAMOUNT</td>\n",
       "      <td>911</td>\n",
       "    </tr>\n",
       "    <tr>\n",
       "      <th>16</th>\n",
       "      <td>822765</td>\n",
       "      <td>Beale Upholstered 129\" Four Piece Ottoman Sectional in Nomad Snow</td>\n",
       "      <td>PCT_OF_SALEAMOUNT</td>\n",
       "      <td>906</td>\n",
       "    </tr>\n",
       "    <tr>\n",
       "      <th>17</th>\n",
       "      <td>1123360</td>\n",
       "      <td>Graypants Moon White Scraplight Pendant Light - Size: Medium - GP-1162-UL</td>\n",
       "      <td>PCT_OF_SALEAMOUNT</td>\n",
       "      <td>839</td>\n",
       "    </tr>\n",
       "    <tr>\n",
       "      <th>18</th>\n",
       "      <td>1101932</td>\n",
       "      <td>Ethnicraft Oak Mikado Dining Table - Size: 110-\" - 10150180</td>\n",
       "      <td>PCT_OF_SALEAMOUNT</td>\n",
       "      <td>809</td>\n",
       "    </tr>\n",
       "    <tr>\n",
       "      <th>19</th>\n",
       "      <td>487898</td>\n",
       "      <td>Moma 88\" Fabric Sofa, Tatiana</td>\n",
       "      <td>PCT_OF_SALEAMOUNT</td>\n",
       "      <td>806</td>\n",
       "    </tr>\n",
       "  </tbody>\n",
       "</table>\n",
       "</div>"
      ],
      "text/plain": [
       "      index  \\\n",
       "0    915744   \n",
       "1    781375   \n",
       "2    128991   \n",
       "3    798963   \n",
       "4     81481   \n",
       "5   1007743   \n",
       "6    974087   \n",
       "7    666142   \n",
       "8    743994   \n",
       "9    310848   \n",
       "10  1048475   \n",
       "11   976232   \n",
       "12   487243   \n",
       "13   773989   \n",
       "14   752036   \n",
       "15  1049856   \n",
       "16   822765   \n",
       "17  1123360   \n",
       "18  1101932   \n",
       "19   487898   \n",
       "\n",
       "                                                                                                         item_name  \\\n",
       "0                    PageOne Lighting Skylight LED Round Flushmount Light - Color: White - Size: 24\" - PC111150-MH   \n",
       "1                                                                The Business Platinum Card® from American Express   \n",
       "2                                                          2022 College Football Championship - Alabama vs Georgia   \n",
       "3                                        Mater High Stool - Premium Edition - Color: Black - Size: Counter - 01084   \n",
       "4                                     Rugs USA Off White Maui Chunky Jute Tasseled rug - Casuals Rectangle 6' x 9'   \n",
       "5                                                                             American Express® Business Gold Card   \n",
       "6                        Serge Mouille Three Arm Multi-Light Pendant Light - Color: Black - Size: 3 light - CL/3RA   \n",
       "7                                                                             Brando 74\" Leather Sofa, Napoli Grey   \n",
       "8                                                  1.7 Carat, Super Ideal Cut, D Color, VVS1 clarity Round Diamond   \n",
       "9                                                               Lanvin - La besace poignée chat doré (Femme, Noir)   \n",
       "10                                                                       American Express Blue Business Cash™ Card   \n",
       "11                                                       The Blue Business® Plus Credit Card from American Express   \n",
       "12                                                                Lanvin - Pencil Box bag (Women, Black, ONE SIZE)   \n",
       "13  Florence Knoll Two Storage Cabinet Credenza - Color: Wood tones - 2545M-CO-E-MA-PM - Knoll Authorized Retailer   \n",
       "14                                             WAC Lighting Silo X20 LED Monopoint - Color: Black - MO-2020-930-BK   \n",
       "15                         Visual Comfort Alpine Linear Chandelier - Color: Gold - Size: 16 light - ARN 5312HAB-WG   \n",
       "16                                               Beale Upholstered 129\" Four Piece Ottoman Sectional in Nomad Snow   \n",
       "17                                       Graypants Moon White Scraplight Pendant Light - Size: Medium - GP-1162-UL   \n",
       "18                                                     Ethnicraft Oak Mikado Dining Table - Size: 110-\" - 10150180   \n",
       "19                                                                                   Moma 88\" Fabric Sofa, Tatiana   \n",
       "\n",
       "          payout_type  commission  \n",
       "0   PCT_OF_SALEAMOUNT        6380  \n",
       "1        FIXED_AMOUNT        2400  \n",
       "2   PCT_OF_SALEAMOUNT        1994  \n",
       "3   PCT_OF_SALEAMOUNT        1910  \n",
       "4   PCT_OF_SALEAMOUNT        1839  \n",
       "5        FIXED_AMOUNT        1500  \n",
       "6   PCT_OF_SALEAMOUNT        1329  \n",
       "7   PCT_OF_SALEAMOUNT        1295  \n",
       "8   PCT_OF_SALEAMOUNT        1179  \n",
       "9   PCT_OF_SALEAMOUNT        1138  \n",
       "10       FIXED_AMOUNT        1000  \n",
       "11       FIXED_AMOUNT        1000  \n",
       "12  PCT_OF_SALEAMOUNT         953  \n",
       "13  PCT_OF_SALEAMOUNT         925  \n",
       "14  PCT_OF_SALEAMOUNT         921  \n",
       "15  PCT_OF_SALEAMOUNT         911  \n",
       "16  PCT_OF_SALEAMOUNT         906  \n",
       "17  PCT_OF_SALEAMOUNT         839  \n",
       "18  PCT_OF_SALEAMOUNT         809  \n",
       "19  PCT_OF_SALEAMOUNT         806  "
      ]
     },
     "execution_count": 251,
     "metadata": {},
     "output_type": "execute_result"
    }
   ],
   "source": [
    "commision_to_day_2 = product_sales_new[ ['item_name','payout_type','commission'] ].sort_values(by ='commission',ascending=False).reset_index()\n",
    "unique_com =commision_to_day_2.drop_duplicates(subset='item_name', keep='first').reset_index(drop=True)\n",
    "unique_com.head(20)\n"
   ]
  },
  {
   "cell_type": "markdown",
   "metadata": {},
   "source": [
    "# Question 4\n",
    "\n",
    "### 4.\tWhich product items are frequently purchased together during Thanksgiving?  "
   ]
  },
  {
   "cell_type": "code",
   "execution_count": 21,
   "metadata": {},
   "outputs": [
    {
     "name": "stdout",
     "output_type": "stream",
     "text": [
      "Collecting mlxtend\n",
      "  Obtaining dependency information for mlxtend from https://files.pythonhosted.org/packages/03/96/274a769f29be5adfee600edb97b97cc7817a86903f2477f8ca9c60445bc3/mlxtend-0.23.2-py3-none-any.whl.metadata\n",
      "  Downloading mlxtend-0.23.2-py3-none-any.whl.metadata (7.3 kB)\n",
      "Requirement already satisfied: scipy>=1.2.1 in c:\\users\\farie\\anaconda3\\lib\\site-packages (from mlxtend) (1.11.1)\n",
      "Requirement already satisfied: numpy>=1.16.2 in c:\\users\\farie\\anaconda3\\lib\\site-packages (from mlxtend) (1.23.5)\n",
      "Requirement already satisfied: pandas>=0.24.2 in c:\\users\\farie\\anaconda3\\lib\\site-packages (from mlxtend) (2.2.3)\n",
      "Requirement already satisfied: scikit-learn>=1.3.1 in c:\\users\\farie\\anaconda3\\lib\\site-packages (from mlxtend) (1.5.2)\n",
      "Requirement already satisfied: matplotlib>=3.0.0 in c:\\users\\farie\\anaconda3\\lib\\site-packages (from mlxtend) (3.7.2)\n",
      "Requirement already satisfied: joblib>=0.13.2 in c:\\users\\farie\\anaconda3\\lib\\site-packages (from mlxtend) (1.2.0)\n",
      "Requirement already satisfied: contourpy>=1.0.1 in c:\\users\\farie\\anaconda3\\lib\\site-packages (from matplotlib>=3.0.0->mlxtend) (1.0.5)\n",
      "Requirement already satisfied: cycler>=0.10 in c:\\users\\farie\\anaconda3\\lib\\site-packages (from matplotlib>=3.0.0->mlxtend) (0.11.0)\n",
      "Requirement already satisfied: fonttools>=4.22.0 in c:\\users\\farie\\anaconda3\\lib\\site-packages (from matplotlib>=3.0.0->mlxtend) (4.25.0)\n",
      "Requirement already satisfied: kiwisolver>=1.0.1 in c:\\users\\farie\\anaconda3\\lib\\site-packages (from matplotlib>=3.0.0->mlxtend) (1.4.4)\n",
      "Requirement already satisfied: packaging>=20.0 in c:\\users\\farie\\anaconda3\\lib\\site-packages (from matplotlib>=3.0.0->mlxtend) (23.1)\n",
      "Requirement already satisfied: pillow>=6.2.0 in c:\\users\\farie\\anaconda3\\lib\\site-packages (from matplotlib>=3.0.0->mlxtend) (9.4.0)\n",
      "Requirement already satisfied: pyparsing<3.1,>=2.3.1 in c:\\users\\farie\\anaconda3\\lib\\site-packages (from matplotlib>=3.0.0->mlxtend) (3.0.9)\n",
      "Requirement already satisfied: python-dateutil>=2.7 in c:\\users\\farie\\anaconda3\\lib\\site-packages (from matplotlib>=3.0.0->mlxtend) (2.8.2)\n",
      "Requirement already satisfied: pytz>=2020.1 in c:\\users\\farie\\anaconda3\\lib\\site-packages (from pandas>=0.24.2->mlxtend) (2023.3.post1)\n",
      "Requirement already satisfied: tzdata>=2022.7 in c:\\users\\farie\\anaconda3\\lib\\site-packages (from pandas>=0.24.2->mlxtend) (2023.3)\n",
      "Requirement already satisfied: threadpoolctl>=3.1.0 in c:\\users\\farie\\anaconda3\\lib\\site-packages (from scikit-learn>=1.3.1->mlxtend) (3.5.0)\n",
      "Requirement already satisfied: six>=1.5 in c:\\users\\farie\\anaconda3\\lib\\site-packages (from python-dateutil>=2.7->matplotlib>=3.0.0->mlxtend) (1.16.0)\n",
      "Downloading mlxtend-0.23.2-py3-none-any.whl (1.4 MB)\n",
      "   ---------------------------------------- 0.0/1.4 MB ? eta -:--:--\n",
      "   ---------------------------------------- 0.0/1.4 MB ? eta -:--:--\n",
      "   - -------------------------------------- 0.0/1.4 MB 653.6 kB/s eta 0:00:03\n",
      "   ------ --------------------------------- 0.2/1.4 MB 2.3 MB/s eta 0:00:01\n",
      "   --------------------------------- ------ 1.1/1.4 MB 8.0 MB/s eta 0:00:01\n",
      "   ---------------------------------------- 1.4/1.4 MB 8.6 MB/s eta 0:00:00\n",
      "Installing collected packages: mlxtend\n",
      "Successfully installed mlxtend-0.23.2\n",
      "Note: you may need to restart the kernel to use updated packages.\n"
     ]
    }
   ],
   "source": [
    "pip install mlxtend"
   ]
  },
  {
   "cell_type": "code",
   "execution_count": 253,
   "metadata": {},
   "outputs": [
    {
     "data": {
      "text/html": [
       "<div>\n",
       "<style scoped>\n",
       "    .dataframe tbody tr th:only-of-type {\n",
       "        vertical-align: middle;\n",
       "    }\n",
       "\n",
       "    .dataframe tbody tr th {\n",
       "        vertical-align: top;\n",
       "    }\n",
       "\n",
       "    .dataframe thead th {\n",
       "        text-align: right;\n",
       "    }\n",
       "</style>\n",
       "<table border=\"1\" class=\"dataframe\">\n",
       "  <thead>\n",
       "    <tr style=\"text-align: right;\">\n",
       "      <th></th>\n",
       "      <th>action_id</th>\n",
       "      <th>sqldate</th>\n",
       "      <th>item_name</th>\n",
       "      <th>country</th>\n",
       "      <th>payout_type</th>\n",
       "      <th>saleamt</th>\n",
       "      <th>commission</th>\n",
       "      <th>target_label</th>\n",
       "      <th>day</th>\n",
       "      <th>day_name</th>\n",
       "    </tr>\n",
       "  </thead>\n",
       "  <tbody>\n",
       "    <tr>\n",
       "      <th>0</th>\n",
       "      <td>4270.5079.279362</td>\n",
       "      <td>2021-11-27</td>\n",
       "      <td>adidas Supernova Shoes Cloud White 11 Womens</td>\n",
       "      <td>US</td>\n",
       "      <td>PCT_OF_SALEAMOUNT</td>\n",
       "      <td>65</td>\n",
       "      <td>11</td>\n",
       "      <td>Apparel &amp; Accessories &gt; Shoes</td>\n",
       "      <td>27</td>\n",
       "      <td>Saturday</td>\n",
       "    </tr>\n",
       "    <tr>\n",
       "      <th>1</th>\n",
       "      <td>4270.5080.265784</td>\n",
       "      <td>2021-11-28</td>\n",
       "      <td>adidas Adilette Comfort Slides Core Black 10 Mens</td>\n",
       "      <td>US</td>\n",
       "      <td>PCT_OF_SALEAMOUNT</td>\n",
       "      <td>24</td>\n",
       "      <td>1</td>\n",
       "      <td>Apparel &amp; Accessories &gt; Shoes</td>\n",
       "      <td>28</td>\n",
       "      <td>Sunday</td>\n",
       "    </tr>\n",
       "    <tr>\n",
       "      <th>2</th>\n",
       "      <td>9800.5081.66990</td>\n",
       "      <td>2021-11-29</td>\n",
       "      <td>Pro Tools | Ultimate  Subscription ExpertPlus Support</td>\n",
       "      <td>FR</td>\n",
       "      <td>PCT_OF_SALEAMOUNT</td>\n",
       "      <td>0</td>\n",
       "      <td>0</td>\n",
       "      <td>Software &gt; Computer Software &gt; Multimedia &amp; Design Software &gt; Music Composition Software</td>\n",
       "      <td>29</td>\n",
       "      <td>Monday</td>\n",
       "    </tr>\n",
       "    <tr>\n",
       "      <th>3</th>\n",
       "      <td>10310.5077.1677940</td>\n",
       "      <td>2021-11-26</td>\n",
       "      <td>Loose Built-In Flex Jeans For Men</td>\n",
       "      <td>CA</td>\n",
       "      <td>PCT_OF_SALEAMOUNT</td>\n",
       "      <td>35</td>\n",
       "      <td>1</td>\n",
       "      <td>Apparel &amp; Accessories &gt; Clothing &gt; Pants</td>\n",
       "      <td>26</td>\n",
       "      <td>Friday</td>\n",
       "    </tr>\n",
       "    <tr>\n",
       "      <th>4</th>\n",
       "      <td>4270.5081.1564705</td>\n",
       "      <td>2021-11-29</td>\n",
       "      <td>adidas Adissage Slides Core Black M 12 / W 13 Unisex</td>\n",
       "      <td>US</td>\n",
       "      <td>PCT_OF_SALEAMOUNT</td>\n",
       "      <td>21</td>\n",
       "      <td>3</td>\n",
       "      <td>Apparel &amp; Accessories &gt; Shoes</td>\n",
       "      <td>29</td>\n",
       "      <td>Monday</td>\n",
       "    </tr>\n",
       "  </tbody>\n",
       "</table>\n",
       "</div>"
      ],
      "text/plain": [
       "            action_id    sqldate  \\\n",
       "0    4270.5079.279362 2021-11-27   \n",
       "1    4270.5080.265784 2021-11-28   \n",
       "2     9800.5081.66990 2021-11-29   \n",
       "3  10310.5077.1677940 2021-11-26   \n",
       "4   4270.5081.1564705 2021-11-29   \n",
       "\n",
       "                                               item_name country  \\\n",
       "0           adidas Supernova Shoes Cloud White 11 Womens      US   \n",
       "1      adidas Adilette Comfort Slides Core Black 10 Mens      US   \n",
       "2  Pro Tools | Ultimate  Subscription ExpertPlus Support      FR   \n",
       "3                      Loose Built-In Flex Jeans For Men      CA   \n",
       "4   adidas Adissage Slides Core Black M 12 / W 13 Unisex      US   \n",
       "\n",
       "         payout_type  saleamt  commission  \\\n",
       "0  PCT_OF_SALEAMOUNT       65          11   \n",
       "1  PCT_OF_SALEAMOUNT       24           1   \n",
       "2  PCT_OF_SALEAMOUNT        0           0   \n",
       "3  PCT_OF_SALEAMOUNT       35           1   \n",
       "4  PCT_OF_SALEAMOUNT       21           3   \n",
       "\n",
       "                                                                               target_label  \\\n",
       "0                                                             Apparel & Accessories > Shoes   \n",
       "1                                                             Apparel & Accessories > Shoes   \n",
       "2  Software > Computer Software > Multimedia & Design Software > Music Composition Software   \n",
       "3                                                  Apparel & Accessories > Clothing > Pants   \n",
       "4                                                             Apparel & Accessories > Shoes   \n",
       "\n",
       "  day  day_name  \n",
       "0  27  Saturday  \n",
       "1  28    Sunday  \n",
       "2  29    Monday  \n",
       "3  26    Friday  \n",
       "4  29    Monday  "
      ]
     },
     "execution_count": 253,
     "metadata": {},
     "output_type": "execute_result"
    }
   ],
   "source": [
    "product_sales_new.head()"
   ]
  },
  {
   "cell_type": "code",
   "execution_count": 254,
   "metadata": {},
   "outputs": [
    {
     "name": "stdout",
     "output_type": "stream",
     "text": [
      "1133897\n"
     ]
    }
   ],
   "source": [
    "import pandas as pd\n",
    "from scipy.sparse import csr_matrix\n",
    "from mlxtend.frequent_patterns import apriori,fpgrowth, association_rules\n",
    "\n",
    "# Load and preprocess the dataset\n",
    "product_sales_new['saleamt'] = product_sales_new['saleamt'].fillna(0)\n",
    "\n",
    "# Ensure 'action_id' and 'item_name' are strings for consistent indexing\n",
    "product_sales_new['action_id'] = product_sales_new['action_id'].astype(str)\n",
    "product_sales_new['item_name'] = product_sales_new['item_name'].astype(str)\n",
    "\n",
    "print(len(product_sales_new))\n",
    "\n",
    "\n"
   ]
  },
  {
   "cell_type": "code",
   "execution_count": 261,
   "metadata": {},
   "outputs": [
    {
     "name": "stdout",
     "output_type": "stream",
     "text": [
      "835328\n"
     ]
    }
   ],
   "source": [
    "# Calculate the number of unique items per transaction\n",
    "transaction_counts = product_sales_new.groupby('action_id')['item_name'].nunique()\n",
    "\n",
    "# Filter out transactions with only one item\n",
    "multi_item_transactions = transaction_counts[transaction_counts > 1].index\n",
    "\n",
    "# Filter the original DataFrame to keep only multi-item transactions\n",
    "product_sales_new = product_sales_new[product_sales_new['action_id'].isin(multi_item_transactions)]\n",
    "\n",
    "print(len(product_sales_new))"
   ]
  },
  {
   "cell_type": "code",
   "execution_count": 262,
   "metadata": {},
   "outputs": [
    {
     "data": {
      "text/html": [
       "<div>\n",
       "<style scoped>\n",
       "    .dataframe tbody tr th:only-of-type {\n",
       "        vertical-align: middle;\n",
       "    }\n",
       "\n",
       "    .dataframe tbody tr th {\n",
       "        vertical-align: top;\n",
       "    }\n",
       "\n",
       "    .dataframe thead th {\n",
       "        text-align: right;\n",
       "    }\n",
       "</style>\n",
       "<table border=\"1\" class=\"dataframe\">\n",
       "  <thead>\n",
       "    <tr style=\"text-align: right;\">\n",
       "      <th></th>\n",
       "      <th>action_id</th>\n",
       "      <th>item_name</th>\n",
       "      <th>saleamt</th>\n",
       "    </tr>\n",
       "  </thead>\n",
       "  <tbody>\n",
       "    <tr>\n",
       "      <th>0</th>\n",
       "      <td>10040.5080.465034</td>\n",
       "      <td>D-5NGS6BO79J</td>\n",
       "      <td>1</td>\n",
       "    </tr>\n",
       "    <tr>\n",
       "      <th>1</th>\n",
       "      <td>10040.5080.465034</td>\n",
       "      <td>D-5NGS6F8YZ2</td>\n",
       "      <td>1</td>\n",
       "    </tr>\n",
       "    <tr>\n",
       "      <th>2</th>\n",
       "      <td>10040.5080.571942</td>\n",
       "      <td>D-656TUZ2MVP</td>\n",
       "      <td>1</td>\n",
       "    </tr>\n",
       "    <tr>\n",
       "      <th>3</th>\n",
       "      <td>10040.5080.571942</td>\n",
       "      <td>D-656TV2NYTW</td>\n",
       "      <td>1</td>\n",
       "    </tr>\n",
       "    <tr>\n",
       "      <th>4</th>\n",
       "      <td>10040.5081.1519366</td>\n",
       "      <td>D-656TVC6918</td>\n",
       "      <td>1</td>\n",
       "    </tr>\n",
       "  </tbody>\n",
       "</table>\n",
       "</div>"
      ],
      "text/plain": [
       "            action_id     item_name  saleamt\n",
       "0   10040.5080.465034  D-5NGS6BO79J        1\n",
       "1   10040.5080.465034  D-5NGS6F8YZ2        1\n",
       "2   10040.5080.571942  D-656TUZ2MVP        1\n",
       "3   10040.5080.571942  D-656TV2NYTW        1\n",
       "4  10040.5081.1519366  D-656TVC6918        1"
      ]
     },
     "execution_count": 262,
     "metadata": {},
     "output_type": "execute_result"
    }
   ],
   "source": [
    "basket = product_sales_new.groupby(['action_id', 'item_name'])['saleamt'].sum().reset_index()\n",
    "basket = basket[basket['saleamt'] > 0]  # Remove transactions where sales amount is zero\n",
    "basket['saleamt'] =1\n",
    "\n",
    "\n",
    "#Remove dulicates from the DataFrame\n",
    "basket.drop_duplicates(keep='first', inplace=True, ignore_index=False)\n",
    "basket.head()\n",
    "\n"
   ]
  },
  {
   "cell_type": "code",
   "execution_count": 263,
   "metadata": {},
   "outputs": [
    {
     "data": {
      "text/html": [
       "<div>\n",
       "<style scoped>\n",
       "    .dataframe tbody tr th:only-of-type {\n",
       "        vertical-align: middle;\n",
       "    }\n",
       "\n",
       "    .dataframe tbody tr th {\n",
       "        vertical-align: top;\n",
       "    }\n",
       "\n",
       "    .dataframe thead th {\n",
       "        text-align: right;\n",
       "    }\n",
       "</style>\n",
       "<table border=\"1\" class=\"dataframe\">\n",
       "  <thead>\n",
       "    <tr style=\"text-align: right;\">\n",
       "      <th></th>\n",
       "      <th>action_id</th>\n",
       "      <th>item_name</th>\n",
       "      <th>saleamt</th>\n",
       "      <th>action_id_int</th>\n",
       "      <th>item_name_int</th>\n",
       "    </tr>\n",
       "  </thead>\n",
       "  <tbody>\n",
       "    <tr>\n",
       "      <th>0</th>\n",
       "      <td>10040.5080.465034</td>\n",
       "      <td>D-5NGS6BO79J</td>\n",
       "      <td>1</td>\n",
       "      <td>0</td>\n",
       "      <td>61105</td>\n",
       "    </tr>\n",
       "    <tr>\n",
       "      <th>1</th>\n",
       "      <td>10040.5080.465034</td>\n",
       "      <td>D-5NGS6F8YZ2</td>\n",
       "      <td>1</td>\n",
       "      <td>0</td>\n",
       "      <td>78427</td>\n",
       "    </tr>\n",
       "    <tr>\n",
       "      <th>2</th>\n",
       "      <td>10040.5080.571942</td>\n",
       "      <td>D-656TUZ2MVP</td>\n",
       "      <td>1</td>\n",
       "      <td>1</td>\n",
       "      <td>31747</td>\n",
       "    </tr>\n",
       "    <tr>\n",
       "      <th>3</th>\n",
       "      <td>10040.5080.571942</td>\n",
       "      <td>D-656TV2NYTW</td>\n",
       "      <td>1</td>\n",
       "      <td>1</td>\n",
       "      <td>59349</td>\n",
       "    </tr>\n",
       "    <tr>\n",
       "      <th>4</th>\n",
       "      <td>10040.5081.1519366</td>\n",
       "      <td>D-656TVC6918</td>\n",
       "      <td>1</td>\n",
       "      <td>2</td>\n",
       "      <td>57583</td>\n",
       "    </tr>\n",
       "  </tbody>\n",
       "</table>\n",
       "</div>"
      ],
      "text/plain": [
       "            action_id     item_name  saleamt  action_id_int  item_name_int\n",
       "0   10040.5080.465034  D-5NGS6BO79J        1              0          61105\n",
       "1   10040.5080.465034  D-5NGS6F8YZ2        1              0          78427\n",
       "2   10040.5080.571942  D-656TUZ2MVP        1              1          31747\n",
       "3   10040.5080.571942  D-656TV2NYTW        1              1          59349\n",
       "4  10040.5081.1519366  D-656TVC6918        1              2          57583"
      ]
     },
     "execution_count": 263,
     "metadata": {},
     "output_type": "execute_result"
    }
   ],
   "source": [
    "# Map 'action_id' and 'item_name' to integer indices\n",
    "action_id_map = {id_: idx for idx, id_ in enumerate(basket['action_id'].unique())}\n",
    "item_name_map = {name: idx for idx, name in enumerate(product_sales_new['item_name'].unique())}\n",
    "\n",
    "# Add integer indices to the DataFrame\n",
    "basket['action_id_int'] = basket['action_id'].map(action_id_map)\n",
    "basket['item_name_int'] = basket['item_name'].map(item_name_map)\n",
    "\n",
    "# Define the number of transactions and unique items\n",
    "#num_transactions = len(action_id_map)\n",
    "#num_items = len(item_name_map)\n",
    "basket.head()"
   ]
  },
  {
   "cell_type": "code",
   "execution_count": 257,
   "metadata": {},
   "outputs": [
    {
     "data": {
      "text/plain": [
       "action_id    object\n",
       "item_name    object\n",
       "saleamt       int64\n",
       "dtype: object"
      ]
     },
     "execution_count": 257,
     "metadata": {},
     "output_type": "execute_result"
    }
   ],
   "source": [
    "basket.dtypes"
   ]
  },
  {
   "cell_type": "code",
   "execution_count": null,
   "metadata": {},
   "outputs": [],
   "source": [
    "# Ensure 'action_id' and 'item_name' are strings for consistent indexing\n",
    "#basket['action_id_int'] = basket['action_id_int'].astype(str)\n",
    "#basket['item_namePint'] = basket['item_name_int'].astype(str)\n"
   ]
  },
  {
   "cell_type": "code",
   "execution_count": 264,
   "metadata": {},
   "outputs": [],
   "source": [
    "basket_2 =basket.drop(columns=['action_id','item_name'])"
   ]
  },
  {
   "cell_type": "code",
   "execution_count": 289,
   "metadata": {},
   "outputs": [],
   "source": [
    "number_of_transactions_2 =product_sales_new['action_id'].nunique()\n",
    "number_of_items_2 =product_sales_new['item_name'].nunique()"
   ]
  },
  {
   "cell_type": "code",
   "execution_count": 290,
   "metadata": {},
   "outputs": [
    {
     "name": "stdout",
     "output_type": "stream",
     "text": [
      "232542\n",
      "118906\n"
     ]
    }
   ],
   "source": [
    "print(number_of_transactions_2 )\n",
    "print(number_of_items_2) "
   ]
  },
  {
   "cell_type": "code",
   "execution_count": 267,
   "metadata": {},
   "outputs": [
    {
     "data": {
      "text/plain": [
       "231911"
      ]
     },
     "execution_count": 267,
     "metadata": {},
     "output_type": "execute_result"
    }
   ],
   "source": [
    "number_of_transactions_2"
   ]
  },
  {
   "cell_type": "code",
   "execution_count": 268,
   "metadata": {},
   "outputs": [],
   "source": [
    "#Convert tabular dataframe to Sparse Matrix suitable for Basket Analysis\n",
    "sparse_matrix = csr_matrix((basket_2.saleamt, (basket_2.action_id_int, basket_2.item_name_int)))\n"
   ]
  },
  {
   "cell_type": "code",
   "execution_count": 269,
   "metadata": {},
   "outputs": [],
   "source": [
    "# Replace NAN in Sparse Matrix to Zeroes\n",
    "import numpy as np\n",
    "sparse_matrix = np.nan_to_num(sparse_matrix, copy=False)"
   ]
  },
  {
   "cell_type": "code",
   "execution_count": 270,
   "metadata": {},
   "outputs": [],
   "source": [
    "# Create a Sparse DataFrame from Sparse Matrix\n",
    "sparse_df = pd.DataFrame.sparse.from_spmatrix(sparse_matrix)  "
   ]
  },
  {
   "cell_type": "code",
   "execution_count": 271,
   "metadata": {},
   "outputs": [
    {
     "name": "stderr",
     "output_type": "stream",
     "text": [
      "C:\\Users\\farie\\AppData\\Local\\Temp\\ipykernel_10512\\114911618.py:1: FutureWarning:\n",
      "\n",
      "DataFrame.applymap has been deprecated. Use DataFrame.map instead.\n",
      "\n",
      "C:\\Users\\farie\\AppData\\Local\\Temp\\ipykernel_10512\\114911618.py:1: FutureWarning:\n",
      "\n",
      "Allowing arbitrary scalar fill_value in SparseDtype is deprecated. In a future version, the fill_value must be a valid value for the SparseDtype.subtype.\n",
      "\n"
     ]
    }
   ],
   "source": [
    "basket_df = sparse_df.applymap(lambda x: True if x > 0 else False)"
   ]
  },
  {
   "cell_type": "code",
   "execution_count": 79,
   "metadata": {},
   "outputs": [
    {
     "name": "stderr",
     "output_type": "stream",
     "text": [
      "c:\\Users\\farie\\anaconda3\\Lib\\site-packages\\mlxtend\\frequent_patterns\\fpcommon.py:161: DeprecationWarning: DataFrames with non-bool types result in worse computationalperformance and their support might be discontinued in the future.Please use a DataFrame with bool type\n",
      "  warnings.warn(\n",
      "c:\\Users\\farie\\anaconda3\\Lib\\site-packages\\mlxtend\\frequent_patterns\\fpcommon.py:186: FutureWarning: Allowing arbitrary scalar fill_value in SparseDtype is deprecated. In a future version, the fill_value must be a valid value for the SparseDtype.subtype.\n",
      "  values = df.sparse.to_coo().tocoo().data\n",
      "c:\\Users\\farie\\anaconda3\\Lib\\site-packages\\mlxtend\\frequent_patterns\\fpcommon.py:20: FutureWarning: Allowing arbitrary scalar fill_value in SparseDtype is deprecated. In a future version, the fill_value must be a valid value for the SparseDtype.subtype.\n",
      "  itemsets = df.sparse.to_coo().tocsr()\n"
     ]
    },
    {
     "ename": "MemoryError",
     "evalue": "Unable to allocate 205. GiB for an array with shape (231911, 118906) and data type float64",
     "output_type": "error",
     "traceback": [
      "\u001b[1;31m---------------------------------------------------------------------------\u001b[0m",
      "\u001b[1;31mMemoryError\u001b[0m                               Traceback (most recent call last)",
      "Cell \u001b[1;32mIn[79], line 2\u001b[0m\n\u001b[0;32m      1\u001b[0m \u001b[38;5;66;03m# Create a DataFrame with Frequent Itemsets\u001b[39;00m\n\u001b[1;32m----> 2\u001b[0m frequent_itemsets \u001b[38;5;241m=\u001b[39m fpgrowth(basket_df, min_support\u001b[38;5;241m=\u001b[39m\u001b[38;5;241m0.05\u001b[39m, use_colnames\u001b[38;5;241m=\u001b[39m\u001b[38;5;28;01mTrue\u001b[39;00m)\n\u001b[0;32m      4\u001b[0m \u001b[38;5;66;03m# Chech Support, Confidence and other Metrics by Itemsets\u001b[39;00m\n\u001b[0;32m      5\u001b[0m rules \u001b[38;5;241m=\u001b[39m association_rules(frequent_itemsets, metric\u001b[38;5;241m=\u001b[39m\u001b[38;5;124m\"\u001b[39m\u001b[38;5;124mconfidence\u001b[39m\u001b[38;5;124m\"\u001b[39m, min_threshold\u001b[38;5;241m=\u001b[39m\u001b[38;5;241m0.7\u001b[39m)\n",
      "File \u001b[1;32mc:\\Users\\farie\\anaconda3\\Lib\\site-packages\\mlxtend\\frequent_patterns\\fpgrowth.py:91\u001b[0m, in \u001b[0;36mfpgrowth\u001b[1;34m(df, min_support, null_values, use_colnames, max_len, verbose)\u001b[0m\n\u001b[0;32m     88\u001b[0m \u001b[38;5;28;01mif\u001b[39;00m use_colnames:\n\u001b[0;32m     89\u001b[0m     colname_map \u001b[38;5;241m=\u001b[39m {idx: item \u001b[38;5;28;01mfor\u001b[39;00m idx, item \u001b[38;5;129;01min\u001b[39;00m \u001b[38;5;28menumerate\u001b[39m(df\u001b[38;5;241m.\u001b[39mcolumns)}\n\u001b[1;32m---> 91\u001b[0m tree, disabled, _ \u001b[38;5;241m=\u001b[39m fpc\u001b[38;5;241m.\u001b[39msetup_fptree(df, min_support)\n\u001b[0;32m     92\u001b[0m minsup \u001b[38;5;241m=\u001b[39m math\u001b[38;5;241m.\u001b[39mceil(min_support \u001b[38;5;241m*\u001b[39m \u001b[38;5;28mlen\u001b[39m(df\u001b[38;5;241m.\u001b[39mindex))  \u001b[38;5;66;03m# min support as count\u001b[39;00m\n\u001b[0;32m     93\u001b[0m generator \u001b[38;5;241m=\u001b[39m fpg_step(tree, minsup, colname_map, max_len, verbose)\n",
      "File \u001b[1;32mc:\\Users\\farie\\anaconda3\\Lib\\site-packages\\mlxtend\\frequent_patterns\\fpcommon.py:29\u001b[0m, in \u001b[0;36msetup_fptree\u001b[1;34m(df, min_support)\u001b[0m\n\u001b[0;32m     26\u001b[0m \u001b[38;5;66;03m# support of each individual item\u001b[39;00m\n\u001b[0;32m     27\u001b[0m \u001b[38;5;66;03m# if itemsets is sparse, np.sum returns an np.matrix of shape (1, N)\u001b[39;00m\n\u001b[0;32m     28\u001b[0m disabled \u001b[38;5;241m=\u001b[39m df\u001b[38;5;241m.\u001b[39mcopy()\n\u001b[1;32m---> 29\u001b[0m disabled \u001b[38;5;241m=\u001b[39m np\u001b[38;5;241m.\u001b[39mwhere(pd\u001b[38;5;241m.\u001b[39misna(disabled), \u001b[38;5;241m1\u001b[39m, np\u001b[38;5;241m.\u001b[39mnan) \u001b[38;5;241m+\u001b[39m np\u001b[38;5;241m.\u001b[39mwhere(\n\u001b[0;32m     30\u001b[0m     (disabled \u001b[38;5;241m==\u001b[39m \u001b[38;5;241m0\u001b[39m) \u001b[38;5;241m|\u001b[39m (disabled \u001b[38;5;241m==\u001b[39m \u001b[38;5;241m1\u001b[39m), np\u001b[38;5;241m.\u001b[39mnan, \u001b[38;5;241m0\u001b[39m\n\u001b[0;32m     31\u001b[0m )\n\u001b[0;32m     33\u001b[0m item_support \u001b[38;5;241m=\u001b[39m np\u001b[38;5;241m.\u001b[39marray(\n\u001b[0;32m     34\u001b[0m     np\u001b[38;5;241m.\u001b[39msum(np\u001b[38;5;241m.\u001b[39mlogical_or(df\u001b[38;5;241m.\u001b[39mvalues \u001b[38;5;241m==\u001b[39m \u001b[38;5;241m1\u001b[39m, df\u001b[38;5;241m.\u001b[39mvalues \u001b[38;5;129;01mis\u001b[39;00m \u001b[38;5;28;01mTrue\u001b[39;00m), axis\u001b[38;5;241m=\u001b[39m\u001b[38;5;241m0\u001b[39m)\n\u001b[0;32m     35\u001b[0m     \u001b[38;5;241m/\u001b[39m (\u001b[38;5;28mfloat\u001b[39m(num_itemsets) \u001b[38;5;241m-\u001b[39m np\u001b[38;5;241m.\u001b[39mnansum(disabled, axis\u001b[38;5;241m=\u001b[39m\u001b[38;5;241m0\u001b[39m))\n\u001b[0;32m     36\u001b[0m )\n\u001b[0;32m     37\u001b[0m item_support \u001b[38;5;241m=\u001b[39m item_support\u001b[38;5;241m.\u001b[39mreshape(\u001b[38;5;241m-\u001b[39m\u001b[38;5;241m1\u001b[39m)\n",
      "File \u001b[1;32m<__array_function__ internals>:180\u001b[0m, in \u001b[0;36mwhere\u001b[1;34m(*args, **kwargs)\u001b[0m\n",
      "\u001b[1;31mMemoryError\u001b[0m: Unable to allocate 205. GiB for an array with shape (231911, 118906) and data type float64"
     ]
    }
   ],
   "source": [
    "# Create a DataFrame with Frequent Itemsets\n",
    "frequent_itemsets = fpgrowth(basket_df, min_support=0.05, use_colnames=True)\n",
    "\n",
    "# Chech Support, Confidence and other Metrics by Itemsets\n",
    "rules = association_rules(frequent_itemsets, metric=\"confidence\", min_threshold=0.7)"
   ]
  },
  {
   "cell_type": "markdown",
   "metadata": {},
   "source": [
    "#### Third time is a charm"
   ]
  },
  {
   "cell_type": "markdown",
   "metadata": {},
   "source": [
    "### Manually calculate the support, confidence and lift values and create set matrix"
   ]
  },
  {
   "cell_type": "code",
   "execution_count": 278,
   "metadata": {},
   "outputs": [
    {
     "name": "stderr",
     "output_type": "stream",
     "text": [
      "C:\\Users\\farie\\AppData\\Local\\Temp\\ipykernel_10512\\4282205034.py:20: SettingWithCopyWarning:\n",
      "\n",
      "\n",
      "A value is trying to be set on a copy of a slice from a DataFrame.\n",
      "Try using .loc[row_indexer,col_indexer] = value instead\n",
      "\n",
      "See the caveats in the documentation: https://pandas.pydata.org/pandas-docs/stable/user_guide/indexing.html#returning-a-view-versus-a-copy\n",
      "\n",
      "C:\\Users\\farie\\AppData\\Local\\Temp\\ipykernel_10512\\4282205034.py:21: SettingWithCopyWarning:\n",
      "\n",
      "\n",
      "A value is trying to be set on a copy of a slice from a DataFrame.\n",
      "Try using .loc[row_indexer,col_indexer] = value instead\n",
      "\n",
      "See the caveats in the documentation: https://pandas.pydata.org/pandas-docs/stable/user_guide/indexing.html#returning-a-view-versus-a-copy\n",
      "\n"
     ]
    }
   ],
   "source": [
    "import pandas as pd\n",
    "from scipy.sparse import csr_matrix\n",
    "\n",
    "# Load and preprocess the dataset\n",
    "product_sales_new['saleamt'] = product_sales_new['saleamt'].fillna(0)\n",
    "product_sales_new['saleamt'] = 1  # Binarize saleamt\n",
    "\n",
    "# Ensure action_id and item_name are strings for consistent indexing\n",
    "product_sales_new['action_id'] = product_sales_new['action_id'].astype(str)\n",
    "product_sales_new['target_label'] = product_sales_new['target_label'].astype(str)\n",
    "\n",
    "# Filter transactions with multiple items\n",
    "transaction_counts = product_sales_new.groupby('action_id')['target_label'].nunique()\n",
    "multi_item_transactions = transaction_counts[transaction_counts > 1].index\n",
    "filtered_data = product_sales_new[product_sales_new['action_id'].isin(multi_item_transactions)]\n",
    "\n",
    "# Map to integer indices\n",
    "action_id_map = {id_: idx for idx, id_ in enumerate(filtered_data['action_id'].unique())}\n",
    "item_name_map = {name: idx for idx, name in enumerate(filtered_data['target_label'].unique())}\n",
    "filtered_data['action_id_int'] = filtered_data['action_id'].map(action_id_map)\n",
    "filtered_data['target_label_int'] = filtered_data['target_label'].map(item_name_map)\n",
    "\n",
    "# Create the sparse matrix\n",
    "sparse_matrix = csr_matrix((filtered_data['saleamt'], (filtered_data['action_id_int'], filtered_data['target_label_int'])),\n",
    "                           shape=(len(action_id_map), len(item_name_map)))\n",
    "\n",
    "# Co-occurrence matrix\n",
    "co_occurrence_matrix = sparse_matrix.T.dot(sparse_matrix)\n",
    "\n",
    "# Set the diagonal to zero to ignore self co-occurrence\n",
    "co_occurrence_matrix.setdiag(0)\n",
    "\n",
    "# Calculate support, confidence, and lift\n",
    "def calculate_metrics_sparse(co_occurrence_matrix, sparse_matrix):\n",
    "    support = co_occurrence_matrix / sparse_matrix.shape[0]\n",
    "    confidence = co_occurrence_matrix.multiply(1 / co_occurrence_matrix.sum(axis=1))\n",
    "    item_support = np.array(sparse_matrix.sum(axis=0)).flatten() / sparse_matrix.shape[0]\n",
    "    lift = confidence.multiply(1 / item_support)\n",
    "    return support, confidence, lift\n",
    "\n",
    "support, confidence, lift = calculate_metrics_sparse(co_occurrence_matrix, sparse_matrix)\n",
    "\n",
    "\n"
   ]
  },
  {
   "cell_type": "code",
   "execution_count": 279,
   "metadata": {},
   "outputs": [],
   "source": [
    "import pandas as pd\n",
    "from scipy.sparse import coo_matrix\n",
    "\n",
    "# Assuming support, confidence, and lift are sparse matrices in COO format\n",
    "support_coo = support.tocoo()\n",
    "confidence_coo = confidence.tocoo()\n",
    "lift_coo = lift.tocoo()\n",
    "\n",
    "# Convert support to DataFrame\n",
    "support_df = pd.DataFrame({\n",
    "    'antecedent': support_coo.row,\n",
    "    'consequent': support_coo.col,\n",
    "    'support': support_coo.data\n",
    "})\n",
    "\n",
    "# Convert confidence to DataFrame\n",
    "confidence_df = pd.DataFrame({\n",
    "    'antecedent': confidence_coo.row,\n",
    "    'consequent': confidence_coo.col,\n",
    "    'confidence': confidence_coo.data\n",
    "})\n",
    "\n",
    "# Convert lift to DataFrame\n",
    "lift_df = pd.DataFrame({\n",
    "    'antecedent': lift_coo.row,\n",
    "    'consequent': lift_coo.col,\n",
    "    'lift': lift_coo.data\n",
    "})\n",
    "\n",
    "# Merge the DataFrames on antecedent and consequent\n",
    "combined_df = support_df.merge(confidence_df, on=['antecedent', 'consequent'])\n",
    "combined_df = combined_df.merge(lift_df, on=['antecedent', 'consequent'])\n",
    "\n",
    "# Filter out zero values (optional)\n",
    "combined_df = combined_df[(combined_df['support'] > 0) & (combined_df['confidence'] > 0) & (combined_df['lift'] > 0)]\n",
    "\n",
    "# Replace indices with item names\n",
    "item_name_map_inv = {v: k for k, v in item_name_map.items()}\n",
    "combined_df['antecedent'] = combined_df['antecedent'].map(item_name_map_inv)\n",
    "combined_df['consequent'] = combined_df['consequent'].map(item_name_map_inv)\n",
    "\n",
    "# Sort by confidence in descending order\n",
    "combined_df = combined_df.sort_values(by='confidence', ascending=False).reset_index(drop=True)\n",
    "\n",
    "combined_df_2 = combined_df.sort_values(by='support', ascending=False).reset_index(drop=True)\n"
   ]
  },
  {
   "cell_type": "code",
   "execution_count": 285,
   "metadata": {},
   "outputs": [
    {
     "data": {
      "text/html": [
       "<div>\n",
       "<style scoped>\n",
       "    .dataframe tbody tr th:only-of-type {\n",
       "        vertical-align: middle;\n",
       "    }\n",
       "\n",
       "    .dataframe tbody tr th {\n",
       "        vertical-align: top;\n",
       "    }\n",
       "\n",
       "    .dataframe thead th {\n",
       "        text-align: right;\n",
       "    }\n",
       "</style>\n",
       "<table border=\"1\" class=\"dataframe\">\n",
       "  <thead>\n",
       "    <tr style=\"text-align: right;\">\n",
       "      <th></th>\n",
       "      <th>antecedent</th>\n",
       "      <th>consequent</th>\n",
       "      <th>support</th>\n",
       "      <th>confidence</th>\n",
       "      <th>lift</th>\n",
       "    </tr>\n",
       "  </thead>\n",
       "  <tbody>\n",
       "    <tr>\n",
       "      <th>0</th>\n",
       "      <td>Apparel &amp; Accessories &gt; Clothing &gt; Shirts &amp; Tops</td>\n",
       "      <td>Apparel &amp; Accessories &gt; Clothing &gt; Pants</td>\n",
       "      <td>0.6684602317</td>\n",
       "      <td>0.2319619453</td>\n",
       "      <td>0.7721014947</td>\n",
       "    </tr>\n",
       "    <tr>\n",
       "      <th>2</th>\n",
       "      <td>Apparel &amp; Accessories &gt; Clothing &gt; Shirts &amp; Tops</td>\n",
       "      <td>Apparel &amp; Accessories &gt; Clothing &gt; Activewear</td>\n",
       "      <td>0.3471135135</td>\n",
       "      <td>0.1204516320</td>\n",
       "      <td>0.4419635952</td>\n",
       "    </tr>\n",
       "    <tr>\n",
       "      <th>4</th>\n",
       "      <td>Apparel &amp; Accessories &gt; Clothing &gt; Shirts &amp; Tops</td>\n",
       "      <td>Apparel &amp; Accessories &gt; Shoes</td>\n",
       "      <td>0.3111783784</td>\n",
       "      <td>0.1079818044</td>\n",
       "      <td>0.3456506740</td>\n",
       "    </tr>\n",
       "    <tr>\n",
       "      <th>6</th>\n",
       "      <td>Apparel &amp; Accessories &gt; Clothing &gt; Shirts &amp; Tops</td>\n",
       "      <td>Apparel &amp; Accessories &gt; Clothing</td>\n",
       "      <td>0.2727969112</td>\n",
       "      <td>0.0946630767</td>\n",
       "      <td>0.4463093593</td>\n",
       "    </tr>\n",
       "    <tr>\n",
       "      <th>8</th>\n",
       "      <td>Apparel &amp; Accessories &gt; Shoes</td>\n",
       "      <td>Apparel &amp; Accessories &gt; Clothing &gt; Activewear</td>\n",
       "      <td>0.2424092664</td>\n",
       "      <td>0.2374957633</td>\n",
       "      <td>0.8714243192</td>\n",
       "    </tr>\n",
       "    <tr>\n",
       "      <th>10</th>\n",
       "      <td>Apparel &amp; Accessories &gt; Clothing &gt; Shirts &amp; Tops</td>\n",
       "      <td>Apparel &amp; Accessories &gt; Clothing &gt; Sleepwear &amp; Loungewear</td>\n",
       "      <td>0.1909806950</td>\n",
       "      <td>0.0662720853</td>\n",
       "      <td>0.6555728314</td>\n",
       "    </tr>\n",
       "    <tr>\n",
       "      <th>12</th>\n",
       "      <td>Apparel &amp; Accessories &gt; Jewelry</td>\n",
       "      <td>Apparel &amp; Accessories &gt; Jewelry &gt; Charms &amp; Pendants</td>\n",
       "      <td>0.1708787645</td>\n",
       "      <td>0.7347659778</td>\n",
       "      <td>2.9236577026</td>\n",
       "    </tr>\n",
       "    <tr>\n",
       "      <th>14</th>\n",
       "      <td>Apparel &amp; Accessories &gt; Clothing &gt; Shirts &amp; Tops</td>\n",
       "      <td>Apparel &amp; Accessories &gt; Clothing &gt; Underwear &amp; Socks &gt; Socks</td>\n",
       "      <td>0.1638301158</td>\n",
       "      <td>0.0568505807</td>\n",
       "      <td>0.4147409867</td>\n",
       "    </tr>\n",
       "    <tr>\n",
       "      <th>16</th>\n",
       "      <td>Apparel &amp; Accessories &gt; Clothing &gt; Outerwear &gt; Coats &amp; Jackets</td>\n",
       "      <td>Apparel &amp; Accessories &gt; Clothing &gt; Shirts &amp; Tops</td>\n",
       "      <td>0.1374826255</td>\n",
       "      <td>0.3661024198</td>\n",
       "      <td>0.4259039370</td>\n",
       "    </tr>\n",
       "    <tr>\n",
       "      <th>18</th>\n",
       "      <td>Apparel &amp; Accessories &gt; Clothing &gt; Shirts &amp; Tops</td>\n",
       "      <td>Apparel &amp; Accessories &gt; Clothing &gt; Dresses</td>\n",
       "      <td>0.1061806950</td>\n",
       "      <td>0.0368456931</td>\n",
       "      <td>0.8817854189</td>\n",
       "    </tr>\n",
       "    <tr>\n",
       "      <th>20</th>\n",
       "      <td>Apparel &amp; Accessories &gt; Clothing</td>\n",
       "      <td>Apparel &amp; Accessories &gt; Clothing &gt; Pants</td>\n",
       "      <td>0.0980571429</td>\n",
       "      <td>0.1446669279</td>\n",
       "      <td>0.4815339480</td>\n",
       "    </tr>\n",
       "    <tr>\n",
       "      <th>22</th>\n",
       "      <td>Apparel &amp; Accessories &gt; Clothing &gt; Shorts</td>\n",
       "      <td>Apparel &amp; Accessories &gt; Clothing &gt; Shirts &amp; Tops</td>\n",
       "      <td>0.0976185328</td>\n",
       "      <td>0.3881410886</td>\n",
       "      <td>0.4515425432</td>\n",
       "    </tr>\n",
       "    <tr>\n",
       "      <th>24</th>\n",
       "      <td>Apparel &amp; Accessories &gt; Shoes</td>\n",
       "      <td>Apparel &amp; Accessories &gt; Clothing &gt; Underwear &amp; Socks &gt; Socks</td>\n",
       "      <td>0.0904463320</td>\n",
       "      <td>0.0886130344</td>\n",
       "      <td>0.6464570259</td>\n",
       "    </tr>\n",
       "    <tr>\n",
       "      <th>26</th>\n",
       "      <td>Apparel &amp; Accessories &gt; Clothing &gt; Pants</td>\n",
       "      <td>Apparel &amp; Accessories &gt; Clothing &gt; Sleepwear &amp; Loungewear</td>\n",
       "      <td>0.0808710425</td>\n",
       "      <td>0.0660334530</td>\n",
       "      <td>0.6532122471</td>\n",
       "    </tr>\n",
       "    <tr>\n",
       "      <th>28</th>\n",
       "      <td>Apparel &amp; Accessories &gt; Clothing &gt; Activewear</td>\n",
       "      <td>Apparel &amp; Accessories &gt; Clothing &gt; Underwear &amp; Socks &gt; Socks</td>\n",
       "      <td>0.0633389961</td>\n",
       "      <td>0.0774793701</td>\n",
       "      <td>0.5652338109</td>\n",
       "    </tr>\n",
       "    <tr>\n",
       "      <th>30</th>\n",
       "      <td>Apparel &amp; Accessories &gt; Clothing</td>\n",
       "      <td>Apparel &amp; Accessories &gt; Clothing &gt; Sleepwear &amp; Loungewear</td>\n",
       "      <td>0.0595583012</td>\n",
       "      <td>0.0878683206</td>\n",
       "      <td>0.8692058415</td>\n",
       "    </tr>\n",
       "    <tr>\n",
       "      <th>32</th>\n",
       "      <td>Apparel &amp; Accessories &gt; Jewelry &gt; Charms &amp; Pendants</td>\n",
       "      <td>Apparel &amp; Accessories &gt; Jewelry &gt; Rings</td>\n",
       "      <td>0.0580138996</td>\n",
       "      <td>0.1397844661</td>\n",
       "      <td>2.7258897056</td>\n",
       "    </tr>\n",
       "    <tr>\n",
       "      <th>34</th>\n",
       "      <td>Apparel &amp; Accessories &gt; Clothing Accessories &gt; Hats</td>\n",
       "      <td>Apparel &amp; Accessories &gt; Clothing &gt; Shirts &amp; Tops</td>\n",
       "      <td>0.0567598456</td>\n",
       "      <td>0.2937434061</td>\n",
       "      <td>0.3417253379</td>\n",
       "    </tr>\n",
       "    <tr>\n",
       "      <th>36</th>\n",
       "      <td>Apparel &amp; Accessories &gt; Clothing &gt; Underwear &amp; Socks &gt; Socks</td>\n",
       "      <td>Apparel &amp; Accessories &gt; Clothing &gt; Pants</td>\n",
       "      <td>0.0512679537</td>\n",
       "      <td>0.0956767351</td>\n",
       "      <td>0.3184666781</td>\n",
       "    </tr>\n",
       "    <tr>\n",
       "      <th>38</th>\n",
       "      <td>Apparel &amp; Accessories &gt; Clothing &gt; Shirts &amp; Tops</td>\n",
       "      <td>Apparel &amp; Accessories &gt; Clothing &gt; One-Pieces</td>\n",
       "      <td>0.0486054054</td>\n",
       "      <td>0.0168665298</td>\n",
       "      <td>0.6380625156</td>\n",
       "    </tr>\n",
       "    <tr>\n",
       "      <th>40</th>\n",
       "      <td>Apparel &amp; Accessories &gt; Clothing &gt; Shirts &amp; Tops</td>\n",
       "      <td>Apparel &amp; Accessories &gt; Clothing &gt; Underwear &amp; Socks &gt; Underwear</td>\n",
       "      <td>0.0469806950</td>\n",
       "      <td>0.0163027401</td>\n",
       "      <td>0.5491065434</td>\n",
       "    </tr>\n",
       "    <tr>\n",
       "      <th>42</th>\n",
       "      <td>Apparel &amp; Accessories &gt; Clothing &gt; Outerwear &gt; Coats &amp; Jackets</td>\n",
       "      <td>Apparel &amp; Accessories &gt; Shoes</td>\n",
       "      <td>0.0452942085</td>\n",
       "      <td>0.1206139269</td>\n",
       "      <td>0.3860862055</td>\n",
       "    </tr>\n",
       "    <tr>\n",
       "      <th>44</th>\n",
       "      <td>Apparel &amp; Accessories &gt; Jewelry &gt; Necklaces</td>\n",
       "      <td>Apparel &amp; Accessories &gt; Jewelry &gt; Charms &amp; Pendants</td>\n",
       "      <td>0.0449915058</td>\n",
       "      <td>0.5567191561</td>\n",
       "      <td>2.2152036132</td>\n",
       "    </tr>\n",
       "    <tr>\n",
       "      <th>46</th>\n",
       "      <td>Apparel &amp; Accessories &gt; Clothing &gt; Pants</td>\n",
       "      <td>Apparel &amp; Accessories &gt; Clothing &gt; Dresses</td>\n",
       "      <td>0.0427181467</td>\n",
       "      <td>0.0348805536</td>\n",
       "      <td>0.8347560056</td>\n",
       "    </tr>\n",
       "    <tr>\n",
       "      <th>48</th>\n",
       "      <td>Apparel &amp; Accessories &gt; Clothing &gt; Pants</td>\n",
       "      <td>Apparel &amp; Accessories &gt; Clothing &gt; Outerwear &gt; Coats &amp; Jackets</td>\n",
       "      <td>0.0417050193</td>\n",
       "      <td>0.0340533070</td>\n",
       "      <td>0.3179729503</td>\n",
       "    </tr>\n",
       "    <tr>\n",
       "      <th>50</th>\n",
       "      <td>Apparel &amp; Accessories &gt; Shoes</td>\n",
       "      <td>Apparel &amp; Accessories &gt; Clothing &gt; Pants</td>\n",
       "      <td>0.0416741313</td>\n",
       "      <td>0.0408294195</td>\n",
       "      <td>0.1359035671</td>\n",
       "    </tr>\n",
       "    <tr>\n",
       "      <th>52</th>\n",
       "      <td>Apparel &amp; Accessories &gt; Clothing &gt; One-Pieces</td>\n",
       "      <td>Apparel &amp; Accessories &gt; Clothing</td>\n",
       "      <td>0.0392216216</td>\n",
       "      <td>0.2532104969</td>\n",
       "      <td>1.1938151451</td>\n",
       "    </tr>\n",
       "    <tr>\n",
       "      <th>54</th>\n",
       "      <td>Apparel &amp; Accessories &gt; Jewelry &gt; Charms &amp; Pendants</td>\n",
       "      <td>Apparel &amp; Accessories &gt; Jewelry &gt; Earrings</td>\n",
       "      <td>0.0379243243</td>\n",
       "      <td>0.0913786431</td>\n",
       "      <td>2.6830977417</td>\n",
       "    </tr>\n",
       "    <tr>\n",
       "      <th>56</th>\n",
       "      <td>Apparel &amp; Accessories &gt; Clothing &gt; Outerwear &gt; Coats &amp; Jackets</td>\n",
       "      <td>Apparel &amp; Accessories &gt; Clothing &gt; Activewear</td>\n",
       "      <td>0.0377822394</td>\n",
       "      <td>0.1006103078</td>\n",
       "      <td>0.3691614020</td>\n",
       "    </tr>\n",
       "    <tr>\n",
       "      <th>58</th>\n",
       "      <td>Apparel &amp; Accessories &gt; Clothing Accessories &gt; Hats</td>\n",
       "      <td>Apparel &amp; Accessories &gt; Shoes</td>\n",
       "      <td>0.0350023166</td>\n",
       "      <td>0.1811438985</td>\n",
       "      <td>0.5798431593</td>\n",
       "    </tr>\n",
       "    <tr>\n",
       "      <th>60</th>\n",
       "      <td>Apparel &amp; Accessories &gt; Clothing &gt; Underwear &amp; Socks &gt; Socks</td>\n",
       "      <td>Apparel &amp; Accessories &gt; Clothing</td>\n",
       "      <td>0.0326115830</td>\n",
       "      <td>0.0608600415</td>\n",
       "      <td>0.2869377066</td>\n",
       "    </tr>\n",
       "    <tr>\n",
       "      <th>62</th>\n",
       "      <td>Apparel &amp; Accessories &gt; Clothing &gt; Underwear &amp; Socks &gt; Bras</td>\n",
       "      <td>Apparel &amp; Accessories &gt; Clothing &gt; Shirts &amp; Tops</td>\n",
       "      <td>0.0314440154</td>\n",
       "      <td>0.3862205023</td>\n",
       "      <td>0.4493082360</td>\n",
       "    </tr>\n",
       "    <tr>\n",
       "      <th>64</th>\n",
       "      <td>Apparel &amp; Accessories &gt; Clothing &gt; Shorts</td>\n",
       "      <td>Apparel &amp; Accessories &gt; Clothing &gt; Pants</td>\n",
       "      <td>0.0300478764</td>\n",
       "      <td>0.1194733739</td>\n",
       "      <td>0.3976754484</td>\n",
       "    </tr>\n",
       "    <tr>\n",
       "      <th>66</th>\n",
       "      <td>Apparel &amp; Accessories &gt; Clothing &gt; Activewear</td>\n",
       "      <td>Apparel &amp; Accessories &gt; Clothing Accessories &gt; Hats</td>\n",
       "      <td>0.0270949807</td>\n",
       "      <td>0.0331439108</td>\n",
       "      <td>0.6774205247</td>\n",
       "    </tr>\n",
       "    <tr>\n",
       "      <th>68</th>\n",
       "      <td>Apparel &amp; Accessories &gt; Clothing &gt; Underwear &amp; Socks &gt; Socks</td>\n",
       "      <td>Apparel &amp; Accessories &gt; Clothing &gt; Sleepwear &amp; Loungewear</td>\n",
       "      <td>0.0267613900</td>\n",
       "      <td>0.0499423565</td>\n",
       "      <td>0.4940368463</td>\n",
       "    </tr>\n",
       "    <tr>\n",
       "      <th>70</th>\n",
       "      <td>Apparel &amp; Accessories &gt; Jewelry &gt; Charms &amp; Pendants</td>\n",
       "      <td>Apparel &amp; Accessories &gt; Clothing &gt; Shirts &amp; Tops</td>\n",
       "      <td>0.0261065637</td>\n",
       "      <td>0.0629037540</td>\n",
       "      <td>0.0731788566</td>\n",
       "    </tr>\n",
       "    <tr>\n",
       "      <th>72</th>\n",
       "      <td>Apparel &amp; Accessories &gt; Clothing &gt; Shorts</td>\n",
       "      <td>Apparel &amp; Accessories &gt; Shoes</td>\n",
       "      <td>0.0254023166</td>\n",
       "      <td>0.1010021615</td>\n",
       "      <td>0.3233087779</td>\n",
       "    </tr>\n",
       "    <tr>\n",
       "      <th>74</th>\n",
       "      <td>Apparel &amp; Accessories &gt; Clothing &gt; Activewear</td>\n",
       "      <td>Apparel &amp; Accessories &gt; Clothing &gt; Shorts</td>\n",
       "      <td>0.0253652510</td>\n",
       "      <td>0.0310280204</td>\n",
       "      <td>0.6912552722</td>\n",
       "    </tr>\n",
       "    <tr>\n",
       "      <th>76</th>\n",
       "      <td>Apparel &amp; Accessories &gt; Clothing &gt; Outerwear &gt; Coats &amp; Jackets</td>\n",
       "      <td>Apparel &amp; Accessories &gt; Clothing</td>\n",
       "      <td>0.0253158301</td>\n",
       "      <td>0.0674135123</td>\n",
       "      <td>0.3178354490</td>\n",
       "    </tr>\n",
       "    <tr>\n",
       "      <th>78</th>\n",
       "      <td>Animals &amp; Pet Supplies &gt; Pet Supplies &gt; Cat Supplies &gt; Cat Litter</td>\n",
       "      <td>Animals &amp; Pet Supplies &gt; Pet Supplies &gt; Dog Supplies &gt; Dog Treats</td>\n",
       "      <td>0.0249389961</td>\n",
       "      <td>0.1467519721</td>\n",
       "      <td>4.0147837554</td>\n",
       "    </tr>\n",
       "    <tr>\n",
       "      <th>80</th>\n",
       "      <td>Apparel &amp; Accessories &gt; Clothing &gt; Shirts &amp; Tops</td>\n",
       "      <td>Apparel &amp; Accessories &gt; Clothing Accessories</td>\n",
       "      <td>0.0243521236</td>\n",
       "      <td>0.0084504144</td>\n",
       "      <td>0.6398086188</td>\n",
       "    </tr>\n",
       "    <tr>\n",
       "      <th>82</th>\n",
       "      <td>Animals &amp; Pet Supplies &gt; Pet Supplies &gt; Dog Supplies &gt; Dog Treats</td>\n",
       "      <td>Animals &amp; Pet Supplies &gt; Pet Supplies &gt; Dog Supplies &gt; Dog Toys</td>\n",
       "      <td>0.0238517375</td>\n",
       "      <td>0.2174721190</td>\n",
       "      <td>6.0393376662</td>\n",
       "    </tr>\n",
       "    <tr>\n",
       "      <th>84</th>\n",
       "      <td>Apparel &amp; Accessories &gt; Clothing &gt; Underwear &amp; Socks &gt; Underwear</td>\n",
       "      <td>Apparel &amp; Accessories &gt; Clothing &gt; Pants</td>\n",
       "      <td>0.0218872587</td>\n",
       "      <td>0.1541305956</td>\n",
       "      <td>0.5130344250</td>\n",
       "    </tr>\n",
       "    <tr>\n",
       "      <th>86</th>\n",
       "      <td>Apparel &amp; Accessories &gt; Clothing</td>\n",
       "      <td>Apparel &amp; Accessories &gt; Shoes</td>\n",
       "      <td>0.0216216216</td>\n",
       "      <td>0.0318990895</td>\n",
       "      <td>0.1021092568</td>\n",
       "    </tr>\n",
       "    <tr>\n",
       "      <th>88</th>\n",
       "      <td>Apparel &amp; Accessories &gt; Shoes</td>\n",
       "      <td>Apparel &amp; Accessories &gt; Jewelry &gt; Charms &amp; Pendants</td>\n",
       "      <td>0.0201513514</td>\n",
       "      <td>0.0197428945</td>\n",
       "      <td>0.0785576188</td>\n",
       "    </tr>\n",
       "    <tr>\n",
       "      <th>90</th>\n",
       "      <td>Apparel &amp; Accessories &gt; Clothing &gt; Pants</td>\n",
       "      <td>Apparel &amp; Accessories &gt; Clothing &gt; Activewear</td>\n",
       "      <td>0.0195830116</td>\n",
       "      <td>0.0159900730</td>\n",
       "      <td>0.0586711035</td>\n",
       "    </tr>\n",
       "    <tr>\n",
       "      <th>92</th>\n",
       "      <td>Apparel &amp; Accessories &gt; Clothing &gt; Pants</td>\n",
       "      <td>Apparel &amp; Accessories &gt; Clothing &gt; Underwear &amp; Socks &gt; Bras</td>\n",
       "      <td>0.0192185328</td>\n",
       "      <td>0.0156924660</td>\n",
       "      <td>0.9607480840</td>\n",
       "    </tr>\n",
       "    <tr>\n",
       "      <th>94</th>\n",
       "      <td>Apparel &amp; Accessories &gt; Clothing &gt; Shirts &amp; Tops</td>\n",
       "      <td>Apparel &amp; Accessories &gt; Clothing &gt; Swimwear</td>\n",
       "      <td>0.0191444015</td>\n",
       "      <td>0.0066432862</td>\n",
       "      <td>0.4770993573</td>\n",
       "    </tr>\n",
       "    <tr>\n",
       "      <th>96</th>\n",
       "      <td>Apparel &amp; Accessories &gt; Jewelry &gt; Charms &amp; Pendants</td>\n",
       "      <td>Apparel &amp; Accessories &gt; Jewelry &gt; Bracelets</td>\n",
       "      <td>0.0190208494</td>\n",
       "      <td>0.0458307285</td>\n",
       "      <td>4.1284636455</td>\n",
       "    </tr>\n",
       "    <tr>\n",
       "      <th>98</th>\n",
       "      <td>Apparel &amp; Accessories &gt; Clothing &gt; Pants</td>\n",
       "      <td>Apparel &amp; Accessories &gt; Clothing &gt; One-Pieces</td>\n",
       "      <td>0.0188664093</td>\n",
       "      <td>0.0154049473</td>\n",
       "      <td>0.5827707059</td>\n",
       "    </tr>\n",
       "  </tbody>\n",
       "</table>\n",
       "</div>"
      ],
      "text/plain": [
       "                                                           antecedent  \\\n",
       "0                    Apparel & Accessories > Clothing > Shirts & Tops   \n",
       "2                    Apparel & Accessories > Clothing > Shirts & Tops   \n",
       "4                    Apparel & Accessories > Clothing > Shirts & Tops   \n",
       "6                    Apparel & Accessories > Clothing > Shirts & Tops   \n",
       "8                                       Apparel & Accessories > Shoes   \n",
       "10                   Apparel & Accessories > Clothing > Shirts & Tops   \n",
       "12                                    Apparel & Accessories > Jewelry   \n",
       "14                   Apparel & Accessories > Clothing > Shirts & Tops   \n",
       "16     Apparel & Accessories > Clothing > Outerwear > Coats & Jackets   \n",
       "18                   Apparel & Accessories > Clothing > Shirts & Tops   \n",
       "20                                   Apparel & Accessories > Clothing   \n",
       "22                          Apparel & Accessories > Clothing > Shorts   \n",
       "24                                      Apparel & Accessories > Shoes   \n",
       "26                           Apparel & Accessories > Clothing > Pants   \n",
       "28                      Apparel & Accessories > Clothing > Activewear   \n",
       "30                                   Apparel & Accessories > Clothing   \n",
       "32                Apparel & Accessories > Jewelry > Charms & Pendants   \n",
       "34                Apparel & Accessories > Clothing Accessories > Hats   \n",
       "36       Apparel & Accessories > Clothing > Underwear & Socks > Socks   \n",
       "38                   Apparel & Accessories > Clothing > Shirts & Tops   \n",
       "40                   Apparel & Accessories > Clothing > Shirts & Tops   \n",
       "42     Apparel & Accessories > Clothing > Outerwear > Coats & Jackets   \n",
       "44                        Apparel & Accessories > Jewelry > Necklaces   \n",
       "46                           Apparel & Accessories > Clothing > Pants   \n",
       "48                           Apparel & Accessories > Clothing > Pants   \n",
       "50                                      Apparel & Accessories > Shoes   \n",
       "52                      Apparel & Accessories > Clothing > One-Pieces   \n",
       "54                Apparel & Accessories > Jewelry > Charms & Pendants   \n",
       "56     Apparel & Accessories > Clothing > Outerwear > Coats & Jackets   \n",
       "58                Apparel & Accessories > Clothing Accessories > Hats   \n",
       "60       Apparel & Accessories > Clothing > Underwear & Socks > Socks   \n",
       "62        Apparel & Accessories > Clothing > Underwear & Socks > Bras   \n",
       "64                          Apparel & Accessories > Clothing > Shorts   \n",
       "66                      Apparel & Accessories > Clothing > Activewear   \n",
       "68       Apparel & Accessories > Clothing > Underwear & Socks > Socks   \n",
       "70                Apparel & Accessories > Jewelry > Charms & Pendants   \n",
       "72                          Apparel & Accessories > Clothing > Shorts   \n",
       "74                      Apparel & Accessories > Clothing > Activewear   \n",
       "76     Apparel & Accessories > Clothing > Outerwear > Coats & Jackets   \n",
       "78  Animals & Pet Supplies > Pet Supplies > Cat Supplies > Cat Litter   \n",
       "80                   Apparel & Accessories > Clothing > Shirts & Tops   \n",
       "82  Animals & Pet Supplies > Pet Supplies > Dog Supplies > Dog Treats   \n",
       "84   Apparel & Accessories > Clothing > Underwear & Socks > Underwear   \n",
       "86                                   Apparel & Accessories > Clothing   \n",
       "88                                      Apparel & Accessories > Shoes   \n",
       "90                           Apparel & Accessories > Clothing > Pants   \n",
       "92                           Apparel & Accessories > Clothing > Pants   \n",
       "94                   Apparel & Accessories > Clothing > Shirts & Tops   \n",
       "96                Apparel & Accessories > Jewelry > Charms & Pendants   \n",
       "98                           Apparel & Accessories > Clothing > Pants   \n",
       "\n",
       "                                                           consequent  \\\n",
       "0                            Apparel & Accessories > Clothing > Pants   \n",
       "2                       Apparel & Accessories > Clothing > Activewear   \n",
       "4                                       Apparel & Accessories > Shoes   \n",
       "6                                    Apparel & Accessories > Clothing   \n",
       "8                       Apparel & Accessories > Clothing > Activewear   \n",
       "10          Apparel & Accessories > Clothing > Sleepwear & Loungewear   \n",
       "12                Apparel & Accessories > Jewelry > Charms & Pendants   \n",
       "14       Apparel & Accessories > Clothing > Underwear & Socks > Socks   \n",
       "16                   Apparel & Accessories > Clothing > Shirts & Tops   \n",
       "18                         Apparel & Accessories > Clothing > Dresses   \n",
       "20                           Apparel & Accessories > Clothing > Pants   \n",
       "22                   Apparel & Accessories > Clothing > Shirts & Tops   \n",
       "24       Apparel & Accessories > Clothing > Underwear & Socks > Socks   \n",
       "26          Apparel & Accessories > Clothing > Sleepwear & Loungewear   \n",
       "28       Apparel & Accessories > Clothing > Underwear & Socks > Socks   \n",
       "30          Apparel & Accessories > Clothing > Sleepwear & Loungewear   \n",
       "32                            Apparel & Accessories > Jewelry > Rings   \n",
       "34                   Apparel & Accessories > Clothing > Shirts & Tops   \n",
       "36                           Apparel & Accessories > Clothing > Pants   \n",
       "38                      Apparel & Accessories > Clothing > One-Pieces   \n",
       "40   Apparel & Accessories > Clothing > Underwear & Socks > Underwear   \n",
       "42                                      Apparel & Accessories > Shoes   \n",
       "44                Apparel & Accessories > Jewelry > Charms & Pendants   \n",
       "46                         Apparel & Accessories > Clothing > Dresses   \n",
       "48     Apparel & Accessories > Clothing > Outerwear > Coats & Jackets   \n",
       "50                           Apparel & Accessories > Clothing > Pants   \n",
       "52                                   Apparel & Accessories > Clothing   \n",
       "54                         Apparel & Accessories > Jewelry > Earrings   \n",
       "56                      Apparel & Accessories > Clothing > Activewear   \n",
       "58                                      Apparel & Accessories > Shoes   \n",
       "60                                   Apparel & Accessories > Clothing   \n",
       "62                   Apparel & Accessories > Clothing > Shirts & Tops   \n",
       "64                           Apparel & Accessories > Clothing > Pants   \n",
       "66                Apparel & Accessories > Clothing Accessories > Hats   \n",
       "68          Apparel & Accessories > Clothing > Sleepwear & Loungewear   \n",
       "70                   Apparel & Accessories > Clothing > Shirts & Tops   \n",
       "72                                      Apparel & Accessories > Shoes   \n",
       "74                          Apparel & Accessories > Clothing > Shorts   \n",
       "76                                   Apparel & Accessories > Clothing   \n",
       "78  Animals & Pet Supplies > Pet Supplies > Dog Supplies > Dog Treats   \n",
       "80                       Apparel & Accessories > Clothing Accessories   \n",
       "82    Animals & Pet Supplies > Pet Supplies > Dog Supplies > Dog Toys   \n",
       "84                           Apparel & Accessories > Clothing > Pants   \n",
       "86                                      Apparel & Accessories > Shoes   \n",
       "88                Apparel & Accessories > Jewelry > Charms & Pendants   \n",
       "90                      Apparel & Accessories > Clothing > Activewear   \n",
       "92        Apparel & Accessories > Clothing > Underwear & Socks > Bras   \n",
       "94                        Apparel & Accessories > Clothing > Swimwear   \n",
       "96                        Apparel & Accessories > Jewelry > Bracelets   \n",
       "98                      Apparel & Accessories > Clothing > One-Pieces   \n",
       "\n",
       "        support   confidence         lift  \n",
       "0  0.6684602317 0.2319619453 0.7721014947  \n",
       "2  0.3471135135 0.1204516320 0.4419635952  \n",
       "4  0.3111783784 0.1079818044 0.3456506740  \n",
       "6  0.2727969112 0.0946630767 0.4463093593  \n",
       "8  0.2424092664 0.2374957633 0.8714243192  \n",
       "10 0.1909806950 0.0662720853 0.6555728314  \n",
       "12 0.1708787645 0.7347659778 2.9236577026  \n",
       "14 0.1638301158 0.0568505807 0.4147409867  \n",
       "16 0.1374826255 0.3661024198 0.4259039370  \n",
       "18 0.1061806950 0.0368456931 0.8817854189  \n",
       "20 0.0980571429 0.1446669279 0.4815339480  \n",
       "22 0.0976185328 0.3881410886 0.4515425432  \n",
       "24 0.0904463320 0.0886130344 0.6464570259  \n",
       "26 0.0808710425 0.0660334530 0.6532122471  \n",
       "28 0.0633389961 0.0774793701 0.5652338109  \n",
       "30 0.0595583012 0.0878683206 0.8692058415  \n",
       "32 0.0580138996 0.1397844661 2.7258897056  \n",
       "34 0.0567598456 0.2937434061 0.3417253379  \n",
       "36 0.0512679537 0.0956767351 0.3184666781  \n",
       "38 0.0486054054 0.0168665298 0.6380625156  \n",
       "40 0.0469806950 0.0163027401 0.5491065434  \n",
       "42 0.0452942085 0.1206139269 0.3860862055  \n",
       "44 0.0449915058 0.5567191561 2.2152036132  \n",
       "46 0.0427181467 0.0348805536 0.8347560056  \n",
       "48 0.0417050193 0.0340533070 0.3179729503  \n",
       "50 0.0416741313 0.0408294195 0.1359035671  \n",
       "52 0.0392216216 0.2532104969 1.1938151451  \n",
       "54 0.0379243243 0.0913786431 2.6830977417  \n",
       "56 0.0377822394 0.1006103078 0.3691614020  \n",
       "58 0.0350023166 0.1811438985 0.5798431593  \n",
       "60 0.0326115830 0.0608600415 0.2869377066  \n",
       "62 0.0314440154 0.3862205023 0.4493082360  \n",
       "64 0.0300478764 0.1194733739 0.3976754484  \n",
       "66 0.0270949807 0.0331439108 0.6774205247  \n",
       "68 0.0267613900 0.0499423565 0.4940368463  \n",
       "70 0.0261065637 0.0629037540 0.0731788566  \n",
       "72 0.0254023166 0.1010021615 0.3233087779  \n",
       "74 0.0253652510 0.0310280204 0.6912552722  \n",
       "76 0.0253158301 0.0674135123 0.3178354490  \n",
       "78 0.0249389961 0.1467519721 4.0147837554  \n",
       "80 0.0243521236 0.0084504144 0.6398086188  \n",
       "82 0.0238517375 0.2174721190 6.0393376662  \n",
       "84 0.0218872587 0.1541305956 0.5130344250  \n",
       "86 0.0216216216 0.0318990895 0.1021092568  \n",
       "88 0.0201513514 0.0197428945 0.0785576188  \n",
       "90 0.0195830116 0.0159900730 0.0586711035  \n",
       "92 0.0192185328 0.0156924660 0.9607480840  \n",
       "94 0.0191444015 0.0066432862 0.4770993573  \n",
       "96 0.0190208494 0.0458307285 4.1284636455  \n",
       "98 0.0188664093 0.0154049473 0.5827707059  "
      ]
     },
     "execution_count": 285,
     "metadata": {},
     "output_type": "execute_result"
    }
   ],
   "source": [
    "# Drop duplicates by keeping the first occurrence (highest confidence) # Consider both (antecedent, consequent) and (consequent, antecedent) pairs as duplicates \n",
    "combined_df_2 = combined_df.sort_values(by='support', ascending=False).reset_index(drop=True)\n",
    "combined_df_2['pair'] = combined_df_2.apply(lambda row: tuple(sorted([row['antecedent'], row['consequent']])), axis=1)\n",
    "combined_df_2 = combined_df_2.drop_duplicates(subset='pair', keep='first').drop(columns='pair')\n",
    "pd.options.display.float_format = '{:.10f}'.format\n",
    "combined_df_2.head(50)\n",
    "\n",
    "###export questio 4.Which product items are frequently purchased together during Thanksgiving?  \n",
    "#combined_df_2.to_csv('product categories frequently purchased together.csv', index=False)\n",
    "\n",
    "\n"
   ]
  },
  {
   "cell_type": "markdown",
   "metadata": {},
   "source": [
    "##  Question 5.\t\n",
    "### Which product categories are most frequently purchased together during Thanksgiving? "
   ]
  },
  {
   "cell_type": "code",
   "execution_count": null,
   "metadata": {},
   "outputs": [],
   "source": [
    "#replace abouve code with 'target label and run and export for later use'\n",
    "#combined_df_2.to_csv('product categories frequently purchased together.csv', index=False)"
   ]
  },
  {
   "cell_type": "code",
   "execution_count": 281,
   "metadata": {},
   "outputs": [],
   "source": [
    "# Alternatively, you can set the display precision globally \n",
    "pd.set_option('display.precision', 10)"
   ]
  },
  {
   "cell_type": "code",
   "execution_count": 288,
   "metadata": {},
   "outputs": [
    {
     "data": {
      "text/html": [
       "<div>\n",
       "<style scoped>\n",
       "    .dataframe tbody tr th:only-of-type {\n",
       "        vertical-align: middle;\n",
       "    }\n",
       "\n",
       "    .dataframe tbody tr th {\n",
       "        vertical-align: top;\n",
       "    }\n",
       "\n",
       "    .dataframe thead th {\n",
       "        text-align: right;\n",
       "    }\n",
       "</style>\n",
       "<table border=\"1\" class=\"dataframe\">\n",
       "  <thead>\n",
       "    <tr style=\"text-align: right;\">\n",
       "      <th></th>\n",
       "      <th>antecedent</th>\n",
       "      <th>consequent</th>\n",
       "      <th>support</th>\n",
       "      <th>confidence</th>\n",
       "      <th>lift</th>\n",
       "    </tr>\n",
       "  </thead>\n",
       "  <tbody>\n",
       "    <tr>\n",
       "      <th>0</th>\n",
       "      <td>Bowflex C6 Bike</td>\n",
       "      <td>Bowflex Cardio Machine Mat</td>\n",
       "      <td>0.0018405277</td>\n",
       "      <td>0.9596412556</td>\n",
       "      <td>362.8567428634</td>\n",
       "    </tr>\n",
       "    <tr>\n",
       "      <th>1</th>\n",
       "      <td>Printed Flannel Pajama Pants for Men</td>\n",
       "      <td>Matching Printed Flannel Pajama Pants for Women</td>\n",
       "      <td>0.0013502937</td>\n",
       "      <td>0.0561014829</td>\n",
       "      <td>13.9528888184</td>\n",
       "    </tr>\n",
       "    <tr>\n",
       "      <th>2</th>\n",
       "      <td>adidas Tiro 21 Track Pants Black M Mens</td>\n",
       "      <td>adidas Tiro Track Pants Black M Mens</td>\n",
       "      <td>0.0013201916</td>\n",
       "      <td>0.0864301802</td>\n",
       "      <td>15.1459283794</td>\n",
       "    </tr>\n",
       "    <tr>\n",
       "      <th>3</th>\n",
       "      <td>Galaxy Blue &amp; Star Murano Charm</td>\n",
       "      <td>Star &amp; Crescent Moon Charm</td>\n",
       "      <td>0.0010320716</td>\n",
       "      <td>0.0938232995</td>\n",
       "      <td>31.8974527797</td>\n",
       "    </tr>\n",
       "    <tr>\n",
       "      <th>4</th>\n",
       "      <td>adidas Essentials Fleece Open Hem 3-Stripes Pants Black M Mens</td>\n",
       "      <td>adidas Essentials Fleece Open Hem 3-Stripes Pants Dark Grey Heather M Mens</td>\n",
       "      <td>0.0009331648</td>\n",
       "      <td>0.1043269231</td>\n",
       "      <td>44.0297483596</td>\n",
       "    </tr>\n",
       "  </tbody>\n",
       "</table>\n",
       "</div>"
      ],
      "text/plain": [
       "                                                       antecedent  \\\n",
       "0                                                 Bowflex C6 Bike   \n",
       "1                            Printed Flannel Pajama Pants for Men   \n",
       "2                         adidas Tiro 21 Track Pants Black M Mens   \n",
       "3                                 Galaxy Blue & Star Murano Charm   \n",
       "4  adidas Essentials Fleece Open Hem 3-Stripes Pants Black M Mens   \n",
       "\n",
       "                                                                   consequent  \\\n",
       "0                                                  Bowflex Cardio Machine Mat   \n",
       "1                             Matching Printed Flannel Pajama Pants for Women   \n",
       "2                                        adidas Tiro Track Pants Black M Mens   \n",
       "3                                                  Star & Crescent Moon Charm   \n",
       "4  adidas Essentials Fleece Open Hem 3-Stripes Pants Dark Grey Heather M Mens   \n",
       "\n",
       "       support   confidence           lift  \n",
       "0 0.0018405277 0.9596412556 362.8567428634  \n",
       "1 0.0013502937 0.0561014829  13.9528888184  \n",
       "2 0.0013201916 0.0864301802  15.1459283794  \n",
       "3 0.0010320716 0.0938232995  31.8974527797  \n",
       "4 0.0009331648 0.1043269231  44.0297483596  "
      ]
     },
     "execution_count": 288,
     "metadata": {},
     "output_type": "execute_result"
    }
   ],
   "source": [
    "# import the exporte product association for trimming\n",
    "#combined_df_2.to_csv('product categories frequently purchased together.csv', index=False)\n",
    "cat_frequently = pd.read_csv('product item frequently purchased together.csv')\n",
    "cat_frequently.sort_values(by='support', ascending=False).reset_index(drop=True).head()"
   ]
  },
  {
   "cell_type": "markdown",
   "metadata": {},
   "source": [
    "## Question 6.\t\n",
    "### How were product sales trends similar or different between Black Friday and Cyber Monday?  "
   ]
  },
  {
   "cell_type": "markdown",
   "metadata": {},
   "source": [
    "Cyber Monday had more commissioned items than Black Friday,\n",
    "Conclusion: Cyber Monday is focused on online sales, which naturally leads to more shipping activity compared to Black Friday, which includes both online and in-store shopping.\n",
    "\n",
    "Sales doubled for both Black Friday and Cyber Monday, specifically in the the United States but Cyber Monday had more sales,\n",
    "Conclusion: Retailers often use Black Friday to attract a large crowd with in-store promotions. Then, on Cyber Monday, they offer exclusive online deals, sometimes with additional discounts which drive up sales"
   ]
  },
  {
   "cell_type": "markdown",
   "metadata": {},
   "source": [
    "## Question 7.\t\n",
    "### What business recommendations can you provide based on the above analysis?  "
   ]
  },
  {
   "cell_type": "markdown",
   "metadata": {},
   "source": [
    "Black Friday (November 26) and Cyber Monday (November 29) are the standout peak sales days. Ensure target marketing on these days and inventory levels are sufficient to meet the increased demand on these peak days.\n",
    "US sales double during black Friday and cyber Monday Allocate more resources to marketing and inventory for the US market during Thanksgiving week to capitalize on the increased consumer spending.\n",
    "The sales spike in Cyber Monday signify increase in online presence. Invest in improving the online shopping experience. Ensure your website handles increased traffic smoothly and enhances user experience.\n",
    "Models are only as good as the data used. In this case, the product_taxanomy still needs more cleaning on the correct cataloging of items before they can be trained on a model. This will improve the implementation of association rules technique to identify items frequently bought-together items and create bundle deals or cross-selling opportunities. For example, offer discounts on items often purchased together."
   ]
  },
  {
   "cell_type": "markdown",
   "metadata": {},
   "source": [
    "## Question 8.\t\n",
    "### We want to deploy the product classification model to support client facing product features, what do you envision the deployment pattern would look like?    "
   ]
  },
  {
   "cell_type": "markdown",
   "metadata": {},
   "source": [
    "Given the scale of the data, I’d recommend a deployment pattern that balances efficiency, scalability, and reliability. I’d go with partitioning the data into chunks and using distributed computing techniques like Spark MLlib or Dask for data preprocessing, vectorization, and model training—scaling up processing without hitting memory constraints. For transforming text data into numerical vectors, Spark’s TF-IDF or Dask's vectorizers can handle high-volume data in parallel, cutting down on memory usage and boosting speed.\n",
    "To keep track of data, model versions, cross-validation, and performance metrics, I’d use DVC (Data Version Control) with GitHub, which provides a clear history of changes and experiments. For registering the model, MLflow or SageMaker’s model registry gives each model a unique identifier and versioning, plus the details of training and validation metrics.\n",
    "Once the model is trained, we serialize it (formats like joblib or pickle) and store it in cloud-based solutions. To serve the model, we’d set up a RESTful API with Flask or FastAPI. Create a Dockerfile with all dependencies, containerizing both the model and API to ensure consistency across environments. For client-facing features that need frequent access, host the API on auto-scaling environments like AWS ECS or GCP Cloud Run, with load balancers (e.g., AWS ELB) to handle varying loads efficiently.\n",
    "Monitoring the model is crucial, so I’d use Prometheus and Grafana for tracking system metrics—response time, throughput, accuracy—and capturing feedback from clients. This would let us flag misclassified items, spot data drift, and update the model to match new patterns or products.\n",
    "For continuous integration and delivery (CI/CD), tools like Jenkins, GitHub Actions, or GitLab CI automate testing, building, and deploying, ensuring smooth updates and fast iterations. This keeps the pipeline deploying the latest models to production without manual handling.\n",
    "Finally, for security, we’d use authentication and authorization mechanisms like OAuth2 or JWT to secure the API endpoints. Adding role-based access control and TLS encryption would provide additional security layers for client-facing applications.\n"
   ]
  },
  {
   "cell_type": "code",
   "execution_count": 14,
   "metadata": {},
   "outputs": [
    {
     "name": "stdout",
     "output_type": "stream",
     "text": [
      "[[0.         0.         0.         0.         0.66767854 0.52640543\n",
      "  0.         0.         0.52640543 0.        ]\n",
      " [0.         0.         0.55528266 0.         0.         0.43779123\n",
      "  0.         0.55528266 0.43779123 0.        ]\n",
      " [0.61761437 0.48693426 0.         0.         0.         0.\n",
      "  0.61761437 0.         0.         0.        ]\n",
      " [0.         0.48693426 0.         0.61761437 0.         0.\n",
      "  0.         0.         0.         0.61761437]]\n"
     ]
    }
   ],
   "source": [
    "from sklearn.feature_extraction.text import TfidfVectorizer\n",
    "\n",
    "# Sample text data\n",
    "texts = [\"I love this product\", \"This product is terrible\", \"Best purchase ever\", \"Worst item ever\"]\n",
    "\n",
    "# Initialize the TF-IDF Vectorizer\n",
    "vectorizer = TfidfVectorizer()\n",
    "\n",
    "# Transform the text data into numerical feature vectors\n",
    "X = vectorizer.fit_transform(texts)\n",
    "\n",
    "# Print the feature vectors\n",
    "print(X.toarray())\n"
   ]
  },
  {
   "cell_type": "code",
   "execution_count": 4,
   "metadata": {},
   "outputs": [
    {
     "data": {
      "text/plain": [
       "427.11199999999997"
      ]
     },
     "execution_count": 4,
     "metadata": {},
     "output_type": "execute_result"
    }
   ],
   "source": [
    "0.001841*232000"
   ]
  }
 ],
 "metadata": {
  "kernelspec": {
   "display_name": "base",
   "language": "python",
   "name": "python3"
  },
  "language_info": {
   "codemirror_mode": {
    "name": "ipython",
    "version": 3
   },
   "file_extension": ".py",
   "mimetype": "text/x-python",
   "name": "python",
   "nbconvert_exporter": "python",
   "pygments_lexer": "ipython3",
   "version": "3.11.5"
  }
 },
 "nbformat": 4,
 "nbformat_minor": 2
}
